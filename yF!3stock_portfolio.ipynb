{
  "nbformat": 4,
  "nbformat_minor": 0,
  "metadata": {
    "colab": {
      "name": "yF!3stock_portfolio.ipynb",
      "provenance": [],
      "authorship_tag": "ABX9TyP1bpVoM2iidhR27TVyoDlo",
      "include_colab_link": true
    },
    "kernelspec": {
      "name": "python3",
      "display_name": "Python 3"
    }
  },
  "cells": [
    {
      "cell_type": "markdown",
      "metadata": {
        "id": "view-in-github",
        "colab_type": "text"
      },
      "source": [
        "<a href=\"https://colab.research.google.com/github/anvy87/AlgoTrading/blob/master/yF!3stock_portfolio.ipynb\" target=\"_parent\"><img src=\"https://colab.research.google.com/assets/colab-badge.svg\" alt=\"Open In Colab\"/></a>"
      ]
    },
    {
      "cell_type": "code",
      "metadata": {
        "id": "AtwzO8iPHVXw",
        "colab_type": "code",
        "colab": {}
      },
      "source": [
        "import pandas_datareader as web\n",
        "import pandas as pd\n",
        "import numpy as np"
      ],
      "execution_count": 0,
      "outputs": []
    },
    {
      "cell_type": "code",
      "metadata": {
        "id": "GXAQnja1Hi70",
        "colab_type": "code",
        "colab": {}
      },
      "source": [
        "sbinQuote = web.DataReader('SBIN.NS', data_source='yahoo', start='2010-01-01', end='2019-12-31' )"
      ],
      "execution_count": 0,
      "outputs": []
    },
    {
      "cell_type": "code",
      "metadata": {
        "id": "ltM2Rc_OH7T-",
        "colab_type": "code",
        "colab": {
          "base_uri": "https://localhost:8080/",
          "height": 272
        },
        "outputId": "62a0ee5a-4d69-49b2-ce61-4b548c5ec1f5"
      },
      "source": [
        "print(sbinQuote)"
      ],
      "execution_count": 3,
      "outputs": [
        {
          "output_type": "stream",
          "text": [
            "                  High         Low  ...      Volume   Adj Close\n",
            "Date                                ...                        \n",
            "2010-01-04  230.000000  227.500000  ...  11031470.0   95.066895\n",
            "2010-01-05  231.000000  228.009995  ...  11613740.0   95.102180\n",
            "2010-01-06  231.500000  228.500000  ...  14527930.0   95.672699\n",
            "2010-01-07  231.000000  228.110001  ...   8576510.0   95.137444\n",
            "2010-01-08  230.389999  228.009995  ...  10453820.0   94.853218\n",
            "...                ...         ...  ...         ...         ...\n",
            "2019-12-26  333.450012  328.100006  ...  24616942.0  329.850006\n",
            "2019-12-27  338.350006  333.000000  ...  33477173.0  337.250000\n",
            "2019-12-30  337.850006  332.500000  ...  22775554.0  334.399994\n",
            "2019-12-31  336.350006  332.549988  ...  23801635.0  333.750000\n",
            "2020-01-01  335.950012  332.149994  ...  17379320.0  334.450012\n",
            "\n",
            "[2462 rows x 6 columns]\n"
          ],
          "name": "stdout"
        }
      ]
    },
    {
      "cell_type": "code",
      "metadata": {
        "id": "SSJvyrpzJEVd",
        "colab_type": "code",
        "colab": {}
      },
      "source": [
        "stocks = ['INDIANB.NS', 'KOTAKBANK.NS', 'SBIN.NS']"
      ],
      "execution_count": 0,
      "outputs": []
    },
    {
      "cell_type": "code",
      "metadata": {
        "id": "ZXMaXqxCJlVF",
        "colab_type": "code",
        "colab": {}
      },
      "source": [
        "numAssets  =len(stocks)"
      ],
      "execution_count": 0,
      "outputs": []
    },
    {
      "cell_type": "code",
      "metadata": {
        "id": "z9FGjh1dJlHR",
        "colab_type": "code",
        "colab": {}
      },
      "source": [
        "source = 'yahoo'"
      ],
      "execution_count": 0,
      "outputs": []
    },
    {
      "cell_type": "code",
      "metadata": {
        "id": "oXCCWH9vJsuW",
        "colab_type": "code",
        "colab": {}
      },
      "source": [
        "start = '2010-01-01'"
      ],
      "execution_count": 0,
      "outputs": []
    },
    {
      "cell_type": "code",
      "metadata": {
        "id": "PARE0CK0JxP4",
        "colab_type": "code",
        "colab": {}
      },
      "source": [
        "end = '2019-12-31'"
      ],
      "execution_count": 0,
      "outputs": []
    },
    {
      "cell_type": "code",
      "metadata": {
        "id": "e96JOcuWJ131",
        "colab_type": "code",
        "colab": {}
      },
      "source": [
        "data = pd.DataFrame(columns=stocks)"
      ],
      "execution_count": 0,
      "outputs": []
    },
    {
      "cell_type": "code",
      "metadata": {
        "id": "8ui3GsCKJ_Fs",
        "colab_type": "code",
        "colab": {}
      },
      "source": [
        "for symbol in stocks:\n",
        "  data[symbol] = web.DataReader(symbol, data_source=source, start=start, end=end)['Adj Close']"
      ],
      "execution_count": 0,
      "outputs": []
    },
    {
      "cell_type": "code",
      "metadata": {
        "id": "5VZYRWntK8qE",
        "colab_type": "code",
        "colab": {
          "base_uri": "https://localhost:8080/",
          "height": 238
        },
        "outputId": "c32bb8bf-e526-4129-fa56-1083dee1a6cb"
      },
      "source": [
        "list(data)\n",
        "data['INDIANB.NS']"
      ],
      "execution_count": 11,
      "outputs": [
        {
          "output_type": "execute_result",
          "data": {
            "text/plain": [
              "Date\n",
              "2010-01-04    132.754883\n",
              "2010-01-05    132.716980\n",
              "2010-01-06    136.315186\n",
              "2010-01-07    135.027420\n",
              "2010-01-08    132.716980\n",
              "                 ...    \n",
              "2019-12-26    104.199997\n",
              "2019-12-27    104.900002\n",
              "2019-12-30    104.599998\n",
              "2019-12-31    100.949997\n",
              "2020-01-01    101.349998\n",
              "Name: INDIANB.NS, Length: 2462, dtype: float64"
            ]
          },
          "metadata": {
            "tags": []
          },
          "execution_count": 11
        }
      ]
    },
    {
      "cell_type": "code",
      "metadata": {
        "id": "OJ_XBMPgLVc9",
        "colab_type": "code",
        "colab": {}
      },
      "source": [
        "# calculating log returns\n",
        "percent_change = data.pct_change()\n",
        "returns = np.log(1+percent_change)"
      ],
      "execution_count": 0,
      "outputs": []
    },
    {
      "cell_type": "code",
      "metadata": {
        "id": "uIt7TURzMCfu",
        "colab_type": "code",
        "colab": {
          "base_uri": "https://localhost:8080/",
          "height": 235
        },
        "outputId": "fa0a2d54-9637-4375-d64d-1ad4b2b997f5"
      },
      "source": [
        "returns.head()"
      ],
      "execution_count": 13,
      "outputs": [
        {
          "output_type": "execute_result",
          "data": {
            "text/html": [
              "<div>\n",
              "<style scoped>\n",
              "    .dataframe tbody tr th:only-of-type {\n",
              "        vertical-align: middle;\n",
              "    }\n",
              "\n",
              "    .dataframe tbody tr th {\n",
              "        vertical-align: top;\n",
              "    }\n",
              "\n",
              "    .dataframe thead th {\n",
              "        text-align: right;\n",
              "    }\n",
              "</style>\n",
              "<table border=\"1\" class=\"dataframe\">\n",
              "  <thead>\n",
              "    <tr style=\"text-align: right;\">\n",
              "      <th></th>\n",
              "      <th>INDIANB.NS</th>\n",
              "      <th>KOTAKBANK.NS</th>\n",
              "      <th>SBIN.NS</th>\n",
              "    </tr>\n",
              "    <tr>\n",
              "      <th>Date</th>\n",
              "      <th></th>\n",
              "      <th></th>\n",
              "      <th></th>\n",
              "    </tr>\n",
              "  </thead>\n",
              "  <tbody>\n",
              "    <tr>\n",
              "      <th>2010-01-04</th>\n",
              "      <td>NaN</td>\n",
              "      <td>NaN</td>\n",
              "      <td>NaN</td>\n",
              "    </tr>\n",
              "    <tr>\n",
              "      <th>2010-01-05</th>\n",
              "      <td>-0.000286</td>\n",
              "      <td>0.009853</td>\n",
              "      <td>0.000371</td>\n",
              "    </tr>\n",
              "    <tr>\n",
              "      <th>2010-01-06</th>\n",
              "      <td>0.026751</td>\n",
              "      <td>0.012085</td>\n",
              "      <td>0.005981</td>\n",
              "    </tr>\n",
              "    <tr>\n",
              "      <th>2010-01-07</th>\n",
              "      <td>-0.009492</td>\n",
              "      <td>0.011170</td>\n",
              "      <td>-0.005610</td>\n",
              "    </tr>\n",
              "    <tr>\n",
              "      <th>2010-01-08</th>\n",
              "      <td>-0.017259</td>\n",
              "      <td>-0.006194</td>\n",
              "      <td>-0.002992</td>\n",
              "    </tr>\n",
              "  </tbody>\n",
              "</table>\n",
              "</div>"
            ],
            "text/plain": [
              "            INDIANB.NS  KOTAKBANK.NS   SBIN.NS\n",
              "Date                                          \n",
              "2010-01-04         NaN           NaN       NaN\n",
              "2010-01-05   -0.000286      0.009853  0.000371\n",
              "2010-01-06    0.026751      0.012085  0.005981\n",
              "2010-01-07   -0.009492      0.011170 -0.005610\n",
              "2010-01-08   -0.017259     -0.006194 -0.002992"
            ]
          },
          "metadata": {
            "tags": []
          },
          "execution_count": 13
        }
      ]
    },
    {
      "cell_type": "code",
      "metadata": {
        "id": "GTYxCW33MGKt",
        "colab_type": "code",
        "colab": {}
      },
      "source": [
        "meanDailyReturns = returns.mean()\n",
        "covMatrix = returns.cov()"
      ],
      "execution_count": 0,
      "outputs": []
    },
    {
      "cell_type": "code",
      "metadata": {
        "id": "roygmqjbMfQe",
        "colab_type": "code",
        "colab": {
          "base_uri": "https://localhost:8080/",
          "height": 85
        },
        "outputId": "ce33891c-7623-40c8-9f72-95e71c183135"
      },
      "source": [
        "meanDailyReturns"
      ],
      "execution_count": 15,
      "outputs": [
        {
          "output_type": "execute_result",
          "data": {
            "text/plain": [
              "INDIANB.NS     -0.000110\n",
              "KOTAKBANK.NS    0.000858\n",
              "SBIN.NS         0.000511\n",
              "dtype: float64"
            ]
          },
          "metadata": {
            "tags": []
          },
          "execution_count": 15
        }
      ]
    },
    {
      "cell_type": "code",
      "metadata": {
        "id": "o4glDmg0MiQu",
        "colab_type": "code",
        "colab": {
          "base_uri": "https://localhost:8080/",
          "height": 142
        },
        "outputId": "70ada020-6ec9-4f90-ba30-d19a66803a6a"
      },
      "source": [
        "covMatrix"
      ],
      "execution_count": 16,
      "outputs": [
        {
          "output_type": "execute_result",
          "data": {
            "text/html": [
              "<div>\n",
              "<style scoped>\n",
              "    .dataframe tbody tr th:only-of-type {\n",
              "        vertical-align: middle;\n",
              "    }\n",
              "\n",
              "    .dataframe tbody tr th {\n",
              "        vertical-align: top;\n",
              "    }\n",
              "\n",
              "    .dataframe thead th {\n",
              "        text-align: right;\n",
              "    }\n",
              "</style>\n",
              "<table border=\"1\" class=\"dataframe\">\n",
              "  <thead>\n",
              "    <tr style=\"text-align: right;\">\n",
              "      <th></th>\n",
              "      <th>INDIANB.NS</th>\n",
              "      <th>KOTAKBANK.NS</th>\n",
              "      <th>SBIN.NS</th>\n",
              "    </tr>\n",
              "  </thead>\n",
              "  <tbody>\n",
              "    <tr>\n",
              "      <th>INDIANB.NS</th>\n",
              "      <td>0.000760</td>\n",
              "      <td>0.000126</td>\n",
              "      <td>0.000300</td>\n",
              "    </tr>\n",
              "    <tr>\n",
              "      <th>KOTAKBANK.NS</th>\n",
              "      <td>0.000126</td>\n",
              "      <td>0.000283</td>\n",
              "      <td>0.000134</td>\n",
              "    </tr>\n",
              "    <tr>\n",
              "      <th>SBIN.NS</th>\n",
              "      <td>0.000300</td>\n",
              "      <td>0.000134</td>\n",
              "      <td>0.000474</td>\n",
              "    </tr>\n",
              "  </tbody>\n",
              "</table>\n",
              "</div>"
            ],
            "text/plain": [
              "              INDIANB.NS  KOTAKBANK.NS   SBIN.NS\n",
              "INDIANB.NS      0.000760      0.000126  0.000300\n",
              "KOTAKBANK.NS    0.000126      0.000283  0.000134\n",
              "SBIN.NS         0.000300      0.000134  0.000474"
            ]
          },
          "metadata": {
            "tags": []
          },
          "execution_count": 16
        }
      ]
    },
    {
      "cell_type": "code",
      "metadata": {
        "id": "-CpbRfBwMms4",
        "colab_type": "code",
        "colab": {}
      },
      "source": [
        "# calculating expected portfolio performance\n",
        "weights = np.array([0.4, 0.3, 0.3])\n",
        "portReturn = np.sum(meanDailyReturns*weights)\n",
        "portStdDev = np.sqrt(np.dot(weights.T, np.dot(covMatrix, weights)))"
      ],
      "execution_count": 0,
      "outputs": []
    },
    {
      "cell_type": "code",
      "metadata": {
        "id": "cunYBR3jNqBS",
        "colab_type": "code",
        "colab": {
          "base_uri": "https://localhost:8080/",
          "height": 34
        },
        "outputId": "84db2f25-3ce1-4fcf-e545-c6f8571aee68"
      },
      "source": [
        "portReturn"
      ],
      "execution_count": 19,
      "outputs": [
        {
          "output_type": "execute_result",
          "data": {
            "text/plain": [
              "0.0003670012693645792"
            ]
          },
          "metadata": {
            "tags": []
          },
          "execution_count": 19
        }
      ]
    },
    {
      "cell_type": "code",
      "metadata": {
        "id": "14NLfUpPNxRc",
        "colab_type": "code",
        "colab": {
          "base_uri": "https://localhost:8080/",
          "height": 34
        },
        "outputId": "e08e83bd-cf19-4463-bd24-f2f172e11660"
      },
      "source": [
        "portReturn*365"
      ],
      "execution_count": 20,
      "outputs": [
        {
          "output_type": "execute_result",
          "data": {
            "text/plain": [
              "0.1339554633180714"
            ]
          },
          "metadata": {
            "tags": []
          },
          "execution_count": 20
        }
      ]
    },
    {
      "cell_type": "code",
      "metadata": {
        "id": "QvPMHBVDN3Mk",
        "colab_type": "code",
        "colab": {
          "base_uri": "https://localhost:8080/",
          "height": 34
        },
        "outputId": "d809110e-30ff-4de1-8706-efa5bc1472ea"
      },
      "source": [
        "portReturn*250"
      ],
      "execution_count": 21,
      "outputs": [
        {
          "output_type": "execute_result",
          "data": {
            "text/plain": [
              "0.09175031734114479"
            ]
          },
          "metadata": {
            "tags": []
          },
          "execution_count": 21
        }
      ]
    },
    {
      "cell_type": "code",
      "metadata": {
        "id": "bMQkdMn9N6Na",
        "colab_type": "code",
        "colab": {
          "base_uri": "https://localhost:8080/",
          "height": 34
        },
        "outputId": "ada07407-f086-43d7-db2c-89dfa6d985fc"
      },
      "source": [
        "portStdDev"
      ],
      "execution_count": 22,
      "outputs": [
        {
          "output_type": "execute_result",
          "data": {
            "text/plain": [
              "0.017773140428514696"
            ]
          },
          "metadata": {
            "tags": []
          },
          "execution_count": 22
        }
      ]
    },
    {
      "cell_type": "code",
      "metadata": {
        "id": "9WS9icWjN-MU",
        "colab_type": "code",
        "colab": {
          "base_uri": "https://localhost:8080/",
          "height": 34
        },
        "outputId": "067c070b-2b66-416d-c78c-334f3e8188cd"
      },
      "source": [
        "portStdDev*portStdDev*365"
      ],
      "execution_count": 23,
      "outputs": [
        {
          "output_type": "execute_result",
          "data": {
            "text/plain": [
              "0.1152978500524718"
            ]
          },
          "metadata": {
            "tags": []
          },
          "execution_count": 23
        }
      ]
    },
    {
      "cell_type": "code",
      "metadata": {
        "id": "UYhALVOBOFz4",
        "colab_type": "code",
        "colab": {
          "base_uri": "https://localhost:8080/",
          "height": 34
        },
        "outputId": "374489ca-b4dd-4459-dc9e-dee197f26ea4"
      },
      "source": [
        "portStdDev*portStdDev*250"
      ],
      "execution_count": 24,
      "outputs": [
        {
          "output_type": "execute_result",
          "data": {
            "text/plain": [
              "0.0789711301729259"
            ]
          },
          "metadata": {
            "tags": []
          },
          "execution_count": 24
        }
      ]
    },
    {
      "cell_type": "code",
      "metadata": {
        "id": "Oj8Gs02mOKMD",
        "colab_type": "code",
        "colab": {}
      },
      "source": [
        ""
      ],
      "execution_count": 0,
      "outputs": []
    }
  ]
}
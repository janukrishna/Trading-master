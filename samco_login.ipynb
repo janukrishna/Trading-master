{
  "nbformat": 4,
  "nbformat_minor": 0,
  "metadata": {
    "colab": {
      "name": "samco_login.ipynb",
      "provenance": [],
      "authorship_tag": "ABX9TyOwEDzSXdryNrCkJsM12PMh",
      "include_colab_link": true
    },
    "kernelspec": {
      "name": "python3",
      "display_name": "Python 3"
    }
  },
  "cells": [
    {
      "cell_type": "markdown",
      "metadata": {
        "id": "view-in-github",
        "colab_type": "text"
      },
      "source": [
        "<a href=\"https://colab.research.google.com/github/anvy87/AlgoTrading/blob/master/samco_login.ipynb\" target=\"_parent\"><img src=\"https://colab.research.google.com/assets/colab-badge.svg\" alt=\"Open In Colab\"/></a>"
      ]
    },
    {
      "cell_type": "code",
      "metadata": {
        "colab": {
          "base_uri": "https://localhost:8080/"
        },
        "id": "m1CYKZ-0ZzCz",
        "outputId": "c002618c-d5f8-4e2a-c2af-c2f0a6e578e6"
      },
      "source": [
        "pip install stocknotebridge"
      ],
      "execution_count": 1,
      "outputs": [
        {
          "output_type": "stream",
          "text": [
            "Collecting stocknotebridge\n",
            "  Downloading https://files.pythonhosted.org/packages/4d/98/99000dd2f015afde1f78853c5ddde731513fb6ecf760116cbc241b4843aa/stocknotebridge-1.0.1.tar.gz\n",
            "Requirement already satisfied: future in /usr/local/lib/python3.6/dist-packages (from stocknotebridge) (0.16.0)\n",
            "Requirement already satisfied: requests in /usr/local/lib/python3.6/dist-packages (from stocknotebridge) (2.23.0)\n",
            "Collecting websocket\n",
            "\u001b[?25l  Downloading https://files.pythonhosted.org/packages/f2/6d/a60d620ea575c885510c574909d2e3ed62129b121fa2df00ca1c81024c87/websocket-0.2.1.tar.gz (195kB)\n",
            "\u001b[K     |████████████████████████████████| 204kB 12.2MB/s \n",
            "\u001b[?25hCollecting websocket-client\n",
            "\u001b[?25l  Downloading https://files.pythonhosted.org/packages/4c/5f/f61b420143ed1c8dc69f9eaec5ff1ac36109d52c80de49d66e0c36c3dfdf/websocket_client-0.57.0-py2.py3-none-any.whl (200kB)\n",
            "\u001b[K     |████████████████████████████████| 204kB 24.1MB/s \n",
            "\u001b[?25hRequirement already satisfied: certifi>=2017.4.17 in /usr/local/lib/python3.6/dist-packages (from requests->stocknotebridge) (2020.12.5)\n",
            "Requirement already satisfied: urllib3!=1.25.0,!=1.25.1,<1.26,>=1.21.1 in /usr/local/lib/python3.6/dist-packages (from requests->stocknotebridge) (1.24.3)\n",
            "Requirement already satisfied: idna<3,>=2.5 in /usr/local/lib/python3.6/dist-packages (from requests->stocknotebridge) (2.10)\n",
            "Requirement already satisfied: chardet<4,>=3.0.2 in /usr/local/lib/python3.6/dist-packages (from requests->stocknotebridge) (3.0.4)\n",
            "Collecting gevent\n",
            "\u001b[?25l  Downloading https://files.pythonhosted.org/packages/98/d9/6811589dd5de85b3a911d547d43f43c5c8bdf4397ffdfbaefea7c373b7f6/gevent-20.12.1.tar.gz (5.9MB)\n",
            "\u001b[K     |████████████████████████████████| 5.9MB 14.2MB/s \n",
            "\u001b[?25h  Installing build dependencies ... \u001b[?25l\u001b[?25hdone\n",
            "  Getting requirements to build wheel ... \u001b[?25l\u001b[?25hdone\n",
            "    Preparing wheel metadata ... \u001b[?25l\u001b[?25hdone\n",
            "Collecting greenlet\n",
            "  Using cached https://files.pythonhosted.org/packages/80/d0/532e160c777b42f6f393f9de8c88abb8af6c892037c55e4d3a8a211324dd/greenlet-0.4.17-cp36-cp36m-manylinux1_x86_64.whl\n",
            "Requirement already satisfied: six in /usr/local/lib/python3.6/dist-packages (from websocket-client->stocknotebridge) (1.15.0)\n",
            "Collecting zope.event\n",
            "  Downloading https://files.pythonhosted.org/packages/9e/85/b45408c64f3b888976f1d5b37eed8d746b8d5729a66a49ec846fda27d371/zope.event-4.5.0-py2.py3-none-any.whl\n",
            "Requirement already satisfied: setuptools in /usr/local/lib/python3.6/dist-packages (from gevent->websocket->stocknotebridge) (51.0.0)\n",
            "Collecting zope.interface\n",
            "\u001b[?25l  Downloading https://files.pythonhosted.org/packages/82/b0/da8afd9b3bd50c7665ecdac062f182982af1173c9081f9af7261091c5588/zope.interface-5.2.0-cp36-cp36m-manylinux2010_x86_64.whl (236kB)\n",
            "\u001b[K     |████████████████████████████████| 245kB 57.3MB/s \n",
            "\u001b[?25hBuilding wheels for collected packages: gevent\n",
            "  Building wheel for gevent (PEP 517) ... \u001b[?25l\u001b[?25hdone\n",
            "  Created wheel for gevent: filename=gevent-20.12.1-cp36-cp36m-linux_x86_64.whl size=4514435 sha256=9e6352964b67884ddf29e909f171f881d91274d8e3e03de0eb8cdf18adc0c59d\n",
            "  Stored in directory: /root/.cache/pip/wheels/ff/50/b8/b5e0c7b64d587ee7fd0c1bb9aac40b953fdb2da4e49b7b99db\n",
            "Successfully built gevent\n",
            "Building wheels for collected packages: stocknotebridge, websocket\n",
            "  Building wheel for stocknotebridge (setup.py) ... \u001b[?25l\u001b[?25hdone\n",
            "  Created wheel for stocknotebridge: filename=stocknotebridge-1.0.1-py2.py3-none-any.whl size=25181 sha256=9dfeaa7edfaabea926047fc7fee4fe72d9e0343adbe4391b52b661036f5b8a7d\n",
            "  Stored in directory: /root/.cache/pip/wheels/92/cd/56/5fe33a2ba01733fdb0cefefa743fbfcd55127d03fda992df49\n",
            "  Building wheel for websocket (setup.py) ... \u001b[?25l\u001b[?25hdone\n",
            "  Created wheel for websocket: filename=websocket-0.2.1-cp36-none-any.whl size=192135 sha256=eea9a83ccb0704a29f78bd2e5e01c22401762bef1c65d65e0ce6642b87838378\n",
            "  Stored in directory: /root/.cache/pip/wheels/35/f7/5c/9e8243838269ea93f05295708519a6e183fa6b515d9ce3b636\n",
            "Successfully built stocknotebridge websocket\n",
            "Installing collected packages: zope.event, greenlet, zope.interface, gevent, websocket, websocket-client, stocknotebridge\n",
            "Successfully installed gevent-20.12.1 greenlet-0.4.17 stocknotebridge-1.0.1 websocket-0.2.1 websocket-client-0.57.0 zope.event-4.5.0 zope.interface-5.2.0\n"
          ],
          "name": "stdout"
        }
      ]
    },
    {
      "cell_type": "code",
      "metadata": {
        "colab": {
          "base_uri": "https://localhost:8080/"
        },
        "id": "8WVyhgiwhE0m",
        "outputId": "3c04d5d3-adc8-4e46-f15e-801446f79ff1"
      },
      "source": [
        "pip install future"
      ],
      "execution_count": 2,
      "outputs": [
        {
          "output_type": "stream",
          "text": [
            "Requirement already satisfied: future in /usr/local/lib/python3.6/dist-packages (0.16.0)\n"
          ],
          "name": "stdout"
        }
      ]
    },
    {
      "cell_type": "code",
      "metadata": {
        "colab": {
          "base_uri": "https://localhost:8080/"
        },
        "id": "eKH7wgy_hcr4",
        "outputId": "b2185c2e-a69d-4c05-bb3b-5be1432aa2b7"
      },
      "source": [
        "pip install requests"
      ],
      "execution_count": 3,
      "outputs": [
        {
          "output_type": "stream",
          "text": [
            "Requirement already satisfied: requests in /usr/local/lib/python3.6/dist-packages (2.23.0)\n",
            "Requirement already satisfied: chardet<4,>=3.0.2 in /usr/local/lib/python3.6/dist-packages (from requests) (3.0.4)\n",
            "Requirement already satisfied: certifi>=2017.4.17 in /usr/local/lib/python3.6/dist-packages (from requests) (2020.12.5)\n",
            "Requirement already satisfied: idna<3,>=2.5 in /usr/local/lib/python3.6/dist-packages (from requests) (2.10)\n",
            "Requirement already satisfied: urllib3!=1.25.0,!=1.25.1,<1.26,>=1.21.1 in /usr/local/lib/python3.6/dist-packages (from requests) (1.24.3)\n"
          ],
          "name": "stdout"
        }
      ]
    },
    {
      "cell_type": "code",
      "metadata": {
        "colab": {
          "base_uri": "https://localhost:8080/"
        },
        "id": "mgQC51Pvhciz",
        "outputId": "cfefc69c-2113-4792-9a5b-fa6081bc2547"
      },
      "source": [
        "pip install websocket"
      ],
      "execution_count": 4,
      "outputs": [
        {
          "output_type": "stream",
          "text": [
            "Requirement already satisfied: websocket in /usr/local/lib/python3.6/dist-packages (0.2.1)\n",
            "Requirement already satisfied: greenlet in /usr/local/lib/python3.6/dist-packages (from websocket) (0.4.17)\n",
            "Requirement already satisfied: gevent in /usr/local/lib/python3.6/dist-packages (from websocket) (20.12.1)\n",
            "Requirement already satisfied: setuptools in /usr/local/lib/python3.6/dist-packages (from gevent->websocket) (51.0.0)\n",
            "Requirement already satisfied: zope.interface in /usr/local/lib/python3.6/dist-packages (from gevent->websocket) (5.2.0)\n",
            "Requirement already satisfied: zope.event in /usr/local/lib/python3.6/dist-packages (from gevent->websocket) (4.5.0)\n"
          ],
          "name": "stdout"
        }
      ]
    },
    {
      "cell_type": "code",
      "metadata": {
        "colab": {
          "base_uri": "https://localhost:8080/"
        },
        "id": "nC4OZa6NhcUD",
        "outputId": "d524681c-69a8-4614-db03-6ec85d553468"
      },
      "source": [
        "pip install websocket_client"
      ],
      "execution_count": 5,
      "outputs": [
        {
          "output_type": "stream",
          "text": [
            "Requirement already satisfied: websocket_client in /usr/local/lib/python3.6/dist-packages (0.57.0)\n",
            "Requirement already satisfied: six in /usr/local/lib/python3.6/dist-packages (from websocket_client) (1.15.0)\n"
          ],
          "name": "stdout"
        }
      ]
    },
    {
      "cell_type": "code",
      "metadata": {
        "id": "whrjjHXGh8xS"
      },
      "source": [
        "from snapi_py_client.snapi_bridge import StocknoteAPIPythonBridge"
      ],
      "execution_count": 6,
      "outputs": []
    },
    {
      "cell_type": "code",
      "metadata": {
        "id": "dfv9PElhh8pb"
      },
      "source": [
        "samco=StocknoteAPIPythonBridge()"
      ],
      "execution_count": 7,
      "outputs": []
    },
    {
      "cell_type": "code",
      "metadata": {
        "colab": {
          "base_uri": "https://localhost:8080/"
        },
        "id": "cLDf4XLFh5DH",
        "outputId": "f0549249-597a-4fef-bc03-9cb80fd451e0"
      },
      "source": [
        "login=samco.login(body={\"userId\":'DA43360','password':'Baroda@1987','yob':'1987'})\r\n",
        "print(\"Login details\",login)"
      ],
      "execution_count": 9,
      "outputs": [
        {
          "output_type": "stream",
          "text": [
            "Login details {\n",
            "  \"serverTime\": \"04/01/21 23:30:39\",\n",
            "  \"msgId\": \"53f7ed4c-70bb-43cc-b33a-c7e45d3426d6\",\n",
            "  \"status\": \"Success\",\n",
            "  \"statusMessage\": \"Login session token generated successfully \",\n",
            "  \"sessionToken\": \"6d12b96a8de19d01858c37becafcfb73\",\n",
            "  \"accountID\": \"DA43360\",\n",
            "  \"accountName\": \"ANVESH MISHRA\",\n",
            "  \"exchangeList\": [\n",
            "    \"BSE\",\n",
            "    \"BFO\",\n",
            "    \"CDS\",\n",
            "    \"MCX\",\n",
            "    \"NSE\"\n",
            "  ],\n",
            "  \"orderTypeList\": [\n",
            "    \"MKT\",\n",
            "    \"L\",\n",
            "    \"SL\"\n",
            "  ],\n",
            "  \"productList\": [\n",
            "    \"MIS\",\n",
            "    \"CNC\",\n",
            "    \"NRML\"\n",
            "  ]\n",
            "}\n"
          ],
          "name": "stdout"
        }
      ]
    },
    {
      "cell_type": "code",
      "metadata": {
        "id": "sQwALPuijxDW"
      },
      "source": [
        "samco.set_session_token(sessionToken=\"6d12b96a8de19d01858c37becafcfb73\")"
      ],
      "execution_count": 11,
      "outputs": []
    },
    {
      "cell_type": "code",
      "metadata": {
        "colab": {
          "base_uri": "https://localhost:8080/",
          "height": 72
        },
        "id": "d82Jl5B5jw13",
        "outputId": "507b4cda-f333-4ae2-a68e-0df8ef4aa667"
      },
      "source": [
        "samco.search_equity_derivative(\"BANKBARODA\")"
      ],
      "execution_count": 13,
      "outputs": [
        {
          "output_type": "execute_result",
          "data": {
            "application/vnd.google.colaboratory.intrinsic+json": {
              "type": "string"
            },
            "text/plain": [
              "'{\\n  \"msgId\": \"8f264fec-0512-4079-831a-0a0c84d3cba0\",\\n  \"status\": \"Success\",\\n  \"statusMessage\": \"Equity Search details retrieved successfully\",\\n  \"searchResults\": [\\n    {\\n      \"exchange\": \"NSE\",\\n      \"scripDescription\": \"BANK OF BARODA\",\\n      \"tradingSymbol\": \"BANKBARODA-EQ\",\\n      \"isin\": \"INE028A01039\",\\n      \"bodLotQuantity\": \"1\",\\n      \"tickSize\": \"0.05\"\\n    }\\n  ]\\n}'"
            ]
          },
          "metadata": {
            "tags": []
          },
          "execution_count": 13
        }
      ]
    },
    {
      "cell_type": "code",
      "metadata": {
        "colab": {
          "base_uri": "https://localhost:8080/",
          "height": 146
        },
        "id": "bYmCkO4VlumH",
        "outputId": "3fbbe885-56e7-423e-e994-548ad91f4f65"
      },
      "source": [
        "sbi = samco.get_quote(\"SBIN\")\r\n",
        "sbi"
      ],
      "execution_count": 26,
      "outputs": [
        {
          "output_type": "execute_result",
          "data": {
            "application/vnd.google.colaboratory.intrinsic+json": {
              "type": "string"
            },
            "text/plain": [
              "'{\\n  \"serverTime\": \"04/01/21 23:54:51\",\\n  \"msgId\": \"4f840d49-e591-4949-a57b-3a12e7335a06\",\\n  \"status\": \"Success\",\\n  \"statusMessage\": \"Quote details retrieved successfully\",\\n  \"symbolName\": \"SBIN\",\\n  \"tradingSymbol\": \"SBIN-EQ\",\\n  \"exchange\": \"NSE\",\\n  \"companyName\": \"STATE BANK OF INDIA\",\\n  \"lastTradedTime\": \"04/01/2021 15:57:51\",\\n  \"lastTradedPrice\": \"281.05\",\\n  \"previousClose\": \"281.05\",\\n  \"changeValue\": \"0.00\",\\n  \"changePercentage\": \"0.00\",\\n  \"lastTradedQuantity\": \"2\",\\n  \"lowerCircuitLimit\": \"252.95\",\\n  \"upperCircuitLimit\": \"309.15\",\\n  \"averagePrice\": \"281.40\",\\n  \"openValue\": \"281.85\",\\n  \"highValue\": \"283.90\",\\n  \"lowValue\": \"277.75\",\\n  \"closeValue\": \"281.05\",\\n  \"totalBuyQuantity\": \"6513\",\\n  \"totalSellQuantity\": \"0\",\\n  \"totalTradedValue\": \"885.02011 (Crs)\",\\n  \"totalTradedVolume\": \"31450608\",\\n  \"yearlyHighPrice\": \"339.85\",\\n  \"yearlyLowPrice\": \"149.45\",\\n  \"tickSize\": \"0.05\",\\n  \"bestBids\": [\\n    {\\n      \"number\": \"1\",\\n      \"quantity\": \"6513\",\\n      \"price\": \"281.05\"\\n    },\\n    {\\n      \"number\": \"2\",\\n      \"quantity\": \"0\",\\n      \"price\": \"0.00\"\\n    },\\n    {\\n      \"number\": \"3\",\\n      \"quantity\": \"0\",\\n      \"price\": \"0.00\"\\n    },\\n    {\\n      \"number\": \"4\",\\n      \"quantity\": \"0\",\\n      \"price\": \"0.00\"\\n    },\\n    {\\n      \"number\": \"5\",\\n      \"quantity\": \"0\",\\n      \"price\": \"0.00\"\\n    }\\n  ],\\n  \"bestAsks\": [\\n    {\\n      \"number\": \"1\",\\n      \"quantity\": \"0\",\\n      \"price\": \"0.00\"\\n    },\\n    {\\n      \"number\": \"2\",\\n      \"quantity\": \"0\",\\n      \"price\": \"0.00\"\\n    },\\n    {\\n      \"number\": \"3\",\\n      \"quantity\": \"0\",\\n      \"price\": \"0.00\"\\n    },\\n    {\\n      \"number\": \"4\",\\n      \"quantity\": \"0\",\\n      \"price\": \"0.00\"\\n    },\\n    {\\n      \"number\": \"5\",\\n      \"quantity\": \"0\",\\n      \"price\": \"0.00\"\\n    }\\n  ],\\n  \"listingId\": \"3045_NSE\"\\n}'"
            ]
          },
          "metadata": {
            "tags": []
          },
          "execution_count": 26
        }
      ]
    },
    {
      "cell_type": "code",
      "metadata": {
        "colab": {
          "base_uri": "https://localhost:8080/",
          "height": 172
        },
        "id": "V5jJjVSemUiR",
        "outputId": "84593dd6-9ff0-42d0-eb97-4ae31b955951"
      },
      "source": [
        "sbi.values()"
      ],
      "execution_count": 27,
      "outputs": [
        {
          "output_type": "error",
          "ename": "AttributeError",
          "evalue": "ignored",
          "traceback": [
            "\u001b[0;31m---------------------------------------------------------------------------\u001b[0m",
            "\u001b[0;31mAttributeError\u001b[0m                            Traceback (most recent call last)",
            "\u001b[0;32m<ipython-input-27-d7d0c09df76e>\u001b[0m in \u001b[0;36m<module>\u001b[0;34m()\u001b[0m\n\u001b[0;32m----> 1\u001b[0;31m \u001b[0msbi\u001b[0m\u001b[0;34m.\u001b[0m\u001b[0mvalues\u001b[0m\u001b[0;34m(\u001b[0m\u001b[0;34m)\u001b[0m\u001b[0;34m\u001b[0m\u001b[0;34m\u001b[0m\u001b[0m\n\u001b[0m",
            "\u001b[0;31mAttributeError\u001b[0m: 'str' object has no attribute 'values'"
          ]
        }
      ]
    },
    {
      "cell_type": "code",
      "metadata": {
        "id": "E3WUI5tHmpfB"
      },
      "source": [
        ""
      ],
      "execution_count": null,
      "outputs": []
    },
    {
      "cell_type": "code",
      "metadata": {
        "id": "y6pNtBmQmqdX"
      },
      "source": [
        ""
      ],
      "execution_count": null,
      "outputs": []
    }
  ]
}
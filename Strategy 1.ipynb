{
 "cells": [
  {
   "cell_type": "markdown",
   "metadata": {},
   "source": [
    "## Notes"
   ]
  },
  {
   "cell_type": "markdown",
   "metadata": {},
   "source": [
    "4. Time difference b/w the server that this script will be hosted on and IST. (Will need to update code accordingly) {O}"
   ]
  },
  {
   "cell_type": "code",
   "execution_count": 1,
   "metadata": {},
   "outputs": [],
   "source": [
    "# CRONJOB\n",
    "\n",
    "# IST                                                                   # UTC                                                              \n",
    "# At 9:16 AM [-1]                                                       # At 3:46 AM [-1]\n",
    "# every 15min 9:31 AM [-2] - 3:16 PM                                    # every 15min 4:01 AM [-2] - 9:46 AM\n",
    "# At 3:31 PM [-1]                                                       # At 10:01 AM [-1]\n",
    "\n",
    "# Candle index\n",
    "# if 9:30AM<time<3:25PM:                                                # if 4:00AM<time<9:55AM:\n",
    "#     i = -2                                                            #     i = -2\n",
    "# else:                                                                 # else:\n",
    "#     i = -1                                                            #     i = -1"
   ]
  },
  {
   "cell_type": "markdown",
   "metadata": {},
   "source": [
    "## Columns to update: (strategy1)"
   ]
  },
  {
   "cell_type": "code",
   "execution_count": 2,
   "metadata": {},
   "outputs": [],
   "source": [
    "# (Assuming Bullish)\n",
    "# Buy Put + Buy Future\n",
    "\n",
    "# ----Irrespective of Status---                            \n",
    "\n",
    "# stock_cmp                                                 \n",
    "# fut_cmp\n",
    "# opt_cmp\n",
    "# opt_plue                                    |    (CMP - entry)\n",
    "# fut_plue                                    |    (CMP - entry)\n",
    "# total_plue                                  |    opt_plue + fut_plue\n",
    "\n",
    "# -----Based on Status-----\n",
    "\n",
    "# -> status\n",
    "# -> opt_exit_price                           |    (None) if Status==ACTIVE else (opt_price at the time of T1 Hit)\n",
    "# -> fut_exit_price                           |    (None) if Status==ACTIVE else (fut_price at the time of T1 Hit)\n",
    "\n",
    "# --> opt_pl                                  |    (CMP - entry) if Status==ACTIVE else (opt_exit_price - entry)\n",
    "# --> fut_pl                                  |    (CMP - entry) if Status==ACTIVE else (opt_exit_price - entry)\n",
    "# --> total_pl                                |    opt_pl + fut_pl\n",
    "\n",
    "\n",
    "\n",
    "\n",
    "\n",
    "# (Assuming Bearish)\n",
    "# Buy Call + Sell Future\n",
    "\n",
    "# ----Irrespective of Status --                            \n",
    "\n",
    "# stock_cmp                                                 \n",
    "# fut_cmp\n",
    "# opt_cmp\n",
    "# opt_plue                                    |    (CMP - entry)\n",
    "# fut_plue                                    |    (entry - CMP)\n",
    "# total_plue                                  |    opt_plue + fut_plue\n",
    "\n",
    "\n",
    "# -----Based on Status ----\n",
    "\n",
    "# -> status\n",
    "# -> opt_exit_price                            |    (None) if Staus==ACTIVE else (opt_price at the time of T1 Hit)\n",
    "# -> fut_exit_price                            |    (None) if Staus==ACTIVE else (fut_price at the time of T1 Hit)\n",
    "\n",
    "# --> opt _pl                                  |    (CMP - entry) if Status==ACTIVE else (opt_exit_price - entry)\n",
    "# --> ful_pl                                   |    (entry - CMP) if Status==ACTIVE else (entry - opt_exit_price)\n",
    "# --> total_pl                                 |    opt_pl + fut_pl\n",
    "\n",
    "# *The exact price of of opt1 & opt2 at the time of T1 hit cannot be obtained because the script runs once every 15 min,\n",
    "# therefore, instead of the exact price of opt1/2 at the time of T1 hit, we use the high's & low's of previous\n",
    "# 15 min candle and assume them as the exit price. This should not affect the P&L too much as there won't be much \n",
    "# fluctuation b/w the high/low and the exact price of opt1/2 at time of T1 hit (which will obviously be < 15 min)."
   ]
  },
  {
   "cell_type": "markdown",
   "metadata": {},
   "source": [
    "## Calculating Exit Price (Strategy 1)"
   ]
  },
  {
   "cell_type": "code",
   "execution_count": 3,
   "metadata": {},
   "outputs": [],
   "source": [
    "# Bullish (Buy Put + Buy Future)\n",
    "# T1      (Max profit + max loss)\n",
    "# stock 10:00|----^----------------|10:15 am\n",
    "# OPT   10:00|------\\/-------------|10:15 pm (LOSS)\n",
    "# FUT   10:00|----------^----------|10:15 pm (PROFIT)\n",
    "\n",
    "\n",
    "# SL      (max profit + max loss)\n",
    "# stock 10:00|----\\/---------------|10:15 am\n",
    "# OPT   10:00|-------^-------------|10:15 pm (PROFIT)\n",
    "# FUT   10:00|----------\\/---------|10:15 pm (LOSS)\n",
    "\n",
    "# Bearish (Buy Call + Sell Future)\n",
    "# T1      (Max profit + max loss)\n",
    "# stock 10:00|----\\/---------------|10:15 am\n",
    "# OPT   10:00|------\\/-------------|10:15 pm (LOSS)\n",
    "# FUT   10:00|----------\\/---------|10:15 pm (PROFIT)\n",
    "\n",
    "\n",
    "# SL      (max profit + max loss)\n",
    "# stock 10:00|----^-----------------|10:15 am\n",
    "# OPT   10:00|-------^--------------|10:15 pm (PROFIT)\n",
    "# FUT   10:00|----------^-----------|10:15 pm (LOSS)"
   ]
  },
  {
   "cell_type": "code",
   "execution_count": 4,
   "metadata": {},
   "outputs": [],
   "source": [
    "def get_active_data(df):\n",
    "    return df[df.Status.isin(['ACTIVE','T1 Hit','SL Hit','Strike 1'])]"
   ]
  },
  {
   "cell_type": "code",
   "execution_count": 5,
   "metadata": {},
   "outputs": [],
   "source": [
    "def update_status(df):\n",
    "    for i, row in df.iterrows():\n",
    "        if dt.date.today() == dt.datetime.strptime(row['Expiry'], '%d%b%Y').date():\n",
    "            df.loc[i, 'Status'] = 'Expired'"
   ]
  },
  {
   "cell_type": "code",
   "execution_count": 6,
   "metadata": {},
   "outputs": [],
   "source": [
    "# For strategy1\n",
    "# updates data inplace (not good coding practice)\n",
    "def master(df):\n",
    "    today = dt.datetime.strftime(dt.datetime.today(), format=\"%Y-%m-%d\")\n",
    "    \n",
    "    for ind, row in df.iterrows():\n",
    "        if row[\"Status\"]!='Expired':\n",
    "        \n",
    "            if row['Type']=='Bullish':\n",
    "                get_bull(ind, row, today)\n",
    "\n",
    "            else:\n",
    "                get_bear(ind, row, today)"
   ]
  },
  {
   "cell_type": "code",
   "execution_count": 7,
   "metadata": {},
   "outputs": [],
   "source": [
    "# candles = [tstmp O H L C V]"
   ]
  },
  {
   "cell_type": "code",
   "execution_count": 8,
   "metadata": {},
   "outputs": [],
   "source": [
    "def get_bull(ind, row, today):\n",
    "    # Get data \n",
    "    hs_data = {\"symbol\": f\"NSE:{row['Stock']}-EQ\", \"resolution\":\"15\", \"date_format\":\"1\", \"range_from\":today, \"range_to\":today, \"cont_flag\":\"1\"}\n",
    "    ho_data = {\"symbol\": f\"NSE:{row['Ticker Name OPT']}\", \"resolution\":\"15\", \"date_format\":\"1\", \"range_from\":today, \"range_to\":today, \"cont_flag\":\"1\"}\n",
    "    hf_data = {\"symbol\": f\"NSE:{row['Ticker Name FUT']}\", \"resolution\":\"15\", \"date_format\":\"1\", \"range_from\":today, \"range_to\":today, \"cont_flag\":\"1\"}\n",
    "    hs = fyers.history(hs_data)\n",
    "    ho = fyers.history(ho_data)\n",
    "    hf = fyers.history(hf_data)\n",
    "\n",
    "    try:                                                                                 \n",
    "        if dt.time(4, 0) < dt.datetime.now().time() < dt.time(9, 55):\n",
    "            i = -2\n",
    "        else:\n",
    "            i = -1\n",
    "        sres = hs['candles'][i]\n",
    "        ores = ho['candles'][i]\n",
    "        fres = hf['candles'][i]\n",
    "    except:\n",
    "        print(f\"api response not ok for Trade ID {row['Trade ID']}\")\n",
    "    \n",
    "    # update common columns\n",
    "    df.loc[ind, 'Stock CMP'] = sres[4]\n",
    "    df.loc[ind, 'Current Price OPT'] = ores[4]\n",
    "    df.loc[ind, 'Current Price FUT'] = fres[4]\n",
    "    df.loc[ind, 'P&L OPT (UE)'] = (ores[4] - row['Entry Price OPT']) * row['Lot Size']\n",
    "    df.loc[ind, 'P&L FUT (UE)'] = (fres[4] - row['Entry Price FUT']) * row['Lot Size']\n",
    "    df.loc[ind, 'Total P&L (UE)'] = df.loc[ind, 'P&L OPT (UE)'] + df.loc[ind, 'P&L FUT (UE)']\n",
    "    \n",
    "    # update if alert is active\n",
    "    if row['Status']=='ACTIVE' or row['Status']=='Strike 1':\n",
    "        evaluate_active_bull(ind, row, sres, ores, fres)"
   ]
  },
  {
   "cell_type": "code",
   "execution_count": 9,
   "metadata": {},
   "outputs": [],
   "source": [
    "def evaluate_active_bull(ind, row, sres, ores, fres):\n",
    "    \n",
    "    # check/update status\n",
    "    if sres[2] >= row['T1']:                                                       # [2] => high\n",
    "        df.loc[ind, 'Status'] = 'T1 Hit'                                           # [3] => low\n",
    "        df.loc[ind, 'Exit Price OPT'] = ores[3]                                    \n",
    "        df.loc[ind, 'Exit Price FUT'] = fres[2]                                    \n",
    "\n",
    "    elif (dt.datetime.fromtimestamp(sres[0]).time() == dt.time(9, 45)) and (sres[4] <= row['SL']):    # UTC time zone\n",
    "        if row['Status'] == 'ACTIVE':                                             # [4] => close\n",
    "            df.loc[ind, 'Status'] = 'Strike 1'                   \n",
    "        else:\n",
    "            df.loc[ind, 'Status'] = 'SL Hit'\n",
    "            df.loc[ind, 'Exit Price OPT'] = ores[2]\n",
    "            df.loc[ind, 'Exit Price FUT'] = fres[3]                                   \n",
    "    \n",
    "    # Calculate P&L\n",
    "    if df.loc[ind, 'Status']=='ACTIVE' or df.loc[ind, 'Status']=='Strike 1':     # If T1/SL is still not hit\n",
    "        df.loc[ind, 'P&L OPT'] = df.loc[ind, 'P&L OPT (UE)']\n",
    "        df.loc[ind, 'P&L FUT'] = df.loc[ind, 'P&L FUT (UE)']                  \n",
    "\n",
    "    else:                                                                # If T1/SL hit, calculate P&L based on exit_price\n",
    "        df.loc[ind, 'P&L OPT'] = (df.loc[ind, 'Exit Price OPT'] - row['Entry Price OPT']) * row['Lot Size']                 \n",
    "        df.loc[ind, 'P&L FUT'] = (df.loc[ind, 'Exit Price FUT'] - row['Entry Price FUT']) * row['Lot Size']\n",
    "\n",
    "    df.loc[ind, 'Total P&L'] = df.loc[ind, 'P&L OPT'] + df.loc[ind, 'P&L FUT']"
   ]
  },
  {
   "cell_type": "code",
   "execution_count": 10,
   "metadata": {},
   "outputs": [],
   "source": [
    "def get_bear(ind, row, today):\n",
    "    # Get data \n",
    "    hs_data = {\"symbol\": f\"NSE:{row['Stock']}-EQ\", \"resolution\":\"15\", \"date_format\":\"1\", \"range_from\":today, \"range_to\":today, \"cont_flag\":\"1\"}\n",
    "    ho_data = {\"symbol\": f\"NSE:{row['Ticker Name OPT']}\", \"resolution\":\"15\", \"date_format\":\"1\", \"range_from\":today, \"range_to\":today, \"cont_flag\":\"1\"}\n",
    "    hf_data = {\"symbol\": f\"NSE:{row['Ticker Name FUT']}\", \"resolution\":\"15\", \"date_format\":\"1\", \"range_from\":today, \"range_to\":today, \"cont_flag\":\"1\"}\n",
    "    hs = fyers.history(hs_data)\n",
    "    ho = fyers.history(ho_data)\n",
    "    hf = fyers.history(hf_data)\n",
    "\n",
    "    try:\n",
    "        if dt.time(4, 0) < dt.datetime.now().time() < dt.time(9, 55):\n",
    "            i = -2\n",
    "        else:\n",
    "            i = -1\n",
    "        sres = hs['candles'][i]\n",
    "        ores = ho['candles'][i]\n",
    "        fres = hf['candles'][i]\n",
    "    except:\n",
    "        print(f\"api response not ok for Trade ID {row['Trade ID']}\")\n",
    "    \n",
    "    # update common columns\n",
    "    df.loc[ind, 'Stock CMP'] = sres[4] \n",
    "    df.loc[ind, 'Current Price OPT'] = ores[4]\n",
    "    df.loc[ind, 'Current Price FUT'] = fres[4]\n",
    "    df.loc[ind, 'P&L OPT (UE)'] = (ores[4] - row['Entry Price OPT']) * row['Lot Size']\n",
    "    df.loc[ind, 'P&L FUT (UE)'] = (row['Entry Price FUT'] - fres[4]) * row['Lot Size']\n",
    "    df.loc[ind, 'Total P&L (UE)'] = df.loc[ind, 'P&L OPT (UE)'] + df.loc[ind, 'P&L FUT (UE)']\n",
    "    \n",
    "    # update if alert is active\n",
    "    if row['Status']=='ACTIVE' or row['Status']=='Strike 1':\n",
    "        evaluate_active_bear(ind, row, sres, ores, fres)"
   ]
  },
  {
   "cell_type": "code",
   "execution_count": 11,
   "metadata": {},
   "outputs": [],
   "source": [
    "def evaluate_active_bear(ind, row, sres, ores, fres):\n",
    "    \n",
    "    # check/update status\n",
    "    if sres[3] <= row['T1']:                                       # [3] => low\n",
    "        df.loc[ind, 'Status'] = 'T1 Hit'                           # [2] => high\n",
    "        df.loc[ind, 'Exit Price OPT'] = ores[3]                     \n",
    "        df.loc[ind, 'Exit Price FUT'] = fres[3]    \n",
    "        \n",
    "        \n",
    "    elif (dt.datetime.fromtimestamp(sres[0]).time() == dt.time(9, 45)) and (sres[4] >= row['SL']):    # UTC time zone\n",
    "        if row['Status'] == 'ACTIVE':                                             # [4] => close\n",
    "            df.loc[ind, 'Status'] = 'Strike 1'                   \n",
    "        else:\n",
    "            df.loc[ind, 'Status'] = 'SL Hit'\n",
    "            df.loc[ind, 'Exit Price OPT'] = ores[2]\n",
    "            df.loc[ind, 'Exit Price FUT'] = fres[2]                    \n",
    "    \n",
    "    # Calculate P&L\n",
    "    if df.loc[ind, 'Status']=='ACTIVE' or df.loc[ind, 'Status']=='Strike 1':     # If T1/SL is still not hit\n",
    "        df.loc[ind, 'P&L OPT'] = df.loc[ind, 'P&L OPT (UE)']\n",
    "        df.loc[ind, 'P&L FUT'] = df.loc[ind, 'P&L FUT (UE)']                 \n",
    "\n",
    "    else:                                                               # If T1/SL hit, calculate P&L based on exit_price\n",
    "        df.loc[ind, 'P&L OPT'] = (df.loc[ind, 'Exit Price OPT'] - row['Entry Price OPT']) * row['Lot Size']                   \n",
    "        df.loc[ind, 'P&L FUT'] = (row['Entry Price FUT'] - df.loc[ind, 'Exit Price FUT']) * row['Lot Size']\n",
    "\n",
    "    df.loc[ind, 'Total P&L'] = df.loc[ind, 'P&L OPT'] + df.loc[ind, 'P&L FUT']"
   ]
  },
  {
   "cell_type": "markdown",
   "metadata": {},
   "source": [
    "## Update Google sheets"
   ]
  },
  {
   "cell_type": "code",
   "execution_count": 12,
   "metadata": {},
   "outputs": [],
   "source": [
    "def push_changes(sheet, df):\n",
    "    values = df.values.tolist()\n",
    "    for value in values:\n",
    "        try:\n",
    "            cell = sheet.find(str(value[0]), in_column=0)\n",
    "            a1 = cell.address\n",
    "            r = cell.row\n",
    "            sheet.update(f\"{a1}:AA{r}\", [value])\n",
    "            \n",
    "        except:\n",
    "            print(f\"error updating row with Trade ID: {value[0]}\")"
   ]
  },
  {
   "cell_type": "code",
   "execution_count": null,
   "metadata": {},
   "outputs": [],
   "source": []
  }
 ],
 "metadata": {
  "kernelspec": {
   "display_name": "Python 3 (ipykernel)",
   "language": "python",
   "name": "python3"
  },
  "language_info": {
   "codemirror_mode": {
    "name": "ipython",
    "version": 3
   },
   "file_extension": ".py",
   "mimetype": "text/x-python",
   "name": "python",
   "nbconvert_exporter": "python",
   "pygments_lexer": "ipython3",
   "version": "3.12.4"
  }
 },
 "nbformat": 4,
 "nbformat_minor": 4
}

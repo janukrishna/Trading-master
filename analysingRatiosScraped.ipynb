{
  "nbformat": 4,
  "nbformat_minor": 0,
  "metadata": {
    "colab": {
      "name": "analysingRatiosScraped.ipynb",
      "provenance": [],
      "collapsed_sections": [],
      "authorship_tag": "ABX9TyM6pKSSEQdjJVWkp9YE0yvt",
      "include_colab_link": true
    },
    "kernelspec": {
      "name": "python3",
      "display_name": "Python 3"
    }
  },
  "cells": [
    {
      "cell_type": "markdown",
      "metadata": {
        "id": "view-in-github",
        "colab_type": "text"
      },
      "source": [
        "<a href=\"https://colab.research.google.com/github/anvy87/AlgoTrading/blob/master/analysingRatiosScraped.ipynb\" target=\"_parent\"><img src=\"https://colab.research.google.com/assets/colab-badge.svg\" alt=\"Open In Colab\"/></a>"
      ]
    },
    {
      "cell_type": "code",
      "metadata": {
        "id": "Z-fl5KQHoqoc",
        "colab_type": "code",
        "colab": {}
      },
      "source": [
        "import pandas as pd\n",
        "from bs4 import BeautifulSoup\n",
        "import urllib.request as ur"
      ],
      "execution_count": 0,
      "outputs": []
    },
    {
      "cell_type": "code",
      "metadata": {
        "id": "MFTDFRZMpNzK",
        "colab_type": "code",
        "colab": {}
      },
      "source": [
        "company = 'TATAMOTORS.NS'\n",
        "url_is = 'https://finance.yahoo.com/quote/' + company + '/financials?p=' + company\n",
        "# url_bs = 'https://finance.yahoo.com/quote/' + company + '/balance-sheet?p=' + company\n",
        "url_cf = 'https://finance.yahoo.com/quote/' + company + '/cash-flow?p=' + company"
      ],
      "execution_count": 0,
      "outputs": []
    },
    {
      "cell_type": "code",
      "metadata": {
        "id": "y1_CYP_UqeOk",
        "colab_type": "code",
        "colab": {}
      },
      "source": [
        "is_data = ur.urlopen(url_is).read()\n",
        "soup_is = BeautifulSoup(is_data, 'lxml')"
      ],
      "execution_count": 0,
      "outputs": []
    },
    {
      "cell_type": "code",
      "metadata": {
        "colab_type": "code",
        "id": "Q7SsXY2kzMSK",
        "colab": {}
      },
      "source": [
        "# bs_data = ur.urlopen(url_bs).read()\n",
        "# soup_bs = BeautifulSoup(bs_data, 'lxml')"
      ],
      "execution_count": 0,
      "outputs": []
    },
    {
      "cell_type": "code",
      "metadata": {
        "colab_type": "code",
        "id": "00ZhkRAjzLNS",
        "colab": {}
      },
      "source": [
        "cf_data = ur.urlopen(url_cf).read()\n",
        "soup_cf = BeautifulSoup(cf_data, 'lxml')"
      ],
      "execution_count": 0,
      "outputs": []
    },
    {
      "cell_type": "code",
      "metadata": {
        "id": "BSXIRFMxrW2H",
        "colab_type": "code",
        "colab": {}
      },
      "source": [
        "ls_is = []\n",
        "for l in soup_is.find_all('div'):\n",
        "  ls_is.append(l.string)\n",
        "ls_is = [e for e in ls_is if e not in('Operating Expenses', 'Non-recurring Events')]"
      ],
      "execution_count": 0,
      "outputs": []
    },
    {
      "cell_type": "code",
      "metadata": {
        "colab_type": "code",
        "id": "gL7Gp94F0Fmj",
        "colab": {}
      },
      "source": [
        "# ls_bs = []\n",
        "#for l in soup_bs.find_all('div'):\n",
        " # ls_bs.append(l.string)\n",
        "# ls_bs = [e for e in ls_bs if e not in('Operating Expenses', 'Non-recurring Events')]"
      ],
      "execution_count": 0,
      "outputs": []
    },
    {
      "cell_type": "code",
      "metadata": {
        "colab_type": "code",
        "id": "1H9naWQV0Jnh",
        "colab": {}
      },
      "source": [
        "ls_cf = []\n",
        "for l in soup_cf.find_all('div'):\n",
        "  ls_cf.append(l.string)\n",
        "ls_cf = [e for e in ls_cf if e not in('Operating Expenses', 'Non-recurring Events')]"
      ],
      "execution_count": 0,
      "outputs": []
    },
    {
      "cell_type": "code",
      "metadata": {
        "id": "JwBS9Vgmr7uT",
        "colab_type": "code",
        "colab": {}
      },
      "source": [
        "new_ls_is = list(filter(None,ls_is))\n",
        "# new_ls_bs = list(filter(None,ls_bs))\n",
        "new_ls_cf = list(filter(None,ls_cf))"
      ],
      "execution_count": 0,
      "outputs": []
    },
    {
      "cell_type": "code",
      "metadata": {
        "id": "ZUfp-gYesLSI",
        "colab_type": "code",
        "colab": {}
      },
      "source": [
        "new_ls_is = new_ls_is[12:]\n",
        "# new_ls_bs = new_ls_bs[12:]\n",
        "new_ls_cf = new_ls_cf[12:]"
      ],
      "execution_count": 0,
      "outputs": []
    },
    {
      "cell_type": "code",
      "metadata": {
        "id": "ckvdLVKKsrE2",
        "colab_type": "code",
        "colab": {}
      },
      "source": [
        "is_data = list(zip(*[iter(new_ls_is)]*6))\n",
        "# bs_data = list(zip(*[iter(new_ls_bs)]*6))\n",
        "cf_data = list(zip(*[iter(new_ls_cf)]*6))"
      ],
      "execution_count": 0,
      "outputs": []
    },
    {
      "cell_type": "code",
      "metadata": {
        "id": "zI-8G_dHs6lz",
        "colab_type": "code",
        "colab": {}
      },
      "source": [
        "Income_st = pd.DataFrame(is_data[0:])\n",
        "# BalS_st = pd.DataFrame(bs_data)\n",
        "CF_st = pd.DataFrame(cf_data[0:])"
      ],
      "execution_count": 0,
      "outputs": []
    },
    {
      "cell_type": "code",
      "metadata": {
        "id": "PIfFQqE6tR4O",
        "colab_type": "code",
        "colab": {}
      },
      "source": [
        "Income_st.columns = Income_st.iloc[0]\n",
        "Income_st = Income_st.iloc[1:,]\n",
        "Income_st = Income_st.T\n",
        "Income_st.columns = Income_st.iloc[0]\n",
        "Income_st.drop(Income_st.index[0],inplace=True)\n",
        "Income_st.index.name = ''\n",
        "Income_st.rename(index={'ttm':'12/31/2019'},inplace=True)\n",
        "Income_st = Income_st[Income_st.columns[:-5]]"
      ],
      "execution_count": 0,
      "outputs": []
    },
    {
      "cell_type": "code",
      "metadata": {
        "id": "3S9YXC22u-mG",
        "colab_type": "code",
        "colab": {}
      },
      "source": [
        "#BalS_st.columns = BalS_st.iloc[0]\n",
        "#BalS_st = BalS_st.iloc[1:,]\n",
        "#BalS_st = BalS_st.T\n",
        "#BalS_st.columns = BalS_st.iloc[0]\n",
        "#BalS_st.drop(BalS_st.index[0],inplace=True)\n",
        "#BalS_st.index.name = ''\n",
        "#BalS_st.rename(index={'ttm':'12/31/2019'},inplace=True)\n",
        "#BalS_st = BalS_st[BalS_st.columns[:-5]] "
      ],
      "execution_count": 0,
      "outputs": []
    },
    {
      "cell_type": "code",
      "metadata": {
        "id": "YU9zTK8svMvB",
        "colab_type": "code",
        "colab": {}
      },
      "source": [
        "CF_st.columns = CF_st.iloc[0]\n",
        "CF_st = CF_st.iloc[1:,]\n",
        "CF_st = CF_st.T\n",
        "CF_st.columns = CF_st.iloc[0]\n",
        "CF_st.drop(CF_st.index[0],inplace=True)\n",
        "CF_st.index.name = ''\n",
        "CF_st.rename(index={'ttm':'12/31/2019'},inplace=True)\n",
        "CF_st = CF_st[CF_st.columns[:-5]]"
      ],
      "execution_count": 0,
      "outputs": []
    },
    {
      "cell_type": "code",
      "metadata": {
        "id": "hFOQZU4Y6V8D",
        "colab_type": "code",
        "outputId": "b9072352-b506-4b01-a44a-51da3f30dd0e",
        "colab": {
          "base_uri": "https://localhost:8080/",
          "height": 289
        }
      },
      "source": [
        "Income_st"
      ],
      "execution_count": 0,
      "outputs": [
        {
          "output_type": "execute_result",
          "data": {
            "text/html": [
              "<div>\n",
              "<style scoped>\n",
              "    .dataframe tbody tr th:only-of-type {\n",
              "        vertical-align: middle;\n",
              "    }\n",
              "\n",
              "    .dataframe tbody tr th {\n",
              "        vertical-align: top;\n",
              "    }\n",
              "\n",
              "    .dataframe thead th {\n",
              "        text-align: right;\n",
              "    }\n",
              "</style>\n",
              "<table border=\"1\" class=\"dataframe\">\n",
              "  <thead>\n",
              "    <tr style=\"text-align: right;\">\n",
              "      <th>Annual</th>\n",
              "      <th>Total Revenue</th>\n",
              "      <th>Cost of Revenue</th>\n",
              "      <th>Gross Profit</th>\n",
              "      <th>Research Development</th>\n",
              "      <th>Selling General and Administrative</th>\n",
              "      <th>Total Operating Expenses</th>\n",
              "      <th>Operating Income or Loss</th>\n",
              "      <th>Interest Expense</th>\n",
              "      <th>Total Other Income/Expenses Net</th>\n",
              "      <th>Income Before Tax</th>\n",
              "      <th>Income Tax Expense</th>\n",
              "      <th>Income from Continuing Operations</th>\n",
              "      <th>Net Income</th>\n",
              "      <th>Net Income available to common shareholders</th>\n",
              "    </tr>\n",
              "    <tr>\n",
              "      <th></th>\n",
              "      <th></th>\n",
              "      <th></th>\n",
              "      <th></th>\n",
              "      <th></th>\n",
              "      <th></th>\n",
              "      <th></th>\n",
              "      <th></th>\n",
              "      <th></th>\n",
              "      <th></th>\n",
              "      <th></th>\n",
              "      <th></th>\n",
              "      <th></th>\n",
              "      <th></th>\n",
              "      <th></th>\n",
              "    </tr>\n",
              "  </thead>\n",
              "  <tbody>\n",
              "    <tr>\n",
              "      <th>12/31/2019</th>\n",
              "      <td>32,901,173</td>\n",
              "      <td>21,761,000</td>\n",
              "      <td>11,140,173</td>\n",
              "      <td>42,089,170</td>\n",
              "      <td>3,784,839</td>\n",
              "      <td>13,282,248</td>\n",
              "      <td>-2,142,074</td>\n",
              "      <td>661,733</td>\n",
              "      <td>-921,711</td>\n",
              "      <td>-3,636,695</td>\n",
              "      <td>-219,685</td>\n",
              "      <td>-3,417,010</td>\n",
              "      <td>-3,428,211</td>\n",
              "      <td>-3,428,211</td>\n",
              "    </tr>\n",
              "    <tr>\n",
              "      <th>3/31/2019</th>\n",
              "      <td>2,993,662,400</td>\n",
              "      <td>1,978,855,800</td>\n",
              "      <td>1,014,806,600</td>\n",
              "      <td>42,245,700</td>\n",
              "      <td>349,813,400</td>\n",
              "      <td>1,217,898,300</td>\n",
              "      <td>-203,091,700</td>\n",
              "      <td>57,586,000</td>\n",
              "      <td>-64,740,000</td>\n",
              "      <td>-317,553,100</td>\n",
              "      <td>-25,425,000</td>\n",
              "      <td>-292,128,100</td>\n",
              "      <td>-293,142,700</td>\n",
              "      <td>-293,142,700</td>\n",
              "    </tr>\n",
              "    <tr>\n",
              "      <th>3/31/2018</th>\n",
              "      <td>2,882,951,100</td>\n",
              "      <td>1,869,682,900</td>\n",
              "      <td>1,013,268,200</td>\n",
              "      <td>35,318,700</td>\n",
              "      <td>305,980,700</td>\n",
              "      <td>1,129,005,700</td>\n",
              "      <td>-115,737,500</td>\n",
              "      <td>46,365,000</td>\n",
              "      <td>260,720,600</td>\n",
              "      <td>105,740,500</td>\n",
              "      <td>38,058,500</td>\n",
              "      <td>67,682,000</td>\n",
              "      <td>66,660,800</td>\n",
              "      <td>66,660,800</td>\n",
              "    </tr>\n",
              "    <tr>\n",
              "      <th>3/31/2017</th>\n",
              "      <td>2,656,495,100</td>\n",
              "      <td>1,670,895,400</td>\n",
              "      <td>985,599,700</td>\n",
              "      <td>34,135,700</td>\n",
              "      <td>287,709,200</td>\n",
              "      <td>1,049,555,800</td>\n",
              "      <td>-63,956,100</td>\n",
              "      <td>42,365,700</td>\n",
              "      <td>198,585,500</td>\n",
              "      <td>97,904,400</td>\n",
              "      <td>35,670,000</td>\n",
              "      <td>62,234,400</td>\n",
              "      <td>61,210,500</td>\n",
              "      <td>61,210,500</td>\n",
              "    </tr>\n",
              "    <tr>\n",
              "      <th>3/31/2016</th>\n",
              "      <td>2,697,422,000</td>\n",
              "      <td>1,623,075,100</td>\n",
              "      <td>1,074,346,900</td>\n",
              "      <td>34,687,700</td>\n",
              "      <td>291,860,900</td>\n",
              "      <td>1,046,461,300</td>\n",
              "      <td>27,885,600</td>\n",
              "      <td>47,912,600</td>\n",
              "      <td>137,225,300</td>\n",
              "      <td>124,384,900</td>\n",
              "      <td>27,512,700</td>\n",
              "      <td>96,872,200</td>\n",
              "      <td>95,883,400</td>\n",
              "      <td>95,883,400</td>\n",
              "    </tr>\n",
              "  </tbody>\n",
              "</table>\n",
              "</div>"
            ],
            "text/plain": [
              "Annual      Total Revenue  ... Net Income available to common shareholders\n",
              "                           ...                                            \n",
              "12/31/2019     32,901,173  ...                                  -3,428,211\n",
              "3/31/2019   2,993,662,400  ...                                -293,142,700\n",
              "3/31/2018   2,882,951,100  ...                                  66,660,800\n",
              "3/31/2017   2,656,495,100  ...                                  61,210,500\n",
              "3/31/2016   2,697,422,000  ...                                  95,883,400\n",
              "\n",
              "[5 rows x 14 columns]"
            ]
          },
          "metadata": {
            "tags": []
          },
          "execution_count": 16
        }
      ]
    },
    {
      "cell_type": "code",
      "metadata": {
        "id": "RlcujTaP6XyC",
        "colab_type": "code",
        "outputId": "27fc38ea-03f7-4278-fac2-ace215e13198",
        "colab": {
          "base_uri": "https://localhost:8080/",
          "height": 340
        }
      },
      "source": [
        "CF_st"
      ],
      "execution_count": 0,
      "outputs": [
        {
          "output_type": "execute_result",
          "data": {
            "text/html": [
              "<div>\n",
              "<style scoped>\n",
              "    .dataframe tbody tr th:only-of-type {\n",
              "        vertical-align: middle;\n",
              "    }\n",
              "\n",
              "    .dataframe tbody tr th {\n",
              "        vertical-align: top;\n",
              "    }\n",
              "\n",
              "    .dataframe thead th {\n",
              "        text-align: right;\n",
              "    }\n",
              "</style>\n",
              "<table border=\"1\" class=\"dataframe\">\n",
              "  <thead>\n",
              "    <tr style=\"text-align: right;\">\n",
              "      <th>Annual</th>\n",
              "      <th>Net Income</th>\n",
              "      <th>Depreciation &amp; amortization</th>\n",
              "      <th>Deferred income taxes</th>\n",
              "      <th>Stock based compensation</th>\n",
              "      <th>Change in working capital</th>\n",
              "      <th>Accounts receivable</th>\n",
              "      <th>Inventory</th>\n",
              "      <th>Accounts Payable</th>\n",
              "      <th>Other working capital</th>\n",
              "      <th>Other non-cash items</th>\n",
              "      <th>Net cash provided by operating activites</th>\n",
              "      <th>Investments in property, plant and equipment</th>\n",
              "      <th>Acquisitions, net</th>\n",
              "      <th>Purchases of investments</th>\n",
              "      <th>Sales/Maturities of investments</th>\n",
              "      <th>Other investing activites</th>\n",
              "      <th>Net cash used for investing activites</th>\n",
              "      <th>Debt repayment</th>\n",
              "      <th>Common stock issued</th>\n",
              "      <th>Common stock repurchased</th>\n",
              "      <th>Dividends Paid</th>\n",
              "      <th>Other financing activites</th>\n",
              "      <th>Net cash used privided by (used for) financing activities</th>\n",
              "      <th>Net change in cash</th>\n",
              "    </tr>\n",
              "    <tr>\n",
              "      <th></th>\n",
              "      <th></th>\n",
              "      <th></th>\n",
              "      <th></th>\n",
              "      <th></th>\n",
              "      <th></th>\n",
              "      <th></th>\n",
              "      <th></th>\n",
              "      <th></th>\n",
              "      <th></th>\n",
              "      <th></th>\n",
              "      <th></th>\n",
              "      <th></th>\n",
              "      <th></th>\n",
              "      <th></th>\n",
              "      <th></th>\n",
              "      <th></th>\n",
              "      <th></th>\n",
              "      <th></th>\n",
              "      <th></th>\n",
              "      <th></th>\n",
              "      <th></th>\n",
              "      <th></th>\n",
              "      <th></th>\n",
              "      <th></th>\n",
              "    </tr>\n",
              "  </thead>\n",
              "  <tbody>\n",
              "    <tr>\n",
              "      <th>12/31/2019</th>\n",
              "      <td>-3,428,211</td>\n",
              "      <td>2,455,318</td>\n",
              "      <td>-219,685</td>\n",
              "      <td>-</td>\n",
              "      <td>56,789</td>\n",
              "      <td>219,396</td>\n",
              "      <td>380,372</td>\n",
              "      <td>328,018</td>\n",
              "      <td>-881,923</td>\n",
              "      <td>599,240</td>\n",
              "      <td>2,758,485</td>\n",
              "      <td>-3,640,407</td>\n",
              "      <td>-</td>\n",
              "      <td>-2,634,432</td>\n",
              "      <td>3,823,341</td>\n",
              "      <td>-28,097</td>\n",
              "      <td>-2,305,048</td>\n",
              "      <td>-3,847,760</td>\n",
              "      <td>-</td>\n",
              "      <td>-</td>\n",
              "      <td>225,000</td>\n",
              "      <td>-</td>\n",
              "      <td>1,035,847</td>\n",
              "      <td>1,489,284</td>\n",
              "    </tr>\n",
              "    <tr>\n",
              "      <th>3/31/2019</th>\n",
              "      <td>-293,142,700</td>\n",
              "      <td>230,197,800</td>\n",
              "      <td>-25,425,000</td>\n",
              "      <td>-</td>\n",
              "      <td>-63,336,000</td>\n",
              "      <td>9,547,000</td>\n",
              "      <td>20,686,400</td>\n",
              "      <td>-26,810,700</td>\n",
              "      <td>-164,127,700</td>\n",
              "      <td>51,200,600</td>\n",
              "      <td>188,907,500</td>\n",
              "      <td>-353,035,200</td>\n",
              "      <td>-170,700</td>\n",
              "      <td>-241,983,800</td>\n",
              "      <td>384,914,100</td>\n",
              "      <td>-2,816,800</td>\n",
              "      <td>-197,110,900</td>\n",
              "      <td>-351,980,200</td>\n",
              "      <td>0</td>\n",
              "      <td>-</td>\n",
              "      <td>0</td>\n",
              "      <td>-2,655,600</td>\n",
              "      <td>88,303,700</td>\n",
              "      <td>80,100,300</td>\n",
              "    </tr>\n",
              "    <tr>\n",
              "      <th>3/31/2018</th>\n",
              "      <td>66,660,800</td>\n",
              "      <td>209,818,200</td>\n",
              "      <td>38,058,500</td>\n",
              "      <td>-</td>\n",
              "      <td>-58,317,600</td>\n",
              "      <td>-43,265,800</td>\n",
              "      <td>-35,604,300</td>\n",
              "      <td>72,565,700</td>\n",
              "      <td>-112,215,000</td>\n",
              "      <td>3,152,500</td>\n",
              "      <td>238,574,200</td>\n",
              "      <td>-350,789,200</td>\n",
              "      <td>-42,100</td>\n",
              "      <td>-481,970,700</td>\n",
              "      <td>547,243,200</td>\n",
              "      <td>-1,783,600</td>\n",
              "      <td>-262,016,100</td>\n",
              "      <td>-299,638,700</td>\n",
              "      <td>0</td>\n",
              "      <td>-</td>\n",
              "      <td>0</td>\n",
              "      <td>-1,616,300</td>\n",
              "      <td>20,117,100</td>\n",
              "      <td>-3,324,800</td>\n",
              "    </tr>\n",
              "    <tr>\n",
              "      <th>3/31/2017</th>\n",
              "      <td>61,210,500</td>\n",
              "      <td>182,405,400</td>\n",
              "      <td>35,670,000</td>\n",
              "      <td>-</td>\n",
              "      <td>33,822,200</td>\n",
              "      <td>-23,677,800</td>\n",
              "      <td>-66,309,400</td>\n",
              "      <td>84,935,100</td>\n",
              "      <td>-3,490,300</td>\n",
              "      <td>36,725,000</td>\n",
              "      <td>303,107,300</td>\n",
              "      <td>-306,597,600</td>\n",
              "      <td>-1,069,500</td>\n",
              "      <td>-447,493,000</td>\n",
              "      <td>354,115,400</td>\n",
              "      <td>5,204,400</td>\n",
              "      <td>-382,727,600</td>\n",
              "      <td>-217,320,900</td>\n",
              "      <td>51,700</td>\n",
              "      <td>-</td>\n",
              "      <td>-730,000</td>\n",
              "      <td>-1,621,800</td>\n",
              "      <td>62,053,000</td>\n",
              "      <td>-17,567,300</td>\n",
              "    </tr>\n",
              "    <tr>\n",
              "      <th>3/31/2016</th>\n",
              "      <td>95,883,400</td>\n",
              "      <td>168,074,900</td>\n",
              "      <td>27,512,700</td>\n",
              "      <td>-</td>\n",
              "      <td>13,332,800</td>\n",
              "      <td>-7,945,600</td>\n",
              "      <td>-57,341,500</td>\n",
              "      <td>40,776,500</td>\n",
              "      <td>63,110,400</td>\n",
              "      <td>40,726,000</td>\n",
              "      <td>374,713,000</td>\n",
              "      <td>-311,602,600</td>\n",
              "      <td>0</td>\n",
              "      <td>-481,694,000</td>\n",
              "      <td>416,205,100</td>\n",
              "      <td>-1,884,700</td>\n",
              "      <td>-370,501,300</td>\n",
              "      <td>-235,859,200</td>\n",
              "      <td>74,906,700</td>\n",
              "      <td>-</td>\n",
              "      <td>0</td>\n",
              "      <td>-2,719,600</td>\n",
              "      <td>-37,928,700</td>\n",
              "      <td>-33,717,000</td>\n",
              "    </tr>\n",
              "  </tbody>\n",
              "</table>\n",
              "</div>"
            ],
            "text/plain": [
              "Annual        Net Income  ... Net change in cash\n",
              "                          ...                   \n",
              "12/31/2019    -3,428,211  ...          1,489,284\n",
              "3/31/2019   -293,142,700  ...         80,100,300\n",
              "3/31/2018     66,660,800  ...         -3,324,800\n",
              "3/31/2017     61,210,500  ...        -17,567,300\n",
              "3/31/2016     95,883,400  ...        -33,717,000\n",
              "\n",
              "[5 rows x 24 columns]"
            ]
          },
          "metadata": {
            "tags": []
          },
          "execution_count": 17
        }
      ]
    },
    {
      "cell_type": "code",
      "metadata": {
        "id": "cunXJSfo6aqb",
        "colab_type": "code",
        "colab": {}
      },
      "source": [
        "def convert_to_int(df):\n",
        "  col = df.columns\n",
        "  for col in df:\n",
        "    temp = df[col].to_string().replace(',','').split('\\n')\n",
        "    temp.pop(0)\n",
        "    df.index = pd.to_datetime(df.index)\n",
        "    df[col] = [i[10:].strip() for i in temp]\n",
        "    df[col] = pd.to_numeric(df[col], errors = 'coerce').fillna(0).astype(int)\n",
        "    return df"
      ],
      "execution_count": 0,
      "outputs": []
    },
    {
      "cell_type": "code",
      "metadata": {
        "id": "Lo-104aI-pkG",
        "colab_type": "code",
        "colab": {}
      },
      "source": [
        "ratio = pd.DataFrame()"
      ],
      "execution_count": 0,
      "outputs": []
    },
    {
      "cell_type": "code",
      "metadata": {
        "id": "HOvswsPR-wjy",
        "colab_type": "code",
        "colab": {}
      },
      "source": [
        "ratio['effective tax rate'] = Income_st['Income Tax Expense']/Income_st['Income Before Tax']"
      ],
      "execution_count": 0,
      "outputs": []
    },
    {
      "cell_type": "code",
      "metadata": {
        "id": "BzxVHhTw-wHY",
        "colab_type": "code",
        "colab": {}
      },
      "source": [
        "ratio['net operating margin'] = (Income_st['Income Before Tax']+Income_st['Interest Expense']*(1-ratio['effective tax rate']))/Income_st['Total Revenue']"
      ],
      "execution_count": 0,
      "outputs": []
    },
    {
      "cell_type": "code",
      "metadata": {
        "id": "iu8DNz2g_YYl",
        "colab_type": "code",
        "colab": {}
      },
      "source": [
        "ratio['net operating asset turnover'] = Income_st['Total Revenue']/((balance_st['Total liabilities and stockholders\\' equity']+balance_st['Total liabilities and stockholders\\' equity'].shift(1))/2)"
      ],
      "execution_count": 0,
      "outputs": []
    },
    {
      "cell_type": "code",
      "metadata": {
        "id": "6WFWS3Dq_Xhp",
        "colab_type": "code",
        "colab": {}
      },
      "source": [
        "ratio['Return on NOA'] = ratio['net operating margin']*ratio['net operating asset turnover']"
      ],
      "execution_count": 0,
      "outputs": []
    },
    {
      "cell_type": "code",
      "metadata": {
        "id": "qn9IeihbAYBV",
        "colab_type": "code",
        "colab": {}
      },
      "source": [
        "ratio['Net financial expense'] = Income_st['Interest Expense']*(1-ratio['effective tax rate'])\n",
        "ratio['Net borrowing cost'] = ratio['Net financial expense']/(balance_st['Total Liabilities']+balance_st['Total Liabilities'].shift(1)/2)\n",
        "ratio['spread'] = ratio['Return on NOA'] - ratio['Net borrowing cost']"
      ],
      "execution_count": 0,
      "outputs": []
    },
    {
      "cell_type": "code",
      "metadata": {
        "id": "Ft6BL4x8AXx0",
        "colab_type": "code",
        "colab": {}
      },
      "source": [
        "ratio['leverage'] = (balance_st['Total Liabilities']+balance_st['Total Liabilities'].shift(-1)/2)/(balance_st['Total liabilities and stockholders\\' equity']+balance_st['Total liabilities and stockholders\\' equity'].shift(1))/2"
      ],
      "execution_count": 0,
      "outputs": []
    },
    {
      "cell_type": "code",
      "metadata": {
        "id": "LZ9ncMUFAXK6",
        "colab_type": "code",
        "colab": {}
      },
      "source": [
        "ratio['ROE(Advanced dupont)'] = ratio['Return on NOA'] + ratio['leverage']* ratio['spread']\n",
        "ratio"
      ],
      "execution_count": 0,
      "outputs": []
    }
  ]
}
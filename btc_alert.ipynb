{
  "nbformat": 4,
  "nbformat_minor": 0,
  "metadata": {
    "colab": {
      "name": "btc_alert.ipynb",
      "provenance": [],
      "collapsed_sections": [],
      "authorship_tag": "ABX9TyP38MrUW9DKzjvKdultZEQu",
      "include_colab_link": true
    },
    "kernelspec": {
      "name": "python3",
      "display_name": "Python 3"
    }
  },
  "cells": [
    {
      "cell_type": "markdown",
      "metadata": {
        "id": "view-in-github",
        "colab_type": "text"
      },
      "source": [
        "<a href=\"https://colab.research.google.com/github/anvy87/AlgoTrading/blob/master/btc_alert.ipynb\" target=\"_parent\"><img src=\"https://colab.research.google.com/assets/colab-badge.svg\" alt=\"Open In Colab\"/></a>"
      ]
    },
    {
      "cell_type": "code",
      "metadata": {
        "id": "vpdcvQxs6Ou3"
      },
      "source": [
        "import requests\r\n",
        "import time"
      ],
      "execution_count": 16,
      "outputs": []
    },
    {
      "cell_type": "code",
      "metadata": {
        "id": "7Ae2wzo2E_gE"
      },
      "source": [
        "api_key = 'api_key'\r\n",
        "bot_token = 'bot_token'\r\n",
        "chat_id = 'chat_id'\r\n",
        "threshold = 32000\r\n",
        "time_interval = 15 * 60"
      ],
      "execution_count": 17,
      "outputs": []
    },
    {
      "cell_type": "code",
      "metadata": {
        "id": "qFOAH0MuKp_l"
      },
      "source": [
        "def get_btc_price():\r\n",
        "  url = 'https://pro-api.coinmarketcap.com/v1/cryptocurrency/listings/latest'\r\n",
        "  headers =  {\r\n",
        "      'Accepts': 'application/json',\r\n",
        "      'X-CMC_PRO_API_KEY': api_key\r\n",
        "  }\r\n",
        "\r\n",
        "  response = requests.get(url, headers=headers)\r\n",
        "  response_json = response.json()\r\n",
        "\r\n",
        "  btc_price = response_json['data'][0]\r\n",
        "  return btc_price['quote']['USD']['price']"
      ],
      "execution_count": 18,
      "outputs": []
    },
    {
      "cell_type": "code",
      "metadata": {
        "id": "gLcnHyh9Ms4b"
      },
      "source": [
        "def send_message(chat_id, msg):\r\n",
        "  url = f\"https://api.telegram.org/bot{bot_token}/sendMessage?chat_id={chat_id}&text={msg}\"\r\n",
        "\r\n",
        "  requests.get(url)"
      ],
      "execution_count": 19,
      "outputs": []
    },
    {
      "cell_type": "code",
      "metadata": {
        "id": "dorQVsWaPgOp"
      },
      "source": [
        "def main():\r\n",
        "  price_list = []\r\n",
        "\r\n",
        "  while True:\r\n",
        "    price = get_btc_price()\r\n",
        "    price_list.append(price)\r\n",
        "\r\n",
        "    if price < threshold:\r\n",
        "      send_message(chat_id=chat_id, msg=f'BTC Price Drop Alert: {price}')\r\n",
        "    \r\n",
        "    if len(price_list) >= 1:\r\n",
        "      send_message(chat_id=chat_id, msg=price_list)\r\n",
        "      price_list = []\r\n",
        "    \r\n",
        "    time.sleep(time_interval)\r\n",
        "\r\n",
        "if __name__ == '__main__':\r\n",
        "  main()"
      ],
      "execution_count": null,
      "outputs": []
    },
    {
      "cell_type": "code",
      "metadata": {
        "id": "H3nGw1rQQfp_"
      },
      "source": [
        ""
      ],
      "execution_count": null,
      "outputs": []
    }
  ]
}
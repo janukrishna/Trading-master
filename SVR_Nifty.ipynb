{
  "nbformat": 4,
  "nbformat_minor": 0,
  "metadata": {
    "kernelspec": {
      "display_name": "Python 3",
      "language": "python",
      "name": "python3"
    },
    "language_info": {
      "codemirror_mode": {
        "name": "ipython",
        "version": 3
      },
      "file_extension": ".py",
      "mimetype": "text/x-python",
      "name": "python",
      "nbconvert_exporter": "python",
      "pygments_lexer": "ipython3",
      "version": "3.7.7"
    },
    "colab": {
      "name": "SVR_Nifty.ipynb",
      "provenance": []
    }
  },
  "cells": [
    {
      "cell_type": "code",
      "metadata": {
        "id": "WSlR60RtgZiE"
      },
      "source": [
        "# Price prediction of NIFTY using 3 SVM models"
      ],
      "execution_count": null,
      "outputs": []
    },
    {
      "cell_type": "code",
      "metadata": {
        "id": "gzBst3RngZic",
        "outputId": "eb01e899-e356-4d77-8e97-7e74201aa190"
      },
      "source": [
        "!pip install yfinance"
      ],
      "execution_count": null,
      "outputs": [
        {
          "output_type": "stream",
          "text": [
            "Requirement already satisfied: yfinance in c:\\users\\home\\anaconda3\\lib\\site-packages (0.1.54)\n",
            "Requirement already satisfied: pandas>=0.24 in c:\\users\\home\\anaconda3\\lib\\site-packages (from yfinance) (1.1.0)\n",
            "Requirement already satisfied: multitasking>=0.0.7 in c:\\users\\home\\anaconda3\\lib\\site-packages (from yfinance) (0.0.9)\n",
            "Requirement already satisfied: numpy>=1.15 in c:\\users\\home\\anaconda3\\lib\\site-packages (from yfinance) (1.19.1)\n",
            "Requirement already satisfied: requests>=2.20 in c:\\users\\home\\anaconda3\\lib\\site-packages (from yfinance) (2.24.0)\n",
            "Requirement already satisfied: pytz>=2017.2 in c:\\users\\home\\anaconda3\\lib\\site-packages (from pandas>=0.24->yfinance) (2020.1)\n",
            "Requirement already satisfied: python-dateutil>=2.7.3 in c:\\users\\home\\anaconda3\\lib\\site-packages (from pandas>=0.24->yfinance) (2.8.1)\n",
            "Requirement already satisfied: six>=1.5 in c:\\users\\home\\anaconda3\\lib\\site-packages (from python-dateutil>=2.7.3->pandas>=0.24->yfinance) (1.15.0)\n",
            "Requirement already satisfied: certifi>=2017.4.17 in c:\\users\\home\\anaconda3\\lib\\site-packages (from requests>=2.20->yfinance) (2020.6.20)\n",
            "Requirement already satisfied: urllib3!=1.25.0,!=1.25.1,<1.26,>=1.21.1 in c:\\users\\home\\anaconda3\\lib\\site-packages (from requests>=2.20->yfinance) (1.25.10)\n",
            "Requirement already satisfied: idna<3,>=2.5 in c:\\users\\home\\anaconda3\\lib\\site-packages (from requests>=2.20->yfinance) (2.10)\n",
            "Requirement already satisfied: chardet<4,>=3.0.2 in c:\\users\\home\\anaconda3\\lib\\site-packages (from requests>=2.20->yfinance) (3.0.4)\n"
          ],
          "name": "stdout"
        }
      ]
    },
    {
      "cell_type": "code",
      "metadata": {
        "id": "_FHaFhp8gZii"
      },
      "source": [
        "from sklearn.svm import SVR\n",
        "import numpy as np\n",
        "import pandas as pd\n",
        "import matplotlib.pyplot as plt\n",
        "plt.style.use('fivethirtyeight')"
      ],
      "execution_count": null,
      "outputs": []
    },
    {
      "cell_type": "code",
      "metadata": {
        "colab": {
          "resources": {
            "http://localhost:8080/nbextensions/google.colab/files.js": {
              "data": "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",
              "ok": true,
              "headers": [
                [
                  "content-type",
                  "application/javascript"
                ]
              ],
              "status": 200,
              "status_text": ""
            }
          },
          "base_uri": "https://localhost:8080/",
          "height": 109
        },
        "id": "oyJQThcOgZix",
        "outputId": "8c4c324b-43b9-4353-b50e-9a5f5a56c605"
      },
      "source": [
        "# load the data\n",
        "from google.colab import files\n",
        "files.upload()"
      ],
      "execution_count": 5,
      "outputs": [
        {
          "output_type": "display_data",
          "data": {
            "text/html": [
              "\n",
              "     <input type=\"file\" id=\"files-e1e1af0c-284c-4436-b653-a37c16522e6a\" name=\"files[]\" multiple disabled\n",
              "        style=\"border:none\" />\n",
              "     <output id=\"result-e1e1af0c-284c-4436-b653-a37c16522e6a\">\n",
              "      Upload widget is only available when the cell has been executed in the\n",
              "      current browser session. Please rerun this cell to enable.\n",
              "      </output>\n",
              "      <script src=\"/nbextensions/google.colab/files.js\"></script> "
            ],
            "text/plain": [
              "<IPython.core.display.HTML object>"
            ]
          },
          "metadata": {
            "tags": []
          }
        },
        {
          "output_type": "stream",
          "text": [
            "Saving nifty.csv to nifty.csv\n"
          ],
          "name": "stdout"
        },
        {
          "output_type": "execute_result",
          "data": {
            "text/plain": [
              "{'nifty.csv': b'Date,Open,High,Low,Close,Volume\\r\\n2020-10-15,12023.45,12025.45,11661.3,11680.35,608900\\r\\n2020-10-16,11727.4,11789.75,11667.85,11762.45,555800\\r\\n2020-10-19,11879.2,11898.25,11820.4,11873.05,541400\\r\\n2020-10-20,11861.0,11949.25,11837.25,11896.8,453600\\r\\n2020-10-21,11958.55,12018.65,11775.75,11937.65,623700\\r\\n2020-10-22,11890.0,11939.55,11823.45,11896.45,544900\\r\\n2020-10-23,11957.9,11974.55,11908.75,11930.35,502300\\r\\n2020-10-26,11937.4,11942.85,11711.7,11767.75,519800\\r\\n2020-10-27,11807.1,11899.05,11723.0,11889.4,616300\\r\\n2020-10-28,11922.6,11929.4,11684.85,11729.6,704000\\r\\n2020-10-29,11633.3,11744.15,11606.45,11670.8,555000\\r\\n2020-10-30,11678.45,11748.95,11535.45,11642.4,553700\\r\\n2020-11-02,11697.35,11725.65,11557.4,11669.15,568400\\r\\n2020-11-03,11734.45,11836.2,11723.3,11813.5,674300\\r\\n2020-11-04,11783.35,11929.65,11756.4,11908.5,667300\\r\\n2020-11-05,12062.4,12131.1,12027.6,12120.3,632500\\r\\n2020-11-06,12156.65,12280.4,12131.85,12263.55,576800\\r\\n2020-11-09,12399.4,12474.05,12367.35,12461.05,553400\\r\\n2020-11-10,12556.4,12643.9,12475.25,12631.1,847500\\r\\n2020-11-11,12680.6,12769.75,12571.1,12749.15,880500\\r\\n2020-11-12,12702.15,12741.15,12624.85,12690.8,622000\\r\\n2020-11-13,12659.7,12735.95,12607.7,12719.95,513900\\r\\n2020-11-17,12932.5,12934.05,12797.1,12874.2,707700\\r\\n2020-11-18,12860.1,12948.85,12819.35,12938.25,731300\\r\\n2020-11-19,12839.5,12963.0,12745.75,12771.7,768800\\r\\n2020-11-20,12813.4,12892.45,12730.25,12859.05,664000\\r\\n2020-11-23,12960.3,12968.85,12825.7,12926.45,633100\\r\\n2020-11-24,13002.6,13079.1,12978.0,13055.15,571900\\r\\n2020-11-25,13130.0,13145.85,12833.65,12858.4,679000\\r\\n2020-11-26,12906.45,13018.0,12790.4,12987.0,549800\\r\\n2020-11-27,13012.05,13035.3,12914.3,12968.95,1162400\\r\\n2020-12-01,13062.2,13128.4,12962.8,13109.05,583600\\r\\n2020-12-02,13121.4,13128.5,12983.55,13113.75,717700\\r\\n2020-12-03,13215.3,13216.6,13107.9,13133.9,713700\\r\\n2020-12-04,13177.4,13280.05,13152.85,13258.55,640500\\r\\n2020-12-07,13264.85,13366.65,13241.95,13355.75,591700\\r\\n2020-12-08,13393.85,13435.45,13311.05,13392.95,543200\\r\\n2020-12-09,13458.1,13548.9,13449.6,13529.1,502600\\r\\n2020-12-10,13488.5,13503.55,13399.3,13478.3,553400\\r\\n2020-12-11,13512.3,13579.35,13402.85,13513.85,787700\\r\\n2020-12-14,13571.45,13597.5,13472.45,13558.15,558400\\r\\n2020-12-15,13547.2,13589.65,13447.05,13567.85,497600\\r\\n2020-12-16,13663.1,13692.35,13606.45,13682.7,462200\\r\\n2020-12-17,13713.55,13773.25,13673.55,13740.7,416000\\r\\n2020-12-18,13764.4,13772.85,13658.6,13760.55,519400\\r\\n2020-12-21,13741.9,13777.5,13131.45,13328.4,687300\\r\\n2020-12-22,13373.65,13492.05,13192.9,13466.3,696200\\r\\n2020-12-23,13473.5,13619.45,13432.2,13601.1,458700\\r\\n2020-12-24,13672.15,13771.75,13626.9,13749.25,471400\\r\\n2020-12-28,13815.15,13885.3,13811.55,13873.2,403600\\r\\n2020-12-29,13910.35,13967.6,13859.9,13932.6,439600\\r\\n2020-12-30,13980.9,13997.0,13864.95,13981.95,380700\\r\\n2020-12-31,13970.0,14024.85,13936.45,13981.75,452400\\r\\n2021-01-04,14104.35,14147.95,13953.75,14132.9,495000\\r\\n2021-01-05,14075.15,14215.6,14048.15,14199.5,492500\\r\\n2021-01-06,14240.95,14244.15,14039.9,14146.25,632300\\r\\n2021-01-07,14253.75,14256.25,14123.1,14137.35,559200\\r\\n2021-01-08,14258.4,14367.3,14221.65,14347.25,613500\\r\\n2021-01-11,14474.05,14498.2,14383.1,14484.75,672900\\r\\n2021-01-12,14473.8,14590.65,14432.85,14563.45,929600\\r\\n2021-01-13,14639.8,14653.35,14435.7,14564.85,874000\\r\\n2021-01-14,14550.05,14617.8,14471.5,14595.6,620200\\r\\n'}"
            ]
          },
          "metadata": {
            "tags": []
          },
          "execution_count": 5
        }
      ]
    },
    {
      "cell_type": "code",
      "metadata": {
        "id": "h4EQIIkjgZit"
      },
      "source": [
        "#df.to_csv('nifty.csv')"
      ],
      "execution_count": null,
      "outputs": []
    },
    {
      "cell_type": "code",
      "metadata": {
        "id": "zB-DdkpVgZjA",
        "colab": {
          "base_uri": "https://localhost:8080/",
          "height": 419
        },
        "outputId": "a87ef52a-3663-448b-f6b9-b96e263f63d0"
      },
      "source": [
        "# store the data\n",
        "df = pd.read_csv('nifty.csv')\n",
        "df"
      ],
      "execution_count": 6,
      "outputs": [
        {
          "output_type": "execute_result",
          "data": {
            "text/html": [
              "<div>\n",
              "<style scoped>\n",
              "    .dataframe tbody tr th:only-of-type {\n",
              "        vertical-align: middle;\n",
              "    }\n",
              "\n",
              "    .dataframe tbody tr th {\n",
              "        vertical-align: top;\n",
              "    }\n",
              "\n",
              "    .dataframe thead th {\n",
              "        text-align: right;\n",
              "    }\n",
              "</style>\n",
              "<table border=\"1\" class=\"dataframe\">\n",
              "  <thead>\n",
              "    <tr style=\"text-align: right;\">\n",
              "      <th></th>\n",
              "      <th>Date</th>\n",
              "      <th>Open</th>\n",
              "      <th>High</th>\n",
              "      <th>Low</th>\n",
              "      <th>Close</th>\n",
              "      <th>Volume</th>\n",
              "    </tr>\n",
              "  </thead>\n",
              "  <tbody>\n",
              "    <tr>\n",
              "      <th>0</th>\n",
              "      <td>2020-10-15</td>\n",
              "      <td>12023.45</td>\n",
              "      <td>12025.45</td>\n",
              "      <td>11661.30</td>\n",
              "      <td>11680.35</td>\n",
              "      <td>608900</td>\n",
              "    </tr>\n",
              "    <tr>\n",
              "      <th>1</th>\n",
              "      <td>2020-10-16</td>\n",
              "      <td>11727.40</td>\n",
              "      <td>11789.75</td>\n",
              "      <td>11667.85</td>\n",
              "      <td>11762.45</td>\n",
              "      <td>555800</td>\n",
              "    </tr>\n",
              "    <tr>\n",
              "      <th>2</th>\n",
              "      <td>2020-10-19</td>\n",
              "      <td>11879.20</td>\n",
              "      <td>11898.25</td>\n",
              "      <td>11820.40</td>\n",
              "      <td>11873.05</td>\n",
              "      <td>541400</td>\n",
              "    </tr>\n",
              "    <tr>\n",
              "      <th>3</th>\n",
              "      <td>2020-10-20</td>\n",
              "      <td>11861.00</td>\n",
              "      <td>11949.25</td>\n",
              "      <td>11837.25</td>\n",
              "      <td>11896.80</td>\n",
              "      <td>453600</td>\n",
              "    </tr>\n",
              "    <tr>\n",
              "      <th>4</th>\n",
              "      <td>2020-10-21</td>\n",
              "      <td>11958.55</td>\n",
              "      <td>12018.65</td>\n",
              "      <td>11775.75</td>\n",
              "      <td>11937.65</td>\n",
              "      <td>623700</td>\n",
              "    </tr>\n",
              "    <tr>\n",
              "      <th>...</th>\n",
              "      <td>...</td>\n",
              "      <td>...</td>\n",
              "      <td>...</td>\n",
              "      <td>...</td>\n",
              "      <td>...</td>\n",
              "      <td>...</td>\n",
              "    </tr>\n",
              "    <tr>\n",
              "      <th>57</th>\n",
              "      <td>2021-01-08</td>\n",
              "      <td>14258.40</td>\n",
              "      <td>14367.30</td>\n",
              "      <td>14221.65</td>\n",
              "      <td>14347.25</td>\n",
              "      <td>613500</td>\n",
              "    </tr>\n",
              "    <tr>\n",
              "      <th>58</th>\n",
              "      <td>2021-01-11</td>\n",
              "      <td>14474.05</td>\n",
              "      <td>14498.20</td>\n",
              "      <td>14383.10</td>\n",
              "      <td>14484.75</td>\n",
              "      <td>672900</td>\n",
              "    </tr>\n",
              "    <tr>\n",
              "      <th>59</th>\n",
              "      <td>2021-01-12</td>\n",
              "      <td>14473.80</td>\n",
              "      <td>14590.65</td>\n",
              "      <td>14432.85</td>\n",
              "      <td>14563.45</td>\n",
              "      <td>929600</td>\n",
              "    </tr>\n",
              "    <tr>\n",
              "      <th>60</th>\n",
              "      <td>2021-01-13</td>\n",
              "      <td>14639.80</td>\n",
              "      <td>14653.35</td>\n",
              "      <td>14435.70</td>\n",
              "      <td>14564.85</td>\n",
              "      <td>874000</td>\n",
              "    </tr>\n",
              "    <tr>\n",
              "      <th>61</th>\n",
              "      <td>2021-01-14</td>\n",
              "      <td>14550.05</td>\n",
              "      <td>14617.80</td>\n",
              "      <td>14471.50</td>\n",
              "      <td>14595.60</td>\n",
              "      <td>620200</td>\n",
              "    </tr>\n",
              "  </tbody>\n",
              "</table>\n",
              "<p>62 rows × 6 columns</p>\n",
              "</div>"
            ],
            "text/plain": [
              "          Date      Open      High       Low     Close  Volume\n",
              "0   2020-10-15  12023.45  12025.45  11661.30  11680.35  608900\n",
              "1   2020-10-16  11727.40  11789.75  11667.85  11762.45  555800\n",
              "2   2020-10-19  11879.20  11898.25  11820.40  11873.05  541400\n",
              "3   2020-10-20  11861.00  11949.25  11837.25  11896.80  453600\n",
              "4   2020-10-21  11958.55  12018.65  11775.75  11937.65  623700\n",
              "..         ...       ...       ...       ...       ...     ...\n",
              "57  2021-01-08  14258.40  14367.30  14221.65  14347.25  613500\n",
              "58  2021-01-11  14474.05  14498.20  14383.10  14484.75  672900\n",
              "59  2021-01-12  14473.80  14590.65  14432.85  14563.45  929600\n",
              "60  2021-01-13  14639.80  14653.35  14435.70  14564.85  874000\n",
              "61  2021-01-14  14550.05  14617.80  14471.50  14595.60  620200\n",
              "\n",
              "[62 rows x 6 columns]"
            ]
          },
          "metadata": {
            "tags": []
          },
          "execution_count": 6
        }
      ]
    },
    {
      "cell_type": "code",
      "metadata": {
        "id": "9eMCdKTEgZjD"
      },
      "source": [
        "#df = pd.DataFrame(yf.Ticker(\"^NSEI\").history(period='3mo'))"
      ],
      "execution_count": null,
      "outputs": []
    },
    {
      "cell_type": "code",
      "metadata": {
        "id": "n6OCzjvvgZjG"
      },
      "source": [
        "# df = df.drop(['Dividends', 'Stock Splits'], axis = 1) "
      ],
      "execution_count": null,
      "outputs": []
    },
    {
      "cell_type": "code",
      "metadata": {
        "id": "cKXghfh0gZjL",
        "colab": {
          "base_uri": "https://localhost:8080/",
          "height": 80
        },
        "outputId": "9f059667-1390-4e59-8c98-8d722f4075e2"
      },
      "source": [
        "# Show and store the last row of data\n",
        "actual_price = df.tail(1)\n",
        "actual_price"
      ],
      "execution_count": 7,
      "outputs": [
        {
          "output_type": "execute_result",
          "data": {
            "text/html": [
              "<div>\n",
              "<style scoped>\n",
              "    .dataframe tbody tr th:only-of-type {\n",
              "        vertical-align: middle;\n",
              "    }\n",
              "\n",
              "    .dataframe tbody tr th {\n",
              "        vertical-align: top;\n",
              "    }\n",
              "\n",
              "    .dataframe thead th {\n",
              "        text-align: right;\n",
              "    }\n",
              "</style>\n",
              "<table border=\"1\" class=\"dataframe\">\n",
              "  <thead>\n",
              "    <tr style=\"text-align: right;\">\n",
              "      <th></th>\n",
              "      <th>Date</th>\n",
              "      <th>Open</th>\n",
              "      <th>High</th>\n",
              "      <th>Low</th>\n",
              "      <th>Close</th>\n",
              "      <th>Volume</th>\n",
              "    </tr>\n",
              "  </thead>\n",
              "  <tbody>\n",
              "    <tr>\n",
              "      <th>61</th>\n",
              "      <td>2021-01-14</td>\n",
              "      <td>14550.05</td>\n",
              "      <td>14617.8</td>\n",
              "      <td>14471.5</td>\n",
              "      <td>14595.6</td>\n",
              "      <td>620200</td>\n",
              "    </tr>\n",
              "  </tbody>\n",
              "</table>\n",
              "</div>"
            ],
            "text/plain": [
              "          Date      Open     High      Low    Close  Volume\n",
              "61  2021-01-14  14550.05  14617.8  14471.5  14595.6  620200"
            ]
          },
          "metadata": {
            "tags": []
          },
          "execution_count": 7
        }
      ]
    },
    {
      "cell_type": "code",
      "metadata": {
        "id": "84TbDJi1gZjP",
        "colab": {
          "base_uri": "https://localhost:8080/",
          "height": 419
        },
        "outputId": "e711174e-adca-443e-956a-679ec91dbf53"
      },
      "source": [
        "# Get all of the data except the last row\n",
        "df = df.head(len(df) - 1)\n",
        "df"
      ],
      "execution_count": 8,
      "outputs": [
        {
          "output_type": "execute_result",
          "data": {
            "text/html": [
              "<div>\n",
              "<style scoped>\n",
              "    .dataframe tbody tr th:only-of-type {\n",
              "        vertical-align: middle;\n",
              "    }\n",
              "\n",
              "    .dataframe tbody tr th {\n",
              "        vertical-align: top;\n",
              "    }\n",
              "\n",
              "    .dataframe thead th {\n",
              "        text-align: right;\n",
              "    }\n",
              "</style>\n",
              "<table border=\"1\" class=\"dataframe\">\n",
              "  <thead>\n",
              "    <tr style=\"text-align: right;\">\n",
              "      <th></th>\n",
              "      <th>Date</th>\n",
              "      <th>Open</th>\n",
              "      <th>High</th>\n",
              "      <th>Low</th>\n",
              "      <th>Close</th>\n",
              "      <th>Volume</th>\n",
              "    </tr>\n",
              "  </thead>\n",
              "  <tbody>\n",
              "    <tr>\n",
              "      <th>0</th>\n",
              "      <td>2020-10-15</td>\n",
              "      <td>12023.45</td>\n",
              "      <td>12025.45</td>\n",
              "      <td>11661.30</td>\n",
              "      <td>11680.35</td>\n",
              "      <td>608900</td>\n",
              "    </tr>\n",
              "    <tr>\n",
              "      <th>1</th>\n",
              "      <td>2020-10-16</td>\n",
              "      <td>11727.40</td>\n",
              "      <td>11789.75</td>\n",
              "      <td>11667.85</td>\n",
              "      <td>11762.45</td>\n",
              "      <td>555800</td>\n",
              "    </tr>\n",
              "    <tr>\n",
              "      <th>2</th>\n",
              "      <td>2020-10-19</td>\n",
              "      <td>11879.20</td>\n",
              "      <td>11898.25</td>\n",
              "      <td>11820.40</td>\n",
              "      <td>11873.05</td>\n",
              "      <td>541400</td>\n",
              "    </tr>\n",
              "    <tr>\n",
              "      <th>3</th>\n",
              "      <td>2020-10-20</td>\n",
              "      <td>11861.00</td>\n",
              "      <td>11949.25</td>\n",
              "      <td>11837.25</td>\n",
              "      <td>11896.80</td>\n",
              "      <td>453600</td>\n",
              "    </tr>\n",
              "    <tr>\n",
              "      <th>4</th>\n",
              "      <td>2020-10-21</td>\n",
              "      <td>11958.55</td>\n",
              "      <td>12018.65</td>\n",
              "      <td>11775.75</td>\n",
              "      <td>11937.65</td>\n",
              "      <td>623700</td>\n",
              "    </tr>\n",
              "    <tr>\n",
              "      <th>...</th>\n",
              "      <td>...</td>\n",
              "      <td>...</td>\n",
              "      <td>...</td>\n",
              "      <td>...</td>\n",
              "      <td>...</td>\n",
              "      <td>...</td>\n",
              "    </tr>\n",
              "    <tr>\n",
              "      <th>56</th>\n",
              "      <td>2021-01-07</td>\n",
              "      <td>14253.75</td>\n",
              "      <td>14256.25</td>\n",
              "      <td>14123.10</td>\n",
              "      <td>14137.35</td>\n",
              "      <td>559200</td>\n",
              "    </tr>\n",
              "    <tr>\n",
              "      <th>57</th>\n",
              "      <td>2021-01-08</td>\n",
              "      <td>14258.40</td>\n",
              "      <td>14367.30</td>\n",
              "      <td>14221.65</td>\n",
              "      <td>14347.25</td>\n",
              "      <td>613500</td>\n",
              "    </tr>\n",
              "    <tr>\n",
              "      <th>58</th>\n",
              "      <td>2021-01-11</td>\n",
              "      <td>14474.05</td>\n",
              "      <td>14498.20</td>\n",
              "      <td>14383.10</td>\n",
              "      <td>14484.75</td>\n",
              "      <td>672900</td>\n",
              "    </tr>\n",
              "    <tr>\n",
              "      <th>59</th>\n",
              "      <td>2021-01-12</td>\n",
              "      <td>14473.80</td>\n",
              "      <td>14590.65</td>\n",
              "      <td>14432.85</td>\n",
              "      <td>14563.45</td>\n",
              "      <td>929600</td>\n",
              "    </tr>\n",
              "    <tr>\n",
              "      <th>60</th>\n",
              "      <td>2021-01-13</td>\n",
              "      <td>14639.80</td>\n",
              "      <td>14653.35</td>\n",
              "      <td>14435.70</td>\n",
              "      <td>14564.85</td>\n",
              "      <td>874000</td>\n",
              "    </tr>\n",
              "  </tbody>\n",
              "</table>\n",
              "<p>61 rows × 6 columns</p>\n",
              "</div>"
            ],
            "text/plain": [
              "          Date      Open      High       Low     Close  Volume\n",
              "0   2020-10-15  12023.45  12025.45  11661.30  11680.35  608900\n",
              "1   2020-10-16  11727.40  11789.75  11667.85  11762.45  555800\n",
              "2   2020-10-19  11879.20  11898.25  11820.40  11873.05  541400\n",
              "3   2020-10-20  11861.00  11949.25  11837.25  11896.80  453600\n",
              "4   2020-10-21  11958.55  12018.65  11775.75  11937.65  623700\n",
              "..         ...       ...       ...       ...       ...     ...\n",
              "56  2021-01-07  14253.75  14256.25  14123.10  14137.35  559200\n",
              "57  2021-01-08  14258.40  14367.30  14221.65  14347.25  613500\n",
              "58  2021-01-11  14474.05  14498.20  14383.10  14484.75  672900\n",
              "59  2021-01-12  14473.80  14590.65  14432.85  14563.45  929600\n",
              "60  2021-01-13  14639.80  14653.35  14435.70  14564.85  874000\n",
              "\n",
              "[61 rows x 6 columns]"
            ]
          },
          "metadata": {
            "tags": []
          },
          "execution_count": 8
        }
      ]
    },
    {
      "cell_type": "code",
      "metadata": {
        "id": "I7mPRvfUgZje"
      },
      "source": [
        "# create empty lists\n",
        "days = list()\n",
        "adj_close_prices = list()"
      ],
      "execution_count": 9,
      "outputs": []
    },
    {
      "cell_type": "code",
      "metadata": {
        "id": "93CvNxbTgZjf"
      },
      "source": [
        "# get all the date and adjusted close prices\n",
        "df_days = df.loc[:, 'Date']\n",
        "df_adj_close = df.loc[:, 'Close']"
      ],
      "execution_count": 10,
      "outputs": []
    },
    {
      "cell_type": "code",
      "metadata": {
        "id": "7ipbzHcSgZjk"
      },
      "source": [
        "# create the independent data set (dates)\n",
        "for day in df_days:\n",
        "    days.append([int(day.split('-')[2])])\n",
        "\n",
        "# create the dependent data set (adj close prices)\n",
        "for adj_close_price in df_adj_close:\n",
        "    adj_close_prices.append(float(adj_close_price))"
      ],
      "execution_count": 12,
      "outputs": []
    },
    {
      "cell_type": "code",
      "metadata": {
        "id": "CSdlaUtCgZjo",
        "colab": {
          "base_uri": "https://localhost:8080/"
        },
        "outputId": "2c3bc532-d0d9-4116-88fa-e3193fea3321"
      },
      "source": [
        "# show days\n",
        "days"
      ],
      "execution_count": 13,
      "outputs": [
        {
          "output_type": "execute_result",
          "data": {
            "text/plain": [
              "[[15],\n",
              " [16],\n",
              " [19],\n",
              " [20],\n",
              " [21],\n",
              " [22],\n",
              " [23],\n",
              " [26],\n",
              " [27],\n",
              " [28],\n",
              " [29],\n",
              " [30],\n",
              " [2],\n",
              " [3],\n",
              " [4],\n",
              " [5],\n",
              " [6],\n",
              " [9],\n",
              " [10],\n",
              " [11],\n",
              " [12],\n",
              " [13],\n",
              " [17],\n",
              " [18],\n",
              " [19],\n",
              " [20],\n",
              " [23],\n",
              " [24],\n",
              " [25],\n",
              " [26],\n",
              " [27],\n",
              " [1],\n",
              " [2],\n",
              " [3],\n",
              " [4],\n",
              " [7],\n",
              " [8],\n",
              " [9],\n",
              " [10],\n",
              " [11],\n",
              " [14],\n",
              " [15],\n",
              " [16],\n",
              " [17],\n",
              " [18],\n",
              " [21],\n",
              " [22],\n",
              " [23],\n",
              " [24],\n",
              " [28],\n",
              " [29],\n",
              " [30],\n",
              " [31],\n",
              " [4],\n",
              " [5],\n",
              " [6],\n",
              " [7],\n",
              " [8],\n",
              " [11],\n",
              " [12],\n",
              " [13]]"
            ]
          },
          "metadata": {
            "tags": []
          },
          "execution_count": 13
        }
      ]
    },
    {
      "cell_type": "code",
      "metadata": {
        "id": "ULPv2OK-gZjs",
        "colab": {
          "base_uri": "https://localhost:8080/"
        },
        "outputId": "81f47e35-445a-466e-99fb-120af7a6a33e"
      },
      "source": [
        "# adj close prices\n",
        "adj_close_prices"
      ],
      "execution_count": 14,
      "outputs": [
        {
          "output_type": "execute_result",
          "data": {
            "text/plain": [
              "[11680.35,\n",
              " 11762.45,\n",
              " 11873.05,\n",
              " 11896.8,\n",
              " 11937.65,\n",
              " 11896.45,\n",
              " 11930.35,\n",
              " 11767.75,\n",
              " 11889.4,\n",
              " 11729.6,\n",
              " 11670.8,\n",
              " 11642.4,\n",
              " 11669.15,\n",
              " 11813.5,\n",
              " 11908.5,\n",
              " 12120.3,\n",
              " 12263.55,\n",
              " 12461.05,\n",
              " 12631.1,\n",
              " 12749.15,\n",
              " 12690.8,\n",
              " 12719.95,\n",
              " 12874.2,\n",
              " 12938.25,\n",
              " 12771.7,\n",
              " 12859.05,\n",
              " 12926.45,\n",
              " 13055.15,\n",
              " 12858.4,\n",
              " 12987.0,\n",
              " 12968.95,\n",
              " 13109.05,\n",
              " 13113.75,\n",
              " 13133.9,\n",
              " 13258.55,\n",
              " 13355.75,\n",
              " 13392.95,\n",
              " 13529.1,\n",
              " 13478.3,\n",
              " 13513.85,\n",
              " 13558.15,\n",
              " 13567.85,\n",
              " 13682.7,\n",
              " 13740.7,\n",
              " 13760.55,\n",
              " 13328.4,\n",
              " 13466.3,\n",
              " 13601.1,\n",
              " 13749.25,\n",
              " 13873.2,\n",
              " 13932.6,\n",
              " 13981.95,\n",
              " 13981.75,\n",
              " 14132.9,\n",
              " 14199.5,\n",
              " 14146.25,\n",
              " 14137.35,\n",
              " 14347.25,\n",
              " 14484.75,\n",
              " 14563.45,\n",
              " 14564.85]"
            ]
          },
          "metadata": {
            "tags": []
          },
          "execution_count": 14
        }
      ]
    },
    {
      "cell_type": "code",
      "metadata": {
        "id": "dCdNVttvgZju",
        "colab": {
          "base_uri": "https://localhost:8080/"
        },
        "outputId": "88e793b8-377f-4a04-a381-c98194f69341"
      },
      "source": [
        "# create 3 models\n",
        "\n",
        "lin_svr = SVR(kernel='linear', C=1000.0)\n",
        "lin_svr.fit(days, adj_close_prices)\n",
        "\n",
        "\n",
        "poly_svr = SVR(kernel='poly', C=1000.0, degree=2)\n",
        "poly_svr.fit(days, adj_close_prices)\n",
        "\n",
        "\n",
        "rbf_svr = SVR(kernel='rbf', C=1000.0, gamma=0.85)\n",
        "rbf_svr.fit(days, adj_close_prices)"
      ],
      "execution_count": 18,
      "outputs": [
        {
          "output_type": "execute_result",
          "data": {
            "text/plain": [
              "SVR(C=1000.0, cache_size=200, coef0=0.0, degree=3, epsilon=0.1, gamma=0.85,\n",
              "    kernel='rbf', max_iter=-1, shrinking=True, tol=0.001, verbose=False)"
            ]
          },
          "metadata": {
            "tags": []
          },
          "execution_count": 18
        }
      ]
    },
    {
      "cell_type": "code",
      "metadata": {
        "id": "7ctVx_IxgZjw",
        "colab": {
          "base_uri": "https://localhost:8080/",
          "height": 537
        },
        "outputId": "c00d937b-12b5-4e52-f67d-3d4e1dc9aac4"
      },
      "source": [
        "# plot the models\n",
        "plt.figure(figsize=(16,8))\n",
        "plt.scatter(days, adj_close_prices, color = 'black', label = 'Data')\n",
        "\n",
        "plt.plot(days, rbf_svr.predict(days), color = 'green', label = 'RBF Model')\n",
        "plt.plot(days, poly_svr.predict(days), color = 'orange', label = 'Polynomial Model')\n",
        "plt.plot(days, lin_svr.predict(days), color = 'blue', label = 'Linear Model')\n",
        "\n",
        "plt.xlabel('Days')\n",
        "plt.ylabel('Adj Close Price')\n",
        "plt.legend()\n",
        "plt.show()"
      ],
      "execution_count": 27,
      "outputs": [
        {
          "output_type": "display_data",
          "data": {
            "image/png": "[encoded data removed]",
            "text/plain": [
              "<Figure size 1152x576 with 1 Axes>"
            ]
          },
          "metadata": {
            "tags": []
          }
        }
      ]
    },
    {
      "cell_type": "code",
      "metadata": {
        "id": "_rHLqpaTgZjy",
        "colab": {
          "base_uri": "https://localhost:8080/"
        },
        "outputId": "cf9a4f6f-4b61-4e04-d464-9195756390ed"
      },
      "source": [
        "# show the predicted price for the given day\n",
        "day = [[60]]\n",
        "print('The RBF SVR predicted price:', rbf_svr.predict(day))\n",
        "print('The Poly SVR predicted price:', poly_svr.predict(day))\n",
        "print('The Linear SVR predicted price:', lin_svr.predict(day))"
      ],
      "execution_count": 25,
      "outputs": [
        {
          "output_type": "stream",
          "text": [
            "The RBF SVR predicted price: [13225.64781003]\n",
            "The Poly SVR predicted price: [11701.38616124]\n",
            "The Linear SVR predicted price: [12742.04375]\n"
          ],
          "name": "stdout"
        }
      ]
    },
    {
      "cell_type": "code",
      "metadata": {
        "id": "szmZcnb9gZkH",
        "colab": {
          "base_uri": "https://localhost:8080/"
        },
        "outputId": "f7726266-dbc0-47d4-c2f4-25626b3e7bd0"
      },
      "source": [
        "# show the actual price\n",
        "print('Actual Price:', actual_price['Close'][61])"
      ],
      "execution_count": 26,
      "outputs": [
        {
          "output_type": "stream",
          "text": [
            "Actual Price: 14595.6\n"
          ],
          "name": "stdout"
        }
      ]
    },
    {
      "cell_type": "code",
      "metadata": {
        "id": "_4ngMNtWjkXx"
      },
      "source": [
        ""
      ],
      "execution_count": null,
      "outputs": []
    }
  ]
}
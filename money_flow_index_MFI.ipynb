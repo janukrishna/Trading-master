{
  "nbformat": 4,
  "nbformat_minor": 0,
  "metadata": {
    "colab": {
      "name": "money_flow_index_MFI.ipynb",
      "provenance": [],
      "collapsed_sections": [],
      "authorship_tag": "ABX9TyNGvAhyODgCoFFcy8UZUd4M",
      "include_colab_link": true
    },
    "kernelspec": {
      "name": "python3",
      "display_name": "Python 3"
    }
  },
  "cells": [
    {
      "cell_type": "markdown",
      "metadata": {
        "id": "view-in-github",
        "colab_type": "text"
      },
      "source": [
        "<a href=\"https://colab.research.google.com/github/anvy87/AlgoTrading/blob/master/money_flow_index_MFI.ipynb\" target=\"_parent\"><img src=\"https://colab.research.google.com/assets/colab-badge.svg\" alt=\"Open In Colab\"/></a>"
      ]
    },
    {
      "cell_type": "code",
      "metadata": {
        "id": "doxNNZNzzezH"
      },
      "source": [
        "import warnings\n",
        "import numpy as np\n",
        "import pandas as pd\n",
        "import matplotlib.pyplot as plt\n",
        "plt.style.use('fivethirtyeight')\n",
        "warnings.filterwarnings('ignore')"
      ],
      "execution_count": null,
      "outputs": []
    },
    {
      "cell_type": "code",
      "metadata": {
        "id": "Pt3vcxjV38iR",
        "outputId": "f338cd60-820b-4ca9-f3ae-601b5a6208b4",
        "colab": {
          "resources": {
            "http://localhost:8080/nbextensions/google.colab/files.js": {
              "data": "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",
              "ok": true,
              "headers": [
                [
                  "content-type",
                  "application/javascript"
                ]
              ],
              "status": 200,
              "status_text": ""
            }
          },
          "base_uri": "https://localhost:8080/",
          "height": 72
        }
      },
      "source": [
        "from google.colab import files\n",
        "\n",
        "uploaded = files.upload()"
      ],
      "execution_count": null,
      "outputs": [
        {
          "output_type": "display_data",
          "data": {
            "text/html": [
              "\n",
              "     <input type=\"file\" id=\"files-f8ec0263-11e4-4753-921a-bb964294ff6f\" name=\"files[]\" multiple disabled\n",
              "        style=\"border:none\" />\n",
              "     <output id=\"result-f8ec0263-11e4-4753-921a-bb964294ff6f\">\n",
              "      Upload widget is only available when the cell has been executed in the\n",
              "      current browser session. Please rerun this cell to enable.\n",
              "      </output>\n",
              "      <script src=\"/nbextensions/google.colab/files.js\"></script> "
            ],
            "text/plain": [
              "<IPython.core.display.HTML object>"
            ]
          },
          "metadata": {
            "tags": []
          }
        },
        {
          "output_type": "stream",
          "text": [
            "Saving bnf5yrs.csv to bnf5yrs (2).csv\n"
          ],
          "name": "stdout"
        }
      ]
    },
    {
      "cell_type": "code",
      "metadata": {
        "id": "sjfxL2V2AxQ1"
      },
      "source": [
        "df = pd.read_csv('bnf5yrs (2).csv')"
      ],
      "execution_count": null,
      "outputs": []
    },
    {
      "cell_type": "code",
      "metadata": {
        "id": "HWkmyKxzDOrD",
        "outputId": "e70ac9f5-3a06-4c13-b62f-fb8b36fb94b6",
        "colab": {
          "base_uri": "https://localhost:8080/",
          "height": 419
        }
      },
      "source": [
        "# set the index\n",
        "df = df.set_index(pd.DatetimeIndex(df['Date'].values))\n",
        "df"
      ],
      "execution_count": null,
      "outputs": [
        {
          "output_type": "execute_result",
          "data": {
            "text/html": [
              "<div>\n",
              "<style scoped>\n",
              "    .dataframe tbody tr th:only-of-type {\n",
              "        vertical-align: middle;\n",
              "    }\n",
              "\n",
              "    .dataframe tbody tr th {\n",
              "        vertical-align: top;\n",
              "    }\n",
              "\n",
              "    .dataframe thead th {\n",
              "        text-align: right;\n",
              "    }\n",
              "</style>\n",
              "<table border=\"1\" class=\"dataframe\">\n",
              "  <thead>\n",
              "    <tr style=\"text-align: right;\">\n",
              "      <th></th>\n",
              "      <th>Date</th>\n",
              "      <th>Open</th>\n",
              "      <th>High</th>\n",
              "      <th>Low</th>\n",
              "      <th>Close</th>\n",
              "      <th>z-score</th>\n",
              "      <th>Volume</th>\n",
              "      <th>Turnover (Rs. Cr)</th>\n",
              "    </tr>\n",
              "  </thead>\n",
              "  <tbody>\n",
              "    <tr>\n",
              "      <th>2014-10-07</th>\n",
              "      <td>7-Oct-14</td>\n",
              "      <td>15214.25</td>\n",
              "      <td>15344.60</td>\n",
              "      <td>15157.70</td>\n",
              "      <td>15180.25</td>\n",
              "      <td>-1.57</td>\n",
              "      <td>20601315</td>\n",
              "      <td>1574.35</td>\n",
              "    </tr>\n",
              "    <tr>\n",
              "      <th>2014-10-08</th>\n",
              "      <td>8-Oct-14</td>\n",
              "      <td>15130.35</td>\n",
              "      <td>15371.80</td>\n",
              "      <td>15130.35</td>\n",
              "      <td>15344.00</td>\n",
              "      <td>-1.53</td>\n",
              "      <td>19840589</td>\n",
              "      <td>1410.06</td>\n",
              "    </tr>\n",
              "    <tr>\n",
              "      <th>2014-10-09</th>\n",
              "      <td>9-Oct-14</td>\n",
              "      <td>15434.35</td>\n",
              "      <td>15795.65</td>\n",
              "      <td>15434.35</td>\n",
              "      <td>15741.20</td>\n",
              "      <td>-1.45</td>\n",
              "      <td>27780819</td>\n",
              "      <td>1784.65</td>\n",
              "    </tr>\n",
              "    <tr>\n",
              "      <th>2014-10-10</th>\n",
              "      <td>10-Oct-14</td>\n",
              "      <td>15603.45</td>\n",
              "      <td>15628.75</td>\n",
              "      <td>15439.35</td>\n",
              "      <td>15453.80</td>\n",
              "      <td>-1.51</td>\n",
              "      <td>24179823</td>\n",
              "      <td>1362.02</td>\n",
              "    </tr>\n",
              "    <tr>\n",
              "      <th>2014-10-13</th>\n",
              "      <td>13-Oct-14</td>\n",
              "      <td>15360.70</td>\n",
              "      <td>15705.70</td>\n",
              "      <td>15301.65</td>\n",
              "      <td>15677.50</td>\n",
              "      <td>-1.47</td>\n",
              "      <td>26082820</td>\n",
              "      <td>1597.67</td>\n",
              "    </tr>\n",
              "    <tr>\n",
              "      <th>...</th>\n",
              "      <td>...</td>\n",
              "      <td>...</td>\n",
              "      <td>...</td>\n",
              "      <td>...</td>\n",
              "      <td>...</td>\n",
              "      <td>...</td>\n",
              "      <td>...</td>\n",
              "      <td>...</td>\n",
              "    </tr>\n",
              "    <tr>\n",
              "      <th>2020-09-25</th>\n",
              "      <td>25-Sep-20</td>\n",
              "      <td>20740.80</td>\n",
              "      <td>21064.30</td>\n",
              "      <td>20430.70</td>\n",
              "      <td>20982.35</td>\n",
              "      <td>-0.36</td>\n",
              "      <td>280646576</td>\n",
              "      <td>5902.57</td>\n",
              "    </tr>\n",
              "    <tr>\n",
              "      <th>2020-09-28</th>\n",
              "      <td>28-Sep-20</td>\n",
              "      <td>21152.05</td>\n",
              "      <td>21708.85</td>\n",
              "      <td>21055.10</td>\n",
              "      <td>21665.50</td>\n",
              "      <td>-0.22</td>\n",
              "      <td>240223120</td>\n",
              "      <td>5550.96</td>\n",
              "    </tr>\n",
              "    <tr>\n",
              "      <th>2020-09-29</th>\n",
              "      <td>29-Sep-20</td>\n",
              "      <td>21770.90</td>\n",
              "      <td>21811.50</td>\n",
              "      <td>21280.60</td>\n",
              "      <td>21411.30</td>\n",
              "      <td>-0.27</td>\n",
              "      <td>242993739</td>\n",
              "      <td>5129.99</td>\n",
              "    </tr>\n",
              "    <tr>\n",
              "      <th>2020-09-30</th>\n",
              "      <td>30-Sep-20</td>\n",
              "      <td>21405.25</td>\n",
              "      <td>21549.35</td>\n",
              "      <td>21128.50</td>\n",
              "      <td>21451.80</td>\n",
              "      <td>-0.26</td>\n",
              "      <td>240051659</td>\n",
              "      <td>5310.13</td>\n",
              "    </tr>\n",
              "    <tr>\n",
              "      <th>2020-10-01</th>\n",
              "      <td>1-Oct-20</td>\n",
              "      <td>21685.25</td>\n",
              "      <td>22293.75</td>\n",
              "      <td>21664.15</td>\n",
              "      <td>22246.00</td>\n",
              "      <td>-0.10</td>\n",
              "      <td>348728050</td>\n",
              "      <td>8207.06</td>\n",
              "    </tr>\n",
              "  </tbody>\n",
              "</table>\n",
              "<p>1481 rows × 8 columns</p>\n",
              "</div>"
            ],
            "text/plain": [
              "                 Date      Open      High  ...  z-score     Volume  Turnover (Rs. Cr)\n",
              "2014-10-07   7-Oct-14  15214.25  15344.60  ...    -1.57   20601315            1574.35\n",
              "2014-10-08   8-Oct-14  15130.35  15371.80  ...    -1.53   19840589            1410.06\n",
              "2014-10-09   9-Oct-14  15434.35  15795.65  ...    -1.45   27780819            1784.65\n",
              "2014-10-10  10-Oct-14  15603.45  15628.75  ...    -1.51   24179823            1362.02\n",
              "2014-10-13  13-Oct-14  15360.70  15705.70  ...    -1.47   26082820            1597.67\n",
              "...               ...       ...       ...  ...      ...        ...                ...\n",
              "2020-09-25  25-Sep-20  20740.80  21064.30  ...    -0.36  280646576            5902.57\n",
              "2020-09-28  28-Sep-20  21152.05  21708.85  ...    -0.22  240223120            5550.96\n",
              "2020-09-29  29-Sep-20  21770.90  21811.50  ...    -0.27  242993739            5129.99\n",
              "2020-09-30  30-Sep-20  21405.25  21549.35  ...    -0.26  240051659            5310.13\n",
              "2020-10-01   1-Oct-20  21685.25  22293.75  ...    -0.10  348728050            8207.06\n",
              "\n",
              "[1481 rows x 8 columns]"
            ]
          },
          "metadata": {
            "tags": []
          },
          "execution_count": 7
        }
      ]
    },
    {
      "cell_type": "code",
      "metadata": {
        "id": "WbzyJGsIEl2r",
        "outputId": "2bfcff9f-72cc-4e9f-8314-7f778473ef7a",
        "colab": {
          "base_uri": "https://localhost:8080/",
          "height": 272
        }
      },
      "source": [
        "df.info()"
      ],
      "execution_count": null,
      "outputs": [
        {
          "output_type": "stream",
          "text": [
            "<class 'pandas.core.frame.DataFrame'>\n",
            "DatetimeIndex: 1481 entries, 2014-10-07 to 2020-10-01\n",
            "Data columns (total 8 columns):\n",
            " #   Column             Non-Null Count  Dtype  \n",
            "---  ------             --------------  -----  \n",
            " 0   Date               1481 non-null   object \n",
            " 1   Open               1481 non-null   float64\n",
            " 2   High               1481 non-null   float64\n",
            " 3   Low                1481 non-null   float64\n",
            " 4   Close              1481 non-null   float64\n",
            " 5   z-score            1481 non-null   float64\n",
            " 6   Volume             1481 non-null   int64  \n",
            " 7   Turnover (Rs. Cr)  1481 non-null   object \n",
            "dtypes: float64(5), int64(1), object(2)\n",
            "memory usage: 104.1+ KB\n"
          ],
          "name": "stdout"
        }
      ]
    },
    {
      "cell_type": "code",
      "metadata": {
        "id": "WKjRpuI_Eanx",
        "outputId": "3a737c5c-dd8d-4014-c14e-346c9596a96e",
        "colab": {
          "base_uri": "https://localhost:8080/",
          "height": 323
        }
      },
      "source": [
        "# visulaize the data\n",
        "plt.figure(figsize=(12.2, 4.5))\n",
        "plt.plot(df['Close'], label = 'Close Price')\n",
        "plt.title('Bank Nifty Price')\n",
        "plt.xlabel('Date')\n",
        "plt.ylabel('Close Price in Rs.')\n",
        "plt.legend(df.columns.values, loc='upper left')\n",
        "plt.show()"
      ],
      "execution_count": null,
      "outputs": [
        {
          "output_type": "display_data",
          "data": {
            "image/png": "[encoded data removed]",
            "text/plain": [
              "<Figure size 878.4x324 with 1 Axes>"
            ]
          },
          "metadata": {
            "tags": [],
            "needs_background": "light"
          }
        }
      ]
    },
    {
      "cell_type": "code",
      "metadata": {
        "id": "RVtEX3ZvGANy",
        "outputId": "68d32ff8-907e-49d0-8a16-24da3a4a2c07",
        "colab": {
          "base_uri": "https://localhost:8080/",
          "height": 221
        }
      },
      "source": [
        "# calculate the typical price\n",
        "typical_price = ((df['Close'] + df['High'] + df['Low']) / 3).astype(int)\n",
        "typical_price"
      ],
      "execution_count": null,
      "outputs": [
        {
          "output_type": "execute_result",
          "data": {
            "text/plain": [
              "2014-10-07    15227\n",
              "2014-10-08    15282\n",
              "2014-10-09    15657\n",
              "2014-10-10    15507\n",
              "2014-10-13    15561\n",
              "              ...  \n",
              "2020-09-25    20825\n",
              "2020-09-28    21476\n",
              "2020-09-29    21501\n",
              "2020-09-30    21376\n",
              "2020-10-01    22067\n",
              "Length: 1481, dtype: int64"
            ]
          },
          "metadata": {
            "tags": []
          },
          "execution_count": 10
        }
      ]
    },
    {
      "cell_type": "code",
      "metadata": {
        "id": "IpE36MtlGAd1"
      },
      "source": [
        "# get the period\n",
        "period  = 2"
      ],
      "execution_count": null,
      "outputs": []
    },
    {
      "cell_type": "code",
      "metadata": {
        "id": "dM-Sb45rGFm6",
        "outputId": "6a38a92c-cd4c-442b-b189-b70d45e8bd0f",
        "colab": {
          "base_uri": "https://localhost:8080/",
          "height": 221
        }
      },
      "source": [
        "# calculate the money flow\n",
        "money_flow = typical_price * df['Volume']\n",
        "money_flow"
      ],
      "execution_count": null,
      "outputs": [
        {
          "output_type": "execute_result",
          "data": {
            "text/plain": [
              "2014-10-07     313696223505\n",
              "2014-10-08     303203881098\n",
              "2014-10-09     434964283083\n",
              "2014-10-10     374956515261\n",
              "2014-10-13     405874762020\n",
              "                  ...      \n",
              "2020-09-25    5844464945200\n",
              "2020-09-28    5159031725120\n",
              "2020-09-29    5224608382239\n",
              "2020-09-30    5131344262784\n",
              "2020-10-01    7695381879350\n",
              "Length: 1481, dtype: int64"
            ]
          },
          "metadata": {
            "tags": []
          },
          "execution_count": 12
        }
      ]
    },
    {
      "cell_type": "code",
      "metadata": {
        "id": "g5h7U_DRGFyB"
      },
      "source": [
        "# get all of the positive abd negative money flow\n",
        "positive_flow = []\n",
        "negative_flow = []"
      ],
      "execution_count": null,
      "outputs": []
    },
    {
      "cell_type": "code",
      "metadata": {
        "id": "9a_NlPl2GOVf"
      },
      "source": [
        "# loop through the typical_price\n",
        "for i in range(period-1, len(typical_price)):\n",
        "    if typical_price[i] > typical_price[i-1]:\n",
        "        positive_flow.append(money_flow[i-1])\n",
        "        negative_flow.append(0)\n",
        "    elif typical_price[i] < typical_price[i-1]:\n",
        "        negative_flow.append(money_flow[i-1])\n",
        "        positive_flow.append(0)\n",
        "    else:\n",
        "        positive_flow.append(0)\n",
        "        negative_flow.append(0)\n"
      ],
      "execution_count": null,
      "outputs": []
    },
    {
      "cell_type": "code",
      "metadata": {
        "id": "xmbDzrsNGOiw"
      },
      "source": [
        "# get all of the positive and negative money flows within period\n",
        "        \n",
        "positive_mf = []\n",
        "negative_mf = []"
      ],
      "execution_count": null,
      "outputs": []
    },
    {
      "cell_type": "code",
      "metadata": {
        "id": "JdkJzTMWGOu2"
      },
      "source": [
        "for i in range(period-1, len(positive_flow)):\n",
        "    positive_mf.append( sum(positive_flow[ i + 1 - period : i+1]) )\n",
        "for i in range(period-1, len(negative_flow)):\n",
        "    negative_mf.append( sum(negative_flow[ i + 1 - period : i+1]) )\n"
      ],
      "execution_count": null,
      "outputs": []
    },
    {
      "cell_type": "code",
      "metadata": {
        "id": "VXkp8x1AGY7M",
        "outputId": "294a1f7e-1ffb-4249-eb17-be067b3d46db",
        "colab": {
          "base_uri": "https://localhost:8080/",
          "height": 51
        }
      },
      "source": [
        "# calculate the money flow index\n",
        "mfi = 100 * (np.array(positive_mf) / (np.array(positive_mf) + np.array(negative_mf) ))\n",
        "mfi"
      ],
      "execution_count": null,
      "outputs": [
        {
          "output_type": "execute_result",
          "data": {
            "text/plain": [
              "array([100.        ,  41.07517715,  46.29545457, ..., 100.        ,\n",
              "        49.68423088,  49.54970768])"
            ]
          },
          "metadata": {
            "tags": []
          },
          "execution_count": 44
        }
      ]
    },
    {
      "cell_type": "code",
      "metadata": {
        "id": "FFm5oJAIGbcf",
        "outputId": "74330eba-6412-4140-f564-7c9558f4c19d",
        "colab": {
          "base_uri": "https://localhost:8080/",
          "height": 419
        }
      },
      "source": [
        "# visulaizing the MFI\n",
        "\n",
        "df2 = pd.DataFrame()\n",
        "df2['MFI'] = mfi\n",
        "df2"
      ],
      "execution_count": null,
      "outputs": [
        {
          "output_type": "execute_result",
          "data": {
            "text/html": [
              "<div>\n",
              "<style scoped>\n",
              "    .dataframe tbody tr th:only-of-type {\n",
              "        vertical-align: middle;\n",
              "    }\n",
              "\n",
              "    .dataframe tbody tr th {\n",
              "        vertical-align: top;\n",
              "    }\n",
              "\n",
              "    .dataframe thead th {\n",
              "        text-align: right;\n",
              "    }\n",
              "</style>\n",
              "<table border=\"1\" class=\"dataframe\">\n",
              "  <thead>\n",
              "    <tr style=\"text-align: right;\">\n",
              "      <th></th>\n",
              "      <th>MFI</th>\n",
              "    </tr>\n",
              "  </thead>\n",
              "  <tbody>\n",
              "    <tr>\n",
              "      <th>0</th>\n",
              "      <td>100.000000</td>\n",
              "    </tr>\n",
              "    <tr>\n",
              "      <th>1</th>\n",
              "      <td>41.075177</td>\n",
              "    </tr>\n",
              "    <tr>\n",
              "      <th>2</th>\n",
              "      <td>46.295455</td>\n",
              "    </tr>\n",
              "    <tr>\n",
              "      <th>3</th>\n",
              "      <td>100.000000</td>\n",
              "    </tr>\n",
              "    <tr>\n",
              "      <th>4</th>\n",
              "      <td>44.484210</td>\n",
              "    </tr>\n",
              "    <tr>\n",
              "      <th>...</th>\n",
              "      <td>...</td>\n",
              "    </tr>\n",
              "    <tr>\n",
              "      <th>1474</th>\n",
              "      <td>47.404501</td>\n",
              "    </tr>\n",
              "    <tr>\n",
              "      <th>1475</th>\n",
              "      <td>100.000000</td>\n",
              "    </tr>\n",
              "    <tr>\n",
              "      <th>1476</th>\n",
              "      <td>100.000000</td>\n",
              "    </tr>\n",
              "    <tr>\n",
              "      <th>1477</th>\n",
              "      <td>49.684231</td>\n",
              "    </tr>\n",
              "    <tr>\n",
              "      <th>1478</th>\n",
              "      <td>49.549708</td>\n",
              "    </tr>\n",
              "  </tbody>\n",
              "</table>\n",
              "<p>1479 rows × 1 columns</p>\n",
              "</div>"
            ],
            "text/plain": [
              "             MFI\n",
              "0     100.000000\n",
              "1      41.075177\n",
              "2      46.295455\n",
              "3     100.000000\n",
              "4      44.484210\n",
              "...          ...\n",
              "1474   47.404501\n",
              "1475  100.000000\n",
              "1476  100.000000\n",
              "1477   49.684231\n",
              "1478   49.549708\n",
              "\n",
              "[1479 rows x 1 columns]"
            ]
          },
          "metadata": {
            "tags": []
          },
          "execution_count": 46
        }
      ]
    },
    {
      "cell_type": "code",
      "metadata": {
        "id": "IiILO4op8npz"
      },
      "source": [
        "new_row1 = pd.DataFrame({'MFI' : 76.413629}, index = [0])\n",
        "new_row2 = pd.DataFrame({'MFI' : 76.413629}, index = [1])\n",
        "new_row3 = pd.DataFrame({'MFI' : 76.413629}, index = [2])\n",
        "new_row4 = pd.DataFrame({'MFI' : 76.413629}, index = [3])\n",
        "new_row5 = pd.DataFrame({'MFI' : 76.413629}, index = [4])\n",
        "new_row6 = pd.DataFrame({'MFI' : 76.413629}, index = [5])\n",
        "new_row7 = pd.DataFrame({'MFI' : 76.413629}, index = [6])\n",
        "new_row8 = pd.DataFrame({'MFI' : 76.413629}, index = [7])\n",
        "new_row9 = pd.DataFrame({'MFI' : 76.413629}, index = [8])\n",
        "new_row10 = pd.DataFrame({'MFI' : 76.413629}, index = [9])\n",
        "new_row11 = pd.DataFrame({'MFI' : 76.413629}, index = [10])\n"
      ],
      "execution_count": null,
      "outputs": []
    },
    {
      "cell_type": "code",
      "metadata": {
        "id": "409hK5nOWpvK"
      },
      "source": [
        "df2 = pd.concat([new_row1, df2]).reset_index(drop = True)\n",
        "df2 = pd.concat([new_row2, df2]).reset_index(drop = True)\n",
        "df2 = pd.concat([new_row3, df2]).reset_index(drop = True)\n",
        "df2 = pd.concat([new_row4, df2]).reset_index(drop = True)\n",
        "df2 = pd.concat([new_row5, df2]).reset_index(drop = True)\n",
        "df2 = pd.concat([new_row6, df2]).reset_index(drop = True)\n",
        "df2 = pd.concat([new_row7, df2]).reset_index(drop = True)\n",
        "df2 = pd.concat([new_row8, df2]).reset_index(drop = True)\n",
        "df2 = pd.concat([new_row9, df2]).reset_index(drop = True)\n",
        "df2 = pd.concat([new_row10, df2]).reset_index(drop = True)\n",
        "df2 = pd.concat([new_row11, df2]).reset_index(drop = True)"
      ],
      "execution_count": null,
      "outputs": []
    },
    {
      "cell_type": "code",
      "metadata": {
        "id": "93aWtsmhY-5v"
      },
      "source": [
        "new_row12 = pd.DataFrame({'MFI' : 76.413629}, index = [11])\n",
        "df2 = pd.concat([new_row12, df2]).reset_index(drop = True)"
      ],
      "execution_count": null,
      "outputs": []
    },
    {
      "cell_type": "code",
      "metadata": {
        "id": "Joq-xwtFXXh3",
        "outputId": "1bf090bc-1a2a-4801-b679-e804522d24ea",
        "colab": {
          "base_uri": "https://localhost:8080/",
          "height": 419
        }
      },
      "source": [
        "df2"
      ],
      "execution_count": null,
      "outputs": [
        {
          "output_type": "execute_result",
          "data": {
            "text/html": [
              "<div>\n",
              "<style scoped>\n",
              "    .dataframe tbody tr th:only-of-type {\n",
              "        vertical-align: middle;\n",
              "    }\n",
              "\n",
              "    .dataframe tbody tr th {\n",
              "        vertical-align: top;\n",
              "    }\n",
              "\n",
              "    .dataframe thead th {\n",
              "        text-align: right;\n",
              "    }\n",
              "</style>\n",
              "<table border=\"1\" class=\"dataframe\">\n",
              "  <thead>\n",
              "    <tr style=\"text-align: right;\">\n",
              "      <th></th>\n",
              "      <th>MFI</th>\n",
              "    </tr>\n",
              "  </thead>\n",
              "  <tbody>\n",
              "    <tr>\n",
              "      <th>0</th>\n",
              "      <td>100.000000</td>\n",
              "    </tr>\n",
              "    <tr>\n",
              "      <th>1</th>\n",
              "      <td>41.075177</td>\n",
              "    </tr>\n",
              "    <tr>\n",
              "      <th>2</th>\n",
              "      <td>46.295455</td>\n",
              "    </tr>\n",
              "    <tr>\n",
              "      <th>3</th>\n",
              "      <td>100.000000</td>\n",
              "    </tr>\n",
              "    <tr>\n",
              "      <th>4</th>\n",
              "      <td>44.484210</td>\n",
              "    </tr>\n",
              "    <tr>\n",
              "      <th>...</th>\n",
              "      <td>...</td>\n",
              "    </tr>\n",
              "    <tr>\n",
              "      <th>1474</th>\n",
              "      <td>47.404501</td>\n",
              "    </tr>\n",
              "    <tr>\n",
              "      <th>1475</th>\n",
              "      <td>100.000000</td>\n",
              "    </tr>\n",
              "    <tr>\n",
              "      <th>1476</th>\n",
              "      <td>100.000000</td>\n",
              "    </tr>\n",
              "    <tr>\n",
              "      <th>1477</th>\n",
              "      <td>49.684231</td>\n",
              "    </tr>\n",
              "    <tr>\n",
              "      <th>1478</th>\n",
              "      <td>49.549708</td>\n",
              "    </tr>\n",
              "  </tbody>\n",
              "</table>\n",
              "<p>1479 rows × 1 columns</p>\n",
              "</div>"
            ],
            "text/plain": [
              "             MFI\n",
              "0     100.000000\n",
              "1      41.075177\n",
              "2      46.295455\n",
              "3     100.000000\n",
              "4      44.484210\n",
              "...          ...\n",
              "1474   47.404501\n",
              "1475  100.000000\n",
              "1476  100.000000\n",
              "1477   49.684231\n",
              "1478   49.549708\n",
              "\n",
              "[1479 rows x 1 columns]"
            ]
          },
          "metadata": {
            "tags": []
          },
          "execution_count": 47
        }
      ]
    },
    {
      "cell_type": "code",
      "metadata": {
        "id": "ZtK-1aQIGbq1",
        "outputId": "398b6a7a-200d-45af-b4eb-2840f8d110fe",
        "colab": {
          "base_uri": "https://localhost:8080/",
          "height": 279
        }
      },
      "source": [
        "# create the plot\n",
        "plt.figure(figsize=(12, 4))\n",
        "plt.plot(df2['MFI'], label = 'MFI')\n",
        "plt.title('MFI')\n",
        "plt.axhline(10, linestyle = '--', color = 'orange')\n",
        "plt.axhline(20, linestyle = '--', color = 'blue')\n",
        "plt.axhline(80, linestyle = '--', color = 'blue')\n",
        "plt.axhline(90, linestyle = '--', color = 'orange')\n",
        "plt.ylabel('MFI Values')\n",
        "plt.show()"
      ],
      "execution_count": null,
      "outputs": [
        {
          "output_type": "display_data",
          "data": {
            "image/png": "[encoded data removed]",
            "text/plain": [
              "<Figure size 864x288 with 1 Axes>"
            ]
          },
          "metadata": {
            "tags": [],
            "needs_background": "light"
          }
        }
      ]
    },
    {
      "cell_type": "code",
      "metadata": {
        "id": "hToeOKg_GZGo"
      },
      "source": [
        "# create a new dataframe\n",
        "new_df = pd.DataFrame()\n",
        "new_df = df[period:]\n",
        "new_df['MFI'] = mfi"
      ],
      "execution_count": null,
      "outputs": []
    },
    {
      "cell_type": "code",
      "metadata": {
        "id": "xyYmIl6FGhQK",
        "outputId": "398fcb03-6dae-4726-b6af-1bc05a8c78e5",
        "colab": {
          "base_uri": "https://localhost:8080/",
          "height": 419
        }
      },
      "source": [
        "# show the new dataframe\n",
        "new_df"
      ],
      "execution_count": null,
      "outputs": [
        {
          "output_type": "execute_result",
          "data": {
            "text/html": [
              "<div>\n",
              "<style scoped>\n",
              "    .dataframe tbody tr th:only-of-type {\n",
              "        vertical-align: middle;\n",
              "    }\n",
              "\n",
              "    .dataframe tbody tr th {\n",
              "        vertical-align: top;\n",
              "    }\n",
              "\n",
              "    .dataframe thead th {\n",
              "        text-align: right;\n",
              "    }\n",
              "</style>\n",
              "<table border=\"1\" class=\"dataframe\">\n",
              "  <thead>\n",
              "    <tr style=\"text-align: right;\">\n",
              "      <th></th>\n",
              "      <th>Date</th>\n",
              "      <th>Open</th>\n",
              "      <th>High</th>\n",
              "      <th>Low</th>\n",
              "      <th>Close</th>\n",
              "      <th>z-score</th>\n",
              "      <th>Volume</th>\n",
              "      <th>Turnover (Rs. Cr)</th>\n",
              "      <th>MFI</th>\n",
              "    </tr>\n",
              "  </thead>\n",
              "  <tbody>\n",
              "    <tr>\n",
              "      <th>2014-10-09</th>\n",
              "      <td>9-Oct-14</td>\n",
              "      <td>15434.35</td>\n",
              "      <td>15795.65</td>\n",
              "      <td>15434.35</td>\n",
              "      <td>15741.20</td>\n",
              "      <td>-1.45</td>\n",
              "      <td>27780819</td>\n",
              "      <td>1784.65</td>\n",
              "      <td>100.000000</td>\n",
              "    </tr>\n",
              "    <tr>\n",
              "      <th>2014-10-10</th>\n",
              "      <td>10-Oct-14</td>\n",
              "      <td>15603.45</td>\n",
              "      <td>15628.75</td>\n",
              "      <td>15439.35</td>\n",
              "      <td>15453.80</td>\n",
              "      <td>-1.51</td>\n",
              "      <td>24179823</td>\n",
              "      <td>1362.02</td>\n",
              "      <td>41.075177</td>\n",
              "    </tr>\n",
              "    <tr>\n",
              "      <th>2014-10-13</th>\n",
              "      <td>13-Oct-14</td>\n",
              "      <td>15360.70</td>\n",
              "      <td>15705.70</td>\n",
              "      <td>15301.65</td>\n",
              "      <td>15677.50</td>\n",
              "      <td>-1.47</td>\n",
              "      <td>26082820</td>\n",
              "      <td>1597.67</td>\n",
              "      <td>46.295455</td>\n",
              "    </tr>\n",
              "    <tr>\n",
              "      <th>2014-10-14</th>\n",
              "      <td>14-Oct-14</td>\n",
              "      <td>15790.95</td>\n",
              "      <td>15843.70</td>\n",
              "      <td>15560.25</td>\n",
              "      <td>15751.55</td>\n",
              "      <td>-1.45</td>\n",
              "      <td>32225926</td>\n",
              "      <td>1864.61</td>\n",
              "      <td>100.000000</td>\n",
              "    </tr>\n",
              "    <tr>\n",
              "      <th>2014-10-16</th>\n",
              "      <td>16-Oct-14</td>\n",
              "      <td>15690.35</td>\n",
              "      <td>15836.15</td>\n",
              "      <td>15477.05</td>\n",
              "      <td>15541.60</td>\n",
              "      <td>-1.49</td>\n",
              "      <td>30855086</td>\n",
              "      <td>2004.6</td>\n",
              "      <td>44.484210</td>\n",
              "    </tr>\n",
              "    <tr>\n",
              "      <th>...</th>\n",
              "      <td>...</td>\n",
              "      <td>...</td>\n",
              "      <td>...</td>\n",
              "      <td>...</td>\n",
              "      <td>...</td>\n",
              "      <td>...</td>\n",
              "      <td>...</td>\n",
              "      <td>...</td>\n",
              "      <td>...</td>\n",
              "    </tr>\n",
              "    <tr>\n",
              "      <th>2020-09-25</th>\n",
              "      <td>25-Sep-20</td>\n",
              "      <td>20740.80</td>\n",
              "      <td>21064.30</td>\n",
              "      <td>20430.70</td>\n",
              "      <td>20982.35</td>\n",
              "      <td>-0.36</td>\n",
              "      <td>280646576</td>\n",
              "      <td>5902.57</td>\n",
              "      <td>47.404501</td>\n",
              "    </tr>\n",
              "    <tr>\n",
              "      <th>2020-09-28</th>\n",
              "      <td>28-Sep-20</td>\n",
              "      <td>21152.05</td>\n",
              "      <td>21708.85</td>\n",
              "      <td>21055.10</td>\n",
              "      <td>21665.50</td>\n",
              "      <td>-0.22</td>\n",
              "      <td>240223120</td>\n",
              "      <td>5550.96</td>\n",
              "      <td>100.000000</td>\n",
              "    </tr>\n",
              "    <tr>\n",
              "      <th>2020-09-29</th>\n",
              "      <td>29-Sep-20</td>\n",
              "      <td>21770.90</td>\n",
              "      <td>21811.50</td>\n",
              "      <td>21280.60</td>\n",
              "      <td>21411.30</td>\n",
              "      <td>-0.27</td>\n",
              "      <td>242993739</td>\n",
              "      <td>5129.99</td>\n",
              "      <td>100.000000</td>\n",
              "    </tr>\n",
              "    <tr>\n",
              "      <th>2020-09-30</th>\n",
              "      <td>30-Sep-20</td>\n",
              "      <td>21405.25</td>\n",
              "      <td>21549.35</td>\n",
              "      <td>21128.50</td>\n",
              "      <td>21451.80</td>\n",
              "      <td>-0.26</td>\n",
              "      <td>240051659</td>\n",
              "      <td>5310.13</td>\n",
              "      <td>49.684231</td>\n",
              "    </tr>\n",
              "    <tr>\n",
              "      <th>2020-10-01</th>\n",
              "      <td>1-Oct-20</td>\n",
              "      <td>21685.25</td>\n",
              "      <td>22293.75</td>\n",
              "      <td>21664.15</td>\n",
              "      <td>22246.00</td>\n",
              "      <td>-0.10</td>\n",
              "      <td>348728050</td>\n",
              "      <td>8207.06</td>\n",
              "      <td>49.549708</td>\n",
              "    </tr>\n",
              "  </tbody>\n",
              "</table>\n",
              "<p>1479 rows × 9 columns</p>\n",
              "</div>"
            ],
            "text/plain": [
              "                 Date      Open  ...  Turnover (Rs. Cr)         MFI\n",
              "2014-10-09   9-Oct-14  15434.35  ...            1784.65  100.000000\n",
              "2014-10-10  10-Oct-14  15603.45  ...            1362.02   41.075177\n",
              "2014-10-13  13-Oct-14  15360.70  ...            1597.67   46.295455\n",
              "2014-10-14  14-Oct-14  15790.95  ...            1864.61  100.000000\n",
              "2014-10-16  16-Oct-14  15690.35  ...             2004.6   44.484210\n",
              "...               ...       ...  ...                ...         ...\n",
              "2020-09-25  25-Sep-20  20740.80  ...            5902.57   47.404501\n",
              "2020-09-28  28-Sep-20  21152.05  ...            5550.96  100.000000\n",
              "2020-09-29  29-Sep-20  21770.90  ...            5129.99  100.000000\n",
              "2020-09-30  30-Sep-20  21405.25  ...            5310.13   49.684231\n",
              "2020-10-01   1-Oct-20  21685.25  ...            8207.06   49.549708\n",
              "\n",
              "[1479 rows x 9 columns]"
            ]
          },
          "metadata": {
            "tags": []
          },
          "execution_count": 51
        }
      ]
    },
    {
      "cell_type": "code",
      "metadata": {
        "id": "ryvN2vuHGhdc"
      },
      "source": [
        "# create a function to get the buy and sell signal\n",
        "def get_signal(data, high, low):\n",
        "    buy_signal = []\n",
        "    sell_signal = []\n",
        "    \n",
        "    for i in range(period-1, len(data['MFI'])):\n",
        "        if data['MFI'][i] > high:\n",
        "            buy_signal.append(np.nan)\n",
        "            sell_signal.append(data['Close'][i])\n",
        "        elif data['MFI'][i] < low:\n",
        "            buy_signal.append(data['Close'][i])\n",
        "            sell_signal.append(np.nan)\n",
        "        else:\n",
        "            sell_signal.append(np.nan)\n",
        "            buy_signal.append(np.nan)\n",
        "            \n",
        "        return (buy_signal, sell_signal)\n"
      ],
      "execution_count": null,
      "outputs": []
    },
    {
      "cell_type": "code",
      "metadata": {
        "id": "4ZCspvYaGoyI",
        "outputId": "06bfc3a8-a88a-4913-a46c-b122e56bc76e",
        "colab": {
          "base_uri": "https://localhost:8080/",
          "height": 357
        }
      },
      "source": [
        "# add new columns (Buy & Sell)\n",
        "new_df['Buy'] = get_signal(new_df, 80, 20)[0]\n",
        "new_df['Sell'] = get_signal(new_df, 80, 20)[1]\n",
        "new_df"
      ],
      "execution_count": null,
      "outputs": [
        {
          "output_type": "error",
          "ename": "ValueError",
          "evalue": "ignored",
          "traceback": [
            "\u001b[0;31m---------------------------------------------------------------------------\u001b[0m",
            "\u001b[0;31mValueError\u001b[0m                                Traceback (most recent call last)",
            "\u001b[0;32m<ipython-input-59-08da1f3f30b7>\u001b[0m in \u001b[0;36m<module>\u001b[0;34m()\u001b[0m\n\u001b[1;32m      1\u001b[0m \u001b[0;31m# add new columns (Buy & Sell)\u001b[0m\u001b[0;34m\u001b[0m\u001b[0;34m\u001b[0m\u001b[0;34m\u001b[0m\u001b[0m\n\u001b[0;32m----> 2\u001b[0;31m \u001b[0mnew_df\u001b[0m\u001b[0;34m[\u001b[0m\u001b[0;34m'Buy'\u001b[0m\u001b[0;34m]\u001b[0m \u001b[0;34m=\u001b[0m \u001b[0mget_signal\u001b[0m\u001b[0;34m(\u001b[0m\u001b[0mnew_df\u001b[0m\u001b[0;34m,\u001b[0m \u001b[0;36m80\u001b[0m\u001b[0;34m,\u001b[0m \u001b[0;36m20\u001b[0m\u001b[0;34m)\u001b[0m\u001b[0;34m[\u001b[0m\u001b[0;36m0\u001b[0m\u001b[0;34m]\u001b[0m\u001b[0;34m\u001b[0m\u001b[0;34m\u001b[0m\u001b[0m\n\u001b[0m\u001b[1;32m      3\u001b[0m \u001b[0mnew_df\u001b[0m\u001b[0;34m[\u001b[0m\u001b[0;34m'Sell'\u001b[0m\u001b[0;34m]\u001b[0m \u001b[0;34m=\u001b[0m \u001b[0mget_signal\u001b[0m\u001b[0;34m(\u001b[0m\u001b[0mnew_df\u001b[0m\u001b[0;34m,\u001b[0m \u001b[0;36m80\u001b[0m\u001b[0;34m,\u001b[0m \u001b[0;36m20\u001b[0m\u001b[0;34m)\u001b[0m\u001b[0;34m[\u001b[0m\u001b[0;36m1\u001b[0m\u001b[0;34m]\u001b[0m\u001b[0;34m\u001b[0m\u001b[0;34m\u001b[0m\u001b[0m\n\u001b[1;32m      4\u001b[0m \u001b[0mnew_df\u001b[0m\u001b[0;34m\u001b[0m\u001b[0;34m\u001b[0m\u001b[0m\n",
            "\u001b[0;32m/usr/local/lib/python3.6/dist-packages/pandas/core/frame.py\u001b[0m in \u001b[0;36m__setitem__\u001b[0;34m(self, key, value)\u001b[0m\n\u001b[1;32m   3038\u001b[0m         \u001b[0;32melse\u001b[0m\u001b[0;34m:\u001b[0m\u001b[0;34m\u001b[0m\u001b[0;34m\u001b[0m\u001b[0m\n\u001b[1;32m   3039\u001b[0m             \u001b[0;31m# set column\u001b[0m\u001b[0;34m\u001b[0m\u001b[0;34m\u001b[0m\u001b[0;34m\u001b[0m\u001b[0m\n\u001b[0;32m-> 3040\u001b[0;31m             \u001b[0mself\u001b[0m\u001b[0;34m.\u001b[0m\u001b[0m_set_item\u001b[0m\u001b[0;34m(\u001b[0m\u001b[0mkey\u001b[0m\u001b[0;34m,\u001b[0m \u001b[0mvalue\u001b[0m\u001b[0;34m)\u001b[0m\u001b[0;34m\u001b[0m\u001b[0;34m\u001b[0m\u001b[0m\n\u001b[0m\u001b[1;32m   3041\u001b[0m \u001b[0;34m\u001b[0m\u001b[0m\n\u001b[1;32m   3042\u001b[0m     \u001b[0;32mdef\u001b[0m \u001b[0m_setitem_slice\u001b[0m\u001b[0;34m(\u001b[0m\u001b[0mself\u001b[0m\u001b[0;34m,\u001b[0m \u001b[0mkey\u001b[0m\u001b[0;34m:\u001b[0m \u001b[0mslice\u001b[0m\u001b[0;34m,\u001b[0m \u001b[0mvalue\u001b[0m\u001b[0;34m)\u001b[0m\u001b[0;34m:\u001b[0m\u001b[0;34m\u001b[0m\u001b[0;34m\u001b[0m\u001b[0m\n",
            "\u001b[0;32m/usr/local/lib/python3.6/dist-packages/pandas/core/frame.py\u001b[0m in \u001b[0;36m_set_item\u001b[0;34m(self, key, value)\u001b[0m\n\u001b[1;32m   3114\u001b[0m         \"\"\"\n\u001b[1;32m   3115\u001b[0m         \u001b[0mself\u001b[0m\u001b[0;34m.\u001b[0m\u001b[0m_ensure_valid_index\u001b[0m\u001b[0;34m(\u001b[0m\u001b[0mvalue\u001b[0m\u001b[0;34m)\u001b[0m\u001b[0;34m\u001b[0m\u001b[0;34m\u001b[0m\u001b[0m\n\u001b[0;32m-> 3116\u001b[0;31m         \u001b[0mvalue\u001b[0m \u001b[0;34m=\u001b[0m \u001b[0mself\u001b[0m\u001b[0;34m.\u001b[0m\u001b[0m_sanitize_column\u001b[0m\u001b[0;34m(\u001b[0m\u001b[0mkey\u001b[0m\u001b[0;34m,\u001b[0m \u001b[0mvalue\u001b[0m\u001b[0;34m)\u001b[0m\u001b[0;34m\u001b[0m\u001b[0;34m\u001b[0m\u001b[0m\n\u001b[0m\u001b[1;32m   3117\u001b[0m         \u001b[0mNDFrame\u001b[0m\u001b[0;34m.\u001b[0m\u001b[0m_set_item\u001b[0m\u001b[0;34m(\u001b[0m\u001b[0mself\u001b[0m\u001b[0;34m,\u001b[0m \u001b[0mkey\u001b[0m\u001b[0;34m,\u001b[0m \u001b[0mvalue\u001b[0m\u001b[0;34m)\u001b[0m\u001b[0;34m\u001b[0m\u001b[0;34m\u001b[0m\u001b[0m\n\u001b[1;32m   3118\u001b[0m \u001b[0;34m\u001b[0m\u001b[0m\n",
            "\u001b[0;32m/usr/local/lib/python3.6/dist-packages/pandas/core/frame.py\u001b[0m in \u001b[0;36m_sanitize_column\u001b[0;34m(self, key, value, broadcast)\u001b[0m\n\u001b[1;32m   3761\u001b[0m \u001b[0;34m\u001b[0m\u001b[0m\n\u001b[1;32m   3762\u001b[0m             \u001b[0;31m# turn me into an ndarray\u001b[0m\u001b[0;34m\u001b[0m\u001b[0;34m\u001b[0m\u001b[0;34m\u001b[0m\u001b[0m\n\u001b[0;32m-> 3763\u001b[0;31m             \u001b[0mvalue\u001b[0m \u001b[0;34m=\u001b[0m \u001b[0msanitize_index\u001b[0m\u001b[0;34m(\u001b[0m\u001b[0mvalue\u001b[0m\u001b[0;34m,\u001b[0m \u001b[0mself\u001b[0m\u001b[0;34m.\u001b[0m\u001b[0mindex\u001b[0m\u001b[0;34m)\u001b[0m\u001b[0;34m\u001b[0m\u001b[0;34m\u001b[0m\u001b[0m\n\u001b[0m\u001b[1;32m   3764\u001b[0m             \u001b[0;32mif\u001b[0m \u001b[0;32mnot\u001b[0m \u001b[0misinstance\u001b[0m\u001b[0;34m(\u001b[0m\u001b[0mvalue\u001b[0m\u001b[0;34m,\u001b[0m \u001b[0;34m(\u001b[0m\u001b[0mnp\u001b[0m\u001b[0;34m.\u001b[0m\u001b[0mndarray\u001b[0m\u001b[0;34m,\u001b[0m \u001b[0mIndex\u001b[0m\u001b[0;34m)\u001b[0m\u001b[0;34m)\u001b[0m\u001b[0;34m:\u001b[0m\u001b[0;34m\u001b[0m\u001b[0;34m\u001b[0m\u001b[0m\n\u001b[1;32m   3765\u001b[0m                 \u001b[0;32mif\u001b[0m \u001b[0misinstance\u001b[0m\u001b[0;34m(\u001b[0m\u001b[0mvalue\u001b[0m\u001b[0;34m,\u001b[0m \u001b[0mlist\u001b[0m\u001b[0;34m)\u001b[0m \u001b[0;32mand\u001b[0m \u001b[0mlen\u001b[0m\u001b[0;34m(\u001b[0m\u001b[0mvalue\u001b[0m\u001b[0;34m)\u001b[0m \u001b[0;34m>\u001b[0m \u001b[0;36m0\u001b[0m\u001b[0;34m:\u001b[0m\u001b[0;34m\u001b[0m\u001b[0;34m\u001b[0m\u001b[0m\n",
            "\u001b[0;32m/usr/local/lib/python3.6/dist-packages/pandas/core/internals/construction.py\u001b[0m in \u001b[0;36msanitize_index\u001b[0;34m(data, index)\u001b[0m\n\u001b[1;32m    746\u001b[0m     \u001b[0;32mif\u001b[0m \u001b[0mlen\u001b[0m\u001b[0;34m(\u001b[0m\u001b[0mdata\u001b[0m\u001b[0;34m)\u001b[0m \u001b[0;34m!=\u001b[0m \u001b[0mlen\u001b[0m\u001b[0;34m(\u001b[0m\u001b[0mindex\u001b[0m\u001b[0;34m)\u001b[0m\u001b[0;34m:\u001b[0m\u001b[0;34m\u001b[0m\u001b[0;34m\u001b[0m\u001b[0m\n\u001b[1;32m    747\u001b[0m         raise ValueError(\n\u001b[0;32m--> 748\u001b[0;31m             \u001b[0;34m\"Length of values \"\u001b[0m\u001b[0;34m\u001b[0m\u001b[0;34m\u001b[0m\u001b[0m\n\u001b[0m\u001b[1;32m    749\u001b[0m             \u001b[0;34mf\"({len(data)}) \"\u001b[0m\u001b[0;34m\u001b[0m\u001b[0;34m\u001b[0m\u001b[0m\n\u001b[1;32m    750\u001b[0m             \u001b[0;34m\"does not match length of index \"\u001b[0m\u001b[0;34m\u001b[0m\u001b[0;34m\u001b[0m\u001b[0m\n",
            "\u001b[0;31mValueError\u001b[0m: Length of values (1) does not match length of index (1479)"
          ]
        }
      ]
    },
    {
      "cell_type": "code",
      "metadata": {
        "id": "TG6oYLSoGpAP"
      },
      "source": [
        "#plot the data\n",
        "plt.figure(figsize=(12.2, 4.5))\n",
        "plt.plot(new_df['Close'], label = 'Close Price', alpha = 0.5)\n",
        "plt.scatter(new_df.index, new_df['Buy'], color = 'green', label = 'Buy Signal', marker = '^', alpha = 1)\n",
        "plt.scatter(new_df.index, new_df['Sell'], color = 'red', label = 'Sell Signal', marker = 'v', alpha = 1)\n",
        "plt.title('Bank Nifty Price')\n",
        "plt.xlabel('Date')\n",
        "plt.ylabel('Close Price in Rs.')\n",
        "plt.legend(loc='upper left')\n",
        "plt.show()"
      ],
      "execution_count": null,
      "outputs": []
    }
  ]
}
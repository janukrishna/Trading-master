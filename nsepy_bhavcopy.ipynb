{
  "nbformat": 4,
  "nbformat_minor": 0,
  "metadata": {
    "colab": {
      "name": "nsepy_bhavcopy.ipynb",
      "provenance": [],
      "authorship_tag": "ABX9TyPyeTe3piMUhEdWj0B3Z8re",
      "include_colab_link": true
    },
    "kernelspec": {
      "name": "python3",
      "display_name": "Python 3"
    }
  },
  "cells": [
    {
      "cell_type": "markdown",
      "metadata": {
        "id": "view-in-github",
        "colab_type": "text"
      },
      "source": [
        "<a href=\"https://colab.research.google.com/github/anvy87/AlgoTrading/blob/master/nsepy_bhavcopy.ipynb\" target=\"_parent\"><img src=\"https://colab.research.google.com/assets/colab-badge.svg\" alt=\"Open In Colab\"/></a>"
      ]
    },
    {
      "cell_type": "code",
      "metadata": {
        "colab": {
          "base_uri": "https://localhost:8080/"
        },
        "id": "FAG1_dclQfO9",
        "outputId": "d0ce004a-03d1-4c65-f56f-0566803b30d0"
      },
      "source": [
        "pip install nsepy"
      ],
      "execution_count": 1,
      "outputs": [
        {
          "output_type": "stream",
          "text": [
            "Collecting nsepy\n",
            "  Downloading https://files.pythonhosted.org/packages/89/52/2e9f0de0c687ad181f17e0783319d31d66869c410793c5b94dc6cd4b3db2/nsepy-0.8.tar.gz\n",
            "Requirement already satisfied: beautifulsoup4 in /usr/local/lib/python3.6/dist-packages (from nsepy) (4.6.3)\n",
            "Requirement already satisfied: requests in /usr/local/lib/python3.6/dist-packages (from nsepy) (2.23.0)\n",
            "Requirement already satisfied: numpy in /usr/local/lib/python3.6/dist-packages (from nsepy) (1.19.4)\n",
            "Requirement already satisfied: pandas in /usr/local/lib/python3.6/dist-packages (from nsepy) (1.1.5)\n",
            "Requirement already satisfied: six in /usr/local/lib/python3.6/dist-packages (from nsepy) (1.15.0)\n",
            "Requirement already satisfied: click in /usr/local/lib/python3.6/dist-packages (from nsepy) (7.1.2)\n",
            "Requirement already satisfied: lxml in /usr/local/lib/python3.6/dist-packages (from nsepy) (4.2.6)\n",
            "Requirement already satisfied: urllib3!=1.25.0,!=1.25.1,<1.26,>=1.21.1 in /usr/local/lib/python3.6/dist-packages (from requests->nsepy) (1.24.3)\n",
            "Requirement already satisfied: idna<3,>=2.5 in /usr/local/lib/python3.6/dist-packages (from requests->nsepy) (2.10)\n",
            "Requirement already satisfied: certifi>=2017.4.17 in /usr/local/lib/python3.6/dist-packages (from requests->nsepy) (2020.12.5)\n",
            "Requirement already satisfied: chardet<4,>=3.0.2 in /usr/local/lib/python3.6/dist-packages (from requests->nsepy) (3.0.4)\n",
            "Requirement already satisfied: python-dateutil>=2.7.3 in /usr/local/lib/python3.6/dist-packages (from pandas->nsepy) (2.8.1)\n",
            "Requirement already satisfied: pytz>=2017.2 in /usr/local/lib/python3.6/dist-packages (from pandas->nsepy) (2018.9)\n",
            "Building wheels for collected packages: nsepy\n",
            "  Building wheel for nsepy (setup.py) ... \u001b[?25l\u001b[?25hdone\n",
            "  Created wheel for nsepy: filename=nsepy-0.8-cp36-none-any.whl size=36084 sha256=c8a0841380feaba23e75f97769b399cb86da1b2276024c5e53a395c356c02e70\n",
            "  Stored in directory: /root/.cache/pip/wheels/05/2c/72/5324e267426eea65dec0c21a12a48b15887c0cf686c7a8fe11\n",
            "Successfully built nsepy\n",
            "Installing collected packages: nsepy\n",
            "Successfully installed nsepy-0.8\n"
          ],
          "name": "stdout"
        }
      ]
    },
    {
      "cell_type": "code",
      "metadata": {
        "id": "FgO3Tg_FQn7S"
      },
      "source": [
        "from nsepy import get_history\r\n",
        "from datetime import date"
      ],
      "execution_count": 2,
      "outputs": []
    },
    {
      "cell_type": "code",
      "metadata": {
        "id": "6vuGnNAEQ1aX"
      },
      "source": [
        "from nsepy.history import get_price_list"
      ],
      "execution_count": 3,
      "outputs": []
    },
    {
      "cell_type": "code",
      "metadata": {
        "id": "bcAt9tMBVMTG"
      },
      "source": [
        "def get_delivery_position(dt, segment='EQ'):\r\n",
        "    MMM = dt.strftime(\"%b\").upper()\r\n",
        "    yyyy = dt.strftime(\"%Y\")\r\n",
        "\r\n",
        "    \"\"\"\r\n",
        "    1. ddmmyyyy\r\n",
        "    \"\"\"\r\n",
        "    res = daily_deliverypositions_url(dt.strftime(\"%d%m%Y\").upper())\r\n",
        "    text = res.content.decode()\r\n",
        "    fp = six.StringIO(text)\r\n",
        "\r\n",
        "    # The file starts with initial lines that just have text infomation\r\n",
        "    # e.g.\r\n",
        "    # Security Wise Delivery Position - Compulsory Rolling Settlement\r\n",
        "    # 10,MTO,19072019,471778636,0001790\r\n",
        "    # Trade Date <19-JUL-2019>,Settlement Type <N>\r\n",
        "\r\n",
        "    # Skip the initial lines till we get to the actual data\r\n",
        "\r\n",
        "    df = pd.read_csv(fp, names=[\"RECORD TYPE\", \"SR NO\", \"SYMBOL\", \"SEGMENT\", \"TRADE VOLUME\", \"TOTDELQTY\", \"PCT DEL TO TRADE\"],\r\n",
        "                     header=None, skiprows=4,\r\n",
        "                     usecols=[\"SYMBOL\", \"SEGMENT\", \"TRADE VOLUME\",\r\n",
        "                              \"TOTDELQTY\", \"PCT DEL TO TRADE\"]\r\n",
        "                     )\r\n",
        "    flsegment = df['SEGMENT'] == segment\r\n",
        "    df = df[flsegment]\r\n",
        "\r\n",
        "    return df"
      ],
      "execution_count": 28,
      "outputs": []
    },
    {
      "cell_type": "code",
      "metadata": {
        "id": "pP2pAqc3WT_D"
      },
      "source": [
        "from nsepy.commons import URLFetch\r\n",
        "from requests import Session\r\n",
        "from functools import partial\r\n",
        "from nsepy.constants import symbol_count, symbol_list"
      ],
      "execution_count": 17,
      "outputs": []
    },
    {
      "cell_type": "code",
      "metadata": {
        "id": "dHG7xcWfWaXR"
      },
      "source": [
        "session = Session()\r\n",
        "# headers = {\r\n",
        "    # 'Host': 'www1.nseindia.com',\r\n",
        "    # 'Referer': 'https://www1.nseindia.com/products/content/equities/equities/eq_security.htm'}\r\n",
        "\r\n",
        "headers = {'Accept': '*/*',\r\n",
        "           'Accept-Encoding': 'gzip, deflate, sdch, br',\r\n",
        "           'Accept-Language': 'en-GB,en-US;q=0.8,en;q=0.6',\r\n",
        "           'Connection': 'keep-alive',\r\n",
        "           'Host': 'www1.nseindia.com',\r\n",
        "           'User-Agent': 'Mozilla/5.0 (Windows NT 6.3; WOW64) AppleWebKit/537.36 (KHTML, like Gecko) Chrome/57.0.2987.133 Safari/537.36',\r\n",
        "           'X-Requested-With': 'XMLHttpRequest'}"
      ],
      "execution_count": 18,
      "outputs": []
    },
    {
      "cell_type": "code",
      "metadata": {
        "id": "NJnps0LfWcbQ"
      },
      "source": [
        "URLFetchSession = partial(URLFetch, session=session, headers=headers)"
      ],
      "execution_count": 23,
      "outputs": []
    },
    {
      "cell_type": "code",
      "metadata": {
        "id": "HJLU5LRiVQ2N"
      },
      "source": [
        "daily_deliverypositions_url = URLFetchSession(url='https://www1.nseindia.com/archives/equities/mto/MTO_%s.DAT')\r\n"
      ],
      "execution_count": 29,
      "outputs": []
    },
    {
      "cell_type": "code",
      "metadata": {
        "colab": {
          "base_uri": "https://localhost:8080/",
          "height": 301
        },
        "id": "H2o5FkhAR3QJ",
        "outputId": "50ee381e-159d-4033-e606-ea1ccc78b118"
      },
      "source": [
        "dlvry = get_delivery_position(dt=date(2021,1,1))"
      ],
      "execution_count": 30,
      "outputs": [
        {
          "output_type": "error",
          "ename": "NameError",
          "evalue": "ignored",
          "traceback": [
            "\u001b[0;31m---------------------------------------------------------------------------\u001b[0m",
            "\u001b[0;31mNameError\u001b[0m                                 Traceback (most recent call last)",
            "\u001b[0;32m<ipython-input-30-38e3d458fde2>\u001b[0m in \u001b[0;36m<module>\u001b[0;34m()\u001b[0m\n\u001b[0;32m----> 1\u001b[0;31m \u001b[0mdlvry\u001b[0m \u001b[0;34m=\u001b[0m \u001b[0mget_delivery_position\u001b[0m\u001b[0;34m(\u001b[0m\u001b[0mdt\u001b[0m\u001b[0;34m=\u001b[0m\u001b[0mdate\u001b[0m\u001b[0;34m(\u001b[0m\u001b[0;36m2021\u001b[0m\u001b[0;34m,\u001b[0m\u001b[0;36m1\u001b[0m\u001b[0;34m,\u001b[0m\u001b[0;36m1\u001b[0m\u001b[0;34m)\u001b[0m\u001b[0;34m)\u001b[0m\u001b[0;34m\u001b[0m\u001b[0;34m\u001b[0m\u001b[0m\n\u001b[0m",
            "\u001b[0;32m<ipython-input-28-ddb4b94a4a88>\u001b[0m in \u001b[0;36mget_delivery_position\u001b[0;34m(dt, segment)\u001b[0m\n\u001b[1;32m      8\u001b[0m     \u001b[0mres\u001b[0m \u001b[0;34m=\u001b[0m \u001b[0mdaily_deliverypositions_url\u001b[0m\u001b[0;34m(\u001b[0m\u001b[0mdt\u001b[0m\u001b[0;34m.\u001b[0m\u001b[0mstrftime\u001b[0m\u001b[0;34m(\u001b[0m\u001b[0;34m\"%d%m%Y\"\u001b[0m\u001b[0;34m)\u001b[0m\u001b[0;34m.\u001b[0m\u001b[0mupper\u001b[0m\u001b[0;34m(\u001b[0m\u001b[0;34m)\u001b[0m\u001b[0;34m)\u001b[0m\u001b[0;34m\u001b[0m\u001b[0;34m\u001b[0m\u001b[0m\n\u001b[1;32m      9\u001b[0m     \u001b[0mtext\u001b[0m \u001b[0;34m=\u001b[0m \u001b[0mres\u001b[0m\u001b[0;34m.\u001b[0m\u001b[0mcontent\u001b[0m\u001b[0;34m.\u001b[0m\u001b[0mdecode\u001b[0m\u001b[0;34m(\u001b[0m\u001b[0;34m)\u001b[0m\u001b[0;34m\u001b[0m\u001b[0;34m\u001b[0m\u001b[0m\n\u001b[0;32m---> 10\u001b[0;31m     \u001b[0mfp\u001b[0m \u001b[0;34m=\u001b[0m \u001b[0msix\u001b[0m\u001b[0;34m.\u001b[0m\u001b[0mStringIO\u001b[0m\u001b[0;34m(\u001b[0m\u001b[0mtext\u001b[0m\u001b[0;34m)\u001b[0m\u001b[0;34m\u001b[0m\u001b[0;34m\u001b[0m\u001b[0m\n\u001b[0m\u001b[1;32m     11\u001b[0m \u001b[0;34m\u001b[0m\u001b[0m\n\u001b[1;32m     12\u001b[0m     \u001b[0;31m# The file starts with initial lines that just have text infomation\u001b[0m\u001b[0;34m\u001b[0m\u001b[0;34m\u001b[0m\u001b[0;34m\u001b[0m\u001b[0m\n",
            "\u001b[0;31mNameError\u001b[0m: name 'six' is not defined"
          ]
        }
      ]
    },
    {
      "cell_type": "code",
      "metadata": {
        "id": "DZiWgNGLW7Ts"
      },
      "source": [
        "dlvry"
      ],
      "execution_count": 27,
      "outputs": []
    },
    {
      "cell_type": "code",
      "metadata": {
        "id": "s_qgbWeeRBi8"
      },
      "source": [
        "prices = get_price_list(dt=date(2021,1,1))"
      ],
      "execution_count": 11,
      "outputs": []
    },
    {
      "cell_type": "code",
      "metadata": {
        "id": "xjgoUbLbRNa2"
      },
      "source": [
        "prices.to_csv('bhavcopy.csv')"
      ],
      "execution_count": 5,
      "outputs": []
    },
    {
      "cell_type": "code",
      "metadata": {
        "colab": {
          "base_uri": "https://localhost:8080/",
          "height": 617
        },
        "id": "TuU1V0FqRpyW",
        "outputId": "67bbf53f-2305-4259-b98f-921a71ece72c"
      },
      "source": [
        "prices"
      ],
      "execution_count": 12,
      "outputs": [
        {
          "output_type": "execute_result",
          "data": {
            "text/html": [
              "<div>\n",
              "<style scoped>\n",
              "    .dataframe tbody tr th:only-of-type {\n",
              "        vertical-align: middle;\n",
              "    }\n",
              "\n",
              "    .dataframe tbody tr th {\n",
              "        vertical-align: top;\n",
              "    }\n",
              "\n",
              "    .dataframe thead th {\n",
              "        text-align: right;\n",
              "    }\n",
              "</style>\n",
              "<table border=\"1\" class=\"dataframe\">\n",
              "  <thead>\n",
              "    <tr style=\"text-align: right;\">\n",
              "      <th></th>\n",
              "      <th>SYMBOL</th>\n",
              "      <th>SERIES</th>\n",
              "      <th>OPEN</th>\n",
              "      <th>HIGH</th>\n",
              "      <th>LOW</th>\n",
              "      <th>CLOSE</th>\n",
              "      <th>LAST</th>\n",
              "      <th>PREVCLOSE</th>\n",
              "      <th>TOTTRDQTY</th>\n",
              "      <th>TOTTRDVAL</th>\n",
              "      <th>TIMESTAMP</th>\n",
              "      <th>TOTALTRADES</th>\n",
              "      <th>ISIN</th>\n",
              "    </tr>\n",
              "  </thead>\n",
              "  <tbody>\n",
              "    <tr>\n",
              "      <th>0</th>\n",
              "      <td>20MICRONS</td>\n",
              "      <td>EQ</td>\n",
              "      <td>40.75</td>\n",
              "      <td>40.80</td>\n",
              "      <td>39.80</td>\n",
              "      <td>40.05</td>\n",
              "      <td>40.00</td>\n",
              "      <td>40.20</td>\n",
              "      <td>126229</td>\n",
              "      <td>5.068836e+06</td>\n",
              "      <td>01-JAN-2021</td>\n",
              "      <td>803</td>\n",
              "      <td>INE144J01027</td>\n",
              "    </tr>\n",
              "    <tr>\n",
              "      <th>1</th>\n",
              "      <td>21STCENMGM</td>\n",
              "      <td>EQ</td>\n",
              "      <td>10.65</td>\n",
              "      <td>10.65</td>\n",
              "      <td>10.45</td>\n",
              "      <td>10.65</td>\n",
              "      <td>10.65</td>\n",
              "      <td>10.45</td>\n",
              "      <td>978</td>\n",
              "      <td>1.038775e+04</td>\n",
              "      <td>01-JAN-2021</td>\n",
              "      <td>15</td>\n",
              "      <td>INE253B01015</td>\n",
              "    </tr>\n",
              "    <tr>\n",
              "      <th>2</th>\n",
              "      <td>3IINFOTECH</td>\n",
              "      <td>EQ</td>\n",
              "      <td>6.75</td>\n",
              "      <td>6.75</td>\n",
              "      <td>6.75</td>\n",
              "      <td>6.75</td>\n",
              "      <td>6.75</td>\n",
              "      <td>6.45</td>\n",
              "      <td>666689</td>\n",
              "      <td>4.500151e+06</td>\n",
              "      <td>01-JAN-2021</td>\n",
              "      <td>467</td>\n",
              "      <td>INE748C01020</td>\n",
              "    </tr>\n",
              "    <tr>\n",
              "      <th>3</th>\n",
              "      <td>3MINDIA</td>\n",
              "      <td>EQ</td>\n",
              "      <td>20830.70</td>\n",
              "      <td>21243.95</td>\n",
              "      <td>20830.70</td>\n",
              "      <td>21127.60</td>\n",
              "      <td>21098.00</td>\n",
              "      <td>20830.55</td>\n",
              "      <td>1663</td>\n",
              "      <td>3.499062e+07</td>\n",
              "      <td>01-JAN-2021</td>\n",
              "      <td>1079</td>\n",
              "      <td>INE470A01017</td>\n",
              "    </tr>\n",
              "    <tr>\n",
              "      <th>4</th>\n",
              "      <td>3PLAND</td>\n",
              "      <td>EQ</td>\n",
              "      <td>11.35</td>\n",
              "      <td>11.65</td>\n",
              "      <td>10.80</td>\n",
              "      <td>11.20</td>\n",
              "      <td>11.05</td>\n",
              "      <td>11.35</td>\n",
              "      <td>18637</td>\n",
              "      <td>2.058212e+05</td>\n",
              "      <td>01-JAN-2021</td>\n",
              "      <td>88</td>\n",
              "      <td>INE105C01023</td>\n",
              "    </tr>\n",
              "    <tr>\n",
              "      <th>...</th>\n",
              "      <td>...</td>\n",
              "      <td>...</td>\n",
              "      <td>...</td>\n",
              "      <td>...</td>\n",
              "      <td>...</td>\n",
              "      <td>...</td>\n",
              "      <td>...</td>\n",
              "      <td>...</td>\n",
              "      <td>...</td>\n",
              "      <td>...</td>\n",
              "      <td>...</td>\n",
              "      <td>...</td>\n",
              "      <td>...</td>\n",
              "    </tr>\n",
              "    <tr>\n",
              "      <th>2003</th>\n",
              "      <td>ZODJRDMKJ</td>\n",
              "      <td>EQ</td>\n",
              "      <td>30.00</td>\n",
              "      <td>30.00</td>\n",
              "      <td>28.70</td>\n",
              "      <td>29.05</td>\n",
              "      <td>29.05</td>\n",
              "      <td>29.00</td>\n",
              "      <td>2816</td>\n",
              "      <td>8.227275e+04</td>\n",
              "      <td>01-JAN-2021</td>\n",
              "      <td>113</td>\n",
              "      <td>INE077B01018</td>\n",
              "    </tr>\n",
              "    <tr>\n",
              "      <th>2004</th>\n",
              "      <td>ZOTA</td>\n",
              "      <td>EQ</td>\n",
              "      <td>179.35</td>\n",
              "      <td>184.90</td>\n",
              "      <td>176.20</td>\n",
              "      <td>178.05</td>\n",
              "      <td>178.50</td>\n",
              "      <td>178.50</td>\n",
              "      <td>76262</td>\n",
              "      <td>1.370110e+07</td>\n",
              "      <td>01-JAN-2021</td>\n",
              "      <td>1048</td>\n",
              "      <td>INE358U01012</td>\n",
              "    </tr>\n",
              "    <tr>\n",
              "      <th>2005</th>\n",
              "      <td>ZUARI</td>\n",
              "      <td>EQ</td>\n",
              "      <td>99.80</td>\n",
              "      <td>100.00</td>\n",
              "      <td>97.00</td>\n",
              "      <td>97.85</td>\n",
              "      <td>98.50</td>\n",
              "      <td>99.20</td>\n",
              "      <td>85627</td>\n",
              "      <td>8.464155e+06</td>\n",
              "      <td>01-JAN-2021</td>\n",
              "      <td>1511</td>\n",
              "      <td>INE840M01016</td>\n",
              "    </tr>\n",
              "    <tr>\n",
              "      <th>2006</th>\n",
              "      <td>ZUARIGLOB</td>\n",
              "      <td>EQ</td>\n",
              "      <td>72.95</td>\n",
              "      <td>74.55</td>\n",
              "      <td>71.00</td>\n",
              "      <td>71.30</td>\n",
              "      <td>71.35</td>\n",
              "      <td>72.30</td>\n",
              "      <td>64075</td>\n",
              "      <td>4.609581e+06</td>\n",
              "      <td>01-JAN-2021</td>\n",
              "      <td>1046</td>\n",
              "      <td>INE217A01012</td>\n",
              "    </tr>\n",
              "    <tr>\n",
              "      <th>2007</th>\n",
              "      <td>ZYDUSWELL</td>\n",
              "      <td>EQ</td>\n",
              "      <td>1993.00</td>\n",
              "      <td>2104.40</td>\n",
              "      <td>1977.00</td>\n",
              "      <td>2062.50</td>\n",
              "      <td>2070.00</td>\n",
              "      <td>1990.50</td>\n",
              "      <td>135627</td>\n",
              "      <td>2.783125e+08</td>\n",
              "      <td>01-JAN-2021</td>\n",
              "      <td>10915</td>\n",
              "      <td>INE768C01010</td>\n",
              "    </tr>\n",
              "  </tbody>\n",
              "</table>\n",
              "<p>1490 rows × 13 columns</p>\n",
              "</div>"
            ],
            "text/plain": [
              "          SYMBOL SERIES      OPEN  ...    TIMESTAMP  TOTALTRADES          ISIN\n",
              "0      20MICRONS     EQ     40.75  ...  01-JAN-2021          803  INE144J01027\n",
              "1     21STCENMGM     EQ     10.65  ...  01-JAN-2021           15  INE253B01015\n",
              "2     3IINFOTECH     EQ      6.75  ...  01-JAN-2021          467  INE748C01020\n",
              "3        3MINDIA     EQ  20830.70  ...  01-JAN-2021         1079  INE470A01017\n",
              "4         3PLAND     EQ     11.35  ...  01-JAN-2021           88  INE105C01023\n",
              "...          ...    ...       ...  ...          ...          ...           ...\n",
              "2003   ZODJRDMKJ     EQ     30.00  ...  01-JAN-2021          113  INE077B01018\n",
              "2004        ZOTA     EQ    179.35  ...  01-JAN-2021         1048  INE358U01012\n",
              "2005       ZUARI     EQ     99.80  ...  01-JAN-2021         1511  INE840M01016\n",
              "2006   ZUARIGLOB     EQ     72.95  ...  01-JAN-2021         1046  INE217A01012\n",
              "2007   ZYDUSWELL     EQ   1993.00  ...  01-JAN-2021        10915  INE768C01010\n",
              "\n",
              "[1490 rows x 13 columns]"
            ]
          },
          "metadata": {
            "tags": []
          },
          "execution_count": 12
        }
      ]
    },
    {
      "cell_type": "code",
      "metadata": {
        "id": "4aEoiQpMRrho"
      },
      "source": [
        ""
      ],
      "execution_count": null,
      "outputs": []
    }
  ]
}
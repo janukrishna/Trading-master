{
 "cells": [
  {
   "cell_type": "markdown",
   "metadata": {},
   "source": [
    "# lib import\n"
   ]
  },
  {
   "cell_type": "code",
   "execution_count": 1,
   "metadata": {
    "scrolled": true
   },
   "outputs": [
    {
     "data": {
      "text/plain": [
       "False"
      ]
     },
     "execution_count": 1,
     "metadata": {},
     "output_type": "execute_result"
    }
   ],
   "source": [
    "from datetime import date\n",
    "from fyers_api import fyersModel\n",
    "from fyers_api import accessToken\n",
    "import os\n",
    "from dotenv import load_dotenv\n",
    "from fyers_api.Websocket import ws\n",
    "import datetime as dt\n",
    "load_dotenv()"
   ]
  },
  {
   "cell_type": "markdown",
   "metadata": {},
   "source": [
    "# details"
   ]
  },
  {
   "cell_type": "code",
   "execution_count": 2,
   "metadata": {},
   "outputs": [],
   "source": [
    "\n",
    "\n",
    "# Replace these values with your actual API credentials\n",
    "client_id = \"4XTKPAEOV2-100\"\n",
    "secret_key = \"ZZOS6DOV1V\"\n",
    "redirect_uri = \"https://fyers.in/\"\n",
    "\n",
    "today = date.today().strftime(\"%Y-%m-%d\")\n",
    "\n",
    "\n",
    "def get_access_token():\n",
    "    access = \"\"\n",
    "    if not os.path.exists(\"./authcode\"):\n",
    "        print(\"Creating authcode directory\")\n",
    "        os.makedirs(\"./authcode\")\n",
    "\n",
    "    if not os.path.exists(f\"authcode/{today}.txt\"):\n",
    "        session = accessToken.SessionModel(client_id=client_id, secret_key=secret_key,\n",
    "                                           redirect_uri=redirect_uri, response_type=\"code\", grant_type=\"authorization_code\")\n",
    "        response = session.generate_authcode()\n",
    "        print(\"Login Url : \", response)\n",
    "        auth_code = input(\"Enter Auth Code : \")\n",
    "        session.set_token(auth_code)\n",
    "        access_token = session.generate_token()[\"access_token\"]\n",
    "        with open(f\"authcode/{today}.txt\", \"w\") as f:\n",
    "            f.write(access_token)\n",
    "    else:\n",
    "        with open(f\"authcode/{today}.txt\", \"r\") as f:\n",
    "            access = f.read()\n",
    "    return access\n",
    "access_token = get_access_token()"
   ]
  },
  {
   "cell_type": "markdown",
   "metadata": {},
   "source": [
    "# for the profile"
   ]
  },
  {
   "cell_type": "code",
   "execution_count": 3,
   "metadata": {},
   "outputs": [
    {
     "name": "stdout",
     "output_type": "stream",
     "text": [
      "{'s': 'ok', 'code': 200, 'message': '', 'data': {'fy_id': 'XS99371', 'name': 'SANTHOSH KUMAR KOMMIRISHETTY', 'image': None, 'display_name': None, 'pin_change_date': '21-03-2024 22:15:23', 'email_id': 'santhoshkumark.komirishetty@gmail.com', 'pwd_change_date': None, 'PAN': '---------', 'mobile_number': '9963381522', 'totp': True, 'pwd_to_expire': 90}}\n",
      "{'s': 'ok', 'code': 200, 'message': '', 'fund_limit': [{'id': 3, 'title': 'Clear Balance', 'equityAmount': 0, 'commodityAmount': 0}, {'id': 1, 'title': 'Total Balance', 'equityAmount': 0, 'commodityAmount': 0}, {'id': 7, 'title': 'Receivables', 'equityAmount': 0, 'commodityAmount': 0}, {'id': 4, 'title': 'Realized Profit and Loss', 'equityAmount': 0, 'commodityAmount': 0}, {'id': 2, 'title': 'Utilized Amount', 'equityAmount': 0, 'commodityAmount': 0}, {'id': 5, 'title': 'Collaterals', 'equityAmount': 0, 'commodityAmount': 0}, {'id': 8, 'title': 'Adhoc Limit', 'equityAmount': 0, 'commodityAmount': 0}, {'id': 10, 'title': 'Available Balance', 'equityAmount': 0, 'commodityAmount': 0}, {'id': 6, 'title': 'Fund Transfer', 'equityAmount': 0, 'commodityAmount': 0}, {'id': 9, 'title': 'Limit at start of the day', 'equityAmount': 0, 'commodityAmount': 0}]}\n",
      "{'s': 'ok', 'code': 200, 'message': '', 'holdings': [], 'overall': {'count_total': 0, 'pnl_perc': 0, 'pnl_perc_day': 0, 'total_current_value': 0, 'total_investment': 0, 'total_pl': 0, 'total_pl_day': 0}}\n"
     ]
    }
   ],
   "source": [
    "fyers = fyersModel.FyersModel(\n",
    "    client_id=client_id, token=access_token, log_path=os.getcwd())\n",
    "\n",
    "print(fyers.get_profile())\n",
    "print(fyers.funds())\n",
    "print(fyers.holdings())\n"
   ]
  },
  {
   "cell_type": "markdown",
   "metadata": {},
   "source": [
    "# for the history data"
   ]
  },
  {
   "cell_type": "code",
   "execution_count": 4,
   "metadata": {},
   "outputs": [
    {
     "name": "stdout",
     "output_type": "stream",
     "text": [
      "{'s': 'ok', 'candles': [[1721260800, 3894.0, 3928.3, 3849.05, 3905.0, 330915]]}\n"
     ]
    }
   ],
   "source": [
    " data = {\"symbol\": \"NSE:NIFTYBANK-INDEX\", \"resolution\": \"5\", \"date_format\": \"1\",\n",
    "         \"range_from\": \"2023-01-18\", \"range_to\": \"2023-01-18\", \"cont_flag\": \"1\"}\n",
    "data ={\"symbol\":\"NSE:PIIND-EQ\",\"resolution\":\"D\",\"date_format\":\"1\",\"range_from\":\"2024-07-18\",\"range_to\":\"2024-07-18\",\"cont_flag\":\"1\"}\n",
    " print(fyers.history(data))"
   ]
  },
  {
   "cell_type": "code",
   "execution_count": 5,
   "metadata": {},
   "outputs": [
    {
     "name": "stdout",
     "output_type": "stream",
     "text": [
      "{'s': 'ok', 'candles': [[1622073600, 413.7, 429.1, 412.0, 425.2, 73392997]]}\n",
      "---------------------------------------\n",
      "{'message': '', 'code': 200, 'd': [{'n': 'NSE:SBIN-EQ', 'v': {'ask': 896.15, 'bid': 895.85, 'chp': 0.26, 'ch': 2.3, 'description': 'NSE:SBIN-EQ', 'exchange': 'NSE', 'fyToken': '10100000003045', 'high_price': 898.8, 'low_price': 883.3, 'lp': 895.85, 'open_price': 895, 'original_name': 'NSE:SBIN-EQ', 'prev_close_price': 893.55, 'short_name': 'SBIN-EQ', 'spread': 0.3, 'symbol': 'NSE:SBIN-EQ', 'tt': '1721347200', 'volume': 9116384}, 's': 'ok'}], 's': 'ok'}\n"
     ]
    }
   ],
   "source": [
    "data = {\"symbol\":\"NSE:SBIN-EQ\",\"resolution\":\"D\",\"date_format\":\"0\",\"range_from\":\"1622097600\",\"range_to\":\"1622097685\",\"cont_flag\":\"1\"}\n",
    "\n",
    "print(fyers.history(data))\n",
    "print(\"---------------------------------------\")\n",
    "data = {\"symbols\":\"NSE:SBIN-EQ\"}\n",
    "print(fyers.quotes(data))"
   ]
  },
  {
   "cell_type": "code",
   "execution_count": 6,
   "metadata": {},
   "outputs": [
    {
     "name": "stdout",
     "output_type": "stream",
     "text": [
      "{'s': 'error', 'code': '-310', 'message': 'Please provide a valid symbol'}\n"
     ]
    }
   ],
   "source": [
    "print(fyers.convert_position({\"symbol\":\"MCX:SILVERMIC20AUGFUT\",\"positionSide\":\"1\",\"convertQty\":\"1\",\"convertFrom\":\"MARGIN\",\"convertTo\":\"INTRADAY\"}))\n"
   ]
  },
  {
   "cell_type": "markdown",
   "metadata": {},
   "source": [
    "# for the live tick data "
   ]
  },
  {
   "cell_type": "code",
   "execution_count": null,
   "metadata": {},
   "outputs": [
    {
     "name": "stdout",
     "output_type": "stream",
     "text": [
      "[{'symbol': 'NSE:NIFTYBANK-INDEX', 'timestamp': 1721368521, 'fyCode': 7207, 'fyFlag': 2, 'pktLen': 48, 'ltp': 52338.4, 'open_price': 52531.55, 'high_price': 52586.75, 'low_price': 52146.3, 'close_price': 52620.7, 'min_open_price': 52337.4, 'min_high_price': 52346.3, 'min_low_price': 52335.75, 'min_close_price': 52338.4, 'min_volume': 0}]\n",
      "Script:NSE:NIFTYBANK-INDEX  ,  ltp:52338.4  ,  HIGH:52586.75 ,  LOW:52146.3,  ltt:2024-07-19 11:25:21\n",
      "[{'symbol': 'NSE:NIFTYBANK-INDEX', 'timestamp': 1721368522, 'fyCode': 7207, 'fyFlag': 2, 'pktLen': 48, 'ltp': 52345.15, 'open_price': 52531.55, 'high_price': 52586.75, 'low_price': 52146.3, 'close_price': 52620.7, 'min_open_price': 52337.4, 'min_high_price': 52346.3, 'min_low_price': 52335.75, 'min_close_price': 52345.15, 'min_volume': 0}]\n",
      "Script:NSE:NIFTYBANK-INDEX  ,  ltp:52345.15  ,  HIGH:52586.75 ,  LOW:52146.3,  ltt:2024-07-19 11:25:22\n",
      "[{'symbol': 'NSE:NIFTYBANK-INDEX', 'timestamp': 1721368524, 'fyCode': 7207, 'fyFlag': 2, 'pktLen': 48, 'ltp': 52345.3, 'open_price': 52531.55, 'high_price': 52586.75, 'low_price': 52146.3, 'close_price': 52620.7, 'min_open_price': 52337.4, 'min_high_price': 52346.3, 'min_low_price': 52335.75, 'min_close_price': 52345.3, 'min_volume': 0}]\n",
      "Script:NSE:NIFTYBANK-INDEX  ,  ltp:52345.3  ,  HIGH:52586.75 ,  LOW:52146.3,  ltt:2024-07-19 11:25:24\n",
      "[{'symbol': 'NSE:NIFTYBANK-INDEX', 'timestamp': 1721368524, 'fyCode': 7207, 'fyFlag': 2, 'pktLen': 48, 'ltp': 52345.5, 'open_price': 52531.55, 'high_price': 52586.75, 'low_price': 52146.3, 'close_price': 52620.7, 'min_open_price': 52337.4, 'min_high_price': 52346.3, 'min_low_price': 52335.75, 'min_close_price': 52345.5, 'min_volume': 0}]\n",
      "Script:NSE:NIFTYBANK-INDEX  ,  ltp:52345.5  ,  HIGH:52586.75 ,  LOW:52146.3,  ltt:2024-07-19 11:25:24\n",
      "[{'symbol': 'NSE:NIFTYBANK-INDEX', 'timestamp': 1721368525, 'fyCode': 7207, 'fyFlag': 2, 'pktLen': 48, 'ltp': 52345.3, 'open_price': 52531.55, 'high_price': 52586.75, 'low_price': 52146.3, 'close_price': 52620.7, 'min_open_price': 52337.4, 'min_high_price': 52346.3, 'min_low_price': 52335.75, 'min_close_price': 52345.3, 'min_volume': 0}]\n",
      "Script:NSE:NIFTYBANK-INDEX  ,  ltp:52345.3  ,  HIGH:52586.75 ,  LOW:52146.3,  ltt:2024-07-19 11:25:25\n",
      "[{'symbol': 'NSE:NIFTYBANK-INDEX', 'timestamp': 1721368525, 'fyCode': 7207, 'fyFlag': 2, 'pktLen': 48, 'ltp': 52344.3, 'open_price': 52531.55, 'high_price': 52586.75, 'low_price': 52146.3, 'close_price': 52620.7, 'min_open_price': 52337.4, 'min_high_price': 52346.3, 'min_low_price': 52335.75, 'min_close_price': 52344.3, 'min_volume': 0}]\n",
      "Script:NSE:NIFTYBANK-INDEX  ,  ltp:52344.3  ,  HIGH:52586.75 ,  LOW:52146.3,  ltt:2024-07-19 11:25:25\n",
      "[{'symbol': 'NSE:NIFTYBANK-INDEX', 'timestamp': 1721368527, 'fyCode': 7207, 'fyFlag': 2, 'pktLen': 48, 'ltp': 52352.35, 'open_price': 52531.55, 'high_price': 52586.75, 'low_price': 52146.3, 'close_price': 52620.7, 'min_open_price': 52337.4, 'min_high_price': 52352.35, 'min_low_price': 52335.75, 'min_close_price': 52352.35, 'min_volume': 0}]\n",
      "Script:NSE:NIFTYBANK-INDEX  ,  ltp:52352.35  ,  HIGH:52586.75 ,  LOW:52146.3,  ltt:2024-07-19 11:25:27\n",
      "[{'symbol': 'NSE:NIFTYBANK-INDEX', 'timestamp': 1721368528, 'fyCode': 7207, 'fyFlag': 2, 'pktLen': 48, 'ltp': 52354.55, 'open_price': 52531.55, 'high_price': 52586.75, 'low_price': 52146.3, 'close_price': 52620.7, 'min_open_price': 52337.4, 'min_high_price': 52354.55, 'min_low_price': 52335.75, 'min_close_price': 52354.55, 'min_volume': 0}]\n",
      "Script:NSE:NIFTYBANK-INDEX  ,  ltp:52354.55  ,  HIGH:52586.75 ,  LOW:52146.3,  ltt:2024-07-19 11:25:28\n",
      "[{'symbol': 'NSE:NIFTYBANK-INDEX', 'timestamp': 1721368529, 'fyCode': 7207, 'fyFlag': 2, 'pktLen': 48, 'ltp': 52351.5, 'open_price': 52531.55, 'high_price': 52586.75, 'low_price': 52146.3, 'close_price': 52620.7, 'min_open_price': 52337.4, 'min_high_price': 52354.55, 'min_low_price': 52335.75, 'min_close_price': 52351.5, 'min_volume': 0}]\n",
      "Script:NSE:NIFTYBANK-INDEX  ,  ltp:52351.5  ,  HIGH:52586.75 ,  LOW:52146.3,  ltt:2024-07-19 11:25:29\n",
      "[{'symbol': 'NSE:NIFTYBANK-INDEX', 'timestamp': 1721368530, 'fyCode': 7207, 'fyFlag': 2, 'pktLen': 48, 'ltp': 52349.3, 'open_price': 52531.55, 'high_price': 52586.75, 'low_price': 52146.3, 'close_price': 52620.7, 'min_open_price': 52337.4, 'min_high_price': 52354.55, 'min_low_price': 52335.75, 'min_close_price': 52349.3, 'min_volume': 0}]\n",
      "Script:NSE:NIFTYBANK-INDEX  ,  ltp:52349.3  ,  HIGH:52586.75 ,  LOW:52146.3,  ltt:2024-07-19 11:25:30\n",
      "[{'symbol': 'NSE:NIFTYBANK-INDEX', 'timestamp': 1721368531, 'fyCode': 7207, 'fyFlag': 2, 'pktLen': 48, 'ltp': 52349.35, 'open_price': 52531.55, 'high_price': 52586.75, 'low_price': 52146.3, 'close_price': 52620.7, 'min_open_price': 52337.4, 'min_high_price': 52354.55, 'min_low_price': 52335.75, 'min_close_price': 52349.35, 'min_volume': 0}]\n",
      "Script:NSE:NIFTYBANK-INDEX  ,  ltp:52349.35  ,  HIGH:52586.75 ,  LOW:52146.3,  ltt:2024-07-19 11:25:31\n",
      "[{'symbol': 'NSE:NIFTYBANK-INDEX', 'timestamp': 1721368531, 'fyCode': 7207, 'fyFlag': 2, 'pktLen': 48, 'ltp': 52348.3, 'open_price': 52531.55, 'high_price': 52586.75, 'low_price': 52146.3, 'close_price': 52620.7, 'min_open_price': 52337.4, 'min_high_price': 52354.55, 'min_low_price': 52335.75, 'min_close_price': 52348.3, 'min_volume': 0}]\n",
      "Script:NSE:NIFTYBANK-INDEX  ,  ltp:52348.3  ,  HIGH:52586.75 ,  LOW:52146.3,  ltt:2024-07-19 11:25:31\n",
      "[{'symbol': 'NSE:NIFTYBANK-INDEX', 'timestamp': 1721368532, 'fyCode': 7207, 'fyFlag': 2, 'pktLen': 48, 'ltp': 52349.9, 'open_price': 52531.55, 'high_price': 52586.75, 'low_price': 52146.3, 'close_price': 52620.7, 'min_open_price': 52337.4, 'min_high_price': 52354.55, 'min_low_price': 52335.75, 'min_close_price': 52349.9, 'min_volume': 0}]\n",
      "Script:NSE:NIFTYBANK-INDEX  ,  ltp:52349.9  ,  HIGH:52586.75 ,  LOW:52146.3,  ltt:2024-07-19 11:25:32\n",
      "[{'symbol': 'NSE:NIFTYBANK-INDEX', 'timestamp': 1721368532, 'fyCode': 7207, 'fyFlag': 2, 'pktLen': 48, 'ltp': 52350.35, 'open_price': 52531.55, 'high_price': 52586.75, 'low_price': 52146.3, 'close_price': 52620.7, 'min_open_price': 52337.4, 'min_high_price': 52354.55, 'min_low_price': 52335.75, 'min_close_price': 52350.35, 'min_volume': 0}]\n",
      "Script:NSE:NIFTYBANK-INDEX  ,  ltp:52350.35  ,  HIGH:52586.75 ,  LOW:52146.3,  ltt:2024-07-19 11:25:32\n",
      "[{'symbol': 'NSE:NIFTYBANK-INDEX', 'timestamp': 1721368533, 'fyCode': 7207, 'fyFlag': 2, 'pktLen': 48, 'ltp': 52353.4, 'open_price': 52531.55, 'high_price': 52586.75, 'low_price': 52146.3, 'close_price': 52620.7, 'min_open_price': 52337.4, 'min_high_price': 52354.55, 'min_low_price': 52335.75, 'min_close_price': 52353.4, 'min_volume': 0}]\n",
      "Script:NSE:NIFTYBANK-INDEX  ,  ltp:52353.4  ,  HIGH:52586.75 ,  LOW:52146.3,  ltt:2024-07-19 11:25:33\n",
      "[{'symbol': 'NSE:NIFTYBANK-INDEX', 'timestamp': 1721368533, 'fyCode': 7207, 'fyFlag': 2, 'pktLen': 48, 'ltp': 52349.75, 'open_price': 52531.55, 'high_price': 52586.75, 'low_price': 52146.3, 'close_price': 52620.7, 'min_open_price': 52337.4, 'min_high_price': 52354.55, 'min_low_price': 52335.75, 'min_close_price': 52349.75, 'min_volume': 0}]\n",
      "Script:NSE:NIFTYBANK-INDEX  ,  ltp:52349.75  ,  HIGH:52586.75 ,  LOW:52146.3,  ltt:2024-07-19 11:25:33\n",
      "[{'symbol': 'NSE:NIFTYBANK-INDEX', 'timestamp': 1721368534, 'fyCode': 7207, 'fyFlag': 2, 'pktLen': 48, 'ltp': 52355.05, 'open_price': 52531.55, 'high_price': 52586.75, 'low_price': 52146.3, 'close_price': 52620.7, 'min_open_price': 52337.4, 'min_high_price': 52355.05, 'min_low_price': 52335.75, 'min_close_price': 52355.05, 'min_volume': 0}]\n",
      "Script:NSE:NIFTYBANK-INDEX  ,  ltp:52355.05  ,  HIGH:52586.75 ,  LOW:52146.3,  ltt:2024-07-19 11:25:34\n",
      "[{'symbol': 'NSE:NIFTYBANK-INDEX', 'timestamp': 1721368534, 'fyCode': 7207, 'fyFlag': 2, 'pktLen': 48, 'ltp': 52354.25, 'open_price': 52531.55, 'high_price': 52586.75, 'low_price': 52146.3, 'close_price': 52620.7, 'min_open_price': 52337.4, 'min_high_price': 52355.05, 'min_low_price': 52335.75, 'min_close_price': 52354.25, 'min_volume': 0}]\n",
      "Script:NSE:NIFTYBANK-INDEX  ,  ltp:52354.25  ,  HIGH:52586.75 ,  LOW:52146.3,  ltt:2024-07-19 11:25:34\n",
      "[{'symbol': 'NSE:NIFTYBANK-INDEX', 'timestamp': 1721368535, 'fyCode': 7207, 'fyFlag': 2, 'pktLen': 48, 'ltp': 52355.95, 'open_price': 52531.55, 'high_price': 52586.75, 'low_price': 52146.3, 'close_price': 52620.7, 'min_open_price': 52337.4, 'min_high_price': 52355.95, 'min_low_price': 52335.75, 'min_close_price': 52355.95, 'min_volume': 0}]\n",
      "Script:NSE:NIFTYBANK-INDEX  ,  ltp:52355.95  ,  HIGH:52586.75 ,  LOW:52146.3,  ltt:2024-07-19 11:25:35\n",
      "[{'symbol': 'NSE:NIFTYBANK-INDEX', 'timestamp': 1721368535, 'fyCode': 7207, 'fyFlag': 2, 'pktLen': 48, 'ltp': 52353.2, 'open_price': 52531.55, 'high_price': 52586.75, 'low_price': 52146.3, 'close_price': 52620.7, 'min_open_price': 52337.4, 'min_high_price': 52355.95, 'min_low_price': 52335.75, 'min_close_price': 52353.2, 'min_volume': 0}]\n",
      "Script:NSE:NIFTYBANK-INDEX  ,  ltp:52353.2  ,  HIGH:52586.75 ,  LOW:52146.3,  ltt:2024-07-19 11:25:35\n",
      "[{'symbol': 'NSE:NIFTYBANK-INDEX', 'timestamp': 1721368536, 'fyCode': 7207, 'fyFlag': 2, 'pktLen': 48, 'ltp': 52356.65, 'open_price': 52531.55, 'high_price': 52586.75, 'low_price': 52146.3, 'close_price': 52620.7, 'min_open_price': 52337.4, 'min_high_price': 52356.65, 'min_low_price': 52335.75, 'min_close_price': 52356.65, 'min_volume': 0}]\n",
      "Script:NSE:NIFTYBANK-INDEX  ,  ltp:52356.65  ,  HIGH:52586.75 ,  LOW:52146.3,  ltt:2024-07-19 11:25:36\n",
      "[{'symbol': 'NSE:NIFTYBANK-INDEX', 'timestamp': 1721368536, 'fyCode': 7207, 'fyFlag': 2, 'pktLen': 48, 'ltp': 52353.95, 'open_price': 52531.55, 'high_price': 52586.75, 'low_price': 52146.3, 'close_price': 52620.7, 'min_open_price': 52337.4, 'min_high_price': 52356.65, 'min_low_price': 52335.75, 'min_close_price': 52353.95, 'min_volume': 0}]\n",
      "Script:NSE:NIFTYBANK-INDEX  ,  ltp:52353.95  ,  HIGH:52586.75 ,  LOW:52146.3,  ltt:2024-07-19 11:25:36\n",
      "[{'symbol': 'NSE:NIFTYBANK-INDEX', 'timestamp': 1721368537, 'fyCode': 7207, 'fyFlag': 2, 'pktLen': 48, 'ltp': 52353.95, 'open_price': 52531.55, 'high_price': 52586.75, 'low_price': 52146.3, 'close_price': 52620.7, 'min_open_price': 52337.4, 'min_high_price': 52356.65, 'min_low_price': 52335.75, 'min_close_price': 52353.95, 'min_volume': 0}]\n",
      "Script:NSE:NIFTYBANK-INDEX  ,  ltp:52353.95  ,  HIGH:52586.75 ,  LOW:52146.3,  ltt:2024-07-19 11:25:37\n",
      "[{'symbol': 'NSE:NIFTYBANK-INDEX', 'timestamp': 1721368537, 'fyCode': 7207, 'fyFlag': 2, 'pktLen': 48, 'ltp': 52354.15, 'open_price': 52531.55, 'high_price': 52586.75, 'low_price': 52146.3, 'close_price': 52620.7, 'min_open_price': 52337.4, 'min_high_price': 52356.65, 'min_low_price': 52335.75, 'min_close_price': 52354.15, 'min_volume': 0}]\n",
      "Script:NSE:NIFTYBANK-INDEX  ,  ltp:52354.15  ,  HIGH:52586.75 ,  LOW:52146.3,  ltt:2024-07-19 11:25:37\n",
      "[{'symbol': 'NSE:NIFTYBANK-INDEX', 'timestamp': 1721368538, 'fyCode': 7207, 'fyFlag': 2, 'pktLen': 48, 'ltp': 52353.9, 'open_price': 52531.55, 'high_price': 52586.75, 'low_price': 52146.3, 'close_price': 52620.7, 'min_open_price': 52337.4, 'min_high_price': 52356.65, 'min_low_price': 52335.75, 'min_close_price': 52353.9, 'min_volume': 0}]\n",
      "Script:NSE:NIFTYBANK-INDEX  ,  ltp:52353.9  ,  HIGH:52586.75 ,  LOW:52146.3,  ltt:2024-07-19 11:25:38\n",
      "[{'symbol': 'NSE:NIFTYBANK-INDEX', 'timestamp': 1721368539, 'fyCode': 7207, 'fyFlag': 2, 'pktLen': 48, 'ltp': 52351.7, 'open_price': 52531.55, 'high_price': 52586.75, 'low_price': 52146.3, 'close_price': 52620.7, 'min_open_price': 52337.4, 'min_high_price': 52356.65, 'min_low_price': 52335.75, 'min_close_price': 52351.7, 'min_volume': 0}]\n",
      "Script:NSE:NIFTYBANK-INDEX  ,  ltp:52351.7  ,  HIGH:52586.75 ,  LOW:52146.3,  ltt:2024-07-19 11:25:39\n",
      "[{'symbol': 'NSE:NIFTYBANK-INDEX', 'timestamp': 1721368539, 'fyCode': 7207, 'fyFlag': 2, 'pktLen': 48, 'ltp': 52355.3, 'open_price': 52531.55, 'high_price': 52586.75, 'low_price': 52146.3, 'close_price': 52620.7, 'min_open_price': 52337.4, 'min_high_price': 52356.65, 'min_low_price': 52335.75, 'min_close_price': 52355.3, 'min_volume': 0}]\n",
      "Script:NSE:NIFTYBANK-INDEX  ,  ltp:52355.3  ,  HIGH:52586.75 ,  LOW:52146.3,  ltt:2024-07-19 11:25:39\n",
      "[{'symbol': 'NSE:NIFTYBANK-INDEX', 'timestamp': 1721368540, 'fyCode': 7207, 'fyFlag': 2, 'pktLen': 48, 'ltp': 52353.65, 'open_price': 52531.55, 'high_price': 52586.75, 'low_price': 52146.3, 'close_price': 52620.7, 'min_open_price': 52337.4, 'min_high_price': 52356.65, 'min_low_price': 52335.75, 'min_close_price': 52353.65, 'min_volume': 0}]\n",
      "Script:NSE:NIFTYBANK-INDEX  ,  ltp:52353.65  ,  HIGH:52586.75 ,  LOW:52146.3,  ltt:2024-07-19 11:25:40\n",
      "[{'symbol': 'NSE:NIFTYBANK-INDEX', 'timestamp': 1721368540, 'fyCode': 7207, 'fyFlag': 2, 'pktLen': 48, 'ltp': 52352.6, 'open_price': 52531.55, 'high_price': 52586.75, 'low_price': 52146.3, 'close_price': 52620.7, 'min_open_price': 52337.4, 'min_high_price': 52356.65, 'min_low_price': 52335.75, 'min_close_price': 52352.6, 'min_volume': 0}]\n",
      "Script:NSE:NIFTYBANK-INDEX  ,  ltp:52352.6  ,  HIGH:52586.75 ,  LOW:52146.3,  ltt:2024-07-19 11:25:40\n",
      "[{'symbol': 'NSE:NIFTYBANK-INDEX', 'timestamp': 1721368541, 'fyCode': 7207, 'fyFlag': 2, 'pktLen': 48, 'ltp': 52353.8, 'open_price': 52531.55, 'high_price': 52586.75, 'low_price': 52146.3, 'close_price': 52620.7, 'min_open_price': 52337.4, 'min_high_price': 52356.65, 'min_low_price': 52335.75, 'min_close_price': 52353.8, 'min_volume': 0}]\n",
      "Script:NSE:NIFTYBANK-INDEX  ,  ltp:52353.8  ,  HIGH:52586.75 ,  LOW:52146.3,  ltt:2024-07-19 11:25:41\n",
      "[{'symbol': 'NSE:NIFTYBANK-INDEX', 'timestamp': 1721368541, 'fyCode': 7207, 'fyFlag': 2, 'pktLen': 48, 'ltp': 52353.2, 'open_price': 52531.55, 'high_price': 52586.75, 'low_price': 52146.3, 'close_price': 52620.7, 'min_open_price': 52337.4, 'min_high_price': 52356.65, 'min_low_price': 52335.75, 'min_close_price': 52353.2, 'min_volume': 0}]\n",
      "Script:NSE:NIFTYBANK-INDEX  ,  ltp:52353.2  ,  HIGH:52586.75 ,  LOW:52146.3,  ltt:2024-07-19 11:25:41\n",
      "[{'symbol': 'NSE:NIFTYBANK-INDEX', 'timestamp': 1721368542, 'fyCode': 7207, 'fyFlag': 2, 'pktLen': 48, 'ltp': 52347.55, 'open_price': 52531.55, 'high_price': 52586.75, 'low_price': 52146.3, 'close_price': 52620.7, 'min_open_price': 52337.4, 'min_high_price': 52356.65, 'min_low_price': 52335.75, 'min_close_price': 52347.55, 'min_volume': 0}]\n",
      "Script:NSE:NIFTYBANK-INDEX  ,  ltp:52347.55  ,  HIGH:52586.75 ,  LOW:52146.3,  ltt:2024-07-19 11:25:42\n",
      "[{'symbol': 'NSE:NIFTYBANK-INDEX', 'timestamp': 1721368542, 'fyCode': 7207, 'fyFlag': 2, 'pktLen': 48, 'ltp': 52346.95, 'open_price': 52531.55, 'high_price': 52586.75, 'low_price': 52146.3, 'close_price': 52620.7, 'min_open_price': 52337.4, 'min_high_price': 52356.65, 'min_low_price': 52335.75, 'min_close_price': 52346.95, 'min_volume': 0}]\n",
      "Script:NSE:NIFTYBANK-INDEX  ,  ltp:52346.95  ,  HIGH:52586.75 ,  LOW:52146.3,  ltt:2024-07-19 11:25:42\n",
      "[{'symbol': 'NSE:NIFTYBANK-INDEX', 'timestamp': 1721368543, 'fyCode': 7207, 'fyFlag': 2, 'pktLen': 48, 'ltp': 52347.35, 'open_price': 52531.55, 'high_price': 52586.75, 'low_price': 52146.3, 'close_price': 52620.7, 'min_open_price': 52337.4, 'min_high_price': 52356.65, 'min_low_price': 52335.75, 'min_close_price': 52347.35, 'min_volume': 0}]\n",
      "Script:NSE:NIFTYBANK-INDEX  ,  ltp:52347.35  ,  HIGH:52586.75 ,  LOW:52146.3,  ltt:2024-07-19 11:25:43\n",
      "[{'symbol': 'NSE:NIFTYBANK-INDEX', 'timestamp': 1721368544, 'fyCode': 7207, 'fyFlag': 2, 'pktLen': 48, 'ltp': 52350.8, 'open_price': 52531.55, 'high_price': 52586.75, 'low_price': 52146.3, 'close_price': 52620.7, 'min_open_price': 52337.4, 'min_high_price': 52356.65, 'min_low_price': 52335.75, 'min_close_price': 52350.8, 'min_volume': 0}]\n",
      "Script:NSE:NIFTYBANK-INDEX  ,  ltp:52350.8  ,  HIGH:52586.75 ,  LOW:52146.3,  ltt:2024-07-19 11:25:44\n",
      "[{'symbol': 'NSE:NIFTYBANK-INDEX', 'timestamp': 1721368545, 'fyCode': 7207, 'fyFlag': 2, 'pktLen': 48, 'ltp': 52349.35, 'open_price': 52531.55, 'high_price': 52586.75, 'low_price': 52146.3, 'close_price': 52620.7, 'min_open_price': 52337.4, 'min_high_price': 52356.65, 'min_low_price': 52335.75, 'min_close_price': 52349.35, 'min_volume': 0}]\n",
      "Script:NSE:NIFTYBANK-INDEX  ,  ltp:52349.35  ,  HIGH:52586.75 ,  LOW:52146.3,  ltt:2024-07-19 11:25:45\n",
      "[{'symbol': 'NSE:NIFTYBANK-INDEX', 'timestamp': 1721368545, 'fyCode': 7207, 'fyFlag': 2, 'pktLen': 48, 'ltp': 52349.85, 'open_price': 52531.55, 'high_price': 52586.75, 'low_price': 52146.3, 'close_price': 52620.7, 'min_open_price': 52337.4, 'min_high_price': 52356.65, 'min_low_price': 52335.75, 'min_close_price': 52349.85, 'min_volume': 0}]\n",
      "Script:NSE:NIFTYBANK-INDEX  ,  ltp:52349.85  ,  HIGH:52586.75 ,  LOW:52146.3,  ltt:2024-07-19 11:25:45\n",
      "[{'symbol': 'NSE:NIFTYBANK-INDEX', 'timestamp': 1721368546, 'fyCode': 7207, 'fyFlag': 2, 'pktLen': 48, 'ltp': 52348.15, 'open_price': 52531.55, 'high_price': 52586.75, 'low_price': 52146.3, 'close_price': 52620.7, 'min_open_price': 52337.4, 'min_high_price': 52356.65, 'min_low_price': 52335.75, 'min_close_price': 52348.15, 'min_volume': 0}]\n",
      "Script:NSE:NIFTYBANK-INDEX  ,  ltp:52348.15  ,  HIGH:52586.75 ,  LOW:52146.3,  ltt:2024-07-19 11:25:46\n",
      "[{'symbol': 'NSE:NIFTYBANK-INDEX', 'timestamp': 1721368546, 'fyCode': 7207, 'fyFlag': 2, 'pktLen': 48, 'ltp': 52351.65, 'open_price': 52531.55, 'high_price': 52586.75, 'low_price': 52146.3, 'close_price': 52620.7, 'min_open_price': 52337.4, 'min_high_price': 52356.65, 'min_low_price': 52335.75, 'min_close_price': 52351.65, 'min_volume': 0}]\n",
      "Script:NSE:NIFTYBANK-INDEX  ,  ltp:52351.65  ,  HIGH:52586.75 ,  LOW:52146.3,  ltt:2024-07-19 11:25:46\n"
     ]
    }
   ],
   "source": [
    "newToken = f\"{client_id}:{access_token}\"\n",
    "symbol = [\"NSE:NIFTYBANK-INDEX\"]\n",
    "cws = ws.FyersSocket(access_token=newToken,\n",
    "                     run_background=False, log_path=os.getcwd())\n",
    "\n",
    "def on_ticks(msg):\n",
    "    #print(msg.length)\n",
    "    print(msg)\n",
    "    script = msg[0]['symbol']\n",
    "    ltp = msg[0]['ltp']\n",
    "    high = msg[0]['high_price']\n",
    "    low = msg[0]['low_price']\n",
    "    ltt = dt.datetime.fromtimestamp(msg[0]['timestamp'])\n",
    "    print(\n",
    "        f\"Script:{script}  ,  ltp:{ltp}  ,  HIGH:{high} ,  LOW:{low},  ltt:{ltt}\")\n",
    "\n",
    "\n",
    "cws.websocket_data = on_ticks\n",
    "cws.subscribe(symbol=symbol, data_type=\"symbolData\")\n",
    "cws.keep_running()\n",
    "cws.unsubscribe(symbol=symbol)\n"
   ]
  },
  {
   "cell_type": "code",
   "execution_count": null,
   "metadata": {},
   "outputs": [],
   "source": [
    "fyers.place("
   ]
  },
  {
   "cell_type": "code",
   "execution_count": null,
   "metadata": {},
   "outputs": [],
   "source": []
  }
 ],
 "metadata": {
  "kernelspec": {
   "display_name": "Python 3 (ipykernel)",
   "language": "python",
   "name": "python3"
  },
  "language_info": {
   "codemirror_mode": {
    "name": "ipython",
    "version": 3
   },
   "file_extension": ".py",
   "mimetype": "text/x-python",
   "name": "python",
   "nbconvert_exporter": "python",
   "pygments_lexer": "ipython3",
   "version": "3.12.4"
  },
  "vscode": {
   "interpreter": {
    "hash": "98caf8d6c9a4cec933d8124168201de6299deb304dde74c2401b5c78346afc36"
   }
  }
 },
 "nbformat": 4,
 "nbformat_minor": 4
}

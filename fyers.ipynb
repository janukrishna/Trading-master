{
 "cells": [
  {
   "cell_type": "code",
   "execution_count": 1,
   "metadata": {
    "colab": {
     "base_uri": "https://localhost:8080/"
    },
    "id": "C0jPZCvwjVYn",
    "outputId": "c2ddff81-ddc2-4f5c-8691-2861046f0a23"
   },
   "outputs": [
    {
     "name": "stdout",
     "output_type": "stream",
     "text": [
      "install the above library\n"
     ]
    }
   ],
   "source": [
    "#!pip install fyers-apiv3\n",
    "print('install the above library')"
   ]
  },
  {
   "cell_type": "code",
   "execution_count": 2,
   "metadata": {
    "id": "le856b8GkIrj"
   },
   "outputs": [],
   "source": [
    "# import the required module from the fyers_apiv3 package\n",
    "from fyers_apiv3 import fyersModel"
   ]
  },
  {
   "cell_type": "code",
   "execution_count": 3,
   "metadata": {
    "id": "jiN28tSjkKUU"
   },
   "outputs": [],
   "source": [
    "# Replace these values with your actual API credentials\n",
    "client_id = \"4XTKPAEOV2-100\"\n",
    "secret_key = \"ZZOS6DOV1V\"\n",
    "redirect_uri = \"https://fyers.in/\"\n",
    "response_type = \"code\"\n",
    "state = \"sample_state\"\n",
    "grant_type = \"authorization_code\""
   ]
  },
  {
   "cell_type": "code",
   "execution_count": 4,
   "metadata": {
    "colab": {
     "base_uri": "https://localhost:8080/",
     "height": 35
    },
    "id": "o9_unrEFka-6",
    "outputId": "6c906269-2fd7-46fc-a7ec-4b53b668ab81"
   },
   "outputs": [
    {
     "data": {
      "text/plain": [
       "'https://api-t1.fyers.in/api/v3/generate-authcode?client_id=4XTKPAEOV2-100&redirect_uri=https%3A%2F%2Ffyers.in%2F&response_type=code&state=None'"
      ]
     },
     "execution_count": 4,
     "metadata": {},
     "output_type": "execute_result"
    }
   ],
   "source": [
    "# Create a session model with the provided credentials\n",
    "session = fyersModel.SessionModel(\n",
    "    client_id=client_id,\n",
    "    secret_key=secret_key,\n",
    "    redirect_uri=redirect_uri,\n",
    "    response_type=response_type\n",
    ")\n",
    "\n",
    "# Generate the auth code using the session model\n",
    "response = session.generate_authcode()\n",
    "response"
   ]
  },
  {
   "cell_type": "code",
   "execution_count": 5,
   "metadata": {},
   "outputs": [],
   "source": [
    "auth_code='eyJ0eXAiOiJKV1QiLCJhbGciOiJIUzI1NiJ9.eyJpc3MiOiJhcGkubG9naW4uZnllcnMuaW4iLCJpYXQiOjE3MjEwMzMwNTUsImV4cCI6MTcyMTA2MzA1NSwibmJmIjoxNzIxMDMyNDU1LCJhdWQiOiJbXCJ4OjBcIiwgXCJ4OjFcIiwgXCJ4OjJcIiwgXCJkOjFcIiwgXCJkOjJcIiwgXCJ4OjFcIiwgXCJ4OjBcIl0iLCJzdWIiOiJhdXRoX2NvZGUiLCJkaXNwbGF5X25hbWUiOiJYUzk5MzcxIiwib21zIjoiSzEiLCJoc21fa2V5IjoiMTcwYTM1NDhkNTNiZjgyMjJjMWRjMjdkMWNkY2YxYjBmZWVhMTNjOTEzNjg5MjM5OGU3Yzc5ODYiLCJub25jZSI6IiIsImFwcF9pZCI6IjRYVEtQQUVPVjIiLCJ1dWlkIjoiNjA2ODMyMmJkNzkyNGVhNzllZDYyNzQ4OWUzNjQxYzAiLCJpcEFkZHIiOiIwLjAuMC4wIiwic2NvcGUiOiIifQ.cwZ38ps-Ehmv9s9yEl0zdJTqJysa2B33z0yYGq9oAwY'"
   ]
  },
  {
   "cell_type": "code",
   "execution_count": 7,
   "metadata": {},
   "outputs": [
    {
     "name": "stdout",
     "output_type": "stream",
     "text": [
      "'access_token' {'s': 'error', 'code': -442, 'message': 'Please provide valid grant_type'}\n"
     ]
    }
   ],
   "source": [
    "session.set_token(auth_code)\n",
    "response = session.generate_token()\n",
    "\n",
    "## There can be two cases over here you can successfully get the acccessToken over the request or you might get some error over here. so to avoid that have this in try except block\n",
    "try: \n",
    "    access_token = response[\"access_token\"]\n",
    "    access_token\n",
    "except Exception as e:\n",
    "    print(e,response)  ## This will help you in debugging then and there itself like what was the error and also you would be able to see the value you got in response variable. instead of getting key_error for unsuccessfull response.\n"
   ]
  },
  {
   "cell_type": "code",
   "execution_count": 7,
   "metadata": {},
   "outputs": [
    {
     "ename": "NameError",
     "evalue": "name 'access_token' is not defined",
     "output_type": "error",
     "traceback": [
      "\u001b[1;31m---------------------------------------------------------------------------\u001b[0m",
      "\u001b[1;31mNameError\u001b[0m                                 Traceback (most recent call last)",
      "Cell \u001b[1;32mIn[7], line 1\u001b[0m\n\u001b[1;32m----> 1\u001b[0m \u001b[43maccess_token\u001b[49m\n",
      "\u001b[1;31mNameError\u001b[0m: name 'access_token' is not defined"
     ]
    }
   ],
   "source": [
    "access_token"
   ]
  },
  {
   "cell_type": "code",
   "execution_count": 5,
   "metadata": {
    "id": "45z21PHskotz"
   },
   "outputs": [],
   "source": [
    "# save auth code#\n",
    "#auth_code=\"eyJ0eXAiOiJKV1QiLCJhbGciOiJIUzI1NiJ9.eyJpc3MiOiJhcGkubG9naW4uZnllcnMuaW4iLCJpYXQiOjE3MjA4NjU0MDIsImV4cCI6MTcyMDg5NTQwMiwibmJmIjoxNzIwODY0ODAyLCJhdWQiOiJbXCJ4OjBcIiwgXCJ4OjFcIiwgXCJ4OjJcIiwgXCJkOjFcIiwgXCJkOjJcIiwgXCJ4OjFcIiwgXCJ4OjBcIl0iLCJzdWIiOiJhdXRoX2NvZGUiLCJkaXNwbGF5X25hbWUiOiJYUzk5MzcxIiwib21zIjoiSzEiLCJoc21fa2V5IjoiMTcwYTM1NDhkNTNiZjgyMjJjMWRjMjdkMWNkY2YxYjBmZWVhMTNjOTEzNjg5MjM5OGU3Yzc5ODYiLCJub25jZSI6IiIsImFwcF9pZCI6IjRYVEtQQUVPVjIiLCJ1dWlkIjoiNGQyM2Y1MTJhZTUyNGU1Yzk0N2VhZWMzNDQwYzc4OTEiLCJpcEFkZHIiOiIwLjAuMC4wIiwic2NvcGUiOiIifQ.b3IL02XDLDXXreLc5qPS9TQV_PpkBOPmFHMXj8Gj6A0\""
   ]
  },
  {
   "cell_type": "code",
   "execution_count": 6,
   "metadata": {},
   "outputs": [],
   "source": [
    "import json\n",
    "with open(\"./fyers_access_token.json\", \"w\") as f:\n",
    "    json.dump(response,f)"
   ]
  },
  {
   "cell_type": "code",
   "execution_count": 58,
   "metadata": {},
   "outputs": [],
   "source": [
    "## Once you have generated accessToken now we can call multiple trading related or data related apis after that in order to do so we need to first initialize the fyerModel object with all the requried params.\n",
    "\"\"\"\n",
    "fyerModel object takes following values as arguments\n",
    "1. accessToken : this is the one which you received from above \n",
    "2. client_id : this is basically the app_id for the particular app you logged into\n",
    "\"\"\"\n",
    "\n",
    "fyers = fyersModel.FyersModel(token=access_token,is_async=False,client_id=client_id)\n"
   ]
  },
  {
   "cell_type": "code",
   "execution_count": 59,
   "metadata": {
    "scrolled": true
   },
   "outputs": [
    {
     "name": "stdout",
     "output_type": "stream",
     "text": [
      "{'s': 'ok', 'code': 200, 'message': '', 'data': {'fy_id': 'XS99371', 'name': 'SANTHOSH KUMAR KOMMIRISHETTY', 'image': None, 'display_name': None, 'pin_change_date': '21-03-2024 22:15:23', 'email_id': 'santhoshkumark.komirishetty@gmail.com', 'pwd_change_date': None, 'PAN': '---------', 'mobile_number': '9963381522', 'totp': True, 'pwd_to_expire': 90}}\n",
      "########################################################################################################################\n",
      "{'code': 200, 'message': '', 's': 'ok', 'fund_limit': [{'id': 1, 'title': 'Total Balance', 'equityAmount': 0, 'commodityAmount': 0}, {'id': 2, 'title': 'Utilized Amount', 'equityAmount': 0, 'commodityAmount': 0}, {'id': 3, 'title': 'Clear Balance', 'equityAmount': 0, 'commodityAmount': 0}, {'id': 4, 'title': 'Realized Profit and Loss', 'equityAmount': 0, 'commodityAmount': 0}, {'id': 5, 'title': 'Collaterals', 'equityAmount': 0, 'commodityAmount': 0}, {'id': 6, 'title': 'Fund Transfer', 'equityAmount': 0, 'commodityAmount': 0}, {'id': 7, 'title': 'Receivables', 'equityAmount': 0, 'commodityAmount': 0}, {'id': 8, 'title': 'Adhoc Limit', 'equityAmount': 0, 'commodityAmount': 0}, {'id': 9, 'title': 'Limit at start of the day', 'equityAmount': 0, 'commodityAmount': 0}, {'id': 10, 'title': 'Available Balance', 'equityAmount': 0, 'commodityAmount': 0}]}\n",
      "########################################################################################################################\n",
      "{'code': 200, 'message': '', 's': 'ok', 'overall': {'count_total': 0, 'pnl_perc': 0, 'total_current_value': 0, 'total_investment': 0, 'total_pl': 0}, 'holdings': []}\n"
     ]
    }
   ],
   "source": [
    "\n",
    "## After this point you can call the relevant apis and get started with\n",
    "\n",
    "####################################################################################################################\n",
    "\"\"\"\n",
    "1. User Apis : This includes (Profile,Funds,Holdings)\n",
    "\"\"\"\n",
    "\n",
    "print(fyers.get_profile())  ## This will provide us with the user related data \n",
    "print(\"########################################################################################################################\")\n",
    "\n",
    "print(fyers.funds())        ## This will provide us with the funds the user has \n",
    "print(\"########################################################################################################################\")\n",
    "print(fyers.holdings())    ## This will provide the available holdings the user has \n",
    "\n",
    "\n",
    "########################################################################################################################\n"
   ]
  },
  {
   "cell_type": "code",
   "execution_count": 61,
   "metadata": {},
   "outputs": [
    {
     "name": "stdout",
     "output_type": "stream",
     "text": [
      "{'code': 200, 'message': '', 's': 'ok', 'tradeBook': []}\n",
      "########################################################################################################################\n",
      "{'code': 200, 'message': '', 's': 'ok', 'orderBook': [{'clientId': 'XS99371', 'exchange': 10, 'fyToken': '10100000003045', 'id': '24071300002200', 'instrument': 0, 'offlineOrder': False, 'source': 'API', 'status': 5, 'type': 1, 'pan': 'BDNPK4967M', 'limitPrice': 61050, 'productType': 'INTRADAY', 'qty': 1, 'disclosedQty': 0, 'remainingQuantity': 0, 'segment': 10, 'symbol': 'NSE:SBIN-EQ', 'description': 'STATE BANK OF INDIA', 'ex_sym': 'SBIN', 'orderDateTime': '13-Jul-2024 17:26:48', 'side': 1, 'orderValidity': 'DAY', 'stopPrice': 0, 'tradedPrice': 0, 'filledQty': 0, 'exchOrdId': '', 'message': \"RED:'MIS' Orders are disallowed after system square off\", 'ch': 3, 'chp': 0.350181, 'lp': 859.7, 'orderNumStatus': '24071300002200:5', 'slNo': 1, 'orderTag': '2:Untagged'}, {'clientId': 'XS99371', 'exchange': 10, 'fyToken': '10100000003045', 'id': '24071300002222', 'instrument': 0, 'offlineOrder': False, 'source': 'API', 'status': 5, 'type': 1, 'pan': 'BDNPK4967M', 'limitPrice': 61050, 'productType': 'INTRADAY', 'qty': 1, 'disclosedQty': 0, 'remainingQuantity': 0, 'segment': 10, 'symbol': 'NSE:SBIN-EQ', 'description': 'STATE BANK OF INDIA', 'ex_sym': 'SBIN', 'orderDateTime': '13-Jul-2024 17:32:08', 'side': 1, 'orderValidity': 'DAY', 'stopPrice': 0, 'tradedPrice': 0, 'filledQty': 0, 'exchOrdId': '', 'message': \"RED:'MIS' Orders are disallowed after system square off\", 'ch': 3, 'chp': 0.350181, 'lp': 859.7, 'orderNumStatus': '24071300002222:5', 'slNo': 2, 'orderTag': '2:Untagged'}]}\n",
      "########################################################################################################################\n",
      "{'code': 200, 'message': '', 's': 'ok', 'netPositions': [], 'overall': {'count_open': 0, 'count_total': 0, 'pl_realized': 0, 'pl_total': 0, 'pl_unrealized': 0}}\n"
     ]
    }
   ],
   "source": [
    "\"\"\"\n",
    "2. Transaction Apis : This includes (Tradebook,Orderbook,Positions)\n",
    "\"\"\"\n",
    "\n",
    "print(fyers.tradebook())   ## This will provide all the trade related information \n",
    "print(\"########################################################################################################################\")\n",
    "\n",
    "print(fyers.orderbook())   ## This will provide the user with all the order realted information \n",
    "print(\"########################################################################################################################\")\n",
    "\n",
    "print(fyers.positions())   ## This will provide the user with all the positions the user has on his end \n",
    "\n",
    "\n",
    "######################################################################################################################\n"
   ]
  },
  {
   "cell_type": "code",
   "execution_count": 62,
   "metadata": {},
   "outputs": [
    {
     "ename": "SyntaxError",
     "evalue": "invalid syntax (3371551695.py, line 5)",
     "output_type": "error",
     "traceback": [
      "\u001b[1;36m  Cell \u001b[1;32mIn[62], line 5\u001b[1;36m\u001b[0m\n\u001b[1;33m    close : last traded price\u001b[0m\n\u001b[1;37m                 ^\u001b[0m\n\u001b[1;31mSyntaxError\u001b[0m\u001b[1;31m:\u001b[0m invalid syntax\n"
     ]
    }
   ],
   "source": [
    "{\"3. low\":\"215.1000\",\"1. open\":\"216.1500\",\"2. high\":\"220.3800\",\"4. close\":\"220.2700\"}\n",
    "open\n",
    "high\n",
    "low\n",
    "close : last traded price"
   ]
  },
  {
   "cell_type": "code",
   "execution_count": 46,
   "metadata": {},
   "outputs": [
    {
     "name": "stdout",
     "output_type": "stream",
     "text": [
      "{'code': -50, 'message': 'limitPrice: Must be greater than or equal to 0.0025', 's': 'error'}\n"
     ]
    }
   ],
   "source": [
    "\n",
    "\"\"\"\n",
    "3. Order Placement  : This Apis helps to place order. \n",
    "There are two ways to place order \n",
    "a. single order : wherein you can fire one order at a time \n",
    "b. multi order : this is used to place a basket of order but the basket size can max be 10 symbols\n",
    "c. multileg order : this is used to place a multileg order but the legs size minimum is 2 and maximum is 3\n",
    "\"\"\"\n",
    "\n",
    "## SINGLE ORDER \n",
    "\n",
    "data =  {\n",
    "      \"symbol\":\"NSE:ONGC-EQ\",\n",
    "      \"qty\":1,\n",
    "      \"type\":1,\n",
    "      \"side\":1,\n",
    "      \"productType\":\"INTRADAY\",\n",
    "      \"limitPrice\":0,\n",
    "      \"stopPrice\":0,\n",
    "      \"validity\":\"DAY\",\n",
    "      \"disclosedQty\":0,\n",
    "      \"offlineOrder\":False,\n",
    "      \"stopLoss\":0,\n",
    "      \"takeProfit\":0\n",
    "    }                              ## This is a sample example to place a limit order you can make the further changes based on your requriements \n",
    "\n",
    "print(fyers.place_order(data))"
   ]
  },
  {
   "cell_type": "code",
   "execution_count": 47,
   "metadata": {},
   "outputs": [
    {
     "name": "stdout",
     "output_type": "stream",
     "text": [
      "{'code': 400, 'message': 'The input symbol is invalid. - leg1', 's': 'ok'}\n"
     ]
    }
   ],
   "source": [
    "## MULTILEG ORDER\n",
    "\n",
    "data = {\n",
    "    \"orderTag\": \"tag1\",\n",
    "    \"productType\": \"MARGIN\",\n",
    "    \"offlineOrder\": False,\n",
    "    \"orderType\": \"3L\",\n",
    "    \"validity\": \"IOC\",\n",
    "    \"legs\": {\n",
    "        \"leg1\": {\n",
    "          \"symbol\": \"NSE:SBIN24JUNFUT\",\n",
    "          \"qty\": 750,\n",
    "          \"side\": 1,\n",
    "          \"type\": 1,\n",
    "          \"limitPrice\": 800\n",
    "        },\n",
    "        \"leg2\": {\n",
    "            \"symbol\": \"NSE:SBIN24JULFUT\",\n",
    "            \"qty\": 750,\n",
    "            \"side\": 1,\n",
    "            \"type\": 1,\n",
    "            \"limitPrice\": 800\n",
    "        },\n",
    "        \"leg3\": {\n",
    "            \"symbol\": \"NSE:SBIN24JUN900CE\",\n",
    "            \"qty\": 750,\n",
    "            \"side\": 1,\n",
    "            \"type\": 1,\n",
    "            \"limitPrice\": 3\n",
    "        }\n",
    "    }\n",
    "}               ### This is a sample data structure used to place an 3 leg order using multileg order api .you can make the further changes based on your requriements \n",
    "\n",
    "print(fyers.place_multileg_order(data))\n",
    "\n",
    "\n",
    "###################################################################################################################\n"
   ]
  },
  {
   "cell_type": "code",
   "execution_count": 49,
   "metadata": {},
   "outputs": [
    {
     "name": "stdout",
     "output_type": "stream",
     "text": [
      "{'code': -51, 'message': 'invalid order id: 7574657627567', 's': 'error', 'id': '7574657627567'}\n",
      "{'code': 200, 'message': '', 'data': [{'statusCode': 400, 'body': {'code': -50, 'message': 'Invalid input', 's': 'error'}, 'statusDescription': 'Bad Request'}, {'statusCode': 400, 'body': {'code': -50, 'message': 'Invalid input', 's': 'error'}, 'statusDescription': 'Bad Request'}], 's': 'ok'}\n"
     ]
    }
   ],
   "source": [
    "\"\"\"\n",
    "4. Other Transaction : This includes (modify_order,exit_position,cancel_order,convert_positions)\n",
    "\"\"\"\n",
    "\n",
    "## Modify_order request \n",
    "data = {\n",
    "          \"id\":\"7574657627567\", \n",
    "          \"type\":1, \n",
    "          \"limitPrice\": 61049,\n",
    "          \"qty\":1\n",
    "      }\n",
    "\n",
    "print(fyers.modify_order(data))\n",
    "\n",
    "## Modify Multi Order \n",
    "\n",
    "data = [\n",
    "    { \"id\":\"8102710298291\",\n",
    "  \"type\":1,\n",
    "  \"limitPrice\": 61049,\n",
    "  \"qty\":0\n",
    "},\n",
    "{\n",
    "  \"id\":\"8102710298292\",\n",
    "  \"type\":1,\n",
    "  \"limitPrice\": 61049,\n",
    "  \"qty\":1 \n",
    "}]\n",
    "\n",
    "print(fyers.modify_basket_orders(data))\n"
   ]
  },
  {
   "cell_type": "code",
   "execution_count": 50,
   "metadata": {},
   "outputs": [
    {
     "name": "stdout",
     "output_type": "stream",
     "text": [
      "{'code': 200, 'message': '', 'data': [{'statusCode': 200, 'body': {'code': -99, 'message': \"RED:'MIS' Orders are disallowed after system square off\", 's': 'error', 'id': '24071300002222'}, 'statusDescription': 'OK'}, {'statusCode': 400, 'body': {'code': -50, 'message': 'The input symbol is invalid.', 's': 'error'}, 'statusDescription': 'Bad Request'}], 's': 'ok'}\n"
     ]
    }
   ],
   "source": [
    "## MULTI ORDER \n",
    "\n",
    "data = [{ \"symbol\":\"NSE:SBIN-EQ\",\n",
    "  \"qty\":1,\n",
    "  \"type\":1,  \n",
    "  \"side\":1, \n",
    "  \"productType\":\"INTRADAY\",   \n",
    "  \"limitPrice\":61050,\n",
    "  \"stopPrice\":0 ,\n",
    "  \"disclosedQty\":0, \n",
    "  \"validity\":\"DAY\", \n",
    "  \"offlineOrder\":False, \n",
    "  \"stopLoss\":0,  \n",
    "  \"takeProfit\":0\n",
    "},\n",
    "{\n",
    "  \"symbol\":\"NSE:HDFC-EQ\",\n",
    "  \"qty\":1,\n",
    "  \"type\":2,  \n",
    "  \"side\":1, \n",
    "  \"productType\":\"INTRADAY\",   \n",
    "  \"limitPrice\":0,\n",
    "  \"stopPrice\":0 ,\n",
    "  \"disclosedQty\":0, \n",
    "  \"validity\":\"DAY\", \n",
    "  \"offlineOrder\":False, \n",
    "  \"stopLoss\":0,  \n",
    "  \"takeProfit\":0\n",
    "}]                                                ### This takes input as a list containing multiple single order data into it and the execution of the orders goes in the same format as mentioned.\n",
    "\n",
    "print(fyers.place_basket_orders(data))\n"
   ]
  },
  {
   "cell_type": "code",
   "execution_count": 51,
   "metadata": {},
   "outputs": [
    {
     "name": "stdout",
     "output_type": "stream",
     "text": [
      "{'code': -51, 'message': 'invalid order id: 808058117761', 's': 'error', 'id': '808058117761'}\n",
      "{'code': 200, 'message': '', 'data': [{'statusCode': 400, 'body': {'code': -51, 'message': 'invalid order id: 808058117761', 's': 'error'}, 'statusDescription': 'Bad Request'}, {'statusCode': 400, 'body': {'code': -51, 'message': 'invalid order id: 808058117762', 's': 'error'}, 'statusDescription': 'Bad Request'}], 's': 'ok'}\n"
     ]
    }
   ],
   "source": [
    "\n",
    "### Cancel_order\n",
    "data = {\"id\":'808058117761'}\n",
    "print(fyers.cancel_order(data))\n",
    "\n",
    "### cancel_multi_order \n",
    "data  =  [\n",
    "{ \n",
    "   \"id\":'808058117761'\n",
    " },\n",
    " {\n",
    "   \"id\":'808058117762'\n",
    " }]\n",
    " \n",
    "print(fyers.cancel_basket_orders(data))\n"
   ]
  },
  {
   "cell_type": "code",
   "execution_count": 52,
   "metadata": {},
   "outputs": [
    {
     "name": "stdout",
     "output_type": "stream",
     "text": [
      "{'code': -352, 'message': 'Looks like you have no open positions.', 's': 'error'}\n",
      "{'code': -53, 'message': 'invalid position id: MCX:SILVERMIC20NOVFUT', 's': 'error'}\n"
     ]
    }
   ],
   "source": [
    "\n",
    "### Exit Position \n",
    "data  = {\n",
    "     \"id\":\"NSE:SBIN-EQ-INTRADAY\"\n",
    "   }\n",
    "\n",
    "print(fyers.exit_positions(data))\n",
    "\n",
    "\n",
    "### Convert Position\n",
    "\n",
    "data = {\n",
    "     \"symbol\":\"MCX:SILVERMIC20NOVFUT\",\n",
    "     \"positionSide\":1,\n",
    "     \"convertQty\":1,\n",
    "     \"convertFrom\":\"INTRADAY\",\n",
    "     \"convertTo\":\"CNC\"\n",
    "   }\n",
    "\n",
    "print(fyers.convert_position(data))"
   ]
  },
  {
   "cell_type": "code",
   "execution_count": 53,
   "metadata": {},
   "outputs": [
    {
     "name": "stdout",
     "output_type": "stream",
     "text": [
      "{'candles': [[1622073600, 413.7, 429.1, 412, 425.2, 73392997]], 'code': 200, 'message': '', 's': 'ok'}\n",
      "{'message': '', 'code': 200, 'd': [{'n': 'NSE:SBIN-EQ', 'v': {'ask': 0, 'bid': 859.7, 'chp': 0.35, 'ch': 3, 'description': 'NSE:SBIN-EQ', 'exchange': 'NSE', 'fyToken': '10100000003045', 'high_price': 863, 'low_price': 855.3, 'lp': 859.7, 'open_price': 856.7, 'original_name': 'NSE:SBIN-EQ', 'prev_close_price': 859.7, 'short_name': 'SBIN-EQ', 'spread': 0, 'symbol': 'NSE:SBIN-EQ', 'tt': '1720828800', 'volume': 11446064}, 's': 'ok'}], 's': 'ok'}\n",
      "{'d': {'NSE:SBIN-EQ': {'totalbuyqty': 1728, 'totalsellqty': 0, 'ask': [{'price': 0, 'volume': 0, 'ord': 0}, {'price': 0, 'volume': 0, 'ord': 0}, {'price': 0, 'volume': 0, 'ord': 0}, {'price': 0, 'volume': 0, 'ord': 0}, {'price': 0, 'volume': 0, 'ord': 0}], 'bids': [{'price': 859.7, 'volume': 1728, 'ord': 30}, {'price': 0, 'volume': 0, 'ord': 0}, {'price': 0, 'volume': 0, 'ord': 0}, {'price': 0, 'volume': 0, 'ord': 0}, {'price': 0, 'volume': 0, 'ord': 0}], 'o': 856.7, 'h': 863, 'l': 855.3, 'c': 859.7, 'chp': 0.35, 'tick_Size': 0.05, 'ch': 3, 'ltq': 5, 'ltt': 1720780087, 'ltp': 859.7, 'v': 11446064, 'atp': 859.68, 'lower_ckt': 773.75, 'upper_ckt': 945.65, 'expiry': '', 'oi': 0, 'oiflag': False, 'pdoi': 0, 'oipercent': 0}}, 'message': 'Success', 's': 'ok'}\n"
     ]
    }
   ],
   "source": [
    "\n",
    "#################################################################################################################\n",
    "\n",
    "\"\"\"\n",
    "DATA APIS : This includes following Apis(History,Quotes,MarketDepth)\n",
    "\"\"\"\n",
    "\n",
    "## Historical Data \n",
    "\n",
    "data = {\"symbol\":\"NSE:SBIN-EQ\",\"resolution\":\"D\",\"date_format\":\"0\",\"range_from\":\"1622097600\",\"range_to\":\"1622097685\",\"cont_flag\":\"1\"}\n",
    "\n",
    "print(fyers.history(data))\n",
    "\n",
    "## Quotes \n",
    "\n",
    "data = {\"symbols\":\"NSE:SBIN-EQ\"}\n",
    "print(fyers.quotes(data))\n",
    "\n",
    "\n",
    "## Market Depth \n",
    "\n",
    "data = {\"symbol\":\"NSE:SBIN-EQ\",\"ohlcv_flag\":\"1\"}\n",
    "print(fyers.depth(data))"
   ]
  },
  {
   "cell_type": "code",
   "execution_count": 55,
   "metadata": {},
   "outputs": [
    {
     "name": "stdout",
     "output_type": "stream",
     "text": [
      "Response: {'type': 'cn', 'code': 200, 'message': 'Authentication done', 's': 'ok'}\n",
      "Response: {'type': 'ful', 'code': 200, 'message': 'Full Mode On', 's': 'ok'}\n",
      "Response: {'type': 'sub', 'code': 200, 'message': 'Subscribed', 's': 'ok'}\n",
      "Response: {'ltp': 859.7, 'vol_traded_today': 11446064, 'last_traded_time': 1720780087, 'exch_feed_time': 1720780483, 'bid_size': 1728, 'ask_size': 0, 'bid_price': 859.7, 'ask_price': 0.0, 'last_traded_qty': 5, 'tot_buy_qty': 1728, 'tot_sell_qty': 0, 'avg_trade_price': 859.68, 'low_price': 855.3, 'high_price': 863.0, 'lower_ckt': 0, 'upper_ckt': 0, 'open_price': 856.7, 'prev_close_price': 856.7, 'type': 'sf', 'symbol': 'NSE:SBIN-EQ', 'ch': 3.0, 'chp': 0.3502}\n",
      "Response: {'ltp': 3065.45, 'vol_traded_today': 756036, 'last_traded_time': 1720780185, 'exch_feed_time': 1720780186, 'bid_size': 0, 'ask_size': 87, 'bid_price': 0.0, 'ask_price': 3065.45, 'last_traded_qty': 20, 'tot_buy_qty': 0, 'tot_sell_qty': 87, 'avg_trade_price': 3075.05, 'low_price': 3058.35, 'high_price': 3098.8, 'lower_ckt': 0, 'upper_ckt': 0, 'open_price': 3090.0, 'prev_close_price': 3078.3, 'type': 'sf', 'symbol': 'NSE:ADANIENT-EQ', 'ch': -12.85, 'chp': -0.4174}\n",
      "Error: EOF occurred in violation of protocol (_ssl.c:2406)\n",
      "Attempting reconnect 1 of 5...\n",
      "Error: [Errno 11001] getaddrinfo failed\n",
      "Attempting reconnect 2 of 5...\n",
      "Error: 'FyersModel' object has no attribute 'subscribe'\n",
      "Error: [Errno 11001] getaddrinfo failed\n",
      "Attempting reconnect 3 of 5...\n",
      "Error: 'FyersModel' object has no attribute 'subscribe'\n",
      "Error: [Errno 11001] getaddrinfo failed\n",
      "Attempting reconnect 4 of 5...\n",
      "Error: 'FyersModel' object has no attribute 'subscribe'\n",
      "Error: {'type': 'cn', 'code': -99, 'message': 'Token is expired', 's': 'error'}\n",
      "Error: 'FyersModel' object has no attribute 'subscribe'\n"
     ]
    }
   ],
   "source": [
    "#Getting started with Data Socket\n",
    "\n",
    "from fyers_apiv3.FyersWebsocket import data_ws\n",
    "\n",
    "\n",
    "def onmessage(message):\n",
    "    \"\"\"\n",
    "    Callback function to handle incoming messages from the FyersDataSocket WebSocket.\n",
    "\n",
    "    Parameters:\n",
    "        message (dict): The received message from the WebSocket.\n",
    "\n",
    "    \"\"\"\n",
    "    print(\"Response:\", message)\n",
    "\n",
    "\n",
    "def onerror(message):\n",
    "    \"\"\"\n",
    "    Callback function to handle WebSocket errors.\n",
    "\n",
    "    Parameters:\n",
    "        message (dict): The error message received from the WebSocket.\n",
    "\n",
    "\n",
    "    \"\"\"\n",
    "    print(\"Error:\", message)\n",
    "\n",
    "\n",
    "def onclose(message):\n",
    "    \"\"\"\n",
    "    Callback function to handle WebSocket connection close events.\n",
    "    \"\"\"\n",
    "    print(\"Connection closed:\", message)\n",
    "\n",
    "\n",
    "def onopen():\n",
    "    \"\"\"\n",
    "    Callback function to subscribe to data type and symbols upon WebSocket connection.\n",
    "\n",
    "    \"\"\"\n",
    "    # Specify the data type and symbols you want to subscribe to\n",
    "    data_type = \"SymbolUpdate\"\n",
    "    # data_type = \"DepthUpdate\"\n",
    "\n",
    "\n",
    "    # Subscribe to the specified symbols and data type\n",
    "    symbols = ['NSE:SBIN-EQ', 'NSE:ADANIENT-EQ']\n",
    "    fyers.subscribe(symbols=symbols, data_type=data_type)\n",
    "\n",
    "    # Keep the socket running to receive real-time data\n",
    "    fyers.keep_running()\n",
    "\n",
    "\n",
    "# Replace the sample access token with your actual access token obtained from Fyers\n",
    "access_token = \"eyJ0eXAiOiJKV1QiLCJhbGciOiJIUzI1NiJ9.eyJpc3MiOiJhcGkuZnllcnMuaW4iLCJpYXQiOjE3MjA4NzEzNzAsImV4cCI6MTcyMDkxNzAzMCwibmJmIjoxNzIwODcxMzcwLCJhdWQiOlsieDowIiwieDoxIiwieDoyIiwiZDoxIiwiZDoyIiwieDoxIiwieDowIl0sInN1YiI6ImFjY2Vzc190b2tlbiIsImF0X2hhc2giOiJnQUFBQUFCbWttbktFUU1PREFidjk3TDd4dXc1eHFpM2l4N3BDZEJDVzRqaEdGS0pvY3ZwdVZEOTJlZXREMzlIbDRsWW8yWmVicEtnYnNKUGpncUl5R2ZSTmNWRUVQNmF0aERGWGhielVQRXAtaEdOak8tMnZOdz0iLCJkaXNwbGF5X25hbWUiOiJTQU5USE9TSCBLVU1BUiBLT01NSVJJU0hFVFRZIiwib21zIjoiSzEiLCJoc21fa2V5IjoiMTcwYTM1NDhkNTNiZjgyMjJjMWRjMjdkMWNkY2YxYjBmZWVhMTNjOTEzNjg5MjM5OGU3Yzc5ODYiLCJmeV9pZCI6IlhTOTkzNzEiLCJhcHBUeXBlIjoxMDAsInBvYV9mbGFnIjoiTiJ9.lwAdFthgVhBfRdabFXEE-MeMBz1yEXJglo5VMqBujYE\"\n",
    "\n",
    "# Create a FyersDataSocket instance with the provided parameters\n",
    "fyers = data_ws.FyersDataSocket(\n",
    "    access_token=access_token,       # Access token in the format \"appid:accesstoken\"\n",
    "    log_path=\"\",                     # Path to save logs. Leave empty to auto-create logs in the current directory.\n",
    "    litemode=False,                  # Lite mode disabled. Set to True if you want a lite response.\n",
    "    write_to_file=False,              # Save response in a log file instead of printing it.\n",
    "    reconnect=True,                  # Enable auto-reconnection to WebSocket on disconnection.\n",
    "    on_connect=onopen,               # Callback function to subscribe to data upon connection.\n",
    "    on_close=onclose,                # Callback function to handle WebSocket connection close events.\n",
    "    on_error=onerror,                # Callback function to handle WebSocket errors.\n",
    "    on_message=onmessage             # Callback function to handle incoming messages from the WebSocket.\n",
    ")\n",
    "\n",
    "# Establish a connection to the Fyers WebSocket\n",
    "fyers.connect()"
   ]
  },
  {
   "cell_type": "code",
   "execution_count": 56,
   "metadata": {},
   "outputs": [
    {
     "name": "stdout",
     "output_type": "stream",
     "text": [
      "Error: Handshake status 403 Forbidden -+-+- {'date': 'Sat, 13 Jul 2024 12:04:50 GMT', 'content-length': '0', 'connection': 'keep-alive', 'cf-cache-status': 'DYNAMIC', 'strict-transport-security': 'max-age=31536000; includeSubDomains; preload', 'x-content-type-options': 'nosniff', 'server': 'cloudflare', 'cf-ray': '8a2923474ea4f2de-BOM'} -+-+- b''\n",
      "Attempting reconnect 1 of 5...\n",
      "Error: Handshake status 403 Forbidden -+-+- {'date': 'Sat, 13 Jul 2024 12:04:55 GMT', 'content-length': '0', 'connection': 'keep-alive', 'cf-cache-status': 'DYNAMIC', 'strict-transport-security': 'max-age=31536000; includeSubDomains; preload', 'x-content-type-options': 'nosniff', 'server': 'cloudflare', 'cf-ray': '8a2923694d74f296-BOM'} -+-+- b''\n",
      "Attempting reconnect 2 of 5...\n",
      "Error: Handshake status 403 Forbidden -+-+- {'date': 'Sat, 13 Jul 2024 12:05:02 GMT', 'content-length': '0', 'connection': 'keep-alive', 'cf-cache-status': 'DYNAMIC', 'strict-transport-security': 'max-age=31536000; includeSubDomains; preload', 'x-content-type-options': 'nosniff', 'server': 'cloudflare', 'cf-ray': '8a29238e3a2b9aa5-NAG'} -+-+- b''\n",
      "Attempting reconnect 3 of 5...\n",
      "Error: Handshake status 403 Forbidden -+-+- {'date': 'Sat, 13 Jul 2024 12:05:07 GMT', 'content-length': '0', 'connection': 'keep-alive', 'cf-cache-status': 'DYNAMIC', 'strict-transport-security': 'max-age=31536000; includeSubDomains; preload', 'x-content-type-options': 'nosniff', 'server': 'cloudflare', 'cf-ray': '8a2923b06b1f79ee-HYD'} -+-+- b''\n",
      "Attempting reconnect 4 of 5...\n",
      "Error: Handshake status 403 Forbidden -+-+- {'date': 'Sat, 13 Jul 2024 12:05:12 GMT', 'content-length': '0', 'connection': 'keep-alive', 'cf-cache-status': 'DYNAMIC', 'strict-transport-security': 'max-age=31536000; includeSubDomains; preload', 'x-content-type-options': 'nosniff', 'server': 'cloudflare', 'cf-ray': '8a2923d41eb1f2da-BOM'} -+-+- b''\n",
      "Attempting reconnect 5 of 5...\n",
      "Error: Handshake status 403 Forbidden -+-+- {'date': 'Sat, 13 Jul 2024 12:05:18 GMT', 'content-length': '0', 'connection': 'keep-alive', 'cf-cache-status': 'DYNAMIC', 'strict-transport-security': 'max-age=31536000; includeSubDomains; preload', 'x-content-type-options': 'nosniff', 'server': 'cloudflare', 'cf-ray': '8a2923f889b2f347-BOM'} -+-+- b''\n",
      "Max reconnect attempts reached. Connection abandoned.\n"
     ]
    }
   ],
   "source": [
    "#Getting started with Order Socket\n",
    "\n",
    "from fyers_apiv3.FyersWebsocket import order_ws\n",
    "\n",
    "\n",
    "def onTrade(message):\n",
    "    \"\"\"\n",
    "    Callback function to handle incoming messages from the FyersDataSocket WebSocket.\n",
    "\n",
    "    Parameters:\n",
    "        message (dict): The received message from the WebSocket.\n",
    "\n",
    "    \"\"\"\n",
    "    print(\"Trade Response:\", message)\n",
    "\n",
    "def onOrder(message):\n",
    "    \"\"\"\n",
    "    Callback function to handle incoming messages from the FyersDataSocket WebSocket.\n",
    "\n",
    "    Parameters:\n",
    "        message (dict): The received message from the WebSocket.\n",
    "\n",
    "    \"\"\"\n",
    "    print(\"Order Response:\", message)\n",
    "\n",
    "def onPosition(message):\n",
    "    \"\"\"\n",
    "    Callback function to handle incoming messages from the FyersDataSocket WebSocket.\n",
    "\n",
    "    Parameters:\n",
    "        message (dict): The received message from the WebSocket.\n",
    "\n",
    "    \"\"\"\n",
    "    print(\"Position Response:\", message)\n",
    "\n",
    "def onGeneral(message):\n",
    "    \"\"\"\n",
    "    Callback function to handle incoming messages from the FyersDataSocket WebSocket.\n",
    "\n",
    "    Parameters:\n",
    "        message (dict): The received message from the WebSocket.\n",
    "\n",
    "    \"\"\"\n",
    "    print(\"General Response:\", message)\n",
    "def onerror(message):\n",
    "    \"\"\"\n",
    "    Callback function to handle WebSocket errors.\n",
    "\n",
    "    Parameters:\n",
    "        message (dict): The error message received from the WebSocket.\n",
    "\n",
    "\n",
    "    \"\"\"\n",
    "    print(\"Error:\", message)\n",
    "\n",
    "\n",
    "def onclose(message):\n",
    "    \"\"\"\n",
    "    Callback function to handle WebSocket connection close events.\n",
    "    \"\"\"\n",
    "    print(\"Connection closed:\", message)\n",
    "\n",
    "\n",
    "def onopen():\n",
    "    \"\"\"\n",
    "    Callback function to subscribe to data type and symbols upon WebSocket connection.\n",
    "\n",
    "    \"\"\"\n",
    "    # Specify the data type and symbols you want to subscribe to\n",
    "    # data_type = \"OnOrders\"\n",
    "    # data_type = \"OnTrades\"\n",
    "    # data_type = \"OnPositions\"\n",
    "    # data_type = \"OnGeneral\"\n",
    "    data_type = \"OnOrders,OnTrades,OnPositions,OnGeneral\"\n",
    "\n",
    "    fyers.subscribe(data_type=data_type)\n",
    "\n",
    "    # Keep the socket running to receive real-time data\n",
    "    fyers.keep_running()\n",
    "\n",
    "\n",
    "# Replace the sample access token with your actual access token obtained from Fyers\n",
    "#access_token = \"XCXXXXXXM-100:eyJ0tHfZNSBoLo\"\n",
    "\n",
    "# Create a FyersDataSocket instance with the provided parameters\n",
    "fyers = order_ws.FyersOrderSocket(\n",
    "    access_token=access_token,  # Your access token for authenticating with the Fyers API.\n",
    "    write_to_file=False,        # A boolean flag indicating whether to write data to a log file or not.\n",
    "    log_path=\"\",                # The path to the log file if write_to_file is set to True (empty string means current directory).\n",
    "    on_connect=onopen,          # Callback function to be executed upon successful WebSocket connection.\n",
    "    on_close=onclose,           # Callback function to be executed when the WebSocket connection is closed.\n",
    "    on_error=onerror,           # Callback function to handle any WebSocket errors that may occur.\n",
    "    on_general=onGeneral,       # Callback function to handle general events from the WebSocket.\n",
    "    on_orders=onOrder,          # Callback function to handle order-related events from the WebSocket.\n",
    "    on_positions=onPosition,    # Callback function to handle position-related events from the WebSocket.\n",
    "    on_trades=onTrade           # Callback function to handle trade-related events from the WebSocket.\n",
    ")\n",
    "\n",
    "# Establish a connection to the Fyers WebSocket\n",
    "fyers.connect()"
   ]
  },
  {
   "cell_type": "code",
   "execution_count": 29,
   "metadata": {},
   "outputs": [
    {
     "name": "stdout",
     "output_type": "stream",
     "text": [
      "Error fetching data: 401 Client Error: ERROR for url: https://api-t1.fyers.in/api/v3/validate-authcode\n"
     ]
    }
   ],
   "source": [
    "import requests\n",
    "import json\n",
    "\n",
    "# Define the URL\n",
    "url = 'https://api-t1.fyers.in/api/v3/validate-authcode'\n",
    "\n",
    "# Define the JSON data payload\n",
    "payload = {\n",
    "    \"grant_type\": \"authorization_code\",\n",
    "    \"appIdHash\": \"d8f152a3c455add2bd636a2ec6ff893394c8cc4e84d439d95951510b032500e3\",\n",
    "    \"code\": \"eyJ0eXAiOiJKV1QiLCJhbGciOiJIUzI1NiJ9.eyJpc3MiOiJhcGkuZnllcnMuaW4iLCJpYXQiOjE3MjA4NjY1MTEsImV4cCI6MTcyMjEyNjYzMSwibmJmIjoxNzIwODY2NTExLCJhdWQiOlsieDowIiwieDoxIiwieDoyIiwiZDoxIiwiZDoyIiwieDoxIiwieDowIl0sInN1YiI6InJlZnJlc2hfdG9rZW4iLCJhdF9oYXNoIjoiZ0FBQUFBQm1rbGJQekE1OGFycExhNW9zV0lBOHpNQ092ZnBORWlxWUM2RnZITVBHQmZ0UHdLd2ZSSGVYSTFJci1RZ0w5cmpsbm11MnhSM3UwbEw2THNMYTUydnN4VGlYSEVqSWRRNGQwZlJ5ZDFOOE5tNFBmYkE9IiwiZGlzcGxheV9uYW1lIjoiU0FOVEhPU0ggS1VNQVIgS09NTUlSSVNIRVRUWSIsIm9tcyI6IksxIiwiaHNtX2tleSI6IjE3MGEzNTQ4ZDUzYmY4MjIyYzFkYzI3ZDFjZGNmMWIwZmVlYTEzYzkxMzY4OTIzOThlN2M3OTg2IiwiZnlfaWQiOiJYUzk5MzcxIiwiYXBwVHlwZSI6MTAwLCJwb2FfZmxhZyI6Ik4ifQ.FLRM6sd769rat-3CTF-7G4Wo3WQWCYUX77g74sjaZUY\"\n",
    "}\n",
    "\n",
    "# Convert payload to JSON format\n",
    "payload_json = json.dumps(payload)\n",
    "\n",
    "# Set headers\n",
    "headers = {\n",
    "    \"Content-Type\": \"application/json\"\n",
    "}\n",
    "\n",
    "try:\n",
    "    # Send POST request\n",
    "    response = requests.post(url, data=payload_json, headers=headers)\n",
    "    \n",
    "    # Raise exception for HTTP errors\n",
    "    response.raise_for_status()\n",
    "\n",
    "    # Parse response JSON\n",
    "    data = response.json()\n",
    "    print(\"Success Response:\")\n",
    "    print(json.dumps(data, indent=2))\n",
    "\n",
    "except requests.exceptions.RequestException as e:\n",
    "    print(f\"Error fetching data: {e}\")\n"
   ]
  },
  {
   "cell_type": "code",
   "execution_count": null,
   "metadata": {},
   "outputs": [],
   "source": [
    "import requests\n",
    "import json\n",
    "\n",
    "# Define the URL\n",
    "url = 'https://api-t1.fyers.in/api/v3/validate-refresh-token'\n",
    "\n",
    "# Define the JSON data payload\n",
    "payload = {\n",
    "    \"grant_type\": \"refresh_token\",\n",
    "    \"appIdHash\": \"c3efb1075ef2332b3a4ec7d44b0f05c1********************\",\n",
    "    \"refresh_token\": \"eyJ0eXAiOiJKV1QiLCJhbGciOiJIUzI1NiJ9.eyJpc3MiOiJhcGkuZnllcnMuaW4iLCJpYXQiOjE3MjA4NjY1MTEsImV4cCI6MTcyMjEyNjYzMSwibmJmIjoxNzIwODY2NTExLCJhdWQiOlsieDowIiwieDoxIiwieDoyIiwiZDoxIiwiZDoyIiwieDoxIiwieDowIl0sInN1YiI6InJlZnJlc2hfdG9rZW4iLCJhdF9oYXNoIjoiZ0FBQUFBQm1rbGJQekE1OGFycExhNW9zV0lBOHpNQ092ZnBORWlxWUM2RnZITVBHQmZ0UHdLd2ZSSGVYSTFJci1RZ0w5cmpsbm11MnhSM3UwbEw2THNMYTUydnN4VGlYSEVqSWRRNGQwZlJ5ZDFOOE5tNFBmYkE9IiwiZGlzcGxheV9uYW1lIjoiU0FOVEhPU0ggS1VNQVIgS09NTUlSSVNIRVRUWSIsIm9tcyI6IksxIiwiaHNtX2tleSI6IjE3MGEzNTQ4ZDUzYmY4MjIyYzFkYzI3ZDFjZGNmMWIwZmVlYTEzYzkxMzY4OTIzOThlN2M3OTg2IiwiZnlfaWQiOiJYUzk5MzcxIiwiYXBwVHlwZSI6MTAwLCJwb2FfZmxhZyI6Ik4ifQ.FLRM6sd769rat-3CTF-7G4Wo3WQWCYUX77g74sjaZUY\",\n",
    "    \"pin\": \"****\"\n",
    "}\n",
    "\n",
    "# Convert payload to JSON format\n",
    "payload_json = json.dumps(payload)\n",
    "\n",
    "# Set headers\n",
    "headers = {\n",
    "    \"Content-Type\": \"application/json\"\n",
    "}\n",
    "\n",
    "try:\n",
    "    # Send POST request\n",
    "    response = requests.post(url, data=payload_json, headers=headers)\n",
    "    \n",
    "    # Raise exception for HTTP errors\n",
    "    response.raise_for_status()\n",
    "\n",
    "    # Parse response JSON\n",
    "    data = response.json()\n",
    "    print(\"Success Response:\")\n",
    "    print(json.dumps(data, indent=2))\n",
    "\n",
    "except requests.exceptions.RequestException as e:\n",
    "    print(f\"Error fetching data: {e}\")\n"
   ]
  }
 ],
 "metadata": {
  "colab": {
   "provenance": []
  },
  "kernelspec": {
   "display_name": "Python 3 (ipykernel)",
   "language": "python",
   "name": "python3"
  },
  "language_info": {
   "codemirror_mode": {
    "name": "ipython",
    "version": 3
   },
   "file_extension": ".py",
   "mimetype": "text/x-python",
   "name": "python",
   "nbconvert_exporter": "python",
   "pygments_lexer": "ipython3",
   "version": "3.12.4"
  }
 },
 "nbformat": 4,
 "nbformat_minor": 4
}

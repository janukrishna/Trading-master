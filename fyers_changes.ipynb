{
 "cells": [
  {
   "cell_type": "code",
   "execution_count": 1,
   "metadata": {
    "colab": {
     "base_uri": "https://localhost:8080/"
    },
    "collapsed": true,
    "id": "C0jPZCvwjVYn",
    "jupyter": {
     "outputs_hidden": true
    },
    "outputId": "c2ddff81-ddc2-4f5c-8691-2861046f0a23"
   },
   "outputs": [
    {
     "name": "stdout",
     "output_type": "stream",
     "text": [
      "Requirement already satisfied: fyers-apiv3 in /usr/local/lib/python3.10/dist-packages (3.1.2)\n",
      "Requirement already satisfied: requests==2.31.0 in /usr/local/lib/python3.10/dist-packages (from fyers-apiv3) (2.31.0)\n",
      "Requirement already satisfied: asyncio==3.4.3 in /usr/local/lib/python3.10/dist-packages (from fyers-apiv3) (3.4.3)\n",
      "Requirement already satisfied: aiohttp==3.9.3 in /usr/local/lib/python3.10/dist-packages (from fyers-apiv3) (3.9.3)\n",
      "Requirement already satisfied: aws-lambda-powertools==1.25.5 in /usr/local/lib/python3.10/dist-packages (from fyers-apiv3) (1.25.5)\n",
      "Requirement already satisfied: websocket-client==1.6.1 in /usr/local/lib/python3.10/dist-packages (from fyers-apiv3) (1.6.1)\n",
      "Requirement already satisfied: aiosignal>=1.1.2 in /usr/local/lib/python3.10/dist-packages (from aiohttp==3.9.3->fyers-apiv3) (1.3.1)\n",
      "Requirement already satisfied: attrs>=17.3.0 in /usr/local/lib/python3.10/dist-packages (from aiohttp==3.9.3->fyers-apiv3) (23.2.0)\n",
      "Requirement already satisfied: frozenlist>=1.1.1 in /usr/local/lib/python3.10/dist-packages (from aiohttp==3.9.3->fyers-apiv3) (1.4.1)\n",
      "Requirement already satisfied: multidict<7.0,>=4.5 in /usr/local/lib/python3.10/dist-packages (from aiohttp==3.9.3->fyers-apiv3) (6.0.5)\n",
      "Requirement already satisfied: yarl<2.0,>=1.0 in /usr/local/lib/python3.10/dist-packages (from aiohttp==3.9.3->fyers-apiv3) (1.9.4)\n",
      "Requirement already satisfied: async-timeout<5.0,>=4.0 in /usr/local/lib/python3.10/dist-packages (from aiohttp==3.9.3->fyers-apiv3) (4.0.3)\n",
      "Requirement already satisfied: aws-xray-sdk<3.0.0,>=2.8.0 in /usr/local/lib/python3.10/dist-packages (from aws-lambda-powertools==1.25.5->fyers-apiv3) (2.14.0)\n",
      "Requirement already satisfied: boto3<2.0,>=1.18 in /usr/local/lib/python3.10/dist-packages (from aws-lambda-powertools==1.25.5->fyers-apiv3) (1.34.144)\n",
      "Requirement already satisfied: fastjsonschema<3.0.0,>=2.14.5 in /usr/local/lib/python3.10/dist-packages (from aws-lambda-powertools==1.25.5->fyers-apiv3) (2.20.0)\n",
      "Requirement already satisfied: jmespath<0.11.0,>=0.10.0 in /usr/local/lib/python3.10/dist-packages (from aws-lambda-powertools==1.25.5->fyers-apiv3) (0.10.0)\n",
      "Requirement already satisfied: charset-normalizer<4,>=2 in /usr/local/lib/python3.10/dist-packages (from requests==2.31.0->fyers-apiv3) (3.3.2)\n",
      "Requirement already satisfied: idna<4,>=2.5 in /usr/local/lib/python3.10/dist-packages (from requests==2.31.0->fyers-apiv3) (3.7)\n",
      "Requirement already satisfied: urllib3<3,>=1.21.1 in /usr/local/lib/python3.10/dist-packages (from requests==2.31.0->fyers-apiv3) (2.0.7)\n",
      "Requirement already satisfied: certifi>=2017.4.17 in /usr/local/lib/python3.10/dist-packages (from requests==2.31.0->fyers-apiv3) (2024.7.4)\n",
      "Requirement already satisfied: wrapt in /usr/local/lib/python3.10/dist-packages (from aws-xray-sdk<3.0.0,>=2.8.0->aws-lambda-powertools==1.25.5->fyers-apiv3) (1.14.1)\n",
      "Requirement already satisfied: botocore>=1.11.3 in /usr/local/lib/python3.10/dist-packages (from aws-xray-sdk<3.0.0,>=2.8.0->aws-lambda-powertools==1.25.5->fyers-apiv3) (1.34.144)\n",
      "Requirement already satisfied: s3transfer<0.11.0,>=0.10.0 in /usr/local/lib/python3.10/dist-packages (from boto3<2.0,>=1.18->aws-lambda-powertools==1.25.5->fyers-apiv3) (0.10.2)\n",
      "Requirement already satisfied: python-dateutil<3.0.0,>=2.1 in /usr/local/lib/python3.10/dist-packages (from botocore>=1.11.3->aws-xray-sdk<3.0.0,>=2.8.0->aws-lambda-powertools==1.25.5->fyers-apiv3) (2.8.2)\n",
      "Requirement already satisfied: six>=1.5 in /usr/local/lib/python3.10/dist-packages (from python-dateutil<3.0.0,>=2.1->botocore>=1.11.3->aws-xray-sdk<3.0.0,>=2.8.0->aws-lambda-powertools==1.25.5->fyers-apiv3) (1.16.0)\n"
     ]
    }
   ],
   "source": [
    "!pip install fyers-apiv3"
   ]
  },
  {
   "cell_type": "code",
   "execution_count": 4,
   "metadata": {
    "id": "le856b8GkIrj"
   },
   "outputs": [],
   "source": [
    "# import the required module from the fyers_apiv3 package\n",
    "from fyers_apiv3 import fyersModel"
   ]
  },
  {
   "cell_type": "code",
   "execution_count": 5,
   "metadata": {
    "id": "jiN28tSjkKUU"
   },
   "outputs": [],
   "source": [
    "# Replace these values with your actual API credentials\n",
    "client_id = \"4XTKPAEOV2-100\"\n",
    "secret_key = \"ZZOS6DOV1V\"\n",
    "redirect_uri = \"https://fyers.in/\"\n",
    "response_type = \"code\"\n",
    "state = \"sample_state\"\n",
    "grant_type = \"authorization_code\""
   ]
  },
  {
   "cell_type": "code",
   "execution_count": 6,
   "metadata": {
    "colab": {
     "base_uri": "https://localhost:8080/",
     "height": 35
    },
    "id": "o9_unrEFka-6",
    "outputId": "6c906269-2fd7-46fc-a7ec-4b53b668ab81"
   },
   "outputs": [
    {
     "data": {
      "text/plain": [
       "'https://api-t1.fyers.in/api/v3/generate-authcode?client_id=4XTKPAEOV2-100&redirect_uri=https%3A%2F%2Ffyers.in%2F&response_type=code&state=None'"
      ]
     },
     "execution_count": 6,
     "metadata": {},
     "output_type": "execute_result"
    }
   ],
   "source": [
    "# Create a session model with the provided credentials\n",
    "session = fyersModel.SessionModel(\n",
    "    client_id=client_id,\n",
    "    secret_key=secret_key,\n",
    "    redirect_uri=redirect_uri,\n",
    "    response_type=response_type\n",
    ")\n",
    "\n",
    "# Generate the auth code using the session model\n",
    "response = session.generate_authcode()\n",
    "response"
   ]
  },
  {
   "cell_type": "code",
   "execution_count": 7,
   "metadata": {
    "id": "45z21PHskotz"
   },
   "outputs": [],
   "source": [
    "# save auth code\n",
    "auth_code='eyJ0eXAiOiJKV1QiLCJhbGciOiJIUzI1NiJ9.eyJpc3MiOiJhcGkubG9naW4uZnllcnMuaW4iLCJpYXQiOjE3MjExMjYzNDMsImV4cCI6MTcyMTE1NjM0MywibmJmIjoxNzIxMTI1NzQzLCJhdWQiOiJbXCJ4OjBcIiwgXCJ4OjFcIiwgXCJ4OjJcIiwgXCJkOjFcIiwgXCJkOjJcIiwgXCJ4OjFcIiwgXCJ4OjBcIl0iLCJzdWIiOiJhdXRoX2NvZGUiLCJkaXNwbGF5X25hbWUiOiJYUzk5MzcxIiwib21zIjoiSzEiLCJoc21fa2V5IjoiMTcwYTM1NDhkNTNiZjgyMjJjMWRjMjdkMWNkY2YxYjBmZWVhMTNjOTEzNjg5MjM5OGU3Yzc5ODYiLCJub25jZSI6IiIsImFwcF9pZCI6IjRYVEtQQUVPVjIiLCJ1dWlkIjoiNTg5ODQxMzE1NGU0NGQwNmJmZDUwYmQ2MmI4ZGFmNzkiLCJpcEFkZHIiOiIwLjAuMC4wIiwic2NvcGUiOiIifQ.UOgNc5vic2U0zT1N84OXrkrCB0M3ZppotBNfZRzF8CQ'"
   ]
  },
  {
   "cell_type": "code",
   "execution_count": 8,
   "metadata": {
    "colab": {
     "base_uri": "https://localhost:8080/"
    },
    "id": "sD-AxX18kwFI",
    "outputId": "c5fe85d5-be69-492d-f6ac-b654e2f353f6"
   },
   "outputs": [
    {
     "data": {
      "text/plain": [
       "{'s': 'ok',\n",
       " 'code': 200,\n",
       " 'message': '',\n",
       " 'access_token': 'eyJ0eXAiOiJKV1QiLCJhbGciOiJIUzI1NiJ9.eyJpc3MiOiJhcGkuZnllcnMuaW4iLCJpYXQiOjE3MjExMjYzNjksImV4cCI6MTcyMTE3NjIyOSwibmJmIjoxNzIxMTI2MzY5LCJhdWQiOlsieDowIiwieDoxIiwieDoyIiwiZDoxIiwiZDoyIiwieDoxIiwieDowIl0sInN1YiI6ImFjY2Vzc190b2tlbiIsImF0X2hhc2giOiJnQUFBQUFCbWxrM2hCdnJGaXlnNTVxNVdDXzM4LXZhRHpFWkk1Nk1QX3RmQVZkRG54TlBxci1LdDRURW16NEViSmJOVk1uRmlfekR2YVZiWVA3dzVKV3RjUUotWWpTckFiWjQ2bzduM2toMmZndHFlX0JKMF8zQT0iLCJkaXNwbGF5X25hbWUiOiJTQU5USE9TSCBLVU1BUiBLT01NSVJJU0hFVFRZIiwib21zIjoiSzEiLCJoc21fa2V5IjoiMTcwYTM1NDhkNTNiZjgyMjJjMWRjMjdkMWNkY2YxYjBmZWVhMTNjOTEzNjg5MjM5OGU3Yzc5ODYiLCJmeV9pZCI6IlhTOTkzNzEiLCJhcHBUeXBlIjoxMDAsInBvYV9mbGFnIjoiTiJ9.N1POqFKY3D8j03uh1Jh4qz0eynWHh0eHAg3UscfIyYk',\n",
       " 'refresh_token': 'eyJ0eXAiOiJKV1QiLCJhbGciOiJIUzI1NiJ9.eyJpc3MiOiJhcGkuZnllcnMuaW4iLCJpYXQiOjE3MjExMjYzNjksImV4cCI6MTcyMjM4NTgyOSwibmJmIjoxNzIxMTI2MzY5LCJhdWQiOlsieDowIiwieDoxIiwieDoyIiwiZDoxIiwiZDoyIiwieDoxIiwieDowIl0sInN1YiI6InJlZnJlc2hfdG9rZW4iLCJhdF9oYXNoIjoiZ0FBQUFBQm1sazNoQnZyRml5ZzU1cTVXQ18zOC12YUR6RVpJNTZNUF90ZkFWZERueE5QcXItS3Q0VEVtejRFYkpiTlZNbkZpX3pEdmFWYllQN3c1Sld0Y1FKLVlqU3JBYlo0Nm83bjNraDJmZ3RxZV9CSjBfM0E9IiwiZGlzcGxheV9uYW1lIjoiU0FOVEhPU0ggS1VNQVIgS09NTUlSSVNIRVRUWSIsIm9tcyI6IksxIiwiaHNtX2tleSI6IjE3MGEzNTQ4ZDUzYmY4MjIyYzFkYzI3ZDFjZGNmMWIwZmVlYTEzYzkxMzY4OTIzOThlN2M3OTg2IiwiZnlfaWQiOiJYUzk5MzcxIiwiYXBwVHlwZSI6MTAwLCJwb2FfZmxhZyI6Ik4ifQ.XHoow9IN-WOGcZtYmgmLgWkZ-kvOUmoQyoAlWVkhaRI'}"
      ]
     },
     "execution_count": 8,
     "metadata": {},
     "output_type": "execute_result"
    }
   ],
   "source": [
    "# Create a session object to handle the Fyers API authentication and token generation\n",
    "session = fyersModel.SessionModel(\n",
    "    client_id=client_id,\n",
    "    secret_key=secret_key,\n",
    "    redirect_uri=redirect_uri,\n",
    "    response_type=response_type,\n",
    "    grant_type=grant_type\n",
    ")\n",
    "\n",
    "# Set the authorization code in the session object\n",
    "session.set_token(auth_code)\n",
    "\n",
    "# Generate the access token using the authorization code\n",
    "response = session.generate_token()\n",
    "response"
   ]
  },
  {
   "cell_type": "code",
   "execution_count": 9,
   "metadata": {},
   "outputs": [],
   "source": [
    "access_token = response[\"access_token\"]"
   ]
  },
  {
   "cell_type": "code",
   "execution_count": 10,
   "metadata": {},
   "outputs": [
    {
     "data": {
      "text/plain": [
       "'eyJ0eXAiOiJKV1QiLCJhbGciOiJIUzI1NiJ9.eyJpc3MiOiJhcGkuZnllcnMuaW4iLCJpYXQiOjE3MjExMjYzNjksImV4cCI6MTcyMTE3NjIyOSwibmJmIjoxNzIxMTI2MzY5LCJhdWQiOlsieDowIiwieDoxIiwieDoyIiwiZDoxIiwiZDoyIiwieDoxIiwieDowIl0sInN1YiI6ImFjY2Vzc190b2tlbiIsImF0X2hhc2giOiJnQUFBQUFCbWxrM2hCdnJGaXlnNTVxNVdDXzM4LXZhRHpFWkk1Nk1QX3RmQVZkRG54TlBxci1LdDRURW16NEViSmJOVk1uRmlfekR2YVZiWVA3dzVKV3RjUUotWWpTckFiWjQ2bzduM2toMmZndHFlX0JKMF8zQT0iLCJkaXNwbGF5X25hbWUiOiJTQU5USE9TSCBLVU1BUiBLT01NSVJJU0hFVFRZIiwib21zIjoiSzEiLCJoc21fa2V5IjoiMTcwYTM1NDhkNTNiZjgyMjJjMWRjMjdkMWNkY2YxYjBmZWVhMTNjOTEzNjg5MjM5OGU3Yzc5ODYiLCJmeV9pZCI6IlhTOTkzNzEiLCJhcHBUeXBlIjoxMDAsInBvYV9mbGFnIjoiTiJ9.N1POqFKY3D8j03uh1Jh4qz0eynWHh0eHAg3UscfIyYk'"
      ]
     },
     "execution_count": 10,
     "metadata": {},
     "output_type": "execute_result"
    }
   ],
   "source": [
    "access_token"
   ]
  },
  {
   "cell_type": "code",
   "execution_count": 11,
   "metadata": {},
   "outputs": [],
   "source": [
    "## Once you have generated accessToken now we can call multiple trading related or data related apis after that in order to do so we need to first initialize the fyerModel object with all the requried params.\n",
    "\"\"\"\n",
    "fyerModel object takes following values as arguments\n",
    "1. accessToken : this is the one which you received from above \n",
    "2. client_id : this is basically the app_id for the particular app you logged into\n",
    "\"\"\"\n",
    "\n",
    "fyers = fyersModel.FyersModel(token=access_token,is_async=False,client_id=client_id)\n"
   ]
  },
  {
   "cell_type": "code",
   "execution_count": 12,
   "metadata": {},
   "outputs": [
    {
     "name": "stdout",
     "output_type": "stream",
     "text": [
      "{'s': 'ok', 'code': 200, 'message': '', 'data': {'fy_id': 'XS99371', 'name': 'SANTHOSH KUMAR KOMMIRISHETTY', 'image': None, 'display_name': None, 'pin_change_date': '21-03-2024 22:15:23', 'email_id': 'santhoshkumark.komirishetty@gmail.com', 'pwd_change_date': None, 'PAN': '---------', 'mobile_number': '9963381522', 'totp': True, 'pwd_to_expire': 90}}\n",
      "########################################################################################################################\n",
      "{'code': 200, 'message': '', 's': 'ok', 'fund_limit': [{'id': 1, 'title': 'Total Balance', 'equityAmount': 0, 'commodityAmount': 0}, {'id': 2, 'title': 'Utilized Amount', 'equityAmount': 0, 'commodityAmount': 0}, {'id': 3, 'title': 'Clear Balance', 'equityAmount': 0, 'commodityAmount': 0}, {'id': 4, 'title': 'Realized Profit and Loss', 'equityAmount': 0, 'commodityAmount': 0}, {'id': 5, 'title': 'Collaterals', 'equityAmount': 0, 'commodityAmount': 0}, {'id': 6, 'title': 'Fund Transfer', 'equityAmount': 0, 'commodityAmount': 0}, {'id': 7, 'title': 'Receivables', 'equityAmount': 0, 'commodityAmount': 0}, {'id': 8, 'title': 'Adhoc Limit', 'equityAmount': 0, 'commodityAmount': 0}, {'id': 9, 'title': 'Limit at start of the day', 'equityAmount': 0, 'commodityAmount': 0}, {'id': 10, 'title': 'Available Balance', 'equityAmount': 0, 'commodityAmount': 0}]}\n",
      "########################################################################################################################\n",
      "{'code': 200, 'message': '', 's': 'ok', 'overall': {'count_total': 0, 'pnl_perc': 0, 'total_current_value': 0, 'total_investment': 0, 'total_pl': 0}, 'holdings': []}\n"
     ]
    }
   ],
   "source": [
    "\n",
    "## After this point you can call the relevant apis and get started with\n",
    "\n",
    "####################################################################################################################\n",
    "\"\"\"\n",
    "1. User Apis : This includes (Profile,Funds,Holdings)\n",
    "\"\"\"\n",
    "\n",
    "print(fyers.get_profile())  ## This will provide us with the user related data \n",
    "print(\"########################################################################################################################\")\n",
    "\n",
    "print(fyers.funds())        ## This will provide us with the funds the user has \n",
    "print(\"########################################################################################################################\")\n",
    "print(fyers.holdings())    ## This will provide the available holdings the user has \n",
    "\n",
    "\n",
    "########################################################################################################################\n"
   ]
  },
  {
   "cell_type": "code",
   "execution_count": 13,
   "metadata": {},
   "outputs": [
    {
     "name": "stdout",
     "output_type": "stream",
     "text": [
      "{'code': 200, 'message': '', 's': 'ok', 'tradeBook': []}\n",
      "########################################################################################################################\n",
      "{'code': 200, 'message': '', 's': 'ok', 'orderBook': [{'clientId': 'XS99371', 'exchange': 10, 'fyToken': '10100000002475', 'id': '24071600397157', 'instrument': 0, 'offlineOrder': False, 'source': 'API', 'status': 5, 'type': 1, 'pan': 'BDNPK4967M', 'limitPrice': 1, 'productType': 'INTRADAY', 'qty': 1, 'disclosedQty': 0, 'remainingQuantity': 0, 'segment': 10, 'symbol': 'NSE:ONGC-EQ', 'description': 'OIL AND NATURAL GAS CORP.', 'ex_sym': 'ONGC', 'orderDateTime': '16-Jul-2024 14:53:40', 'side': 1, 'orderValidity': 'DAY', 'stopPrice': 0, 'tradedPrice': 0, 'filledQty': 0, 'exchOrdId': '', 'message': 'RED:RULE:{Check circuit limit including square off order}Current:INR 1.00 LowerCircuit:INR 290.25 UpperCircuit:INR 354.75:NSE.ONGC-EQ for C-XS99371 [FYERS_RISK_CUG]', 'ch': 0.15, 'chp': 0.046511627906976744, 'lp': 322.65, 'orderNumStatus': '24071600397157:5', 'slNo': 1, 'orderTag': '2:Untagged'}]}\n",
      "########################################################################################################################\n",
      "{'code': 200, 'message': '', 's': 'ok', 'netPositions': [], 'overall': {'count_open': 0, 'count_total': 0, 'pl_realized': 0, 'pl_total': 0, 'pl_unrealized': 0}}\n"
     ]
    }
   ],
   "source": [
    "\"\"\"\n",
    "2. Transaction Apis : This includes (Tradebook,Orderbook,Positions)\n",
    "\"\"\"\n",
    "\n",
    "print(fyers.tradebook())   ## This will provide all the trade related information \n",
    "print(\"########################################################################################################################\")\n",
    "\n",
    "print(fyers.orderbook())   ## This will provide the user with all the order realted information \n",
    "print(\"########################################################################################################################\")\n",
    "\n",
    "print(fyers.positions())   ## This will provide the user with all the positions the user has on his end \n",
    "\n",
    "\n",
    "######################################################################################################################\n"
   ]
  },
  {
   "cell_type": "code",
   "execution_count": 11,
   "metadata": {},
   "outputs": [
    {
     "name": "stdout",
     "output_type": "stream",
     "text": [
      "{'code': 200, 'marketStatus': [{'exchange': 10, 'market_type': 'NORMAL', 'segment': 10, 'status': 'OPEN'}, {'exchange': 10, 'market_type': 'ODD_LOT', 'segment': 10, 'status': 'OPEN'}, {'exchange': 10, 'market_type': 'NORMAL', 'segment': 11, 'status': 'OPEN'}, {'exchange': 10, 'market_type': 'NORMAL', 'segment': 20, 'status': 'OPEN'}, {'exchange': 10, 'market_type': 'NORMAL', 'segment': 12, 'status': 'OPEN'}, {'exchange': 10, 'market_type': 'CALL_AUCTION2', 'segment': 10, 'status': 'PREOPEN'}, {'exchange': 10, 'market_type': 'AUCTION', 'segment': 10, 'status': 'CLOSED'}, {'exchange': 11, 'market_type': 'NORMAL', 'segment': 20, 'status': 'OPEN'}, {'exchange': 12, 'market_type': 'AUCTION', 'segment': 10, 'status': 'CLOSED'}, {'exchange': 12, 'market_type': 'NORMAL', 'segment': 11, 'status': 'OPEN'}, {'exchange': 12, 'market_type': 'NORMAL', 'segment': 10, 'status': 'OPEN'}, {'exchange': 12, 'market_type': 'NORMAL', 'segment': 12, 'status': 'OPEN'}], 'message': '', 's': 'ok'}\n"
     ]
    }
   ],
   "source": [
    "print(fyers.market_status())"
   ]
  },
  {
   "cell_type": "code",
   "execution_count": 13,
   "metadata": {},
   "outputs": [
    {
     "name": "stdout",
     "output_type": "stream",
     "text": [
      "{'code': -50, 'message': 'Invalid input', 's': 'error'}\n",
      "########################################################################################################################\n",
      "{'code': -50, 'message': 'qty: Invalid type. Expected: integer, given: string', 's': 'error', 'id': '808058117761'}\n",
      "########################################################################################################################\n",
      "########################################################################################################################\n",
      "{'code': 200, 'message': '', 's': 'ok', 'orderBook': []}\n",
      "########################################################################################################################\n",
      "{'code': 200, 'marketStatus': [{'exchange': 10, 'market_type': 'AUCTION', 'segment': 10, 'status': 'CLOSED'}, {'exchange': 10, 'market_type': 'NORMAL', 'segment': 10, 'status': 'OPEN'}, {'exchange': 10, 'market_type': 'ODD_LOT', 'segment': 10, 'status': 'OPEN'}, {'exchange': 10, 'market_type': 'NORMAL', 'segment': 11, 'status': 'OPEN'}, {'exchange': 10, 'market_type': 'NORMAL', 'segment': 20, 'status': 'OPEN'}, {'exchange': 10, 'market_type': 'NORMAL', 'segment': 12, 'status': 'OPEN'}, {'exchange': 10, 'market_type': 'CALL_AUCTION2', 'segment': 10, 'status': 'PREOPEN'}, {'exchange': 11, 'market_type': 'NORMAL', 'segment': 20, 'status': 'OPEN'}, {'exchange': 12, 'market_type': 'AUCTION', 'segment': 10, 'status': 'CLOSED'}, {'exchange': 12, 'market_type': 'NORMAL', 'segment': 11, 'status': 'OPEN'}, {'exchange': 12, 'market_type': 'NORMAL', 'segment': 10, 'status': 'OPEN'}, {'exchange': 12, 'market_type': 'NORMAL', 'segment': 12, 'status': 'OPEN'}], 'message': '', 's': 'ok'}\n",
      "########################################################################################################################\n",
      "{'code': -352, 'message': 'Looks like you have no open positions.', 's': 'error'}\n",
      "########################################################################################################################\n",
      "Please install truedata package | pip install truedata-ws\n",
      "{'s': 'error', 'code': 404, 'message': 'Bad request'}\n"
     ]
    }
   ],
   "source": [
    "print(fyers.place_order({\"symbol\":\"MCX:SILVERMIC20AUGFUT\",\"qty\":\"1\",\"type\":\"1\",\"side\":\"1\",\"productType\":\"INTRADAY\",\"limitPrice\":\"76700\",\"stopPrice\":\"0\",\"disclosedQty\":\"0\",\"validity\":\"DAY\",\"offlineOrder\":\"False\",\"stopLoss\":\"0\",\"takeProfit\":\"0\"}))\n",
    "print(\"########################################################################################################################\")\n",
    "print(fyers.modify_order({\"id\":\"808058117761\", \"qty\":\"0\",\"type\":\"1\",\"limitPrice\":\"71100\",\"stopPrice\":\"0\"})) #modify instead of update\n",
    "print(\"########################################################################################################################\")\n",
    "#print(fyers.minquantity())\n",
    "print(\"########################################################################################################################\")\n",
    "print(fyers.get_orders({'id':'808078094451'}))\n",
    "print(\"########################################################################################################################\")\n",
    "print(fyers.market_status())\n",
    "print(\"########################################################################################################################\")\n",
    "print(fyers.exit_positions({\"id\":\"MCX:SILVERMIC20AUGFUT-MARGIN\"}))\n",
    "print(\"########################################################################################################################\")\n",
    "print(fyers.generate_data_token({\"vendorApp\":\"0KMS0EZVXI\"}))"
   ]
  },
  {
   "cell_type": "code",
   "execution_count": 13,
   "metadata": {},
   "outputs": [
    {
     "name": "stdout",
     "output_type": "stream",
     "text": [
      "{'code': -99, 'message': 'RED:RULE:{Check circuit limit including square off order}Current:INR 1.00 LowerCircuit:INR 290.25 UpperCircuit:INR 354.75:NSE.ONGC-EQ for C-XS99371 [FYERS_RISK_CUG]', 's': 'error', 'id': '24071600397157'}\n"
     ]
    }
   ],
   "source": [
    "\n",
    "\"\"\"\n",
    "3. Order Placement  : This Apis helps to place order. \n",
    "There are two ways to place order \n",
    "a. single order : wherein you can fire one order at a time \n",
    "b. multi order : this is used to place a basket of order but the basket size can max be 10 symbols\n",
    "c. multileg order : this is used to place a multileg order but the legs size minimum is 2 and maximum is 3\n",
    "\"\"\"\n",
    "\n",
    "## SINGLE ORDER \n",
    "\n",
    "data =  {\n",
    "      \"symbol\":\"NSE:ONGC-EQ\",\n",
    "      \"qty\":1,\n",
    "      \"type\":1,\n",
    "      \"side\":1,\n",
    "      \"productType\":\"INTRADAY\",\n",
    "      \"limitPrice\":0,\n",
    "      \"stopPrice\":0,\n",
    "      \"validity\":\"DAY\",\n",
    "      \"disclosedQty\":0,\n",
    "      \"offlineOrder\":False,\n",
    "      \"stopLoss\":0,\n",
    "      \"takeProfit\":0\n",
    "    }                              ## This is a sample example to place a limit order you can make the further changes based on your requriements \n",
    "\n",
    "print(fyers.place_order(data))"
   ]
  },
  {
   "cell_type": "code",
   "execution_count": 17,
   "metadata": {},
   "outputs": [
    {
     "name": "stdout",
     "output_type": "stream",
     "text": [
      "{'code': 200, 'message': '', 's': 'ok', 'orderBook': [{'clientId': 'XS99371', 'exchange': 10, 'fyToken': '10100000002475', 'id': '24071600397157', 'instrument': 0, 'offlineOrder': False, 'source': 'API', 'status': 5, 'type': 1, 'pan': 'BDNPK4967M', 'limitPrice': 1, 'productType': 'INTRADAY', 'qty': 1, 'disclosedQty': 0, 'remainingQuantity': 0, 'segment': 10, 'symbol': 'NSE:ONGC-EQ', 'description': 'OIL AND NATURAL GAS CORP.', 'ex_sym': 'ONGC', 'orderDateTime': '16-Jul-2024 14:53:40', 'side': 1, 'orderValidity': 'DAY', 'stopPrice': 0, 'tradedPrice': 0, 'filledQty': 0, 'exchOrdId': '', 'message': 'RED:RULE:{Check circuit limit including square off order}Current:INR 1.00 LowerCircuit:INR 290.25 UpperCircuit:INR 354.75:NSE.ONGC-EQ for C-XS99371 [FYERS_RISK_CUG]', 'ch': 0.15, 'chp': 0.046511627906976744, 'lp': 322.65, 'orderNumStatus': '24071600397157:5', 'slNo': 1, 'orderTag': '2:Untagged'}]}\n"
     ]
    }
   ],
   "source": [
    "response = fyers.orderbook()\n",
    "print(response)"
   ]
  },
  {
   "cell_type": "code",
   "execution_count": 18,
   "metadata": {},
   "outputs": [
    {
     "name": "stdout",
     "output_type": "stream",
     "text": [
      "Response: {'type': 'cn', 'code': 200, 'message': 'Authentication done', 's': 'ok'}\n",
      "Response: {'type': 'ful', 'code': 200, 'message': 'Full Mode On', 's': 'ok'}\n",
      "Response: {'type': 'sub', 'code': 200, 'message': 'Subscribed', 's': 'ok'}\n",
      "Response: {'ltp': 880.7, 'vol_traded_today': 11889083, 'last_traded_time': 1721123999, 'exch_feed_time': 1721124142, 'bid_size': 0, 'ask_size': 0, 'bid_price': 0.0, 'ask_price': 0.0, 'last_traded_qty': 2, 'tot_buy_qty': 0, 'tot_sell_qty': 0, 'avg_trade_price': 880.46, 'low_price': 874.3, 'high_price': 888.1, 'lower_ckt': 0, 'upper_ckt': 0, 'open_price': 882.3, 'prev_close_price': 881.35, 'type': 'sf', 'symbol': 'NSE:SBIN-EQ', 'ch': -0.65, 'chp': -0.0738}\n",
      "Response: {'ltp': 3109.3, 'vol_traded_today': 988046, 'last_traded_time': 1721123999, 'exch_feed_time': 1721124143, 'bid_size': 0, 'ask_size': 0, 'bid_price': 0.0, 'ask_price': 0.0, 'last_traded_qty': 34, 'tot_buy_qty': 0, 'tot_sell_qty': 0, 'avg_trade_price': 3115.88, 'low_price': 3096.1, 'high_price': 3137.75, 'lower_ckt': 0, 'upper_ckt': 0, 'open_price': 3110.0, 'prev_close_price': 3090.4, 'type': 'sf', 'symbol': 'NSE:ADANIENT-EQ', 'ch': 18.9, 'chp': 0.6116}\n",
      "Response: {'ltp': 3109.3, 'vol_traded_today': 988046, 'last_traded_time': 1721123999, 'exch_feed_time': 1721124600, 'bid_size': 141, 'ask_size': 0, 'bid_price': 3109.3, 'ask_price': 0.0, 'last_traded_qty': 34, 'tot_buy_qty': 141, 'tot_sell_qty': 0, 'avg_trade_price': 3115.88, 'low_price': 3096.1, 'high_price': 3137.75, 'lower_ckt': 0, 'upper_ckt': 0, 'open_price': 3110.0, 'prev_close_price': 3090.4, 'type': 'sf', 'symbol': 'NSE:ADANIENT-EQ', 'ch': 18.9, 'chp': 0.6116}\n",
      "Response: {'ltp': 880.7, 'vol_traded_today': 11889083, 'last_traded_time': 1721123999, 'exch_feed_time': 1721124600, 'bid_size': 751, 'ask_size': 0, 'bid_price': 880.7, 'ask_price': 0.0, 'last_traded_qty': 2, 'tot_buy_qty': 751, 'tot_sell_qty': 0, 'avg_trade_price': 880.46, 'low_price': 874.3, 'high_price': 888.1, 'lower_ckt': 0, 'upper_ckt': 0, 'open_price': 882.3, 'prev_close_price': 881.35, 'type': 'sf', 'symbol': 'NSE:SBIN-EQ', 'ch': -0.65, 'chp': -0.0738}\n",
      "Response: {'ltp': 880.7, 'vol_traded_today': 11889083, 'last_traded_time': 1721123999, 'exch_feed_time': 1721124600, 'bid_size': 751, 'ask_size': 0, 'bid_price': 880.7, 'ask_price': 0.0, 'last_traded_qty': 32, 'tot_buy_qty': 751, 'tot_sell_qty': 0, 'avg_trade_price': 880.46, 'low_price': 874.3, 'high_price': 888.1, 'lower_ckt': 0, 'upper_ckt': 0, 'open_price': 882.3, 'prev_close_price': 881.35, 'type': 'sf', 'symbol': 'NSE:SBIN-EQ', 'ch': -0.65, 'chp': -0.0738}\n",
      "Response: {'ltp': 880.7, 'vol_traded_today': 11889116, 'last_traded_time': 1721124600, 'exch_feed_time': 1721124601, 'bid_size': 1418, 'ask_size': 0, 'bid_price': 880.7, 'ask_price': 0.0, 'last_traded_qty': 32, 'tot_buy_qty': 1418, 'tot_sell_qty': 0, 'avg_trade_price': 880.46, 'low_price': 874.3, 'high_price': 888.1, 'lower_ckt': 0, 'upper_ckt': 0, 'open_price': 882.3, 'prev_close_price': 881.35, 'type': 'sf', 'symbol': 'NSE:SBIN-EQ', 'ch': -0.65, 'chp': -0.0738}\n",
      "Response: {'ltp': 3109.3, 'vol_traded_today': 988046, 'last_traded_time': 1721123999, 'exch_feed_time': 1721124601, 'bid_size': 151, 'ask_size': 0, 'bid_price': 3109.3, 'ask_price': 0.0, 'last_traded_qty': 34, 'tot_buy_qty': 151, 'tot_sell_qty': 0, 'avg_trade_price': 3115.88, 'low_price': 3096.1, 'high_price': 3137.75, 'lower_ckt': 0, 'upper_ckt': 0, 'open_price': 3110.0, 'prev_close_price': 3090.4, 'type': 'sf', 'symbol': 'NSE:ADANIENT-EQ', 'ch': 18.9, 'chp': 0.6116}\n",
      "Response: {'ltp': 880.7, 'vol_traded_today': 11889116, 'last_traded_time': 1721124600, 'exch_feed_time': 1721124601, 'bid_size': 1418, 'ask_size': 0, 'bid_price': 880.7, 'ask_price': 0.0, 'last_traded_qty': 11, 'tot_buy_qty': 1418, 'tot_sell_qty': 0, 'avg_trade_price': 880.46, 'low_price': 874.3, 'high_price': 888.1, 'lower_ckt': 0, 'upper_ckt': 0, 'open_price': 882.3, 'prev_close_price': 881.35, 'type': 'sf', 'symbol': 'NSE:SBIN-EQ', 'ch': -0.65, 'chp': -0.0738}\n",
      "Response: {'ltp': 880.7, 'vol_traded_today': 11889287, 'last_traded_time': 1721124602, 'exch_feed_time': 1721124602, 'bid_size': 1252, 'ask_size': 0, 'bid_price': 880.7, 'ask_price': 0.0, 'last_traded_qty': 160, 'tot_buy_qty': 1252, 'tot_sell_qty': 0, 'avg_trade_price': 880.46, 'low_price': 874.3, 'high_price': 888.1, 'lower_ckt': 0, 'upper_ckt': 0, 'open_price': 882.3, 'prev_close_price': 881.35, 'type': 'sf', 'symbol': 'NSE:SBIN-EQ', 'ch': -0.65, 'chp': -0.0738}\n",
      "Response: {'ltp': 3109.3, 'vol_traded_today': 988046, 'last_traded_time': 1721123999, 'exch_feed_time': 1721124602, 'bid_size': 151, 'ask_size': 0, 'bid_price': 3109.3, 'ask_price': 0.0, 'last_traded_qty': 34, 'tot_buy_qty': 151, 'tot_sell_qty': 0, 'avg_trade_price': 3115.88, 'low_price': 3096.1, 'high_price': 3137.75, 'lower_ckt': 0, 'upper_ckt': 0, 'open_price': 3110.0, 'prev_close_price': 3090.4, 'type': 'sf', 'symbol': 'NSE:ADANIENT-EQ', 'ch': 18.9, 'chp': 0.6116}\n",
      "Response: {'ltp': 3109.3, 'vol_traded_today': 988046, 'last_traded_time': 1721123999, 'exch_feed_time': 1721124603, 'bid_size': 151, 'ask_size': 0, 'bid_price': 3109.3, 'ask_price': 0.0, 'last_traded_qty': 18, 'tot_buy_qty': 151, 'tot_sell_qty': 0, 'avg_trade_price': 3115.88, 'low_price': 3096.1, 'high_price': 3137.75, 'lower_ckt': 0, 'upper_ckt': 0, 'open_price': 3110.0, 'prev_close_price': 3090.4, 'type': 'sf', 'symbol': 'NSE:ADANIENT-EQ', 'ch': 18.9, 'chp': 0.6116}\n",
      "Response: {'ltp': 880.7, 'vol_traded_today': 11889337, 'last_traded_time': 1721124602, 'exch_feed_time': 1721124603, 'bid_size': 3709, 'ask_size': 0, 'bid_price': 880.7, 'ask_price': 0.0, 'last_traded_qty': 50, 'tot_buy_qty': 3709, 'tot_sell_qty': 0, 'avg_trade_price': 880.46, 'low_price': 874.3, 'high_price': 888.1, 'lower_ckt': 0, 'upper_ckt': 0, 'open_price': 882.3, 'prev_close_price': 881.35, 'type': 'sf', 'symbol': 'NSE:SBIN-EQ', 'ch': -0.65, 'chp': -0.0738}\n",
      "Response: {'ltp': 3109.3, 'vol_traded_today': 988064, 'last_traded_time': 1721124602, 'exch_feed_time': 1721124603, 'bid_size': 133, 'ask_size': 0, 'bid_price': 3109.3, 'ask_price': 0.0, 'last_traded_qty': 18, 'tot_buy_qty': 133, 'tot_sell_qty': 0, 'avg_trade_price': 3115.88, 'low_price': 3096.1, 'high_price': 3137.75, 'lower_ckt': 0, 'upper_ckt': 0, 'open_price': 3110.0, 'prev_close_price': 3090.4, 'type': 'sf', 'symbol': 'NSE:ADANIENT-EQ', 'ch': 18.9, 'chp': 0.6116}\n",
      "Response: {'ltp': 880.7, 'vol_traded_today': 11889837, 'last_traded_time': 1721124603, 'exch_feed_time': 1721124604, 'bid_size': 3214, 'ask_size': 0, 'bid_price': 880.7, 'ask_price': 0.0, 'last_traded_qty': 3, 'tot_buy_qty': 3214, 'tot_sell_qty': 0, 'avg_trade_price': 880.46, 'low_price': 874.3, 'high_price': 888.1, 'lower_ckt': 0, 'upper_ckt': 0, 'open_price': 882.3, 'prev_close_price': 881.35, 'type': 'sf', 'symbol': 'NSE:SBIN-EQ', 'ch': -0.65, 'chp': -0.0738}\n",
      "Response: {'ltp': 3109.3, 'vol_traded_today': 988064, 'last_traded_time': 1721124602, 'exch_feed_time': 1721124605, 'bid_size': 143, 'ask_size': 0, 'bid_price': 3109.3, 'ask_price': 0.0, 'last_traded_qty': 18, 'tot_buy_qty': 143, 'tot_sell_qty': 0, 'avg_trade_price': 3115.88, 'low_price': 3096.1, 'high_price': 3137.75, 'lower_ckt': 0, 'upper_ckt': 0, 'open_price': 3110.0, 'prev_close_price': 3090.4, 'type': 'sf', 'symbol': 'NSE:ADANIENT-EQ', 'ch': 18.9, 'chp': 0.6116}\n",
      "Response: {'ltp': 880.7, 'vol_traded_today': 11889837, 'last_traded_time': 1721124603, 'exch_feed_time': 1721124605, 'bid_size': 3215, 'ask_size': 0, 'bid_price': 880.7, 'ask_price': 0.0, 'last_traded_qty': 3, 'tot_buy_qty': 3215, 'tot_sell_qty': 0, 'avg_trade_price': 880.46, 'low_price': 874.3, 'high_price': 888.1, 'lower_ckt': 0, 'upper_ckt': 0, 'open_price': 882.3, 'prev_close_price': 881.35, 'type': 'sf', 'symbol': 'NSE:SBIN-EQ', 'ch': -0.65, 'chp': -0.0738}\n",
      "Response: {'ltp': 3109.3, 'vol_traded_today': 988064, 'last_traded_time': 1721124602, 'exch_feed_time': 1721124606, 'bid_size': 143, 'ask_size': 0, 'bid_price': 3109.3, 'ask_price': 0.0, 'last_traded_qty': 18, 'tot_buy_qty': 143, 'tot_sell_qty': 0, 'avg_trade_price': 3115.88, 'low_price': 3096.1, 'high_price': 3137.75, 'lower_ckt': 0, 'upper_ckt': 0, 'open_price': 3110.0, 'prev_close_price': 3090.4, 'type': 'sf', 'symbol': 'NSE:ADANIENT-EQ', 'ch': 18.9, 'chp': 0.6116}\n",
      "Response: {'ltp': 880.7, 'vol_traded_today': 11889837, 'last_traded_time': 1721124603, 'exch_feed_time': 1721124606, 'bid_size': 3515, 'ask_size': 0, 'bid_price': 880.7, 'ask_price': 0.0, 'last_traded_qty': 3, 'tot_buy_qty': 3515, 'tot_sell_qty': 0, 'avg_trade_price': 880.46, 'low_price': 874.3, 'high_price': 888.1, 'lower_ckt': 0, 'upper_ckt': 0, 'open_price': 882.3, 'prev_close_price': 881.35, 'type': 'sf', 'symbol': 'NSE:SBIN-EQ', 'ch': -0.65, 'chp': -0.0738}\n",
      "Response: {'ltp': 3109.3, 'vol_traded_today': 988064, 'last_traded_time': 1721124602, 'exch_feed_time': 1721124606, 'bid_size': 143, 'ask_size': 0, 'bid_price': 3109.3, 'ask_price': 0.0, 'last_traded_qty': 7, 'tot_buy_qty': 143, 'tot_sell_qty': 0, 'avg_trade_price': 3115.88, 'low_price': 3096.1, 'high_price': 3137.75, 'lower_ckt': 0, 'upper_ckt': 0, 'open_price': 3110.0, 'prev_close_price': 3090.4, 'type': 'sf', 'symbol': 'NSE:ADANIENT-EQ', 'ch': 18.9, 'chp': 0.6116}\n",
      "Response: {'ltp': 3109.3, 'vol_traded_today': 988194, 'last_traded_time': 1721124606, 'exch_feed_time': 1721124607, 'bid_size': 13, 'ask_size': 0, 'bid_price': 3109.3, 'ask_price': 0.0, 'last_traded_qty': 7, 'tot_buy_qty': 13, 'tot_sell_qty': 0, 'avg_trade_price': 3115.88, 'low_price': 3096.1, 'high_price': 3137.75, 'lower_ckt': 0, 'upper_ckt': 0, 'open_price': 3110.0, 'prev_close_price': 3090.4, 'type': 'sf', 'symbol': 'NSE:ADANIENT-EQ', 'ch': 18.9, 'chp': 0.6116}\n",
      "Response: {'ltp': 880.7, 'vol_traded_today': 11889837, 'last_traded_time': 1721124603, 'exch_feed_time': 1721124607, 'bid_size': 3515, 'ask_size': 0, 'bid_price': 880.7, 'ask_price': 0.0, 'last_traded_qty': 3, 'tot_buy_qty': 3515, 'tot_sell_qty': 0, 'avg_trade_price': 880.46, 'low_price': 874.3, 'high_price': 888.1, 'lower_ckt': 0, 'upper_ckt': 0, 'open_price': 882.3, 'prev_close_price': 881.35, 'type': 'sf', 'symbol': 'NSE:SBIN-EQ', 'ch': -0.65, 'chp': -0.0738}\n",
      "Response: {'ltp': 880.7, 'vol_traded_today': 11889837, 'last_traded_time': 1721124603, 'exch_feed_time': 1721124607, 'bid_size': 3515, 'ask_size': 0, 'bid_price': 880.7, 'ask_price': 0.0, 'last_traded_qty': 10, 'tot_buy_qty': 3515, 'tot_sell_qty': 0, 'avg_trade_price': 880.46, 'low_price': 874.3, 'high_price': 888.1, 'lower_ckt': 0, 'upper_ckt': 0, 'open_price': 882.3, 'prev_close_price': 881.35, 'type': 'sf', 'symbol': 'NSE:SBIN-EQ', 'ch': -0.65, 'chp': -0.0738}\n",
      "Response: {'ltp': 880.7, 'vol_traded_today': 11889847, 'last_traded_time': 1721124607, 'exch_feed_time': 1721124608, 'bid_size': 3505, 'ask_size': 0, 'bid_price': 880.7, 'ask_price': 0.0, 'last_traded_qty': 10, 'tot_buy_qty': 3505, 'tot_sell_qty': 0, 'avg_trade_price': 880.46, 'low_price': 874.3, 'high_price': 888.1, 'lower_ckt': 0, 'upper_ckt': 0, 'open_price': 882.3, 'prev_close_price': 881.35, 'type': 'sf', 'symbol': 'NSE:SBIN-EQ', 'ch': -0.65, 'chp': -0.0738}\n",
      "Response: {'ltp': 3109.3, 'vol_traded_today': 988194, 'last_traded_time': 1721124606, 'exch_feed_time': 1721124608, 'bid_size': 13, 'ask_size': 0, 'bid_price': 3109.3, 'ask_price': 0.0, 'last_traded_qty': 7, 'tot_buy_qty': 13, 'tot_sell_qty': 0, 'avg_trade_price': 3115.88, 'low_price': 3096.1, 'high_price': 3137.75, 'lower_ckt': 0, 'upper_ckt': 0, 'open_price': 3110.0, 'prev_close_price': 3090.4, 'type': 'sf', 'symbol': 'NSE:ADANIENT-EQ', 'ch': 18.9, 'chp': 0.6116}\n",
      "Response: {'ltp': 3109.3, 'vol_traded_today': 988194, 'last_traded_time': 1721124606, 'exch_feed_time': 1721124612, 'bid_size': 33, 'ask_size': 0, 'bid_price': 3109.3, 'ask_price': 0.0, 'last_traded_qty': 7, 'tot_buy_qty': 33, 'tot_sell_qty': 0, 'avg_trade_price': 3115.88, 'low_price': 3096.1, 'high_price': 3137.75, 'lower_ckt': 0, 'upper_ckt': 0, 'open_price': 3110.0, 'prev_close_price': 3090.4, 'type': 'sf', 'symbol': 'NSE:ADANIENT-EQ', 'ch': 18.9, 'chp': 0.6116}\n",
      "Response: {'ltp': 880.7, 'vol_traded_today': 11889847, 'last_traded_time': 1721124607, 'exch_feed_time': 1721124614, 'bid_size': 3505, 'ask_size': 0, 'bid_price': 880.7, 'ask_price': 0.0, 'last_traded_qty': 10, 'tot_buy_qty': 3505, 'tot_sell_qty': 0, 'avg_trade_price': 880.46, 'low_price': 874.3, 'high_price': 888.1, 'lower_ckt': 0, 'upper_ckt': 0, 'open_price': 882.3, 'prev_close_price': 881.35, 'type': 'sf', 'symbol': 'NSE:SBIN-EQ', 'ch': -0.65, 'chp': -0.0738}\n",
      "Response: {'ltp': 880.7, 'vol_traded_today': 11889847, 'last_traded_time': 1721124607, 'exch_feed_time': 1721124615, 'bid_size': 3505, 'ask_size': 0, 'bid_price': 880.7, 'ask_price': 0.0, 'last_traded_qty': 10, 'tot_buy_qty': 3505, 'tot_sell_qty': 0, 'avg_trade_price': 880.46, 'low_price': 874.3, 'high_price': 888.1, 'lower_ckt': 0, 'upper_ckt': 0, 'open_price': 882.3, 'prev_close_price': 881.35, 'type': 'sf', 'symbol': 'NSE:SBIN-EQ', 'ch': -0.65, 'chp': -0.0738}\n",
      "Response: {'ltp': 880.7, 'vol_traded_today': 11889847, 'last_traded_time': 1721124607, 'exch_feed_time': 1721124616, 'bid_size': 3505, 'ask_size': 0, 'bid_price': 880.7, 'ask_price': 0.0, 'last_traded_qty': 10, 'tot_buy_qty': 3505, 'tot_sell_qty': 0, 'avg_trade_price': 880.46, 'low_price': 874.3, 'high_price': 888.1, 'lower_ckt': 0, 'upper_ckt': 0, 'open_price': 882.3, 'prev_close_price': 881.35, 'type': 'sf', 'symbol': 'NSE:SBIN-EQ', 'ch': -0.65, 'chp': -0.0738}\n",
      "Response: {'ltp': 3109.3, 'vol_traded_today': 988194, 'last_traded_time': 1721124606, 'exch_feed_time': 1721124618, 'bid_size': 33, 'ask_size': 0, 'bid_price': 3109.3, 'ask_price': 0.0, 'last_traded_qty': 1, 'tot_buy_qty': 33, 'tot_sell_qty': 0, 'avg_trade_price': 3115.88, 'low_price': 3096.1, 'high_price': 3137.75, 'lower_ckt': 0, 'upper_ckt': 0, 'open_price': 3110.0, 'prev_close_price': 3090.4, 'type': 'sf', 'symbol': 'NSE:ADANIENT-EQ', 'ch': 18.9, 'chp': 0.6116}\n",
      "Response: {'ltp': 3109.3, 'vol_traded_today': 988195, 'last_traded_time': 1721124618, 'exch_feed_time': 1721124618, 'bid_size': 32, 'ask_size': 0, 'bid_price': 3109.3, 'ask_price': 0.0, 'last_traded_qty': 1, 'tot_buy_qty': 32, 'tot_sell_qty': 0, 'avg_trade_price': 3115.88, 'low_price': 3096.1, 'high_price': 3137.75, 'lower_ckt': 0, 'upper_ckt': 0, 'open_price': 3110.0, 'prev_close_price': 3090.4, 'type': 'sf', 'symbol': 'NSE:ADANIENT-EQ', 'ch': 18.9, 'chp': 0.6116}\n",
      "Response: {'ltp': 880.7, 'vol_traded_today': 11889847, 'last_traded_time': 1721124607, 'exch_feed_time': 1721124618, 'bid_size': 3505, 'ask_size': 0, 'bid_price': 880.7, 'ask_price': 0.0, 'last_traded_qty': 10, 'tot_buy_qty': 3505, 'tot_sell_qty': 0, 'avg_trade_price': 880.46, 'low_price': 874.3, 'high_price': 888.1, 'lower_ckt': 0, 'upper_ckt': 0, 'open_price': 882.3, 'prev_close_price': 881.35, 'type': 'sf', 'symbol': 'NSE:SBIN-EQ', 'ch': -0.65, 'chp': -0.0738}\n",
      "Response: {'ltp': 3109.3, 'vol_traded_today': 988195, 'last_traded_time': 1721124618, 'exch_feed_time': 1721124620, 'bid_size': 32, 'ask_size': 0, 'bid_price': 3109.3, 'ask_price': 0.0, 'last_traded_qty': 1, 'tot_buy_qty': 32, 'tot_sell_qty': 0, 'avg_trade_price': 3115.88, 'low_price': 3096.1, 'high_price': 3137.75, 'lower_ckt': 0, 'upper_ckt': 0, 'open_price': 3110.0, 'prev_close_price': 3090.4, 'type': 'sf', 'symbol': 'NSE:ADANIENT-EQ', 'ch': 18.9, 'chp': 0.6116}\n",
      "Response: {'ltp': 880.7, 'vol_traded_today': 11889847, 'last_traded_time': 1721124607, 'exch_feed_time': 1721124620, 'bid_size': 3505, 'ask_size': 0, 'bid_price': 880.7, 'ask_price': 0.0, 'last_traded_qty': 10, 'tot_buy_qty': 3505, 'tot_sell_qty': 0, 'avg_trade_price': 880.46, 'low_price': 874.3, 'high_price': 888.1, 'lower_ckt': 0, 'upper_ckt': 0, 'open_price': 882.3, 'prev_close_price': 881.35, 'type': 'sf', 'symbol': 'NSE:SBIN-EQ', 'ch': -0.65, 'chp': -0.0738}\n",
      "Response: {'ltp': 3109.3, 'vol_traded_today': 988215, 'last_traded_time': 1721124620, 'exch_feed_time': 1721124621, 'bid_size': 12, 'ask_size': 0, 'bid_price': 3109.3, 'ask_price': 0.0, 'last_traded_qty': 8, 'tot_buy_qty': 12, 'tot_sell_qty': 0, 'avg_trade_price': 3115.88, 'low_price': 3096.1, 'high_price': 3137.75, 'lower_ckt': 0, 'upper_ckt': 0, 'open_price': 3110.0, 'prev_close_price': 3090.4, 'type': 'sf', 'symbol': 'NSE:ADANIENT-EQ', 'ch': 18.9, 'chp': 0.6116}\n",
      "Response: {'ltp': 880.7, 'vol_traded_today': 11889947, 'last_traded_time': 1721124621, 'exch_feed_time': 1721124621, 'bid_size': 3405, 'ask_size': 0, 'bid_price': 880.7, 'ask_price': 0.0, 'last_traded_qty': 100, 'tot_buy_qty': 3405, 'tot_sell_qty': 0, 'avg_trade_price': 880.46, 'low_price': 874.3, 'high_price': 888.1, 'lower_ckt': 0, 'upper_ckt': 0, 'open_price': 882.3, 'prev_close_price': 881.35, 'type': 'sf', 'symbol': 'NSE:SBIN-EQ', 'ch': -0.65, 'chp': -0.0738}\n",
      "Response: {'ltp': 3109.3, 'vol_traded_today': 988215, 'last_traded_time': 1721124620, 'exch_feed_time': 1721124622, 'bid_size': 13, 'ask_size': 0, 'bid_price': 3109.3, 'ask_price': 0.0, 'last_traded_qty': 8, 'tot_buy_qty': 13, 'tot_sell_qty': 0, 'avg_trade_price': 3115.88, 'low_price': 3096.1, 'high_price': 3137.75, 'lower_ckt': 0, 'upper_ckt': 0, 'open_price': 3110.0, 'prev_close_price': 3090.4, 'type': 'sf', 'symbol': 'NSE:ADANIENT-EQ', 'ch': 18.9, 'chp': 0.6116}\n",
      "Response: {'ltp': 880.7, 'vol_traded_today': 11889947, 'last_traded_time': 1721124621, 'exch_feed_time': 1721124622, 'bid_size': 3405, 'ask_size': 0, 'bid_price': 880.7, 'ask_price': 0.0, 'last_traded_qty': 100, 'tot_buy_qty': 3405, 'tot_sell_qty': 0, 'avg_trade_price': 880.46, 'low_price': 874.3, 'high_price': 888.1, 'lower_ckt': 0, 'upper_ckt': 0, 'open_price': 882.3, 'prev_close_price': 881.35, 'type': 'sf', 'symbol': 'NSE:SBIN-EQ', 'ch': -0.65, 'chp': -0.0738}\n",
      "Response: {'ltp': 880.7, 'vol_traded_today': 11889947, 'last_traded_time': 1721124621, 'exch_feed_time': 1721124623, 'bid_size': 3405, 'ask_size': 0, 'bid_price': 880.7, 'ask_price': 0.0, 'last_traded_qty': 100, 'tot_buy_qty': 3405, 'tot_sell_qty': 0, 'avg_trade_price': 880.46, 'low_price': 874.3, 'high_price': 888.1, 'lower_ckt': 0, 'upper_ckt': 0, 'open_price': 882.3, 'prev_close_price': 881.35, 'type': 'sf', 'symbol': 'NSE:SBIN-EQ', 'ch': -0.65, 'chp': -0.0738}\n",
      "Response: {'ltp': 880.7, 'vol_traded_today': 11889947, 'last_traded_time': 1721124621, 'exch_feed_time': 1721124625, 'bid_size': 3405, 'ask_size': 0, 'bid_price': 880.7, 'ask_price': 0.0, 'last_traded_qty': 100, 'tot_buy_qty': 3405, 'tot_sell_qty': 0, 'avg_trade_price': 880.46, 'low_price': 874.3, 'high_price': 888.1, 'lower_ckt': 0, 'upper_ckt': 0, 'open_price': 882.3, 'prev_close_price': 881.35, 'type': 'sf', 'symbol': 'NSE:SBIN-EQ', 'ch': -0.65, 'chp': -0.0738}\n",
      "Response: {'ltp': 880.7, 'vol_traded_today': 11889947, 'last_traded_time': 1721124621, 'exch_feed_time': 1721124626, 'bid_size': 3405, 'ask_size': 0, 'bid_price': 880.7, 'ask_price': 0.0, 'last_traded_qty': 100, 'tot_buy_qty': 3405, 'tot_sell_qty': 0, 'avg_trade_price': 880.46, 'low_price': 874.3, 'high_price': 888.1, 'lower_ckt': 0, 'upper_ckt': 0, 'open_price': 882.3, 'prev_close_price': 881.35, 'type': 'sf', 'symbol': 'NSE:SBIN-EQ', 'ch': -0.65, 'chp': -0.0738}\n",
      "Response: {'ltp': 880.7, 'vol_traded_today': 11889947, 'last_traded_time': 1721124621, 'exch_feed_time': 1721124627, 'bid_size': 3405, 'ask_size': 0, 'bid_price': 880.7, 'ask_price': 0.0, 'last_traded_qty': 100, 'tot_buy_qty': 3405, 'tot_sell_qty': 0, 'avg_trade_price': 880.46, 'low_price': 874.3, 'high_price': 888.1, 'lower_ckt': 0, 'upper_ckt': 0, 'open_price': 882.3, 'prev_close_price': 881.35, 'type': 'sf', 'symbol': 'NSE:SBIN-EQ', 'ch': -0.65, 'chp': -0.0738}\n",
      "Response: {'ltp': 880.7, 'vol_traded_today': 11889947, 'last_traded_time': 1721124621, 'exch_feed_time': 1721124628, 'bid_size': 3405, 'ask_size': 0, 'bid_price': 880.7, 'ask_price': 0.0, 'last_traded_qty': 100, 'tot_buy_qty': 3405, 'tot_sell_qty': 0, 'avg_trade_price': 880.46, 'low_price': 874.3, 'high_price': 888.1, 'lower_ckt': 0, 'upper_ckt': 0, 'open_price': 882.3, 'prev_close_price': 881.35, 'type': 'sf', 'symbol': 'NSE:SBIN-EQ', 'ch': -0.65, 'chp': -0.0738}\n",
      "Response: {'ltp': 880.7, 'vol_traded_today': 11889947, 'last_traded_time': 1721124621, 'exch_feed_time': 1721124629, 'bid_size': 3405, 'ask_size': 0, 'bid_price': 880.7, 'ask_price': 0.0, 'last_traded_qty': 100, 'tot_buy_qty': 3405, 'tot_sell_qty': 0, 'avg_trade_price': 880.46, 'low_price': 874.3, 'high_price': 888.1, 'lower_ckt': 0, 'upper_ckt': 0, 'open_price': 882.3, 'prev_close_price': 881.35, 'type': 'sf', 'symbol': 'NSE:SBIN-EQ', 'ch': -0.65, 'chp': -0.0738}\n",
      "Response: {'ltp': 3109.3, 'vol_traded_today': 988215, 'last_traded_time': 1721124620, 'exch_feed_time': 1721124629, 'bid_size': 13, 'ask_size': 0, 'bid_price': 3109.3, 'ask_price': 0.0, 'last_traded_qty': 8, 'tot_buy_qty': 13, 'tot_sell_qty': 0, 'avg_trade_price': 3115.88, 'low_price': 3096.1, 'high_price': 3137.75, 'lower_ckt': 0, 'upper_ckt': 0, 'open_price': 3110.0, 'prev_close_price': 3090.4, 'type': 'sf', 'symbol': 'NSE:ADANIENT-EQ', 'ch': 18.9, 'chp': 0.6116}\n",
      "Response: {'ltp': 880.7, 'vol_traded_today': 11889947, 'last_traded_time': 1721124621, 'exch_feed_time': 1721124632, 'bid_size': 3405, 'ask_size': 0, 'bid_price': 880.7, 'ask_price': 0.0, 'last_traded_qty': 100, 'tot_buy_qty': 3405, 'tot_sell_qty': 0, 'avg_trade_price': 880.46, 'low_price': 874.3, 'high_price': 888.1, 'lower_ckt': 0, 'upper_ckt': 0, 'open_price': 882.3, 'prev_close_price': 881.35, 'type': 'sf', 'symbol': 'NSE:SBIN-EQ', 'ch': -0.65, 'chp': -0.0738}\n",
      "Response: {'ltp': 880.7, 'vol_traded_today': 11889947, 'last_traded_time': 1721124621, 'exch_feed_time': 1721124637, 'bid_size': 3405, 'ask_size': 0, 'bid_price': 880.7, 'ask_price': 0.0, 'last_traded_qty': 100, 'tot_buy_qty': 3405, 'tot_sell_qty': 0, 'avg_trade_price': 880.46, 'low_price': 874.3, 'high_price': 888.1, 'lower_ckt': 0, 'upper_ckt': 0, 'open_price': 882.3, 'prev_close_price': 881.35, 'type': 'sf', 'symbol': 'NSE:SBIN-EQ', 'ch': -0.65, 'chp': -0.0738}\n",
      "Response: {'ltp': 3109.3, 'vol_traded_today': 988215, 'last_traded_time': 1721124620, 'exch_feed_time': 1721124638, 'bid_size': 13, 'ask_size': 0, 'bid_price': 3109.3, 'ask_price': 0.0, 'last_traded_qty': 8, 'tot_buy_qty': 13, 'tot_sell_qty': 0, 'avg_trade_price': 3115.88, 'low_price': 3096.1, 'high_price': 3137.75, 'lower_ckt': 0, 'upper_ckt': 0, 'open_price': 3110.0, 'prev_close_price': 3090.4, 'type': 'sf', 'symbol': 'NSE:ADANIENT-EQ', 'ch': 18.9, 'chp': 0.6116}\n",
      "Response: {'ltp': 3109.3, 'vol_traded_today': 988228, 'last_traded_time': 1721124642, 'exch_feed_time': 1721124642, 'bid_size': 0, 'ask_size': 37, 'bid_price': 0.0, 'ask_price': 3109.3, 'last_traded_qty': 1, 'tot_buy_qty': 0, 'tot_sell_qty': 37, 'avg_trade_price': 3115.88, 'low_price': 3096.1, 'high_price': 3137.75, 'lower_ckt': 0, 'upper_ckt': 0, 'open_price': 3110.0, 'prev_close_price': 3090.4, 'type': 'sf', 'symbol': 'NSE:ADANIENT-EQ', 'ch': 18.9, 'chp': 0.6116}\n",
      "Response: {'ltp': 3109.3, 'vol_traded_today': 988228, 'last_traded_time': 1721124642, 'exch_feed_time': 1721124643, 'bid_size': 0, 'ask_size': 37, 'bid_price': 0.0, 'ask_price': 3109.3, 'last_traded_qty': 1, 'tot_buy_qty': 0, 'tot_sell_qty': 37, 'avg_trade_price': 3115.88, 'low_price': 3096.1, 'high_price': 3137.75, 'lower_ckt': 0, 'upper_ckt': 0, 'open_price': 3110.0, 'prev_close_price': 3090.4, 'type': 'sf', 'symbol': 'NSE:ADANIENT-EQ', 'ch': 18.9, 'chp': 0.6116}\n",
      "Response: {'ltp': 880.7, 'vol_traded_today': 11889947, 'last_traded_time': 1721124621, 'exch_feed_time': 1721124644, 'bid_size': 3405, 'ask_size': 0, 'bid_price': 880.7, 'ask_price': 0.0, 'last_traded_qty': 100, 'tot_buy_qty': 3405, 'tot_sell_qty': 0, 'avg_trade_price': 880.46, 'low_price': 874.3, 'high_price': 888.1, 'lower_ckt': 0, 'upper_ckt': 0, 'open_price': 882.3, 'prev_close_price': 881.35, 'type': 'sf', 'symbol': 'NSE:SBIN-EQ', 'ch': -0.65, 'chp': -0.0738}\n",
      "Response: {'ltp': 3109.3, 'vol_traded_today': 988228, 'last_traded_time': 1721124642, 'exch_feed_time': 1721124645, 'bid_size': 0, 'ask_size': 37, 'bid_price': 0.0, 'ask_price': 3109.3, 'last_traded_qty': 1, 'tot_buy_qty': 0, 'tot_sell_qty': 37, 'avg_trade_price': 3115.88, 'low_price': 3096.1, 'high_price': 3137.75, 'lower_ckt': 0, 'upper_ckt': 0, 'open_price': 3110.0, 'prev_close_price': 3090.4, 'type': 'sf', 'symbol': 'NSE:ADANIENT-EQ', 'ch': 18.9, 'chp': 0.6116}\n",
      "Response: {'ltp': 880.7, 'vol_traded_today': 11889947, 'last_traded_time': 1721124621, 'exch_feed_time': 1721124645, 'bid_size': 3405, 'ask_size': 0, 'bid_price': 880.7, 'ask_price': 0.0, 'last_traded_qty': 100, 'tot_buy_qty': 3405, 'tot_sell_qty': 0, 'avg_trade_price': 880.46, 'low_price': 874.3, 'high_price': 888.1, 'lower_ckt': 0, 'upper_ckt': 0, 'open_price': 882.3, 'prev_close_price': 881.35, 'type': 'sf', 'symbol': 'NSE:SBIN-EQ', 'ch': -0.65, 'chp': -0.0738}\n",
      "Response: {'ltp': 3109.3, 'vol_traded_today': 988228, 'last_traded_time': 1721124642, 'exch_feed_time': 1721124647, 'bid_size': 0, 'ask_size': 37, 'bid_price': 0.0, 'ask_price': 3109.3, 'last_traded_qty': 1, 'tot_buy_qty': 0, 'tot_sell_qty': 37, 'avg_trade_price': 3115.88, 'low_price': 3096.1, 'high_price': 3137.75, 'lower_ckt': 0, 'upper_ckt': 0, 'open_price': 3110.0, 'prev_close_price': 3090.4, 'type': 'sf', 'symbol': 'NSE:ADANIENT-EQ', 'ch': 18.9, 'chp': 0.6116}\n",
      "Response: {'ltp': 3109.3, 'vol_traded_today': 988228, 'last_traded_time': 1721124642, 'exch_feed_time': 1721124648, 'bid_size': 0, 'ask_size': 37, 'bid_price': 0.0, 'ask_price': 3109.3, 'last_traded_qty': 37, 'tot_buy_qty': 0, 'tot_sell_qty': 37, 'avg_trade_price': 3115.88, 'low_price': 3096.1, 'high_price': 3137.75, 'lower_ckt': 0, 'upper_ckt': 0, 'open_price': 3110.0, 'prev_close_price': 3090.4, 'type': 'sf', 'symbol': 'NSE:ADANIENT-EQ', 'ch': 18.9, 'chp': 0.6116}\n",
      "Response: {'ltp': 3109.3, 'vol_traded_today': 988265, 'last_traded_time': 1721124648, 'exch_feed_time': 1721124648, 'bid_size': 33, 'ask_size': 0, 'bid_price': 3109.3, 'ask_price': 0.0, 'last_traded_qty': 37, 'tot_buy_qty': 33, 'tot_sell_qty': 0, 'avg_trade_price': 3115.88, 'low_price': 3096.1, 'high_price': 3137.75, 'lower_ckt': 0, 'upper_ckt': 0, 'open_price': 3110.0, 'prev_close_price': 3090.4, 'type': 'sf', 'symbol': 'NSE:ADANIENT-EQ', 'ch': 18.9, 'chp': 0.6116}\n",
      "Response: {'ltp': 880.7, 'vol_traded_today': 11889947, 'last_traded_time': 1721124621, 'exch_feed_time': 1721124649, 'bid_size': 3405, 'ask_size': 0, 'bid_price': 880.7, 'ask_price': 0.0, 'last_traded_qty': 100, 'tot_buy_qty': 3405, 'tot_sell_qty': 0, 'avg_trade_price': 880.46, 'low_price': 874.3, 'high_price': 888.1, 'lower_ckt': 0, 'upper_ckt': 0, 'open_price': 882.3, 'prev_close_price': 881.35, 'type': 'sf', 'symbol': 'NSE:SBIN-EQ', 'ch': -0.65, 'chp': -0.0738}\n",
      "Response: {'ltp': 880.7, 'vol_traded_today': 11889947, 'last_traded_time': 1721124621, 'exch_feed_time': 1721124650, 'bid_size': 3405, 'ask_size': 0, 'bid_price': 880.7, 'ask_price': 0.0, 'last_traded_qty': 39, 'tot_buy_qty': 3405, 'tot_sell_qty': 0, 'avg_trade_price': 880.46, 'low_price': 874.3, 'high_price': 888.1, 'lower_ckt': 0, 'upper_ckt': 0, 'open_price': 882.3, 'prev_close_price': 881.35, 'type': 'sf', 'symbol': 'NSE:SBIN-EQ', 'ch': -0.65, 'chp': -0.0738}\n",
      "Response: {'ltp': 880.7, 'vol_traded_today': 11889986, 'last_traded_time': 1721124649, 'exch_feed_time': 1721124650, 'bid_size': 3365, 'ask_size': 0, 'bid_price': 880.7, 'ask_price': 0.0, 'last_traded_qty': 39, 'tot_buy_qty': 3365, 'tot_sell_qty': 0, 'avg_trade_price': 880.46, 'low_price': 874.3, 'high_price': 888.1, 'lower_ckt': 0, 'upper_ckt': 0, 'open_price': 882.3, 'prev_close_price': 881.35, 'type': 'sf', 'symbol': 'NSE:SBIN-EQ', 'ch': -0.65, 'chp': -0.0738}\n",
      "Response: {'ltp': 880.7, 'vol_traded_today': 11889986, 'last_traded_time': 1721124649, 'exch_feed_time': 1721124651, 'bid_size': 3365, 'ask_size': 0, 'bid_price': 880.7, 'ask_price': 0.0, 'last_traded_qty': 39, 'tot_buy_qty': 3365, 'tot_sell_qty': 0, 'avg_trade_price': 880.46, 'low_price': 874.3, 'high_price': 888.1, 'lower_ckt': 0, 'upper_ckt': 0, 'open_price': 882.3, 'prev_close_price': 881.35, 'type': 'sf', 'symbol': 'NSE:SBIN-EQ', 'ch': -0.65, 'chp': -0.0738}\n",
      "Response: {'ltp': 880.7, 'vol_traded_today': 11889986, 'last_traded_time': 1721124649, 'exch_feed_time': 1721124652, 'bid_size': 3365, 'ask_size': 0, 'bid_price': 880.7, 'ask_price': 0.0, 'last_traded_qty': 39, 'tot_buy_qty': 3365, 'tot_sell_qty': 0, 'avg_trade_price': 880.46, 'low_price': 874.3, 'high_price': 888.1, 'lower_ckt': 0, 'upper_ckt': 0, 'open_price': 882.3, 'prev_close_price': 881.35, 'type': 'sf', 'symbol': 'NSE:SBIN-EQ', 'ch': -0.65, 'chp': -0.0738}\n",
      "Response: {'ltp': 3109.3, 'vol_traded_today': 988265, 'last_traded_time': 1721124648, 'exch_feed_time': 1721124654, 'bid_size': 33, 'ask_size': 0, 'bid_price': 3109.3, 'ask_price': 0.0, 'last_traded_qty': 33, 'tot_buy_qty': 33, 'tot_sell_qty': 0, 'avg_trade_price': 3115.88, 'low_price': 3096.1, 'high_price': 3137.75, 'lower_ckt': 0, 'upper_ckt': 0, 'open_price': 3110.0, 'prev_close_price': 3090.4, 'type': 'sf', 'symbol': 'NSE:ADANIENT-EQ', 'ch': 18.9, 'chp': 0.6116}\n",
      "Response: {'ltp': 3109.3, 'vol_traded_today': 988298, 'last_traded_time': 1721124654, 'exch_feed_time': 1721124654, 'bid_size': 0, 'ask_size': 72, 'bid_price': 0.0, 'ask_price': 3109.3, 'last_traded_qty': 33, 'tot_buy_qty': 0, 'tot_sell_qty': 72, 'avg_trade_price': 3115.88, 'low_price': 3096.1, 'high_price': 3137.75, 'lower_ckt': 0, 'upper_ckt': 0, 'open_price': 3110.0, 'prev_close_price': 3090.4, 'type': 'sf', 'symbol': 'NSE:ADANIENT-EQ', 'ch': 18.9, 'chp': 0.6116}\n",
      "Response: {'ltp': 880.7, 'vol_traded_today': 11890086, 'last_traded_time': 1721124655, 'exch_feed_time': 1721124655, 'bid_size': 3265, 'ask_size': 0, 'bid_price': 880.7, 'ask_price': 0.0, 'last_traded_qty': 100, 'tot_buy_qty': 3265, 'tot_sell_qty': 0, 'avg_trade_price': 880.46, 'low_price': 874.3, 'high_price': 888.1, 'lower_ckt': 0, 'upper_ckt': 0, 'open_price': 882.3, 'prev_close_price': 881.35, 'type': 'sf', 'symbol': 'NSE:SBIN-EQ', 'ch': -0.65, 'chp': -0.0738}\n",
      "Response: {'ltp': 880.7, 'vol_traded_today': 11890086, 'last_traded_time': 1721124655, 'exch_feed_time': 1721124657, 'bid_size': 3265, 'ask_size': 0, 'bid_price': 880.7, 'ask_price': 0.0, 'last_traded_qty': 100, 'tot_buy_qty': 3265, 'tot_sell_qty': 0, 'avg_trade_price': 880.46, 'low_price': 874.3, 'high_price': 888.1, 'lower_ckt': 0, 'upper_ckt': 0, 'open_price': 882.3, 'prev_close_price': 881.35, 'type': 'sf', 'symbol': 'NSE:SBIN-EQ', 'ch': -0.65, 'chp': -0.0738}\n",
      "Response: {'ltp': 880.7, 'vol_traded_today': 11890086, 'last_traded_time': 1721124655, 'exch_feed_time': 1721124658, 'bid_size': 3265, 'ask_size': 0, 'bid_price': 880.7, 'ask_price': 0.0, 'last_traded_qty': 100, 'tot_buy_qty': 3265, 'tot_sell_qty': 0, 'avg_trade_price': 880.46, 'low_price': 874.3, 'high_price': 888.1, 'lower_ckt': 0, 'upper_ckt': 0, 'open_price': 882.3, 'prev_close_price': 881.35, 'type': 'sf', 'symbol': 'NSE:SBIN-EQ', 'ch': -0.65, 'chp': -0.0738}\n",
      "Response: {'ltp': 880.7, 'vol_traded_today': 11892086, 'last_traded_time': 1721124659, 'exch_feed_time': 1721124659, 'bid_size': 1265, 'ask_size': 0, 'bid_price': 880.7, 'ask_price': 0.0, 'last_traded_qty': 797, 'tot_buy_qty': 1265, 'tot_sell_qty': 0, 'avg_trade_price': 880.46, 'low_price': 874.3, 'high_price': 888.1, 'lower_ckt': 0, 'upper_ckt': 0, 'open_price': 882.3, 'prev_close_price': 881.35, 'type': 'sf', 'symbol': 'NSE:SBIN-EQ', 'ch': -0.65, 'chp': -0.0738}\n",
      "Response: {'ltp': 880.7, 'vol_traded_today': 11892086, 'last_traded_time': 1721124659, 'exch_feed_time': 1721124662, 'bid_size': 1269, 'ask_size': 0, 'bid_price': 880.7, 'ask_price': 0.0, 'last_traded_qty': 797, 'tot_buy_qty': 1269, 'tot_sell_qty': 0, 'avg_trade_price': 880.46, 'low_price': 874.3, 'high_price': 888.1, 'lower_ckt': 0, 'upper_ckt': 0, 'open_price': 882.3, 'prev_close_price': 881.35, 'type': 'sf', 'symbol': 'NSE:SBIN-EQ', 'ch': -0.65, 'chp': -0.0738}\n",
      "Response: {'ltp': 880.7, 'vol_traded_today': 11892086, 'last_traded_time': 1721124659, 'exch_feed_time': 1721124664, 'bid_size': 1269, 'ask_size': 0, 'bid_price': 880.7, 'ask_price': 0.0, 'last_traded_qty': 797, 'tot_buy_qty': 1269, 'tot_sell_qty': 0, 'avg_trade_price': 880.46, 'low_price': 874.3, 'high_price': 888.1, 'lower_ckt': 0, 'upper_ckt': 0, 'open_price': 882.3, 'prev_close_price': 881.35, 'type': 'sf', 'symbol': 'NSE:SBIN-EQ', 'ch': -0.65, 'chp': -0.0738}\n",
      "Response: {'ltp': 880.7, 'vol_traded_today': 11892086, 'last_traded_time': 1721124659, 'exch_feed_time': 1721124665, 'bid_size': 1269, 'ask_size': 0, 'bid_price': 880.7, 'ask_price': 0.0, 'last_traded_qty': 797, 'tot_buy_qty': 1269, 'tot_sell_qty': 0, 'avg_trade_price': 880.46, 'low_price': 874.3, 'high_price': 888.1, 'lower_ckt': 0, 'upper_ckt': 0, 'open_price': 882.3, 'prev_close_price': 881.35, 'type': 'sf', 'symbol': 'NSE:SBIN-EQ', 'ch': -0.65, 'chp': -0.0738}\n",
      "Response: {'ltp': 3109.3, 'vol_traded_today': 988298, 'last_traded_time': 1721124654, 'exch_feed_time': 1721124674, 'bid_size': 0, 'ask_size': 73, 'bid_price': 0.0, 'ask_price': 3109.3, 'last_traded_qty': 33, 'tot_buy_qty': 0, 'tot_sell_qty': 73, 'avg_trade_price': 3115.88, 'low_price': 3096.1, 'high_price': 3137.75, 'lower_ckt': 0, 'upper_ckt': 0, 'open_price': 3110.0, 'prev_close_price': 3090.4, 'type': 'sf', 'symbol': 'NSE:ADANIENT-EQ', 'ch': 18.9, 'chp': 0.6116}\n",
      "Response: {'ltp': 880.7, 'vol_traded_today': 11892111, 'last_traded_time': 1721124674, 'exch_feed_time': 1721124675, 'bid_size': 1244, 'ask_size': 0, 'bid_price': 880.7, 'ask_price': 0.0, 'last_traded_qty': 25, 'tot_buy_qty': 1244, 'tot_sell_qty': 0, 'avg_trade_price': 880.46, 'low_price': 874.3, 'high_price': 888.1, 'lower_ckt': 0, 'upper_ckt': 0, 'open_price': 882.3, 'prev_close_price': 881.35, 'type': 'sf', 'symbol': 'NSE:SBIN-EQ', 'ch': -0.65, 'chp': -0.0738}\n",
      "Response: {'ltp': 3109.3, 'vol_traded_today': 988298, 'last_traded_time': 1721124654, 'exch_feed_time': 1721124676, 'bid_size': 0, 'ask_size': 73, 'bid_price': 0.0, 'ask_price': 3109.3, 'last_traded_qty': 33, 'tot_buy_qty': 0, 'tot_sell_qty': 73, 'avg_trade_price': 3115.88, 'low_price': 3096.1, 'high_price': 3137.75, 'lower_ckt': 0, 'upper_ckt': 0, 'open_price': 3110.0, 'prev_close_price': 3090.4, 'type': 'sf', 'symbol': 'NSE:ADANIENT-EQ', 'ch': 18.9, 'chp': 0.6116}\n",
      "Response: {'ltp': 880.7, 'vol_traded_today': 11892111, 'last_traded_time': 1721124674, 'exch_feed_time': 1721124679, 'bid_size': 1244, 'ask_size': 0, 'bid_price': 880.7, 'ask_price': 0.0, 'last_traded_qty': 25, 'tot_buy_qty': 1244, 'tot_sell_qty': 0, 'avg_trade_price': 880.46, 'low_price': 874.3, 'high_price': 888.1, 'lower_ckt': 0, 'upper_ckt': 0, 'open_price': 882.3, 'prev_close_price': 881.35, 'type': 'sf', 'symbol': 'NSE:SBIN-EQ', 'ch': -0.65, 'chp': -0.0738}\n",
      "Response: {'ltp': 3109.3, 'vol_traded_today': 988298, 'last_traded_time': 1721124654, 'exch_feed_time': 1721124679, 'bid_size': 0, 'ask_size': 73, 'bid_price': 0.0, 'ask_price': 3109.3, 'last_traded_qty': 33, 'tot_buy_qty': 0, 'tot_sell_qty': 73, 'avg_trade_price': 3115.88, 'low_price': 3096.1, 'high_price': 3137.75, 'lower_ckt': 0, 'upper_ckt': 0, 'open_price': 3110.0, 'prev_close_price': 3090.4, 'type': 'sf', 'symbol': 'NSE:ADANIENT-EQ', 'ch': 18.9, 'chp': 0.6116}\n",
      "Response: {'ltp': 880.7, 'vol_traded_today': 11892111, 'last_traded_time': 1721124674, 'exch_feed_time': 1721124680, 'bid_size': 1244, 'ask_size': 0, 'bid_price': 880.7, 'ask_price': 0.0, 'last_traded_qty': 25, 'tot_buy_qty': 1244, 'tot_sell_qty': 0, 'avg_trade_price': 880.46, 'low_price': 874.3, 'high_price': 888.1, 'lower_ckt': 0, 'upper_ckt': 0, 'open_price': 882.3, 'prev_close_price': 881.35, 'type': 'sf', 'symbol': 'NSE:SBIN-EQ', 'ch': -0.65, 'chp': -0.0738}\n",
      "Response: {'ltp': 880.7, 'vol_traded_today': 11892111, 'last_traded_time': 1721124674, 'exch_feed_time': 1721124681, 'bid_size': 1244, 'ask_size': 0, 'bid_price': 880.7, 'ask_price': 0.0, 'last_traded_qty': 25, 'tot_buy_qty': 1244, 'tot_sell_qty': 0, 'avg_trade_price': 880.46, 'low_price': 874.3, 'high_price': 888.1, 'lower_ckt': 0, 'upper_ckt': 0, 'open_price': 882.3, 'prev_close_price': 881.35, 'type': 'sf', 'symbol': 'NSE:SBIN-EQ', 'ch': -0.65, 'chp': -0.0738}\n",
      "Response: {'ltp': 880.7, 'vol_traded_today': 11892111, 'last_traded_time': 1721124674, 'exch_feed_time': 1721124681, 'bid_size': 1244, 'ask_size': 0, 'bid_price': 880.7, 'ask_price': 0.0, 'last_traded_qty': 100, 'tot_buy_qty': 1244, 'tot_sell_qty': 0, 'avg_trade_price': 880.46, 'low_price': 874.3, 'high_price': 888.1, 'lower_ckt': 0, 'upper_ckt': 0, 'open_price': 882.3, 'prev_close_price': 881.35, 'type': 'sf', 'symbol': 'NSE:SBIN-EQ', 'ch': -0.65, 'chp': -0.0738}\n",
      "Response: {'ltp': 880.7, 'vol_traded_today': 11892211, 'last_traded_time': 1721124681, 'exch_feed_time': 1721124682, 'bid_size': 1144, 'ask_size': 0, 'bid_price': 880.7, 'ask_price': 0.0, 'last_traded_qty': 100, 'tot_buy_qty': 1144, 'tot_sell_qty': 0, 'avg_trade_price': 880.46, 'low_price': 874.3, 'high_price': 888.1, 'lower_ckt': 0, 'upper_ckt': 0, 'open_price': 882.3, 'prev_close_price': 881.35, 'type': 'sf', 'symbol': 'NSE:SBIN-EQ', 'ch': -0.65, 'chp': -0.0738}\n",
      "Response: {'ltp': 3109.3, 'vol_traded_today': 988298, 'last_traded_time': 1721124654, 'exch_feed_time': 1721124683, 'bid_size': 0, 'ask_size': 73, 'bid_price': 0.0, 'ask_price': 3109.3, 'last_traded_qty': 33, 'tot_buy_qty': 0, 'tot_sell_qty': 73, 'avg_trade_price': 3115.88, 'low_price': 3096.1, 'high_price': 3137.75, 'lower_ckt': 0, 'upper_ckt': 0, 'open_price': 3110.0, 'prev_close_price': 3090.4, 'type': 'sf', 'symbol': 'NSE:ADANIENT-EQ', 'ch': 18.9, 'chp': 0.6116}\n",
      "Response: {'ltp': 880.7, 'vol_traded_today': 11892212, 'last_traded_time': 1721124685, 'exch_feed_time': 1721124685, 'bid_size': 1143, 'ask_size': 0, 'bid_price': 880.7, 'ask_price': 0.0, 'last_traded_qty': 1, 'tot_buy_qty': 1143, 'tot_sell_qty': 0, 'avg_trade_price': 880.46, 'low_price': 874.3, 'high_price': 888.1, 'lower_ckt': 0, 'upper_ckt': 0, 'open_price': 882.3, 'prev_close_price': 881.35, 'type': 'sf', 'symbol': 'NSE:SBIN-EQ', 'ch': -0.65, 'chp': -0.0738}\n",
      "Response: {'ltp': 880.7, 'vol_traded_today': 11892212, 'last_traded_time': 1721124685, 'exch_feed_time': 1721124686, 'bid_size': 1143, 'ask_size': 0, 'bid_price': 880.7, 'ask_price': 0.0, 'last_traded_qty': 1, 'tot_buy_qty': 1143, 'tot_sell_qty': 0, 'avg_trade_price': 880.46, 'low_price': 874.3, 'high_price': 888.1, 'lower_ckt': 0, 'upper_ckt': 0, 'open_price': 882.3, 'prev_close_price': 881.35, 'type': 'sf', 'symbol': 'NSE:SBIN-EQ', 'ch': -0.65, 'chp': -0.0738}\n",
      "Response: {'ltp': 880.7, 'vol_traded_today': 11892212, 'last_traded_time': 1721124685, 'exch_feed_time': 1721124687, 'bid_size': 1143, 'ask_size': 0, 'bid_price': 880.7, 'ask_price': 0.0, 'last_traded_qty': 1, 'tot_buy_qty': 1143, 'tot_sell_qty': 0, 'avg_trade_price': 880.46, 'low_price': 874.3, 'high_price': 888.1, 'lower_ckt': 0, 'upper_ckt': 0, 'open_price': 882.3, 'prev_close_price': 881.35, 'type': 'sf', 'symbol': 'NSE:SBIN-EQ', 'ch': -0.65, 'chp': -0.0738}\n",
      "Response: {'ltp': 880.7, 'vol_traded_today': 11892212, 'last_traded_time': 1721124685, 'exch_feed_time': 1721124689, 'bid_size': 1143, 'ask_size': 0, 'bid_price': 880.7, 'ask_price': 0.0, 'last_traded_qty': 1, 'tot_buy_qty': 1143, 'tot_sell_qty': 0, 'avg_trade_price': 880.46, 'low_price': 874.3, 'high_price': 888.1, 'lower_ckt': 0, 'upper_ckt': 0, 'open_price': 882.3, 'prev_close_price': 881.35, 'type': 'sf', 'symbol': 'NSE:SBIN-EQ', 'ch': -0.65, 'chp': -0.0738}\n",
      "Response: {'ltp': 880.7, 'vol_traded_today': 11892212, 'last_traded_time': 1721124685, 'exch_feed_time': 1721124695, 'bid_size': 1143, 'ask_size': 0, 'bid_price': 880.7, 'ask_price': 0.0, 'last_traded_qty': 1, 'tot_buy_qty': 1143, 'tot_sell_qty': 0, 'avg_trade_price': 880.46, 'low_price': 874.3, 'high_price': 888.1, 'lower_ckt': 0, 'upper_ckt': 0, 'open_price': 882.3, 'prev_close_price': 881.35, 'type': 'sf', 'symbol': 'NSE:SBIN-EQ', 'ch': -0.65, 'chp': -0.0738}\n",
      "Response: {'ltp': 3109.3, 'vol_traded_today': 988298, 'last_traded_time': 1721124654, 'exch_feed_time': 1721124695, 'bid_size': 0, 'ask_size': 93, 'bid_price': 0.0, 'ask_price': 3109.3, 'last_traded_qty': 33, 'tot_buy_qty': 0, 'tot_sell_qty': 93, 'avg_trade_price': 3115.88, 'low_price': 3096.1, 'high_price': 3137.75, 'lower_ckt': 0, 'upper_ckt': 0, 'open_price': 3110.0, 'prev_close_price': 3090.4, 'type': 'sf', 'symbol': 'NSE:ADANIENT-EQ', 'ch': 18.9, 'chp': 0.6116}\n",
      "Response: {'ltp': 880.7, 'vol_traded_today': 11892212, 'last_traded_time': 1721124685, 'exch_feed_time': 1721124698, 'bid_size': 1143, 'ask_size': 0, 'bid_price': 880.7, 'ask_price': 0.0, 'last_traded_qty': 1, 'tot_buy_qty': 1143, 'tot_sell_qty': 0, 'avg_trade_price': 880.46, 'low_price': 874.3, 'high_price': 888.1, 'lower_ckt': 0, 'upper_ckt': 0, 'open_price': 882.3, 'prev_close_price': 881.35, 'type': 'sf', 'symbol': 'NSE:SBIN-EQ', 'ch': -0.65, 'chp': -0.0738}\n",
      "Response: {'ltp': 880.7, 'vol_traded_today': 11892212, 'last_traded_time': 1721124685, 'exch_feed_time': 1721124701, 'bid_size': 1143, 'ask_size': 0, 'bid_price': 880.7, 'ask_price': 0.0, 'last_traded_qty': 1, 'tot_buy_qty': 1143, 'tot_sell_qty': 0, 'avg_trade_price': 880.46, 'low_price': 874.3, 'high_price': 888.1, 'lower_ckt': 0, 'upper_ckt': 0, 'open_price': 882.3, 'prev_close_price': 881.35, 'type': 'sf', 'symbol': 'NSE:SBIN-EQ', 'ch': -0.65, 'chp': -0.0738}\n",
      "Response: {'ltp': 3109.3, 'vol_traded_today': 988298, 'last_traded_time': 1721124654, 'exch_feed_time': 1721124701, 'bid_size': 0, 'ask_size': 93, 'bid_price': 0.0, 'ask_price': 3109.3, 'last_traded_qty': 33, 'tot_buy_qty': 0, 'tot_sell_qty': 93, 'avg_trade_price': 3115.88, 'low_price': 3096.1, 'high_price': 3137.75, 'lower_ckt': 0, 'upper_ckt': 0, 'open_price': 3110.0, 'prev_close_price': 3090.4, 'type': 'sf', 'symbol': 'NSE:ADANIENT-EQ', 'ch': 18.9, 'chp': 0.6116}\n",
      "Response: {'ltp': 880.7, 'vol_traded_today': 11892212, 'last_traded_time': 1721124685, 'exch_feed_time': 1721124706, 'bid_size': 1145, 'ask_size': 0, 'bid_price': 880.7, 'ask_price': 0.0, 'last_traded_qty': 1, 'tot_buy_qty': 1145, 'tot_sell_qty': 0, 'avg_trade_price': 880.46, 'low_price': 874.3, 'high_price': 888.1, 'lower_ckt': 0, 'upper_ckt': 0, 'open_price': 882.3, 'prev_close_price': 881.35, 'type': 'sf', 'symbol': 'NSE:SBIN-EQ', 'ch': -0.65, 'chp': -0.0738}\n",
      "Response: {'ltp': 880.7, 'vol_traded_today': 11892212, 'last_traded_time': 1721124685, 'exch_feed_time': 1721124707, 'bid_size': 1148, 'ask_size': 0, 'bid_price': 880.7, 'ask_price': 0.0, 'last_traded_qty': 1, 'tot_buy_qty': 1148, 'tot_sell_qty': 0, 'avg_trade_price': 880.46, 'low_price': 874.3, 'high_price': 888.1, 'lower_ckt': 0, 'upper_ckt': 0, 'open_price': 882.3, 'prev_close_price': 881.35, 'type': 'sf', 'symbol': 'NSE:SBIN-EQ', 'ch': -0.65, 'chp': -0.0738}\n",
      "Response: {'ltp': 880.7, 'vol_traded_today': 11892212, 'last_traded_time': 1721124685, 'exch_feed_time': 1721124708, 'bid_size': 1198, 'ask_size': 0, 'bid_price': 880.7, 'ask_price': 0.0, 'last_traded_qty': 1, 'tot_buy_qty': 1198, 'tot_sell_qty': 0, 'avg_trade_price': 880.46, 'low_price': 874.3, 'high_price': 888.1, 'lower_ckt': 0, 'upper_ckt': 0, 'open_price': 882.3, 'prev_close_price': 881.35, 'type': 'sf', 'symbol': 'NSE:SBIN-EQ', 'ch': -0.65, 'chp': -0.0738}\n",
      "Response: {'ltp': 880.7, 'vol_traded_today': 11892212, 'last_traded_time': 1721124685, 'exch_feed_time': 1721124710, 'bid_size': 1200, 'ask_size': 0, 'bid_price': 880.7, 'ask_price': 0.0, 'last_traded_qty': 1, 'tot_buy_qty': 1200, 'tot_sell_qty': 0, 'avg_trade_price': 880.46, 'low_price': 874.3, 'high_price': 888.1, 'lower_ckt': 0, 'upper_ckt': 0, 'open_price': 882.3, 'prev_close_price': 881.35, 'type': 'sf', 'symbol': 'NSE:SBIN-EQ', 'ch': -0.65, 'chp': -0.0738}\n",
      "Response: {'ltp': 3109.3, 'vol_traded_today': 988298, 'last_traded_time': 1721124654, 'exch_feed_time': 1721124711, 'bid_size': 0, 'ask_size': 93, 'bid_price': 0.0, 'ask_price': 3109.3, 'last_traded_qty': 33, 'tot_buy_qty': 0, 'tot_sell_qty': 93, 'avg_trade_price': 3115.88, 'low_price': 3096.1, 'high_price': 3137.75, 'lower_ckt': 0, 'upper_ckt': 0, 'open_price': 3110.0, 'prev_close_price': 3090.4, 'type': 'sf', 'symbol': 'NSE:ADANIENT-EQ', 'ch': 18.9, 'chp': 0.6116}\n",
      "Response: {'ltp': 3109.3, 'vol_traded_today': 988298, 'last_traded_time': 1721124654, 'exch_feed_time': 1721124712, 'bid_size': 0, 'ask_size': 96, 'bid_price': 0.0, 'ask_price': 3109.3, 'last_traded_qty': 33, 'tot_buy_qty': 0, 'tot_sell_qty': 96, 'avg_trade_price': 3115.88, 'low_price': 3096.1, 'high_price': 3137.75, 'lower_ckt': 0, 'upper_ckt': 0, 'open_price': 3110.0, 'prev_close_price': 3090.4, 'type': 'sf', 'symbol': 'NSE:ADANIENT-EQ', 'ch': 18.9, 'chp': 0.6116}\n",
      "Response: {'ltp': 3109.3, 'vol_traded_today': 988298, 'last_traded_time': 1721124654, 'exch_feed_time': 1721124715, 'bid_size': 0, 'ask_size': 96, 'bid_price': 0.0, 'ask_price': 3109.3, 'last_traded_qty': 33, 'tot_buy_qty': 0, 'tot_sell_qty': 96, 'avg_trade_price': 3115.88, 'low_price': 3096.1, 'high_price': 3137.75, 'lower_ckt': 0, 'upper_ckt': 0, 'open_price': 3110.0, 'prev_close_price': 3090.4, 'type': 'sf', 'symbol': 'NSE:ADANIENT-EQ', 'ch': 18.9, 'chp': 0.6116}\n",
      "Response: {'ltp': 880.7, 'vol_traded_today': 11892212, 'last_traded_time': 1721124685, 'exch_feed_time': 1721124715, 'bid_size': 1200, 'ask_size': 0, 'bid_price': 880.7, 'ask_price': 0.0, 'last_traded_qty': 1, 'tot_buy_qty': 1200, 'tot_sell_qty': 0, 'avg_trade_price': 880.46, 'low_price': 874.3, 'high_price': 888.1, 'lower_ckt': 0, 'upper_ckt': 0, 'open_price': 882.3, 'prev_close_price': 881.35, 'type': 'sf', 'symbol': 'NSE:SBIN-EQ', 'ch': -0.65, 'chp': -0.0738}\n",
      "Response: {'ltp': 3109.3, 'vol_traded_today': 988298, 'last_traded_time': 1721124654, 'exch_feed_time': 1721124719, 'bid_size': 0, 'ask_size': 116, 'bid_price': 0.0, 'ask_price': 3109.3, 'last_traded_qty': 33, 'tot_buy_qty': 0, 'tot_sell_qty': 116, 'avg_trade_price': 3115.88, 'low_price': 3096.1, 'high_price': 3137.75, 'lower_ckt': 0, 'upper_ckt': 0, 'open_price': 3110.0, 'prev_close_price': 3090.4, 'type': 'sf', 'symbol': 'NSE:ADANIENT-EQ', 'ch': 18.9, 'chp': 0.6116}\n",
      "Response: {'ltp': 880.7, 'vol_traded_today': 11892212, 'last_traded_time': 1721124685, 'exch_feed_time': 1721124722, 'bid_size': 1200, 'ask_size': 0, 'bid_price': 880.7, 'ask_price': 0.0, 'last_traded_qty': 1, 'tot_buy_qty': 1200, 'tot_sell_qty': 0, 'avg_trade_price': 880.46, 'low_price': 874.3, 'high_price': 888.1, 'lower_ckt': 0, 'upper_ckt': 0, 'open_price': 882.3, 'prev_close_price': 881.35, 'type': 'sf', 'symbol': 'NSE:SBIN-EQ', 'ch': -0.65, 'chp': -0.0738}\n",
      "Response: {'ltp': 880.7, 'vol_traded_today': 11892212, 'last_traded_time': 1721124685, 'exch_feed_time': 1721124726, 'bid_size': 1202, 'ask_size': 0, 'bid_price': 880.7, 'ask_price': 0.0, 'last_traded_qty': 1, 'tot_buy_qty': 1202, 'tot_sell_qty': 0, 'avg_trade_price': 880.46, 'low_price': 874.3, 'high_price': 888.1, 'lower_ckt': 0, 'upper_ckt': 0, 'open_price': 882.3, 'prev_close_price': 881.35, 'type': 'sf', 'symbol': 'NSE:SBIN-EQ', 'ch': -0.65, 'chp': -0.0738}\n",
      "Response: {'ltp': 880.7, 'vol_traded_today': 11892297, 'last_traded_time': 1721124726, 'exch_feed_time': 1721124727, 'bid_size': 1117, 'ask_size': 0, 'bid_price': 880.7, 'ask_price': 0.0, 'last_traded_qty': 85, 'tot_buy_qty': 1117, 'tot_sell_qty': 0, 'avg_trade_price': 880.46, 'low_price': 874.3, 'high_price': 888.1, 'lower_ckt': 0, 'upper_ckt': 0, 'open_price': 882.3, 'prev_close_price': 881.35, 'type': 'sf', 'symbol': 'NSE:SBIN-EQ', 'ch': -0.65, 'chp': -0.0738}\n",
      "Response: {'ltp': 3109.3, 'vol_traded_today': 988298, 'last_traded_time': 1721124654, 'exch_feed_time': 1721124732, 'bid_size': 0, 'ask_size': 116, 'bid_price': 0.0, 'ask_price': 3109.3, 'last_traded_qty': 33, 'tot_buy_qty': 0, 'tot_sell_qty': 116, 'avg_trade_price': 3115.88, 'low_price': 3096.1, 'high_price': 3137.75, 'lower_ckt': 0, 'upper_ckt': 0, 'open_price': 3110.0, 'prev_close_price': 3090.4, 'type': 'sf', 'symbol': 'NSE:ADANIENT-EQ', 'ch': 18.9, 'chp': 0.6116}\n",
      "Response: {'ltp': 880.7, 'vol_traded_today': 11892297, 'last_traded_time': 1721124726, 'exch_feed_time': 1721124734, 'bid_size': 1117, 'ask_size': 0, 'bid_price': 880.7, 'ask_price': 0.0, 'last_traded_qty': 85, 'tot_buy_qty': 1117, 'tot_sell_qty': 0, 'avg_trade_price': 880.46, 'low_price': 874.3, 'high_price': 888.1, 'lower_ckt': 0, 'upper_ckt': 0, 'open_price': 882.3, 'prev_close_price': 881.35, 'type': 'sf', 'symbol': 'NSE:SBIN-EQ', 'ch': -0.65, 'chp': -0.0738}\n",
      "Response: {'ltp': 880.7, 'vol_traded_today': 11892397, 'last_traded_time': 1721124736, 'exch_feed_time': 1721124736, 'bid_size': 1017, 'ask_size': 0, 'bid_price': 880.7, 'ask_price': 0.0, 'last_traded_qty': 100, 'tot_buy_qty': 1017, 'tot_sell_qty': 0, 'avg_trade_price': 880.46, 'low_price': 874.3, 'high_price': 888.1, 'lower_ckt': 0, 'upper_ckt': 0, 'open_price': 882.3, 'prev_close_price': 881.35, 'type': 'sf', 'symbol': 'NSE:SBIN-EQ', 'ch': -0.65, 'chp': -0.0738}\n",
      "Response: {'ltp': 880.7, 'vol_traded_today': 11892397, 'last_traded_time': 1721124736, 'exch_feed_time': 1721124741, 'bid_size': 1017, 'ask_size': 0, 'bid_price': 880.7, 'ask_price': 0.0, 'last_traded_qty': 100, 'tot_buy_qty': 1017, 'tot_sell_qty': 0, 'avg_trade_price': 880.46, 'low_price': 874.3, 'high_price': 888.1, 'lower_ckt': 0, 'upper_ckt': 0, 'open_price': 882.3, 'prev_close_price': 881.35, 'type': 'sf', 'symbol': 'NSE:SBIN-EQ', 'ch': -0.65, 'chp': -0.0738}\n",
      "Response: {'ltp': 3109.3, 'vol_traded_today': 988298, 'last_traded_time': 1721124654, 'exch_feed_time': 1721124747, 'bid_size': 0, 'ask_size': 116, 'bid_price': 0.0, 'ask_price': 3109.3, 'last_traded_qty': 33, 'tot_buy_qty': 0, 'tot_sell_qty': 116, 'avg_trade_price': 3115.88, 'low_price': 3096.1, 'high_price': 3137.75, 'lower_ckt': 0, 'upper_ckt': 0, 'open_price': 3110.0, 'prev_close_price': 3090.4, 'type': 'sf', 'symbol': 'NSE:ADANIENT-EQ', 'ch': 18.9, 'chp': 0.6116}\n",
      "Response: {'ltp': 880.7, 'vol_traded_today': 11892397, 'last_traded_time': 1721124736, 'exch_feed_time': 1721124753, 'bid_size': 1062, 'ask_size': 0, 'bid_price': 880.7, 'ask_price': 0.0, 'last_traded_qty': 100, 'tot_buy_qty': 1062, 'tot_sell_qty': 0, 'avg_trade_price': 880.46, 'low_price': 874.3, 'high_price': 888.1, 'lower_ckt': 0, 'upper_ckt': 0, 'open_price': 882.3, 'prev_close_price': 881.35, 'type': 'sf', 'symbol': 'NSE:SBIN-EQ', 'ch': -0.65, 'chp': -0.0738}\n",
      "Response: {'ltp': 880.7, 'vol_traded_today': 11892412, 'last_traded_time': 1721124755, 'exch_feed_time': 1721124755, 'bid_size': 1047, 'ask_size': 0, 'bid_price': 880.7, 'ask_price': 0.0, 'last_traded_qty': 15, 'tot_buy_qty': 1047, 'tot_sell_qty': 0, 'avg_trade_price': 880.46, 'low_price': 874.3, 'high_price': 888.1, 'lower_ckt': 0, 'upper_ckt': 0, 'open_price': 882.3, 'prev_close_price': 881.35, 'type': 'sf', 'symbol': 'NSE:SBIN-EQ', 'ch': -0.65, 'chp': -0.0738}\n",
      "Response: {'ltp': 880.7, 'vol_traded_today': 11892412, 'last_traded_time': 1721124755, 'exch_feed_time': 1721124758, 'bid_size': 1047, 'ask_size': 0, 'bid_price': 880.7, 'ask_price': 0.0, 'last_traded_qty': 15, 'tot_buy_qty': 1047, 'tot_sell_qty': 0, 'avg_trade_price': 880.46, 'low_price': 874.3, 'high_price': 888.1, 'lower_ckt': 0, 'upper_ckt': 0, 'open_price': 882.3, 'prev_close_price': 881.35, 'type': 'sf', 'symbol': 'NSE:SBIN-EQ', 'ch': -0.65, 'chp': -0.0738}\n",
      "Response: {'ltp': 880.7, 'vol_traded_today': 11892412, 'last_traded_time': 1721124755, 'exch_feed_time': 1721124764, 'bid_size': 1047, 'ask_size': 0, 'bid_price': 880.7, 'ask_price': 0.0, 'last_traded_qty': 15, 'tot_buy_qty': 1047, 'tot_sell_qty': 0, 'avg_trade_price': 880.46, 'low_price': 874.3, 'high_price': 888.1, 'lower_ckt': 0, 'upper_ckt': 0, 'open_price': 882.3, 'prev_close_price': 881.35, 'type': 'sf', 'symbol': 'NSE:SBIN-EQ', 'ch': -0.65, 'chp': -0.0738}\n",
      "Response: {'ltp': 880.7, 'vol_traded_today': 11892512, 'last_traded_time': 1721124765, 'exch_feed_time': 1721124765, 'bid_size': 947, 'ask_size': 0, 'bid_price': 880.7, 'ask_price': 0.0, 'last_traded_qty': 100, 'tot_buy_qty': 947, 'tot_sell_qty': 0, 'avg_trade_price': 880.46, 'low_price': 874.3, 'high_price': 888.1, 'lower_ckt': 0, 'upper_ckt': 0, 'open_price': 882.3, 'prev_close_price': 881.35, 'type': 'sf', 'symbol': 'NSE:SBIN-EQ', 'ch': -0.65, 'chp': -0.0738}\n",
      "Response: {'ltp': 880.7, 'vol_traded_today': 11892513, 'last_traded_time': 1721124770, 'exch_feed_time': 1721124770, 'bid_size': 946, 'ask_size': 0, 'bid_price': 880.7, 'ask_price': 0.0, 'last_traded_qty': 1, 'tot_buy_qty': 946, 'tot_sell_qty': 0, 'avg_trade_price': 880.46, 'low_price': 874.3, 'high_price': 888.1, 'lower_ckt': 0, 'upper_ckt': 0, 'open_price': 882.3, 'prev_close_price': 881.35, 'type': 'sf', 'symbol': 'NSE:SBIN-EQ', 'ch': -0.65, 'chp': -0.0738}\n",
      "Response: {'ltp': 880.7, 'vol_traded_today': 11892513, 'last_traded_time': 1721124770, 'exch_feed_time': 1721124771, 'bid_size': 946, 'ask_size': 0, 'bid_price': 880.7, 'ask_price': 0.0, 'last_traded_qty': 1, 'tot_buy_qty': 946, 'tot_sell_qty': 0, 'avg_trade_price': 880.46, 'low_price': 874.3, 'high_price': 888.1, 'lower_ckt': 0, 'upper_ckt': 0, 'open_price': 882.3, 'prev_close_price': 881.35, 'type': 'sf', 'symbol': 'NSE:SBIN-EQ', 'ch': -0.65, 'chp': -0.0738}\n",
      "Response: {'ltp': 3109.3, 'vol_traded_today': 988298, 'last_traded_time': 1721124654, 'exch_feed_time': 1721124774, 'bid_size': 0, 'ask_size': 116, 'bid_price': 0.0, 'ask_price': 3109.3, 'last_traded_qty': 33, 'tot_buy_qty': 0, 'tot_sell_qty': 116, 'avg_trade_price': 3115.88, 'low_price': 3096.1, 'high_price': 3137.75, 'lower_ckt': 0, 'upper_ckt': 0, 'open_price': 3110.0, 'prev_close_price': 3090.4, 'type': 'sf', 'symbol': 'NSE:ADANIENT-EQ', 'ch': 18.9, 'chp': 0.6116}\n",
      "Response: {'ltp': 880.7, 'vol_traded_today': 11892513, 'last_traded_time': 1721124770, 'exch_feed_time': 1721124774, 'bid_size': 946, 'ask_size': 0, 'bid_price': 880.7, 'ask_price': 0.0, 'last_traded_qty': 1, 'tot_buy_qty': 946, 'tot_sell_qty': 0, 'avg_trade_price': 880.46, 'low_price': 874.3, 'high_price': 888.1, 'lower_ckt': 0, 'upper_ckt': 0, 'open_price': 882.3, 'prev_close_price': 881.35, 'type': 'sf', 'symbol': 'NSE:SBIN-EQ', 'ch': -0.65, 'chp': -0.0738}\n",
      "Response: {'ltp': 3109.3, 'vol_traded_today': 988298, 'last_traded_time': 1721124654, 'exch_feed_time': 1721124775, 'bid_size': 0, 'ask_size': 116, 'bid_price': 0.0, 'ask_price': 3109.3, 'last_traded_qty': 33, 'tot_buy_qty': 0, 'tot_sell_qty': 116, 'avg_trade_price': 3115.88, 'low_price': 3096.1, 'high_price': 3137.75, 'lower_ckt': 0, 'upper_ckt': 0, 'open_price': 3110.0, 'prev_close_price': 3090.4, 'type': 'sf', 'symbol': 'NSE:ADANIENT-EQ', 'ch': 18.9, 'chp': 0.6116}\n",
      "Response: {'ltp': 3109.3, 'vol_traded_today': 988298, 'last_traded_time': 1721124654, 'exch_feed_time': 1721124780, 'bid_size': 0, 'ask_size': 116, 'bid_price': 0.0, 'ask_price': 3109.3, 'last_traded_qty': 33, 'tot_buy_qty': 0, 'tot_sell_qty': 116, 'avg_trade_price': 3115.88, 'low_price': 3096.1, 'high_price': 3137.75, 'lower_ckt': 0, 'upper_ckt': 0, 'open_price': 3110.0, 'prev_close_price': 3090.4, 'type': 'sf', 'symbol': 'NSE:ADANIENT-EQ', 'ch': 18.9, 'chp': 0.6116}\n",
      "Response: {'ltp': 880.7, 'vol_traded_today': 11892513, 'last_traded_time': 1721124770, 'exch_feed_time': 1721124780, 'bid_size': 946, 'ask_size': 0, 'bid_price': 880.7, 'ask_price': 0.0, 'last_traded_qty': 1, 'tot_buy_qty': 946, 'tot_sell_qty': 0, 'avg_trade_price': 880.46, 'low_price': 874.3, 'high_price': 888.1, 'lower_ckt': 0, 'upper_ckt': 0, 'open_price': 882.3, 'prev_close_price': 881.35, 'type': 'sf', 'symbol': 'NSE:SBIN-EQ', 'ch': -0.65, 'chp': -0.0738}\n",
      "Response: {'ltp': 3109.3, 'vol_traded_today': 988308, 'last_traded_time': 1721124794, 'exch_feed_time': 1721124794, 'bid_size': 0, 'ask_size': 106, 'bid_price': 0.0, 'ask_price': 3109.3, 'last_traded_qty': 10, 'tot_buy_qty': 0, 'tot_sell_qty': 106, 'avg_trade_price': 3115.88, 'low_price': 3096.1, 'high_price': 3137.75, 'lower_ckt': 0, 'upper_ckt': 0, 'open_price': 3110.0, 'prev_close_price': 3090.4, 'type': 'sf', 'symbol': 'NSE:ADANIENT-EQ', 'ch': 18.9, 'chp': 0.6116}\n",
      "Response: {'ltp': 880.7, 'vol_traded_today': 11892513, 'last_traded_time': 1721124770, 'exch_feed_time': 1721124795, 'bid_size': 946, 'ask_size': 0, 'bid_price': 880.7, 'ask_price': 0.0, 'last_traded_qty': 1, 'tot_buy_qty': 946, 'tot_sell_qty': 0, 'avg_trade_price': 880.46, 'low_price': 874.3, 'high_price': 888.1, 'lower_ckt': 0, 'upper_ckt': 0, 'open_price': 882.3, 'prev_close_price': 881.35, 'type': 'sf', 'symbol': 'NSE:SBIN-EQ', 'ch': -0.65, 'chp': -0.0738}\n",
      "Response: {'ltp': 880.7, 'vol_traded_today': 11892513, 'last_traded_time': 1721124770, 'exch_feed_time': 1721124799, 'bid_size': 946, 'ask_size': 0, 'bid_price': 880.7, 'ask_price': 0.0, 'last_traded_qty': 1, 'tot_buy_qty': 946, 'tot_sell_qty': 0, 'avg_trade_price': 880.46, 'low_price': 874.3, 'high_price': 888.1, 'lower_ckt': 0, 'upper_ckt': 0, 'open_price': 882.3, 'prev_close_price': 881.35, 'type': 'sf', 'symbol': 'NSE:SBIN-EQ', 'ch': -0.65, 'chp': -0.0738}\n",
      "Response: {'ltp': 3109.3, 'vol_traded_today': 988309, 'last_traded_time': 1721124800, 'exch_feed_time': 1721124800, 'bid_size': 0, 'ask_size': 105, 'bid_price': 0.0, 'ask_price': 3109.3, 'last_traded_qty': 1, 'tot_buy_qty': 0, 'tot_sell_qty': 105, 'avg_trade_price': 3115.88, 'low_price': 3096.1, 'high_price': 3137.75, 'lower_ckt': 0, 'upper_ckt': 0, 'open_price': 3110.0, 'prev_close_price': 3090.4, 'type': 'sf', 'symbol': 'NSE:ADANIENT-EQ', 'ch': 18.9, 'chp': 0.6116}\n",
      "Response: {'ltp': 880.7, 'vol_traded_today': 11892513, 'last_traded_time': 1721124770, 'exch_feed_time': 1721124801, 'bid_size': 946, 'ask_size': 0, 'bid_price': 880.7, 'ask_price': 0.0, 'last_traded_qty': 1, 'tot_buy_qty': 946, 'tot_sell_qty': 0, 'avg_trade_price': 880.46, 'low_price': 874.3, 'high_price': 888.1, 'lower_ckt': 0, 'upper_ckt': 0, 'open_price': 882.3, 'prev_close_price': 881.35, 'type': 'sf', 'symbol': 'NSE:SBIN-EQ', 'ch': -0.65, 'chp': -0.0738}\n",
      "Response: {'ltp': 880.7, 'vol_traded_today': 11892513, 'last_traded_time': 1721124770, 'exch_feed_time': 1721124802, 'bid_size': 947, 'ask_size': 0, 'bid_price': 880.7, 'ask_price': 0.0, 'last_traded_qty': 1, 'tot_buy_qty': 947, 'tot_sell_qty': 0, 'avg_trade_price': 880.46, 'low_price': 874.3, 'high_price': 888.1, 'lower_ckt': 0, 'upper_ckt': 0, 'open_price': 882.3, 'prev_close_price': 881.35, 'type': 'sf', 'symbol': 'NSE:SBIN-EQ', 'ch': -0.65, 'chp': -0.0738}\n",
      "Response: {'ltp': 880.7, 'vol_traded_today': 11892513, 'last_traded_time': 1721124770, 'exch_feed_time': 1721124808, 'bid_size': 947, 'ask_size': 0, 'bid_price': 880.7, 'ask_price': 0.0, 'last_traded_qty': 1, 'tot_buy_qty': 947, 'tot_sell_qty': 0, 'avg_trade_price': 880.46, 'low_price': 874.3, 'high_price': 888.1, 'lower_ckt': 0, 'upper_ckt': 0, 'open_price': 882.3, 'prev_close_price': 881.35, 'type': 'sf', 'symbol': 'NSE:SBIN-EQ', 'ch': -0.65, 'chp': -0.0738}\n",
      "Response: {'ltp': 880.7, 'vol_traded_today': 11892513, 'last_traded_time': 1721124770, 'exch_feed_time': 1721124812, 'bid_size': 957, 'ask_size': 0, 'bid_price': 880.7, 'ask_price': 0.0, 'last_traded_qty': 1, 'tot_buy_qty': 957, 'tot_sell_qty': 0, 'avg_trade_price': 880.46, 'low_price': 874.3, 'high_price': 888.1, 'lower_ckt': 0, 'upper_ckt': 0, 'open_price': 882.3, 'prev_close_price': 881.35, 'type': 'sf', 'symbol': 'NSE:SBIN-EQ', 'ch': -0.65, 'chp': -0.0738}\n",
      "Response: {'ltp': 880.7, 'vol_traded_today': 11892523, 'last_traded_time': 1721124813, 'exch_feed_time': 1721124813, 'bid_size': 947, 'ask_size': 0, 'bid_price': 880.7, 'ask_price': 0.0, 'last_traded_qty': 10, 'tot_buy_qty': 947, 'tot_sell_qty': 0, 'avg_trade_price': 880.46, 'low_price': 874.3, 'high_price': 888.1, 'lower_ckt': 0, 'upper_ckt': 0, 'open_price': 882.3, 'prev_close_price': 881.35, 'type': 'sf', 'symbol': 'NSE:SBIN-EQ', 'ch': -0.65, 'chp': -0.0738}\n",
      "Response: {'ltp': 880.7, 'vol_traded_today': 11892523, 'last_traded_time': 1721124813, 'exch_feed_time': 1721124814, 'bid_size': 947, 'ask_size': 0, 'bid_price': 880.7, 'ask_price': 0.0, 'last_traded_qty': 10, 'tot_buy_qty': 947, 'tot_sell_qty': 0, 'avg_trade_price': 880.46, 'low_price': 874.3, 'high_price': 888.1, 'lower_ckt': 0, 'upper_ckt': 0, 'open_price': 882.3, 'prev_close_price': 881.35, 'type': 'sf', 'symbol': 'NSE:SBIN-EQ', 'ch': -0.65, 'chp': -0.0738}\n",
      "Response: {'ltp': 880.7, 'vol_traded_today': 11892523, 'last_traded_time': 1721124813, 'exch_feed_time': 1721124818, 'bid_size': 1047, 'ask_size': 0, 'bid_price': 880.7, 'ask_price': 0.0, 'last_traded_qty': 10, 'tot_buy_qty': 1047, 'tot_sell_qty': 0, 'avg_trade_price': 880.46, 'low_price': 874.3, 'high_price': 888.1, 'lower_ckt': 0, 'upper_ckt': 0, 'open_price': 882.3, 'prev_close_price': 881.35, 'type': 'sf', 'symbol': 'NSE:SBIN-EQ', 'ch': -0.65, 'chp': -0.0738}\n",
      "Response: {'ltp': 3109.3, 'vol_traded_today': 988309, 'last_traded_time': 1721124800, 'exch_feed_time': 1721124823, 'bid_size': 0, 'ask_size': 105, 'bid_price': 0.0, 'ask_price': 3109.3, 'last_traded_qty': 1, 'tot_buy_qty': 0, 'tot_sell_qty': 105, 'avg_trade_price': 3115.88, 'low_price': 3096.1, 'high_price': 3137.75, 'lower_ckt': 0, 'upper_ckt': 0, 'open_price': 3110.0, 'prev_close_price': 3090.4, 'type': 'sf', 'symbol': 'NSE:ADANIENT-EQ', 'ch': 18.9, 'chp': 0.6116}\n",
      "Response: {'ltp': 880.7, 'vol_traded_today': 11892523, 'last_traded_time': 1721124813, 'exch_feed_time': 1721124830, 'bid_size': 1047, 'ask_size': 0, 'bid_price': 880.7, 'ask_price': 0.0, 'last_traded_qty': 10, 'tot_buy_qty': 1047, 'tot_sell_qty': 0, 'avg_trade_price': 880.46, 'low_price': 874.3, 'high_price': 888.1, 'lower_ckt': 0, 'upper_ckt': 0, 'open_price': 882.3, 'prev_close_price': 881.35, 'type': 'sf', 'symbol': 'NSE:SBIN-EQ', 'ch': -0.65, 'chp': -0.0738}\n",
      "Response: {'ltp': 3109.3, 'vol_traded_today': 988309, 'last_traded_time': 1721124800, 'exch_feed_time': 1721124830, 'bid_size': 0, 'ask_size': 105, 'bid_price': 0.0, 'ask_price': 3109.3, 'last_traded_qty': 1, 'tot_buy_qty': 0, 'tot_sell_qty': 105, 'avg_trade_price': 3115.88, 'low_price': 3096.1, 'high_price': 3137.75, 'lower_ckt': 0, 'upper_ckt': 0, 'open_price': 3110.0, 'prev_close_price': 3090.4, 'type': 'sf', 'symbol': 'NSE:ADANIENT-EQ', 'ch': 18.9, 'chp': 0.6116}\n",
      "Response: {'ltp': 880.7, 'vol_traded_today': 11892523, 'last_traded_time': 1721124813, 'exch_feed_time': 1721124831, 'bid_size': 1047, 'ask_size': 0, 'bid_price': 880.7, 'ask_price': 0.0, 'last_traded_qty': 10, 'tot_buy_qty': 1047, 'tot_sell_qty': 0, 'avg_trade_price': 880.46, 'low_price': 874.3, 'high_price': 888.1, 'lower_ckt': 0, 'upper_ckt': 0, 'open_price': 882.3, 'prev_close_price': 881.35, 'type': 'sf', 'symbol': 'NSE:SBIN-EQ', 'ch': -0.65, 'chp': -0.0738}\n",
      "Response: {'ltp': 3109.3, 'vol_traded_today': 988309, 'last_traded_time': 1721124800, 'exch_feed_time': 1721124834, 'bid_size': 0, 'ask_size': 105, 'bid_price': 0.0, 'ask_price': 3109.3, 'last_traded_qty': 1, 'tot_buy_qty': 0, 'tot_sell_qty': 105, 'avg_trade_price': 3115.88, 'low_price': 3096.1, 'high_price': 3137.75, 'lower_ckt': 0, 'upper_ckt': 0, 'open_price': 3110.0, 'prev_close_price': 3090.4, 'type': 'sf', 'symbol': 'NSE:ADANIENT-EQ', 'ch': 18.9, 'chp': 0.6116}\n",
      "Response: {'ltp': 880.7, 'vol_traded_today': 11892523, 'last_traded_time': 1721124813, 'exch_feed_time': 1721124839, 'bid_size': 1048, 'ask_size': 0, 'bid_price': 880.7, 'ask_price': 0.0, 'last_traded_qty': 10, 'tot_buy_qty': 1048, 'tot_sell_qty': 0, 'avg_trade_price': 880.46, 'low_price': 874.3, 'high_price': 888.1, 'lower_ckt': 0, 'upper_ckt': 0, 'open_price': 882.3, 'prev_close_price': 881.35, 'type': 'sf', 'symbol': 'NSE:SBIN-EQ', 'ch': -0.65, 'chp': -0.0738}\n",
      "Response: {'ltp': 880.7, 'vol_traded_today': 11892623, 'last_traded_time': 1721124840, 'exch_feed_time': 1721124840, 'bid_size': 948, 'ask_size': 0, 'bid_price': 880.7, 'ask_price': 0.0, 'last_traded_qty': 100, 'tot_buy_qty': 948, 'tot_sell_qty': 0, 'avg_trade_price': 880.46, 'low_price': 874.3, 'high_price': 888.1, 'lower_ckt': 0, 'upper_ckt': 0, 'open_price': 882.3, 'prev_close_price': 881.35, 'type': 'sf', 'symbol': 'NSE:SBIN-EQ', 'ch': -0.65, 'chp': -0.0738}\n",
      "Response: {'ltp': 3109.3, 'vol_traded_today': 988309, 'last_traded_time': 1721124800, 'exch_feed_time': 1721124843, 'bid_size': 0, 'ask_size': 105, 'bid_price': 0.0, 'ask_price': 3109.3, 'last_traded_qty': 1, 'tot_buy_qty': 0, 'tot_sell_qty': 105, 'avg_trade_price': 3115.88, 'low_price': 3096.1, 'high_price': 3137.75, 'lower_ckt': 0, 'upper_ckt': 0, 'open_price': 3110.0, 'prev_close_price': 3090.4, 'type': 'sf', 'symbol': 'NSE:ADANIENT-EQ', 'ch': 18.9, 'chp': 0.6116}\n",
      "Response: {'ltp': 880.7, 'vol_traded_today': 11892633, 'last_traded_time': 1721124848, 'exch_feed_time': 1721124848, 'bid_size': 938, 'ask_size': 0, 'bid_price': 880.7, 'ask_price': 0.0, 'last_traded_qty': 10, 'tot_buy_qty': 938, 'tot_sell_qty': 0, 'avg_trade_price': 880.46, 'low_price': 874.3, 'high_price': 888.1, 'lower_ckt': 0, 'upper_ckt': 0, 'open_price': 882.3, 'prev_close_price': 881.35, 'type': 'sf', 'symbol': 'NSE:SBIN-EQ', 'ch': -0.65, 'chp': -0.0738}\n",
      "Response: {'ltp': 880.7, 'vol_traded_today': 11892633, 'last_traded_time': 1721124848, 'exch_feed_time': 1721124863, 'bid_size': 938, 'ask_size': 0, 'bid_price': 880.7, 'ask_price': 0.0, 'last_traded_qty': 10, 'tot_buy_qty': 938, 'tot_sell_qty': 0, 'avg_trade_price': 880.46, 'low_price': 874.3, 'high_price': 888.1, 'lower_ckt': 0, 'upper_ckt': 0, 'open_price': 882.3, 'prev_close_price': 881.35, 'type': 'sf', 'symbol': 'NSE:SBIN-EQ', 'ch': -0.65, 'chp': -0.0738}\n",
      "Response: {'ltp': 880.7, 'vol_traded_today': 11892633, 'last_traded_time': 1721124848, 'exch_feed_time': 1721124864, 'bid_size': 938, 'ask_size': 0, 'bid_price': 880.7, 'ask_price': 0.0, 'last_traded_qty': 10, 'tot_buy_qty': 938, 'tot_sell_qty': 0, 'avg_trade_price': 880.46, 'low_price': 874.3, 'high_price': 888.1, 'lower_ckt': 0, 'upper_ckt': 0, 'open_price': 882.3, 'prev_close_price': 881.35, 'type': 'sf', 'symbol': 'NSE:SBIN-EQ', 'ch': -0.65, 'chp': -0.0738}\n",
      "Response: {'ltp': 880.7, 'vol_traded_today': 11892633, 'last_traded_time': 1721124848, 'exch_feed_time': 1721124879, 'bid_size': 938, 'ask_size': 0, 'bid_price': 880.7, 'ask_price': 0.0, 'last_traded_qty': 10, 'tot_buy_qty': 938, 'tot_sell_qty': 0, 'avg_trade_price': 880.46, 'low_price': 874.3, 'high_price': 888.1, 'lower_ckt': 0, 'upper_ckt': 0, 'open_price': 882.3, 'prev_close_price': 881.35, 'type': 'sf', 'symbol': 'NSE:SBIN-EQ', 'ch': -0.65, 'chp': -0.0738}\n",
      "Response: {'ltp': 880.7, 'vol_traded_today': 11892633, 'last_traded_time': 1721124848, 'exch_feed_time': 1721124882, 'bid_size': 938, 'ask_size': 0, 'bid_price': 880.7, 'ask_price': 0.0, 'last_traded_qty': 10, 'tot_buy_qty': 938, 'tot_sell_qty': 0, 'avg_trade_price': 880.46, 'low_price': 874.3, 'high_price': 888.1, 'lower_ckt': 0, 'upper_ckt': 0, 'open_price': 882.3, 'prev_close_price': 881.35, 'type': 'sf', 'symbol': 'NSE:SBIN-EQ', 'ch': -0.65, 'chp': -0.0738}\n",
      "Response: {'ltp': 3109.3, 'vol_traded_today': 988309, 'last_traded_time': 1721124800, 'exch_feed_time': 1721124883, 'bid_size': 0, 'ask_size': 105, 'bid_price': 0.0, 'ask_price': 3109.3, 'last_traded_qty': 1, 'tot_buy_qty': 0, 'tot_sell_qty': 105, 'avg_trade_price': 3115.88, 'low_price': 3096.1, 'high_price': 3137.75, 'lower_ckt': 0, 'upper_ckt': 0, 'open_price': 3110.0, 'prev_close_price': 3090.4, 'type': 'sf', 'symbol': 'NSE:ADANIENT-EQ', 'ch': 18.9, 'chp': 0.6116}\n",
      "Response: {'ltp': 3109.3, 'vol_traded_today': 988309, 'last_traded_time': 1721124800, 'exch_feed_time': 1721124884, 'bid_size': 0, 'ask_size': 105, 'bid_price': 0.0, 'ask_price': 3109.3, 'last_traded_qty': 1, 'tot_buy_qty': 0, 'tot_sell_qty': 105, 'avg_trade_price': 3115.88, 'low_price': 3096.1, 'high_price': 3137.75, 'lower_ckt': 0, 'upper_ckt': 0, 'open_price': 3110.0, 'prev_close_price': 3090.4, 'type': 'sf', 'symbol': 'NSE:ADANIENT-EQ', 'ch': 18.9, 'chp': 0.6116}\n",
      "Response: {'ltp': 880.7, 'vol_traded_today': 11892633, 'last_traded_time': 1721124848, 'exch_feed_time': 1721124884, 'bid_size': 937, 'ask_size': 0, 'bid_price': 880.7, 'ask_price': 0.0, 'last_traded_qty': 10, 'tot_buy_qty': 937, 'tot_sell_qty': 0, 'avg_trade_price': 880.46, 'low_price': 874.3, 'high_price': 888.1, 'lower_ckt': 0, 'upper_ckt': 0, 'open_price': 882.3, 'prev_close_price': 881.35, 'type': 'sf', 'symbol': 'NSE:SBIN-EQ', 'ch': -0.65, 'chp': -0.0738}\n",
      "Response: {'ltp': 3109.3, 'vol_traded_today': 988309, 'last_traded_time': 1721124800, 'exch_feed_time': 1721124885, 'bid_size': 0, 'ask_size': 105, 'bid_price': 0.0, 'ask_price': 3109.3, 'last_traded_qty': 1, 'tot_buy_qty': 0, 'tot_sell_qty': 105, 'avg_trade_price': 3115.88, 'low_price': 3096.1, 'high_price': 3137.75, 'lower_ckt': 0, 'upper_ckt': 0, 'open_price': 3110.0, 'prev_close_price': 3090.4, 'type': 'sf', 'symbol': 'NSE:ADANIENT-EQ', 'ch': 18.9, 'chp': 0.6116}\n",
      "Response: {'ltp': 3109.3, 'vol_traded_today': 988309, 'last_traded_time': 1721124800, 'exch_feed_time': 1721124886, 'bid_size': 0, 'ask_size': 105, 'bid_price': 0.0, 'ask_price': 3109.3, 'last_traded_qty': 1, 'tot_buy_qty': 0, 'tot_sell_qty': 105, 'avg_trade_price': 3115.88, 'low_price': 3096.1, 'high_price': 3137.75, 'lower_ckt': 0, 'upper_ckt': 0, 'open_price': 3110.0, 'prev_close_price': 3090.4, 'type': 'sf', 'symbol': 'NSE:ADANIENT-EQ', 'ch': 18.9, 'chp': 0.6116}\n",
      "Response: {'ltp': 880.7, 'vol_traded_today': 11892633, 'last_traded_time': 1721124848, 'exch_feed_time': 1721124886, 'bid_size': 937, 'ask_size': 0, 'bid_price': 880.7, 'ask_price': 0.0, 'last_traded_qty': 10, 'tot_buy_qty': 937, 'tot_sell_qty': 0, 'avg_trade_price': 880.46, 'low_price': 874.3, 'high_price': 888.1, 'lower_ckt': 0, 'upper_ckt': 0, 'open_price': 882.3, 'prev_close_price': 881.35, 'type': 'sf', 'symbol': 'NSE:SBIN-EQ', 'ch': -0.65, 'chp': -0.0738}\n",
      "Response: {'ltp': 880.7, 'vol_traded_today': 11892633, 'last_traded_time': 1721124848, 'exch_feed_time': 1721124888, 'bid_size': 937, 'ask_size': 0, 'bid_price': 880.7, 'ask_price': 0.0, 'last_traded_qty': 10, 'tot_buy_qty': 937, 'tot_sell_qty': 0, 'avg_trade_price': 880.46, 'low_price': 874.3, 'high_price': 888.1, 'lower_ckt': 0, 'upper_ckt': 0, 'open_price': 882.3, 'prev_close_price': 881.35, 'type': 'sf', 'symbol': 'NSE:SBIN-EQ', 'ch': -0.65, 'chp': -0.0738}\n",
      "Response: {'ltp': 3109.3, 'vol_traded_today': 988309, 'last_traded_time': 1721124800, 'exch_feed_time': 1721124890, 'bid_size': 0, 'ask_size': 105, 'bid_price': 0.0, 'ask_price': 3109.3, 'last_traded_qty': 1, 'tot_buy_qty': 0, 'tot_sell_qty': 105, 'avg_trade_price': 3115.88, 'low_price': 3096.1, 'high_price': 3137.75, 'lower_ckt': 0, 'upper_ckt': 0, 'open_price': 3110.0, 'prev_close_price': 3090.4, 'type': 'sf', 'symbol': 'NSE:ADANIENT-EQ', 'ch': 18.9, 'chp': 0.6116}\n",
      "Response: {'ltp': 880.7, 'vol_traded_today': 11892633, 'last_traded_time': 1721124848, 'exch_feed_time': 1721124896, 'bid_size': 937, 'ask_size': 0, 'bid_price': 880.7, 'ask_price': 0.0, 'last_traded_qty': 10, 'tot_buy_qty': 937, 'tot_sell_qty': 0, 'avg_trade_price': 880.46, 'low_price': 874.3, 'high_price': 888.1, 'lower_ckt': 0, 'upper_ckt': 0, 'open_price': 882.3, 'prev_close_price': 881.35, 'type': 'sf', 'symbol': 'NSE:SBIN-EQ', 'ch': -0.65, 'chp': -0.0738}\n",
      "Response: {'ltp': 3109.3, 'vol_traded_today': 988309, 'last_traded_time': 1721124800, 'exch_feed_time': 1721124912, 'bid_size': 0, 'ask_size': 105, 'bid_price': 0.0, 'ask_price': 3109.3, 'last_traded_qty': 1, 'tot_buy_qty': 0, 'tot_sell_qty': 105, 'avg_trade_price': 3115.88, 'low_price': 3096.1, 'high_price': 3137.75, 'lower_ckt': 0, 'upper_ckt': 0, 'open_price': 3110.0, 'prev_close_price': 3090.4, 'type': 'sf', 'symbol': 'NSE:ADANIENT-EQ', 'ch': 18.9, 'chp': 0.6116}\n",
      "Response: {'ltp': 3109.3, 'vol_traded_today': 988309, 'last_traded_time': 1721124800, 'exch_feed_time': 1721124913, 'bid_size': 0, 'ask_size': 105, 'bid_price': 0.0, 'ask_price': 3109.3, 'last_traded_qty': 1, 'tot_buy_qty': 0, 'tot_sell_qty': 105, 'avg_trade_price': 3115.88, 'low_price': 3096.1, 'high_price': 3137.75, 'lower_ckt': 0, 'upper_ckt': 0, 'open_price': 3110.0, 'prev_close_price': 3090.4, 'type': 'sf', 'symbol': 'NSE:ADANIENT-EQ', 'ch': 18.9, 'chp': 0.6116}\n",
      "Response: {'ltp': 880.7, 'vol_traded_today': 11892633, 'last_traded_time': 1721124848, 'exch_feed_time': 1721124914, 'bid_size': 937, 'ask_size': 0, 'bid_price': 880.7, 'ask_price': 0.0, 'last_traded_qty': 10, 'tot_buy_qty': 937, 'tot_sell_qty': 0, 'avg_trade_price': 880.46, 'low_price': 874.3, 'high_price': 888.1, 'lower_ckt': 0, 'upper_ckt': 0, 'open_price': 882.3, 'prev_close_price': 881.35, 'type': 'sf', 'symbol': 'NSE:SBIN-EQ', 'ch': -0.65, 'chp': -0.0738}\n",
      "Response: {'ltp': 880.7, 'vol_traded_today': 11892633, 'last_traded_time': 1721124848, 'exch_feed_time': 1721124925, 'bid_size': 937, 'ask_size': 0, 'bid_price': 880.7, 'ask_price': 0.0, 'last_traded_qty': 10, 'tot_buy_qty': 937, 'tot_sell_qty': 0, 'avg_trade_price': 880.46, 'low_price': 874.3, 'high_price': 888.1, 'lower_ckt': 0, 'upper_ckt': 0, 'open_price': 882.3, 'prev_close_price': 881.35, 'type': 'sf', 'symbol': 'NSE:SBIN-EQ', 'ch': -0.65, 'chp': -0.0738}\n",
      "Response: {'ltp': 3109.3, 'vol_traded_today': 988309, 'last_traded_time': 1721124800, 'exch_feed_time': 1721124927, 'bid_size': 0, 'ask_size': 105, 'bid_price': 0.0, 'ask_price': 3109.3, 'last_traded_qty': 1, 'tot_buy_qty': 0, 'tot_sell_qty': 105, 'avg_trade_price': 3115.88, 'low_price': 3096.1, 'high_price': 3137.75, 'lower_ckt': 0, 'upper_ckt': 0, 'open_price': 3110.0, 'prev_close_price': 3090.4, 'type': 'sf', 'symbol': 'NSE:ADANIENT-EQ', 'ch': 18.9, 'chp': 0.6116}\n",
      "Response: {'ltp': 880.7, 'vol_traded_today': 11892633, 'last_traded_time': 1721124848, 'exch_feed_time': 1721124931, 'bid_size': 937, 'ask_size': 0, 'bid_price': 880.7, 'ask_price': 0.0, 'last_traded_qty': 10, 'tot_buy_qty': 937, 'tot_sell_qty': 0, 'avg_trade_price': 880.46, 'low_price': 874.3, 'high_price': 888.1, 'lower_ckt': 0, 'upper_ckt': 0, 'open_price': 882.3, 'prev_close_price': 881.35, 'type': 'sf', 'symbol': 'NSE:SBIN-EQ', 'ch': -0.65, 'chp': -0.0738}\n",
      "Response: {'ltp': 3109.3, 'vol_traded_today': 988309, 'last_traded_time': 1721124800, 'exch_feed_time': 1721124938, 'bid_size': 0, 'ask_size': 105, 'bid_price': 0.0, 'ask_price': 3109.3, 'last_traded_qty': 1, 'tot_buy_qty': 0, 'tot_sell_qty': 105, 'avg_trade_price': 3115.88, 'low_price': 3096.1, 'high_price': 3137.75, 'lower_ckt': 0, 'upper_ckt': 0, 'open_price': 3110.0, 'prev_close_price': 3090.4, 'type': 'sf', 'symbol': 'NSE:ADANIENT-EQ', 'ch': 18.9, 'chp': 0.6116}\n",
      "Response: {'ltp': 3109.3, 'vol_traded_today': 988309, 'last_traded_time': 1721124800, 'exch_feed_time': 1721124939, 'bid_size': 0, 'ask_size': 115, 'bid_price': 0.0, 'ask_price': 3109.3, 'last_traded_qty': 1, 'tot_buy_qty': 0, 'tot_sell_qty': 115, 'avg_trade_price': 3115.88, 'low_price': 3096.1, 'high_price': 3137.75, 'lower_ckt': 0, 'upper_ckt': 0, 'open_price': 3110.0, 'prev_close_price': 3090.4, 'type': 'sf', 'symbol': 'NSE:ADANIENT-EQ', 'ch': 18.9, 'chp': 0.6116}\n",
      "Response: {'ltp': 3109.3, 'vol_traded_today': 988309, 'last_traded_time': 1721124800, 'exch_feed_time': 1721124942, 'bid_size': 0, 'ask_size': 116, 'bid_price': 0.0, 'ask_price': 3109.3, 'last_traded_qty': 1, 'tot_buy_qty': 0, 'tot_sell_qty': 116, 'avg_trade_price': 3115.88, 'low_price': 3096.1, 'high_price': 3137.75, 'lower_ckt': 0, 'upper_ckt': 0, 'open_price': 3110.0, 'prev_close_price': 3090.4, 'type': 'sf', 'symbol': 'NSE:ADANIENT-EQ', 'ch': 18.9, 'chp': 0.6116}\n",
      "Response: {'ltp': 880.7, 'vol_traded_today': 11892633, 'last_traded_time': 1721124848, 'exch_feed_time': 1721124950, 'bid_size': 937, 'ask_size': 0, 'bid_price': 880.7, 'ask_price': 0.0, 'last_traded_qty': 10, 'tot_buy_qty': 937, 'tot_sell_qty': 0, 'avg_trade_price': 880.46, 'low_price': 874.3, 'high_price': 888.1, 'lower_ckt': 0, 'upper_ckt': 0, 'open_price': 882.3, 'prev_close_price': 881.35, 'type': 'sf', 'symbol': 'NSE:SBIN-EQ', 'ch': -0.65, 'chp': -0.0738}\n",
      "Response: {'ltp': 880.7, 'vol_traded_today': 11892633, 'last_traded_time': 1721124848, 'exch_feed_time': 1721124957, 'bid_size': 947, 'ask_size': 0, 'bid_price': 880.7, 'ask_price': 0.0, 'last_traded_qty': 10, 'tot_buy_qty': 947, 'tot_sell_qty': 0, 'avg_trade_price': 880.46, 'low_price': 874.3, 'high_price': 888.1, 'lower_ckt': 0, 'upper_ckt': 0, 'open_price': 882.3, 'prev_close_price': 881.35, 'type': 'sf', 'symbol': 'NSE:SBIN-EQ', 'ch': -0.65, 'chp': -0.0738}\n",
      "Response: {'ltp': 880.7, 'vol_traded_today': 11892633, 'last_traded_time': 1721124848, 'exch_feed_time': 1721124962, 'bid_size': 947, 'ask_size': 0, 'bid_price': 880.7, 'ask_price': 0.0, 'last_traded_qty': 10, 'tot_buy_qty': 947, 'tot_sell_qty': 0, 'avg_trade_price': 880.46, 'low_price': 874.3, 'high_price': 888.1, 'lower_ckt': 0, 'upper_ckt': 0, 'open_price': 882.3, 'prev_close_price': 881.35, 'type': 'sf', 'symbol': 'NSE:SBIN-EQ', 'ch': -0.65, 'chp': -0.0738}\n",
      "Response: {'ltp': 880.7, 'vol_traded_today': 11892633, 'last_traded_time': 1721124848, 'exch_feed_time': 1721124965, 'bid_size': 952, 'ask_size': 0, 'bid_price': 880.7, 'ask_price': 0.0, 'last_traded_qty': 10, 'tot_buy_qty': 952, 'tot_sell_qty': 0, 'avg_trade_price': 880.46, 'low_price': 874.3, 'high_price': 888.1, 'lower_ckt': 0, 'upper_ckt': 0, 'open_price': 882.3, 'prev_close_price': 881.35, 'type': 'sf', 'symbol': 'NSE:SBIN-EQ', 'ch': -0.65, 'chp': -0.0738}\n",
      "Response: {'ltp': 880.7, 'vol_traded_today': 11892633, 'last_traded_time': 1721124848, 'exch_feed_time': 1721124967, 'bid_size': 952, 'ask_size': 0, 'bid_price': 880.7, 'ask_price': 0.0, 'last_traded_qty': 10, 'tot_buy_qty': 952, 'tot_sell_qty': 0, 'avg_trade_price': 880.46, 'low_price': 874.3, 'high_price': 888.1, 'lower_ckt': 0, 'upper_ckt': 0, 'open_price': 882.3, 'prev_close_price': 881.35, 'type': 'sf', 'symbol': 'NSE:SBIN-EQ', 'ch': -0.65, 'chp': -0.0738}\n",
      "Response: {'ltp': 880.7, 'vol_traded_today': 11892633, 'last_traded_time': 1721124848, 'exch_feed_time': 1721124975, 'bid_size': 952, 'ask_size': 0, 'bid_price': 880.7, 'ask_price': 0.0, 'last_traded_qty': 10, 'tot_buy_qty': 952, 'tot_sell_qty': 0, 'avg_trade_price': 880.46, 'low_price': 874.3, 'high_price': 888.1, 'lower_ckt': 0, 'upper_ckt': 0, 'open_price': 882.3, 'prev_close_price': 881.35, 'type': 'sf', 'symbol': 'NSE:SBIN-EQ', 'ch': -0.65, 'chp': -0.0738}\n",
      "Response: {'ltp': 3109.3, 'vol_traded_today': 988309, 'last_traded_time': 1721124800, 'exch_feed_time': 1721124982, 'bid_size': 0, 'ask_size': 116, 'bid_price': 0.0, 'ask_price': 3109.3, 'last_traded_qty': 1, 'tot_buy_qty': 0, 'tot_sell_qty': 116, 'avg_trade_price': 3115.88, 'low_price': 3096.1, 'high_price': 3137.75, 'lower_ckt': 0, 'upper_ckt': 0, 'open_price': 3110.0, 'prev_close_price': 3090.4, 'type': 'sf', 'symbol': 'NSE:ADANIENT-EQ', 'ch': 18.9, 'chp': 0.6116}\n",
      "Response: {'ltp': 880.7, 'vol_traded_today': 11892633, 'last_traded_time': 1721124848, 'exch_feed_time': 1721124983, 'bid_size': 952, 'ask_size': 0, 'bid_price': 880.7, 'ask_price': 0.0, 'last_traded_qty': 10, 'tot_buy_qty': 952, 'tot_sell_qty': 0, 'avg_trade_price': 880.46, 'low_price': 874.3, 'high_price': 888.1, 'lower_ckt': 0, 'upper_ckt': 0, 'open_price': 882.3, 'prev_close_price': 881.35, 'type': 'sf', 'symbol': 'NSE:SBIN-EQ', 'ch': -0.65, 'chp': -0.0738}\n",
      "Response: {'ltp': 880.7, 'vol_traded_today': 11892633, 'last_traded_time': 1721124848, 'exch_feed_time': 1721124988, 'bid_size': 952, 'ask_size': 0, 'bid_price': 880.7, 'ask_price': 0.0, 'last_traded_qty': 10, 'tot_buy_qty': 952, 'tot_sell_qty': 0, 'avg_trade_price': 880.46, 'low_price': 874.3, 'high_price': 888.1, 'lower_ckt': 0, 'upper_ckt': 0, 'open_price': 882.3, 'prev_close_price': 881.35, 'type': 'sf', 'symbol': 'NSE:SBIN-EQ', 'ch': -0.65, 'chp': -0.0738}\n",
      "Response: {'ltp': 880.7, 'vol_traded_today': 11892633, 'last_traded_time': 1721124848, 'exch_feed_time': 1721125009, 'bid_size': 952, 'ask_size': 0, 'bid_price': 880.7, 'ask_price': 0.0, 'last_traded_qty': 10, 'tot_buy_qty': 952, 'tot_sell_qty': 0, 'avg_trade_price': 880.46, 'low_price': 874.3, 'high_price': 888.1, 'lower_ckt': 0, 'upper_ckt': 0, 'open_price': 882.3, 'prev_close_price': 881.35, 'type': 'sf', 'symbol': 'NSE:SBIN-EQ', 'ch': -0.65, 'chp': -0.0738}\n",
      "Response: {'ltp': 880.7, 'vol_traded_today': 11892681, 'last_traded_time': 1721125011, 'exch_feed_time': 1721125011, 'bid_size': 904, 'ask_size': 0, 'bid_price': 880.7, 'ask_price': 0.0, 'last_traded_qty': 48, 'tot_buy_qty': 904, 'tot_sell_qty': 0, 'avg_trade_price': 880.46, 'low_price': 874.3, 'high_price': 888.1, 'lower_ckt': 0, 'upper_ckt': 0, 'open_price': 882.3, 'prev_close_price': 881.35, 'type': 'sf', 'symbol': 'NSE:SBIN-EQ', 'ch': -0.65, 'chp': -0.0738}\n",
      "Response: {'ltp': 3109.3, 'vol_traded_today': 988314, 'last_traded_time': 1721125015, 'exch_feed_time': 1721125015, 'bid_size': 0, 'ask_size': 111, 'bid_price': 0.0, 'ask_price': 3109.3, 'last_traded_qty': 5, 'tot_buy_qty': 0, 'tot_sell_qty': 111, 'avg_trade_price': 3115.88, 'low_price': 3096.1, 'high_price': 3137.75, 'lower_ckt': 0, 'upper_ckt': 0, 'open_price': 3110.0, 'prev_close_price': 3090.4, 'type': 'sf', 'symbol': 'NSE:ADANIENT-EQ', 'ch': 18.9, 'chp': 0.6116}\n",
      "Response: {'ltp': 3109.3, 'vol_traded_today': 988314, 'last_traded_time': 1721125015, 'exch_feed_time': 1721125028, 'bid_size': 0, 'ask_size': 111, 'bid_price': 0.0, 'ask_price': 3109.3, 'last_traded_qty': 5, 'tot_buy_qty': 0, 'tot_sell_qty': 111, 'avg_trade_price': 3115.88, 'low_price': 3096.1, 'high_price': 3137.75, 'lower_ckt': 0, 'upper_ckt': 0, 'open_price': 3110.0, 'prev_close_price': 3090.4, 'type': 'sf', 'symbol': 'NSE:ADANIENT-EQ', 'ch': 18.9, 'chp': 0.6116}\n",
      "Response: {'ltp': 880.7, 'vol_traded_today': 11892681, 'last_traded_time': 1721125011, 'exch_feed_time': 1721125028, 'bid_size': 804, 'ask_size': 0, 'bid_price': 880.7, 'ask_price': 0.0, 'last_traded_qty': 48, 'tot_buy_qty': 804, 'tot_sell_qty': 0, 'avg_trade_price': 880.46, 'low_price': 874.3, 'high_price': 888.1, 'lower_ckt': 0, 'upper_ckt': 0, 'open_price': 882.3, 'prev_close_price': 881.35, 'type': 'sf', 'symbol': 'NSE:SBIN-EQ', 'ch': -0.65, 'chp': -0.0738}\n",
      "Response: {'ltp': 880.7, 'vol_traded_today': 11892681, 'last_traded_time': 1721125011, 'exch_feed_time': 1721125033, 'bid_size': 804, 'ask_size': 0, 'bid_price': 880.7, 'ask_price': 0.0, 'last_traded_qty': 48, 'tot_buy_qty': 804, 'tot_sell_qty': 0, 'avg_trade_price': 880.46, 'low_price': 874.3, 'high_price': 888.1, 'lower_ckt': 0, 'upper_ckt': 0, 'open_price': 882.3, 'prev_close_price': 881.35, 'type': 'sf', 'symbol': 'NSE:SBIN-EQ', 'ch': -0.65, 'chp': -0.0738}\n",
      "Response: {'ltp': 880.7, 'vol_traded_today': 11892681, 'last_traded_time': 1721125011, 'exch_feed_time': 1721125035, 'bid_size': 805, 'ask_size': 0, 'bid_price': 880.7, 'ask_price': 0.0, 'last_traded_qty': 48, 'tot_buy_qty': 805, 'tot_sell_qty': 0, 'avg_trade_price': 880.46, 'low_price': 874.3, 'high_price': 888.1, 'lower_ckt': 0, 'upper_ckt': 0, 'open_price': 882.3, 'prev_close_price': 881.35, 'type': 'sf', 'symbol': 'NSE:SBIN-EQ', 'ch': -0.65, 'chp': -0.0738}\n",
      "Response: {'ltp': 880.7, 'vol_traded_today': 11892681, 'last_traded_time': 1721125011, 'exch_feed_time': 1721125042, 'bid_size': 805, 'ask_size': 0, 'bid_price': 880.7, 'ask_price': 0.0, 'last_traded_qty': 48, 'tot_buy_qty': 805, 'tot_sell_qty': 0, 'avg_trade_price': 880.46, 'low_price': 874.3, 'high_price': 888.1, 'lower_ckt': 0, 'upper_ckt': 0, 'open_price': 882.3, 'prev_close_price': 881.35, 'type': 'sf', 'symbol': 'NSE:SBIN-EQ', 'ch': -0.65, 'chp': -0.0738}\n",
      "Response: {'ltp': 3109.3, 'vol_traded_today': 988314, 'last_traded_time': 1721125015, 'exch_feed_time': 1721125045, 'bid_size': 0, 'ask_size': 111, 'bid_price': 0.0, 'ask_price': 3109.3, 'last_traded_qty': 5, 'tot_buy_qty': 0, 'tot_sell_qty': 111, 'avg_trade_price': 3115.88, 'low_price': 3096.1, 'high_price': 3137.75, 'lower_ckt': 0, 'upper_ckt': 0, 'open_price': 3110.0, 'prev_close_price': 3090.4, 'type': 'sf', 'symbol': 'NSE:ADANIENT-EQ', 'ch': 18.9, 'chp': 0.6116}\n",
      "Response: {'ltp': 880.7, 'vol_traded_today': 11892681, 'last_traded_time': 1721125011, 'exch_feed_time': 1721125045, 'bid_size': 805, 'ask_size': 0, 'bid_price': 880.7, 'ask_price': 0.0, 'last_traded_qty': 48, 'tot_buy_qty': 805, 'tot_sell_qty': 0, 'avg_trade_price': 880.46, 'low_price': 874.3, 'high_price': 888.1, 'lower_ckt': 0, 'upper_ckt': 0, 'open_price': 882.3, 'prev_close_price': 881.35, 'type': 'sf', 'symbol': 'NSE:SBIN-EQ', 'ch': -0.65, 'chp': -0.0738}\n",
      "Response: {'ltp': 880.7, 'vol_traded_today': 11892681, 'last_traded_time': 1721125011, 'exch_feed_time': 1721125063, 'bid_size': 805, 'ask_size': 0, 'bid_price': 880.7, 'ask_price': 0.0, 'last_traded_qty': 48, 'tot_buy_qty': 805, 'tot_sell_qty': 0, 'avg_trade_price': 880.46, 'low_price': 874.3, 'high_price': 888.1, 'lower_ckt': 0, 'upper_ckt': 0, 'open_price': 882.3, 'prev_close_price': 881.35, 'type': 'sf', 'symbol': 'NSE:SBIN-EQ', 'ch': -0.65, 'chp': -0.0738}\n",
      "Response: {'ltp': 880.7, 'vol_traded_today': 11892681, 'last_traded_time': 1721125011, 'exch_feed_time': 1721125067, 'bid_size': 805, 'ask_size': 0, 'bid_price': 880.7, 'ask_price': 0.0, 'last_traded_qty': 48, 'tot_buy_qty': 805, 'tot_sell_qty': 0, 'avg_trade_price': 880.46, 'low_price': 874.3, 'high_price': 888.1, 'lower_ckt': 0, 'upper_ckt': 0, 'open_price': 882.3, 'prev_close_price': 881.35, 'type': 'sf', 'symbol': 'NSE:SBIN-EQ', 'ch': -0.65, 'chp': -0.0738}\n",
      "Response: {'ltp': 3109.3, 'vol_traded_today': 988314, 'last_traded_time': 1721125015, 'exch_feed_time': 1721125080, 'bid_size': 0, 'ask_size': 112, 'bid_price': 0.0, 'ask_price': 3109.3, 'last_traded_qty': 5, 'tot_buy_qty': 0, 'tot_sell_qty': 112, 'avg_trade_price': 3115.88, 'low_price': 3096.1, 'high_price': 3137.75, 'lower_ckt': 0, 'upper_ckt': 0, 'open_price': 3110.0, 'prev_close_price': 3090.4, 'type': 'sf', 'symbol': 'NSE:ADANIENT-EQ', 'ch': 18.9, 'chp': 0.6116}\n",
      "Response: {'ltp': 3109.3, 'vol_traded_today': 988314, 'last_traded_time': 1721125015, 'exch_feed_time': 1721125083, 'bid_size': 0, 'ask_size': 112, 'bid_price': 0.0, 'ask_price': 3109.3, 'last_traded_qty': 5, 'tot_buy_qty': 0, 'tot_sell_qty': 112, 'avg_trade_price': 3115.88, 'low_price': 3096.1, 'high_price': 3137.75, 'lower_ckt': 0, 'upper_ckt': 0, 'open_price': 3110.0, 'prev_close_price': 3090.4, 'type': 'sf', 'symbol': 'NSE:ADANIENT-EQ', 'ch': 18.9, 'chp': 0.6116}\n",
      "Response: {'ltp': 880.7, 'vol_traded_today': 11892681, 'last_traded_time': 1721125011, 'exch_feed_time': 1721125092, 'bid_size': 805, 'ask_size': 0, 'bid_price': 880.7, 'ask_price': 0.0, 'last_traded_qty': 48, 'tot_buy_qty': 805, 'tot_sell_qty': 0, 'avg_trade_price': 880.46, 'low_price': 874.3, 'high_price': 888.1, 'lower_ckt': 0, 'upper_ckt': 0, 'open_price': 882.3, 'prev_close_price': 881.35, 'type': 'sf', 'symbol': 'NSE:SBIN-EQ', 'ch': -0.65, 'chp': -0.0738}\n",
      "Response: {'ltp': 880.7, 'vol_traded_today': 11892681, 'last_traded_time': 1721125011, 'exch_feed_time': 1721125105, 'bid_size': 805, 'ask_size': 0, 'bid_price': 880.7, 'ask_price': 0.0, 'last_traded_qty': 48, 'tot_buy_qty': 805, 'tot_sell_qty': 0, 'avg_trade_price': 880.46, 'low_price': 874.3, 'high_price': 888.1, 'lower_ckt': 0, 'upper_ckt': 0, 'open_price': 882.3, 'prev_close_price': 881.35, 'type': 'sf', 'symbol': 'NSE:SBIN-EQ', 'ch': -0.65, 'chp': -0.0738}\n",
      "Response: {'ltp': 3109.3, 'vol_traded_today': 988314, 'last_traded_time': 1721125015, 'exch_feed_time': 1721125106, 'bid_size': 0, 'ask_size': 112, 'bid_price': 0.0, 'ask_price': 3109.3, 'last_traded_qty': 5, 'tot_buy_qty': 0, 'tot_sell_qty': 112, 'avg_trade_price': 3115.88, 'low_price': 3096.1, 'high_price': 3137.75, 'lower_ckt': 0, 'upper_ckt': 0, 'open_price': 3110.0, 'prev_close_price': 3090.4, 'type': 'sf', 'symbol': 'NSE:ADANIENT-EQ', 'ch': 18.9, 'chp': 0.6116}\n",
      "Response: {'ltp': 3109.3, 'vol_traded_today': 988315, 'last_traded_time': 1721125125, 'exch_feed_time': 1721125125, 'bid_size': 0, 'ask_size': 111, 'bid_price': 0.0, 'ask_price': 3109.3, 'last_traded_qty': 1, 'tot_buy_qty': 0, 'tot_sell_qty': 111, 'avg_trade_price': 3115.88, 'low_price': 3096.1, 'high_price': 3137.75, 'lower_ckt': 0, 'upper_ckt': 0, 'open_price': 3110.0, 'prev_close_price': 3090.4, 'type': 'sf', 'symbol': 'NSE:ADANIENT-EQ', 'ch': 18.9, 'chp': 0.6116}\n",
      "Response: {'ltp': 880.7, 'vol_traded_today': 11892681, 'last_traded_time': 1721125011, 'exch_feed_time': 1721125126, 'bid_size': 5805, 'ask_size': 0, 'bid_price': 880.7, 'ask_price': 0.0, 'last_traded_qty': 48, 'tot_buy_qty': 5805, 'tot_sell_qty': 0, 'avg_trade_price': 880.46, 'low_price': 874.3, 'high_price': 888.1, 'lower_ckt': 0, 'upper_ckt': 0, 'open_price': 882.3, 'prev_close_price': 881.35, 'type': 'sf', 'symbol': 'NSE:SBIN-EQ', 'ch': -0.65, 'chp': -0.0738}\n",
      "Response: {'ltp': 880.7, 'vol_traded_today': 11892711, 'last_traded_time': 1721125130, 'exch_feed_time': 1721125130, 'bid_size': 5775, 'ask_size': 0, 'bid_price': 880.7, 'ask_price': 0.0, 'last_traded_qty': 30, 'tot_buy_qty': 5775, 'tot_sell_qty': 0, 'avg_trade_price': 880.46, 'low_price': 874.3, 'high_price': 888.1, 'lower_ckt': 0, 'upper_ckt': 0, 'open_price': 882.3, 'prev_close_price': 881.35, 'type': 'sf', 'symbol': 'NSE:SBIN-EQ', 'ch': -0.65, 'chp': -0.0738}\n",
      "Response: {'ltp': 880.7, 'vol_traded_today': 11892711, 'last_traded_time': 1721125130, 'exch_feed_time': 1721125141, 'bid_size': 5775, 'ask_size': 0, 'bid_price': 880.7, 'ask_price': 0.0, 'last_traded_qty': 30, 'tot_buy_qty': 5775, 'tot_sell_qty': 0, 'avg_trade_price': 880.46, 'low_price': 874.3, 'high_price': 888.1, 'lower_ckt': 0, 'upper_ckt': 0, 'open_price': 882.3, 'prev_close_price': 881.35, 'type': 'sf', 'symbol': 'NSE:SBIN-EQ', 'ch': -0.65, 'chp': -0.0738}\n",
      "Response: {'ltp': 3109.3, 'vol_traded_today': 988315, 'last_traded_time': 1721125125, 'exch_feed_time': 1721125157, 'bid_size': 0, 'ask_size': 122, 'bid_price': 0.0, 'ask_price': 3109.3, 'last_traded_qty': 1, 'tot_buy_qty': 0, 'tot_sell_qty': 122, 'avg_trade_price': 3115.88, 'low_price': 3096.1, 'high_price': 3137.75, 'lower_ckt': 0, 'upper_ckt': 0, 'open_price': 3110.0, 'prev_close_price': 3090.4, 'type': 'sf', 'symbol': 'NSE:ADANIENT-EQ', 'ch': 18.9, 'chp': 0.6116}\n",
      "Response: {'ltp': 880.7, 'vol_traded_today': 11892711, 'last_traded_time': 1721125130, 'exch_feed_time': 1721125177, 'bid_size': 5775, 'ask_size': 0, 'bid_price': 880.7, 'ask_price': 0.0, 'last_traded_qty': 30, 'tot_buy_qty': 5775, 'tot_sell_qty': 0, 'avg_trade_price': 880.46, 'low_price': 874.3, 'high_price': 888.1, 'lower_ckt': 0, 'upper_ckt': 0, 'open_price': 882.3, 'prev_close_price': 881.35, 'type': 'sf', 'symbol': 'NSE:SBIN-EQ', 'ch': -0.65, 'chp': -0.0738}\n",
      "Response: {'ltp': 880.7, 'vol_traded_today': 11892711, 'last_traded_time': 1721125130, 'exch_feed_time': 1721125178, 'bid_size': 5775, 'ask_size': 0, 'bid_price': 880.7, 'ask_price': 0.0, 'last_traded_qty': 5, 'tot_buy_qty': 5775, 'tot_sell_qty': 0, 'avg_trade_price': 880.46, 'low_price': 874.3, 'high_price': 888.1, 'lower_ckt': 0, 'upper_ckt': 0, 'open_price': 882.3, 'prev_close_price': 881.35, 'type': 'sf', 'symbol': 'NSE:SBIN-EQ', 'ch': -0.65, 'chp': -0.0738}\n",
      "Response: {'ltp': 880.7, 'vol_traded_today': 11892716, 'last_traded_time': 1721125178, 'exch_feed_time': 1721125178, 'bid_size': 5770, 'ask_size': 0, 'bid_price': 880.7, 'ask_price': 0.0, 'last_traded_qty': 5, 'tot_buy_qty': 5770, 'tot_sell_qty': 0, 'avg_trade_price': 880.46, 'low_price': 874.3, 'high_price': 888.1, 'lower_ckt': 0, 'upper_ckt': 0, 'open_price': 882.3, 'prev_close_price': 881.35, 'type': 'sf', 'symbol': 'NSE:SBIN-EQ', 'ch': -0.65, 'chp': -0.0738}\n",
      "Response: {'ltp': 880.7, 'vol_traded_today': 11892716, 'last_traded_time': 1721125178, 'exch_feed_time': 1721125185, 'bid_size': 5770, 'ask_size': 0, 'bid_price': 880.7, 'ask_price': 0.0, 'last_traded_qty': 250, 'tot_buy_qty': 5770, 'tot_sell_qty': 0, 'avg_trade_price': 880.46, 'low_price': 874.3, 'high_price': 888.1, 'lower_ckt': 0, 'upper_ckt': 0, 'open_price': 882.3, 'prev_close_price': 881.35, 'type': 'sf', 'symbol': 'NSE:SBIN-EQ', 'ch': -0.65, 'chp': -0.0738}\n",
      "Response: {'ltp': 880.7, 'vol_traded_today': 11892966, 'last_traded_time': 1721125185, 'exch_feed_time': 1721125185, 'bid_size': 5520, 'ask_size': 0, 'bid_price': 880.7, 'ask_price': 0.0, 'last_traded_qty': 250, 'tot_buy_qty': 5520, 'tot_sell_qty': 0, 'avg_trade_price': 880.46, 'low_price': 874.3, 'high_price': 888.1, 'lower_ckt': 0, 'upper_ckt': 0, 'open_price': 882.3, 'prev_close_price': 881.35, 'type': 'sf', 'symbol': 'NSE:SBIN-EQ', 'ch': -0.65, 'chp': -0.0738}\n",
      "Response: {'ltp': 3109.3, 'vol_traded_today': 988315, 'last_traded_time': 1721125125, 'exch_feed_time': 1721125185, 'bid_size': 0, 'ask_size': 122, 'bid_price': 0.0, 'ask_price': 3109.3, 'last_traded_qty': 1, 'tot_buy_qty': 0, 'tot_sell_qty': 122, 'avg_trade_price': 3115.88, 'low_price': 3096.1, 'high_price': 3137.75, 'lower_ckt': 0, 'upper_ckt': 0, 'open_price': 3110.0, 'prev_close_price': 3090.4, 'type': 'sf', 'symbol': 'NSE:ADANIENT-EQ', 'ch': 18.9, 'chp': 0.6116}\n",
      "Response: {'ltp': 880.7, 'vol_traded_today': 11892966, 'last_traded_time': 1721125185, 'exch_feed_time': 1721125196, 'bid_size': 5520, 'ask_size': 0, 'bid_price': 880.7, 'ask_price': 0.0, 'last_traded_qty': 250, 'tot_buy_qty': 5520, 'tot_sell_qty': 0, 'avg_trade_price': 880.46, 'low_price': 874.3, 'high_price': 888.1, 'lower_ckt': 0, 'upper_ckt': 0, 'open_price': 882.3, 'prev_close_price': 881.35, 'type': 'sf', 'symbol': 'NSE:SBIN-EQ', 'ch': -0.65, 'chp': -0.0738}\n",
      "Response: {'ltp': 880.7, 'vol_traded_today': 11892966, 'last_traded_time': 1721125185, 'exch_feed_time': 1721125197, 'bid_size': 5520, 'ask_size': 0, 'bid_price': 880.7, 'ask_price': 0.0, 'last_traded_qty': 250, 'tot_buy_qty': 5520, 'tot_sell_qty': 0, 'avg_trade_price': 880.46, 'low_price': 874.3, 'high_price': 888.1, 'lower_ckt': 0, 'upper_ckt': 0, 'open_price': 882.3, 'prev_close_price': 881.35, 'type': 'sf', 'symbol': 'NSE:SBIN-EQ', 'ch': -0.65, 'chp': -0.0738}\n",
      "Response: {'ltp': 880.7, 'vol_traded_today': 11892966, 'last_traded_time': 1721125185, 'exch_feed_time': 1721125213, 'bid_size': 5520, 'ask_size': 0, 'bid_price': 880.7, 'ask_price': 0.0, 'last_traded_qty': 250, 'tot_buy_qty': 5520, 'tot_sell_qty': 0, 'avg_trade_price': 880.46, 'low_price': 874.3, 'high_price': 888.1, 'lower_ckt': 0, 'upper_ckt': 0, 'open_price': 882.3, 'prev_close_price': 881.35, 'type': 'sf', 'symbol': 'NSE:SBIN-EQ', 'ch': -0.65, 'chp': -0.0738}\n",
      "Response: {'ltp': 3109.3, 'vol_traded_today': 988315, 'last_traded_time': 1721125125, 'exch_feed_time': 1721125220, 'bid_size': 0, 'ask_size': 172, 'bid_price': 0.0, 'ask_price': 3109.3, 'last_traded_qty': 1, 'tot_buy_qty': 0, 'tot_sell_qty': 172, 'avg_trade_price': 3115.88, 'low_price': 3096.1, 'high_price': 3137.75, 'lower_ckt': 0, 'upper_ckt': 0, 'open_price': 3110.0, 'prev_close_price': 3090.4, 'type': 'sf', 'symbol': 'NSE:ADANIENT-EQ', 'ch': 18.9, 'chp': 0.6116}\n",
      "Response: {'ltp': 880.7, 'vol_traded_today': 11892966, 'last_traded_time': 1721125185, 'exch_feed_time': 1721125222, 'bid_size': 5520, 'ask_size': 0, 'bid_price': 880.7, 'ask_price': 0.0, 'last_traded_qty': 250, 'tot_buy_qty': 5520, 'tot_sell_qty': 0, 'avg_trade_price': 880.46, 'low_price': 874.3, 'high_price': 888.1, 'lower_ckt': 0, 'upper_ckt': 0, 'open_price': 882.3, 'prev_close_price': 881.35, 'type': 'sf', 'symbol': 'NSE:SBIN-EQ', 'ch': -0.65, 'chp': -0.0738}\n",
      "Response: {'ltp': 880.7, 'vol_traded_today': 11892966, 'last_traded_time': 1721125185, 'exch_feed_time': 1721125228, 'bid_size': 5523, 'ask_size': 0, 'bid_price': 880.7, 'ask_price': 0.0, 'last_traded_qty': 250, 'tot_buy_qty': 5523, 'tot_sell_qty': 0, 'avg_trade_price': 880.46, 'low_price': 874.3, 'high_price': 888.1, 'lower_ckt': 0, 'upper_ckt': 0, 'open_price': 882.3, 'prev_close_price': 881.35, 'type': 'sf', 'symbol': 'NSE:SBIN-EQ', 'ch': -0.65, 'chp': -0.0738}\n",
      "Response: {'ltp': 3109.3, 'vol_traded_today': 988315, 'last_traded_time': 1721125125, 'exch_feed_time': 1721125230, 'bid_size': 0, 'ask_size': 172, 'bid_price': 0.0, 'ask_price': 3109.3, 'last_traded_qty': 1, 'tot_buy_qty': 0, 'tot_sell_qty': 172, 'avg_trade_price': 3115.88, 'low_price': 3096.1, 'high_price': 3137.75, 'lower_ckt': 0, 'upper_ckt': 0, 'open_price': 3110.0, 'prev_close_price': 3090.4, 'type': 'sf', 'symbol': 'NSE:ADANIENT-EQ', 'ch': 18.9, 'chp': 0.6116}\n",
      "Response: {'ltp': 880.7, 'vol_traded_today': 11892966, 'last_traded_time': 1721125185, 'exch_feed_time': 1721125231, 'bid_size': 5525, 'ask_size': 0, 'bid_price': 880.7, 'ask_price': 0.0, 'last_traded_qty': 250, 'tot_buy_qty': 5525, 'tot_sell_qty': 0, 'avg_trade_price': 880.46, 'low_price': 874.3, 'high_price': 888.1, 'lower_ckt': 0, 'upper_ckt': 0, 'open_price': 882.3, 'prev_close_price': 881.35, 'type': 'sf', 'symbol': 'NSE:SBIN-EQ', 'ch': -0.65, 'chp': -0.0738}\n",
      "Response: {'ltp': 880.7, 'vol_traded_today': 11892966, 'last_traded_time': 1721125185, 'exch_feed_time': 1721125232, 'bid_size': 5525, 'ask_size': 0, 'bid_price': 880.7, 'ask_price': 0.0, 'last_traded_qty': 20, 'tot_buy_qty': 5525, 'tot_sell_qty': 0, 'avg_trade_price': 880.46, 'low_price': 874.3, 'high_price': 888.1, 'lower_ckt': 0, 'upper_ckt': 0, 'open_price': 882.3, 'prev_close_price': 881.35, 'type': 'sf', 'symbol': 'NSE:SBIN-EQ', 'ch': -0.65, 'chp': -0.0738}\n",
      "Response: {'ltp': 880.7, 'vol_traded_today': 11892986, 'last_traded_time': 1721125232, 'exch_feed_time': 1721125232, 'bid_size': 5505, 'ask_size': 0, 'bid_price': 880.7, 'ask_price': 0.0, 'last_traded_qty': 20, 'tot_buy_qty': 5505, 'tot_sell_qty': 0, 'avg_trade_price': 880.46, 'low_price': 874.3, 'high_price': 888.1, 'lower_ckt': 0, 'upper_ckt': 0, 'open_price': 882.3, 'prev_close_price': 881.35, 'type': 'sf', 'symbol': 'NSE:SBIN-EQ', 'ch': -0.65, 'chp': -0.0738}\n",
      "Response: {'ltp': 880.7, 'vol_traded_today': 11892986, 'last_traded_time': 1721125232, 'exch_feed_time': 1721125249, 'bid_size': 5505, 'ask_size': 0, 'bid_price': 880.7, 'ask_price': 0.0, 'last_traded_qty': 20, 'tot_buy_qty': 5505, 'tot_sell_qty': 0, 'avg_trade_price': 880.46, 'low_price': 874.3, 'high_price': 888.1, 'lower_ckt': 0, 'upper_ckt': 0, 'open_price': 882.3, 'prev_close_price': 881.35, 'type': 'sf', 'symbol': 'NSE:SBIN-EQ', 'ch': -0.65, 'chp': -0.0738}\n",
      "Response: {'ltp': 3109.3, 'vol_traded_today': 988315, 'last_traded_time': 1721125125, 'exch_feed_time': 1721125257, 'bid_size': 0, 'ask_size': 173, 'bid_price': 0.0, 'ask_price': 3109.3, 'last_traded_qty': 1, 'tot_buy_qty': 0, 'tot_sell_qty': 173, 'avg_trade_price': 3115.88, 'low_price': 3096.1, 'high_price': 3137.75, 'lower_ckt': 0, 'upper_ckt': 0, 'open_price': 3110.0, 'prev_close_price': 3090.4, 'type': 'sf', 'symbol': 'NSE:ADANIENT-EQ', 'ch': 18.9, 'chp': 0.6116}\n",
      "Response: {'ltp': 3109.3, 'vol_traded_today': 988315, 'last_traded_time': 1721125125, 'exch_feed_time': 1721125265, 'bid_size': 0, 'ask_size': 173, 'bid_price': 0.0, 'ask_price': 3109.3, 'last_traded_qty': 4, 'tot_buy_qty': 0, 'tot_sell_qty': 173, 'avg_trade_price': 3115.88, 'low_price': 3096.1, 'high_price': 3137.75, 'lower_ckt': 0, 'upper_ckt': 0, 'open_price': 3110.0, 'prev_close_price': 3090.4, 'type': 'sf', 'symbol': 'NSE:ADANIENT-EQ', 'ch': 18.9, 'chp': 0.6116}\n",
      "Response: {'ltp': 3109.3, 'vol_traded_today': 988319, 'last_traded_time': 1721125265, 'exch_feed_time': 1721125265, 'bid_size': 0, 'ask_size': 169, 'bid_price': 0.0, 'ask_price': 3109.3, 'last_traded_qty': 4, 'tot_buy_qty': 0, 'tot_sell_qty': 169, 'avg_trade_price': 3115.88, 'low_price': 3096.1, 'high_price': 3137.75, 'lower_ckt': 0, 'upper_ckt': 0, 'open_price': 3110.0, 'prev_close_price': 3090.4, 'type': 'sf', 'symbol': 'NSE:ADANIENT-EQ', 'ch': 18.9, 'chp': 0.6116}\n",
      "Response: {'ltp': 880.7, 'vol_traded_today': 11892986, 'last_traded_time': 1721125232, 'exch_feed_time': 1721125269, 'bid_size': 5506, 'ask_size': 0, 'bid_price': 880.7, 'ask_price': 0.0, 'last_traded_qty': 20, 'tot_buy_qty': 5506, 'tot_sell_qty': 0, 'avg_trade_price': 880.46, 'low_price': 874.3, 'high_price': 888.1, 'lower_ckt': 0, 'upper_ckt': 0, 'open_price': 882.3, 'prev_close_price': 881.35, 'type': 'sf', 'symbol': 'NSE:SBIN-EQ', 'ch': -0.65, 'chp': -0.0738}\n",
      "Response: {'ltp': 880.7, 'vol_traded_today': 11892986, 'last_traded_time': 1721125232, 'exch_feed_time': 1721125272, 'bid_size': 5506, 'ask_size': 0, 'bid_price': 880.7, 'ask_price': 0.0, 'last_traded_qty': 20, 'tot_buy_qty': 5506, 'tot_sell_qty': 0, 'avg_trade_price': 880.46, 'low_price': 874.3, 'high_price': 888.1, 'lower_ckt': 0, 'upper_ckt': 0, 'open_price': 882.3, 'prev_close_price': 881.35, 'type': 'sf', 'symbol': 'NSE:SBIN-EQ', 'ch': -0.65, 'chp': -0.0738}\n",
      "Response: {'ltp': 3109.3, 'vol_traded_today': 988322, 'last_traded_time': 1721125280, 'exch_feed_time': 1721125280, 'bid_size': 0, 'ask_size': 166, 'bid_price': 0.0, 'ask_price': 3109.3, 'last_traded_qty': 3, 'tot_buy_qty': 0, 'tot_sell_qty': 166, 'avg_trade_price': 3115.88, 'low_price': 3096.1, 'high_price': 3137.75, 'lower_ckt': 0, 'upper_ckt': 0, 'open_price': 3110.0, 'prev_close_price': 3090.4, 'type': 'sf', 'symbol': 'NSE:ADANIENT-EQ', 'ch': 18.9, 'chp': 0.6116}\n",
      "Response: {'ltp': 3109.3, 'vol_traded_today': 988322, 'last_traded_time': 1721125280, 'exch_feed_time': 1721125290, 'bid_size': 0, 'ask_size': 166, 'bid_price': 0.0, 'ask_price': 3109.3, 'last_traded_qty': 3, 'tot_buy_qty': 0, 'tot_sell_qty': 166, 'avg_trade_price': 3115.88, 'low_price': 3096.1, 'high_price': 3137.75, 'lower_ckt': 0, 'upper_ckt': 0, 'open_price': 3110.0, 'prev_close_price': 3090.4, 'type': 'sf', 'symbol': 'NSE:ADANIENT-EQ', 'ch': 18.9, 'chp': 0.6116}\n",
      "Response: {'ltp': 3109.3, 'vol_traded_today': 988325, 'last_traded_time': 1721125296, 'exch_feed_time': 1721125296, 'bid_size': 0, 'ask_size': 163, 'bid_price': 0.0, 'ask_price': 3109.3, 'last_traded_qty': 3, 'tot_buy_qty': 0, 'tot_sell_qty': 163, 'avg_trade_price': 3115.88, 'low_price': 3096.1, 'high_price': 3137.75, 'lower_ckt': 0, 'upper_ckt': 0, 'open_price': 3110.0, 'prev_close_price': 3090.4, 'type': 'sf', 'symbol': 'NSE:ADANIENT-EQ', 'ch': 18.9, 'chp': 0.6116}\n",
      "Response: {'ltp': 3109.3, 'vol_traded_today': 988325, 'last_traded_time': 1721125296, 'exch_feed_time': 1721125300, 'bid_size': 0, 'ask_size': 163, 'bid_price': 0.0, 'ask_price': 3109.3, 'last_traded_qty': 3, 'tot_buy_qty': 0, 'tot_sell_qty': 163, 'avg_trade_price': 3115.88, 'low_price': 3096.1, 'high_price': 3137.75, 'lower_ckt': 0, 'upper_ckt': 0, 'open_price': 3110.0, 'prev_close_price': 3090.4, 'type': 'sf', 'symbol': 'NSE:ADANIENT-EQ', 'ch': 18.9, 'chp': 0.6116}\n",
      "Response: {'ltp': 880.7, 'vol_traded_today': 11892986, 'last_traded_time': 1721125232, 'exch_feed_time': 1721125304, 'bid_size': 5506, 'ask_size': 0, 'bid_price': 880.7, 'ask_price': 0.0, 'last_traded_qty': 20, 'tot_buy_qty': 5506, 'tot_sell_qty': 0, 'avg_trade_price': 880.46, 'low_price': 874.3, 'high_price': 888.1, 'lower_ckt': 0, 'upper_ckt': 0, 'open_price': 882.3, 'prev_close_price': 881.35, 'type': 'sf', 'symbol': 'NSE:SBIN-EQ', 'ch': -0.65, 'chp': -0.0738}\n",
      "Response: {'ltp': 3109.3, 'vol_traded_today': 988328, 'last_traded_time': 1721125308, 'exch_feed_time': 1721125308, 'bid_size': 0, 'ask_size': 160, 'bid_price': 0.0, 'ask_price': 3109.3, 'last_traded_qty': 3, 'tot_buy_qty': 0, 'tot_sell_qty': 160, 'avg_trade_price': 3115.88, 'low_price': 3096.1, 'high_price': 3137.75, 'lower_ckt': 0, 'upper_ckt': 0, 'open_price': 3110.0, 'prev_close_price': 3090.4, 'type': 'sf', 'symbol': 'NSE:ADANIENT-EQ', 'ch': 18.9, 'chp': 0.6116}\n",
      "Response: {'ltp': 3109.3, 'vol_traded_today': 988331, 'last_traded_time': 1721125319, 'exch_feed_time': 1721125319, 'bid_size': 0, 'ask_size': 157, 'bid_price': 0.0, 'ask_price': 3109.3, 'last_traded_qty': 3, 'tot_buy_qty': 0, 'tot_sell_qty': 157, 'avg_trade_price': 3115.88, 'low_price': 3096.1, 'high_price': 3137.75, 'lower_ckt': 0, 'upper_ckt': 0, 'open_price': 3110.0, 'prev_close_price': 3090.4, 'type': 'sf', 'symbol': 'NSE:ADANIENT-EQ', 'ch': 18.9, 'chp': 0.6116}\n",
      "Response: {'ltp': 3109.3, 'vol_traded_today': 988333, 'last_traded_time': 1721125329, 'exch_feed_time': 1721125329, 'bid_size': 0, 'ask_size': 155, 'bid_price': 0.0, 'ask_price': 3109.3, 'last_traded_qty': 2, 'tot_buy_qty': 0, 'tot_sell_qty': 155, 'avg_trade_price': 3115.88, 'low_price': 3096.1, 'high_price': 3137.75, 'lower_ckt': 0, 'upper_ckt': 0, 'open_price': 3110.0, 'prev_close_price': 3090.4, 'type': 'sf', 'symbol': 'NSE:ADANIENT-EQ', 'ch': 18.9, 'chp': 0.6116}\n",
      "Response: {'ltp': 880.7, 'vol_traded_today': 11892986, 'last_traded_time': 1721125232, 'exch_feed_time': 1721125352, 'bid_size': 5507, 'ask_size': 0, 'bid_price': 880.7, 'ask_price': 0.0, 'last_traded_qty': 20, 'tot_buy_qty': 5507, 'tot_sell_qty': 0, 'avg_trade_price': 880.46, 'low_price': 874.3, 'high_price': 888.1, 'lower_ckt': 0, 'upper_ckt': 0, 'open_price': 882.3, 'prev_close_price': 881.35, 'type': 'sf', 'symbol': 'NSE:SBIN-EQ', 'ch': -0.65, 'chp': -0.0738}\n",
      "Response: {'ltp': 880.7, 'vol_traded_today': 11892986, 'last_traded_time': 1721125232, 'exch_feed_time': 1721125358, 'bid_size': 5507, 'ask_size': 0, 'bid_price': 880.7, 'ask_price': 0.0, 'last_traded_qty': 20, 'tot_buy_qty': 5507, 'tot_sell_qty': 0, 'avg_trade_price': 880.46, 'low_price': 874.3, 'high_price': 888.1, 'lower_ckt': 0, 'upper_ckt': 0, 'open_price': 882.3, 'prev_close_price': 881.35, 'type': 'sf', 'symbol': 'NSE:SBIN-EQ', 'ch': -0.65, 'chp': -0.0738}\n",
      "Response: {'ltp': 880.7, 'vol_traded_today': 11892986, 'last_traded_time': 1721125232, 'exch_feed_time': 1721125379, 'bid_size': 5506, 'ask_size': 0, 'bid_price': 880.7, 'ask_price': 0.0, 'last_traded_qty': 20, 'tot_buy_qty': 5506, 'tot_sell_qty': 0, 'avg_trade_price': 880.46, 'low_price': 874.3, 'high_price': 888.1, 'lower_ckt': 0, 'upper_ckt': 0, 'open_price': 882.3, 'prev_close_price': 881.35, 'type': 'sf', 'symbol': 'NSE:SBIN-EQ', 'ch': -0.65, 'chp': -0.0738}\n",
      "Response: {'ltp': 3109.3, 'vol_traded_today': 988333, 'last_traded_time': 1721125329, 'exch_feed_time': 1721125380, 'bid_size': 0, 'ask_size': 155, 'bid_price': 0.0, 'ask_price': 3109.3, 'last_traded_qty': 2, 'tot_buy_qty': 0, 'tot_sell_qty': 155, 'avg_trade_price': 3115.88, 'low_price': 3096.1, 'high_price': 3137.75, 'lower_ckt': 0, 'upper_ckt': 0, 'open_price': 3110.0, 'prev_close_price': 3090.4, 'type': 'sf', 'symbol': 'NSE:ADANIENT-EQ', 'ch': 18.9, 'chp': 0.6116}\n",
      "Response: {'ltp': 880.7, 'vol_traded_today': 11892986, 'last_traded_time': 1721125232, 'exch_feed_time': 1721125384, 'bid_size': 5506, 'ask_size': 0, 'bid_price': 880.7, 'ask_price': 0.0, 'last_traded_qty': 20, 'tot_buy_qty': 5506, 'tot_sell_qty': 0, 'avg_trade_price': 880.46, 'low_price': 874.3, 'high_price': 888.1, 'lower_ckt': 0, 'upper_ckt': 0, 'open_price': 882.3, 'prev_close_price': 881.35, 'type': 'sf', 'symbol': 'NSE:SBIN-EQ', 'ch': -0.65, 'chp': -0.0738}\n",
      "Response: {'ltp': 3109.3, 'vol_traded_today': 988333, 'last_traded_time': 1721125329, 'exch_feed_time': 1721125386, 'bid_size': 0, 'ask_size': 155, 'bid_price': 0.0, 'ask_price': 3109.3, 'last_traded_qty': 2, 'tot_buy_qty': 0, 'tot_sell_qty': 155, 'avg_trade_price': 3115.88, 'low_price': 3096.1, 'high_price': 3137.75, 'lower_ckt': 0, 'upper_ckt': 0, 'open_price': 3110.0, 'prev_close_price': 3090.4, 'type': 'sf', 'symbol': 'NSE:ADANIENT-EQ', 'ch': 18.9, 'chp': 0.6116}\n",
      "Response: {'ltp': 3109.3, 'vol_traded_today': 988333, 'last_traded_time': 1721125329, 'exch_feed_time': 1721125405, 'bid_size': 0, 'ask_size': 155, 'bid_price': 0.0, 'ask_price': 3109.3, 'last_traded_qty': 2, 'tot_buy_qty': 0, 'tot_sell_qty': 155, 'avg_trade_price': 3115.88, 'low_price': 3096.1, 'high_price': 3137.75, 'lower_ckt': 0, 'upper_ckt': 0, 'open_price': 3110.0, 'prev_close_price': 3090.4, 'type': 'sf', 'symbol': 'NSE:ADANIENT-EQ', 'ch': 18.9, 'chp': 0.6116}\n",
      "Response: {'ltp': 880.7, 'vol_traded_today': 11892986, 'last_traded_time': 1721125232, 'exch_feed_time': 1721125435, 'bid_size': 5507, 'ask_size': 0, 'bid_price': 880.7, 'ask_price': 0.0, 'last_traded_qty': 20, 'tot_buy_qty': 5507, 'tot_sell_qty': 0, 'avg_trade_price': 880.46, 'low_price': 874.3, 'high_price': 888.1, 'lower_ckt': 0, 'upper_ckt': 0, 'open_price': 882.3, 'prev_close_price': 881.35, 'type': 'sf', 'symbol': 'NSE:SBIN-EQ', 'ch': -0.65, 'chp': -0.0738}\n",
      "Response: {'ltp': 3109.3, 'vol_traded_today': 988333, 'last_traded_time': 1721125329, 'exch_feed_time': 1721125437, 'bid_size': 0, 'ask_size': 155, 'bid_price': 0.0, 'ask_price': 3109.3, 'last_traded_qty': 2, 'tot_buy_qty': 0, 'tot_sell_qty': 155, 'avg_trade_price': 3115.88, 'low_price': 3096.1, 'high_price': 3137.75, 'lower_ckt': 0, 'upper_ckt': 0, 'open_price': 3110.0, 'prev_close_price': 3090.4, 'type': 'sf', 'symbol': 'NSE:ADANIENT-EQ', 'ch': 18.9, 'chp': 0.6116}\n",
      "Response: {'ltp': 3109.3, 'vol_traded_today': 988333, 'last_traded_time': 1721125329, 'exch_feed_time': 1721125439, 'bid_size': 0, 'ask_size': 155, 'bid_price': 0.0, 'ask_price': 3109.3, 'last_traded_qty': 2, 'tot_buy_qty': 0, 'tot_sell_qty': 155, 'avg_trade_price': 3115.88, 'low_price': 3096.1, 'high_price': 3137.75, 'lower_ckt': 0, 'upper_ckt': 0, 'open_price': 3110.0, 'prev_close_price': 3090.4, 'type': 'sf', 'symbol': 'NSE:ADANIENT-EQ', 'ch': 18.9, 'chp': 0.6116}\n",
      "Response: {'ltp': 880.7, 'vol_traded_today': 11892986, 'last_traded_time': 1721125232, 'exch_feed_time': 1721125453, 'bid_size': 5552, 'ask_size': 0, 'bid_price': 880.7, 'ask_price': 0.0, 'last_traded_qty': 20, 'tot_buy_qty': 5552, 'tot_sell_qty': 0, 'avg_trade_price': 880.46, 'low_price': 874.3, 'high_price': 888.1, 'lower_ckt': 0, 'upper_ckt': 0, 'open_price': 882.3, 'prev_close_price': 881.35, 'type': 'sf', 'symbol': 'NSE:SBIN-EQ', 'ch': -0.65, 'chp': -0.0738}\n",
      "Response: {'ltp': 3109.3, 'vol_traded_today': 988333, 'last_traded_time': 1721125329, 'exch_feed_time': 1721125453, 'bid_size': 0, 'ask_size': 160, 'bid_price': 0.0, 'ask_price': 3109.3, 'last_traded_qty': 2, 'tot_buy_qty': 0, 'tot_sell_qty': 160, 'avg_trade_price': 3115.88, 'low_price': 3096.1, 'high_price': 3137.75, 'lower_ckt': 0, 'upper_ckt': 0, 'open_price': 3110.0, 'prev_close_price': 3090.4, 'type': 'sf', 'symbol': 'NSE:ADANIENT-EQ', 'ch': 18.9, 'chp': 0.6116}\n",
      "Response: {'ltp': 880.7, 'vol_traded_today': 11892986, 'last_traded_time': 1721125232, 'exch_feed_time': 1721125476, 'bid_size': 5552, 'ask_size': 0, 'bid_price': 880.7, 'ask_price': 0.0, 'last_traded_qty': 20, 'tot_buy_qty': 5552, 'tot_sell_qty': 0, 'avg_trade_price': 880.46, 'low_price': 874.3, 'high_price': 888.1, 'lower_ckt': 0, 'upper_ckt': 0, 'open_price': 882.3, 'prev_close_price': 881.35, 'type': 'sf', 'symbol': 'NSE:SBIN-EQ', 'ch': -0.65, 'chp': -0.0738}\n",
      "Response: {'ltp': 880.7, 'vol_traded_today': 11892986, 'last_traded_time': 1721125232, 'exch_feed_time': 1721125478, 'bid_size': 5557, 'ask_size': 0, 'bid_price': 880.7, 'ask_price': 0.0, 'last_traded_qty': 20, 'tot_buy_qty': 5557, 'tot_sell_qty': 0, 'avg_trade_price': 880.46, 'low_price': 874.3, 'high_price': 888.1, 'lower_ckt': 0, 'upper_ckt': 0, 'open_price': 882.3, 'prev_close_price': 881.35, 'type': 'sf', 'symbol': 'NSE:SBIN-EQ', 'ch': -0.65, 'chp': -0.0738}\n",
      "Response: {'ltp': 880.7, 'vol_traded_today': 11892986, 'last_traded_time': 1721125232, 'exch_feed_time': 1721125485, 'bid_size': 5557, 'ask_size': 0, 'bid_price': 880.7, 'ask_price': 0.0, 'last_traded_qty': 20, 'tot_buy_qty': 5557, 'tot_sell_qty': 0, 'avg_trade_price': 880.46, 'low_price': 874.3, 'high_price': 888.1, 'lower_ckt': 0, 'upper_ckt': 0, 'open_price': 882.3, 'prev_close_price': 881.35, 'type': 'sf', 'symbol': 'NSE:SBIN-EQ', 'ch': -0.65, 'chp': -0.0738}\n",
      "Response: {'ltp': 3109.3, 'vol_traded_today': 988333, 'last_traded_time': 1721125329, 'exch_feed_time': 1721125517, 'bid_size': 0, 'ask_size': 160, 'bid_price': 0.0, 'ask_price': 3109.3, 'last_traded_qty': 2, 'tot_buy_qty': 0, 'tot_sell_qty': 160, 'avg_trade_price': 3115.88, 'low_price': 3096.1, 'high_price': 3137.75, 'lower_ckt': 0, 'upper_ckt': 0, 'open_price': 3110.0, 'prev_close_price': 3090.4, 'type': 'sf', 'symbol': 'NSE:ADANIENT-EQ', 'ch': 18.9, 'chp': 0.6116}\n",
      "Response: {'ltp': 3109.3, 'vol_traded_today': 988333, 'last_traded_time': 1721125329, 'exch_feed_time': 1721125520, 'bid_size': 0, 'ask_size': 166, 'bid_price': 0.0, 'ask_price': 3109.3, 'last_traded_qty': 2, 'tot_buy_qty': 0, 'tot_sell_qty': 166, 'avg_trade_price': 3115.88, 'low_price': 3096.1, 'high_price': 3137.75, 'lower_ckt': 0, 'upper_ckt': 0, 'open_price': 3110.0, 'prev_close_price': 3090.4, 'type': 'sf', 'symbol': 'NSE:ADANIENT-EQ', 'ch': 18.9, 'chp': 0.6116}\n",
      "Response: {'ltp': 3109.3, 'vol_traded_today': 988333, 'last_traded_time': 1721125329, 'exch_feed_time': 1721125527, 'bid_size': 0, 'ask_size': 166, 'bid_price': 0.0, 'ask_price': 3109.3, 'last_traded_qty': 2, 'tot_buy_qty': 0, 'tot_sell_qty': 166, 'avg_trade_price': 3115.88, 'low_price': 3096.1, 'high_price': 3137.75, 'lower_ckt': 0, 'upper_ckt': 0, 'open_price': 3110.0, 'prev_close_price': 3090.4, 'type': 'sf', 'symbol': 'NSE:ADANIENT-EQ', 'ch': 18.9, 'chp': 0.6116}\n",
      "Response: {'ltp': 880.7, 'vol_traded_today': 11892989, 'last_traded_time': 1721125528, 'exch_feed_time': 1721125528, 'bid_size': 5554, 'ask_size': 0, 'bid_price': 880.7, 'ask_price': 0.0, 'last_traded_qty': 3, 'tot_buy_qty': 5554, 'tot_sell_qty': 0, 'avg_trade_price': 880.46, 'low_price': 874.3, 'high_price': 888.1, 'lower_ckt': 0, 'upper_ckt': 0, 'open_price': 882.3, 'prev_close_price': 881.35, 'type': 'sf', 'symbol': 'NSE:SBIN-EQ', 'ch': -0.65, 'chp': -0.0738}\n",
      "Response: {'ltp': 3109.3, 'vol_traded_today': 988333, 'last_traded_time': 1721125329, 'exch_feed_time': 1721125539, 'bid_size': 0, 'ask_size': 166, 'bid_price': 0.0, 'ask_price': 3109.3, 'last_traded_qty': 2, 'tot_buy_qty': 0, 'tot_sell_qty': 166, 'avg_trade_price': 3115.88, 'low_price': 3096.1, 'high_price': 3137.75, 'lower_ckt': 0, 'upper_ckt': 0, 'open_price': 3110.0, 'prev_close_price': 3090.4, 'type': 'sf', 'symbol': 'NSE:ADANIENT-EQ', 'ch': 18.9, 'chp': 0.6116}\n",
      "Response: {'ltp': 3109.3, 'vol_traded_today': 988335, 'last_traded_time': 1721125539, 'exch_feed_time': 1721125539, 'bid_size': 0, 'ask_size': 164, 'bid_price': 0.0, 'ask_price': 3109.3, 'last_traded_qty': 2, 'tot_buy_qty': 0, 'tot_sell_qty': 164, 'avg_trade_price': 3115.88, 'low_price': 3096.1, 'high_price': 3137.75, 'lower_ckt': 0, 'upper_ckt': 0, 'open_price': 3110.0, 'prev_close_price': 3090.4, 'type': 'sf', 'symbol': 'NSE:ADANIENT-EQ', 'ch': 18.9, 'chp': 0.6116}\n",
      "Response: {'ltp': 880.7, 'vol_traded_today': 11893339, 'last_traded_time': 1721125540, 'exch_feed_time': 1721125540, 'bid_size': 5204, 'ask_size': 0, 'bid_price': 880.7, 'ask_price': 0.0, 'last_traded_qty': 288, 'tot_buy_qty': 5204, 'tot_sell_qty': 0, 'avg_trade_price': 880.46, 'low_price': 874.3, 'high_price': 888.1, 'lower_ckt': 0, 'upper_ckt': 0, 'open_price': 882.3, 'prev_close_price': 881.35, 'type': 'sf', 'symbol': 'NSE:SBIN-EQ', 'ch': -0.65, 'chp': -0.0738}\n",
      "Response: {'ltp': 3109.3, 'vol_traded_today': 988335, 'last_traded_time': 1721125539, 'exch_feed_time': 1721125543, 'bid_size': 0, 'ask_size': 164, 'bid_price': 0.0, 'ask_price': 3109.3, 'last_traded_qty': 2, 'tot_buy_qty': 0, 'tot_sell_qty': 164, 'avg_trade_price': 3115.88, 'low_price': 3096.1, 'high_price': 3137.75, 'lower_ckt': 0, 'upper_ckt': 0, 'open_price': 3110.0, 'prev_close_price': 3090.4, 'type': 'sf', 'symbol': 'NSE:ADANIENT-EQ', 'ch': 18.9, 'chp': 0.6116}\n",
      "Response: {'ltp': 880.7, 'vol_traded_today': 11893339, 'last_traded_time': 1721125540, 'exch_feed_time': 1721125545, 'bid_size': 5206, 'ask_size': 0, 'bid_price': 880.7, 'ask_price': 0.0, 'last_traded_qty': 288, 'tot_buy_qty': 5206, 'tot_sell_qty': 0, 'avg_trade_price': 880.46, 'low_price': 874.3, 'high_price': 888.1, 'lower_ckt': 0, 'upper_ckt': 0, 'open_price': 882.3, 'prev_close_price': 881.35, 'type': 'sf', 'symbol': 'NSE:SBIN-EQ', 'ch': -0.65, 'chp': -0.0738}\n",
      "Response: {'ltp': 3109.3, 'vol_traded_today': 988337, 'last_traded_time': 1721125545, 'exch_feed_time': 1721125545, 'bid_size': 0, 'ask_size': 162, 'bid_price': 0.0, 'ask_price': 3109.3, 'last_traded_qty': 2, 'tot_buy_qty': 0, 'tot_sell_qty': 162, 'avg_trade_price': 3115.88, 'low_price': 3096.1, 'high_price': 3137.75, 'lower_ckt': 0, 'upper_ckt': 0, 'open_price': 3110.0, 'prev_close_price': 3090.4, 'type': 'sf', 'symbol': 'NSE:ADANIENT-EQ', 'ch': 18.9, 'chp': 0.6116}\n",
      "Response: {'ltp': 880.7, 'vol_traded_today': 11893340, 'last_traded_time': 1721125553, 'exch_feed_time': 1721125553, 'bid_size': 5205, 'ask_size': 0, 'bid_price': 880.7, 'ask_price': 0.0, 'last_traded_qty': 1, 'tot_buy_qty': 5205, 'tot_sell_qty': 0, 'avg_trade_price': 880.46, 'low_price': 874.3, 'high_price': 888.1, 'lower_ckt': 0, 'upper_ckt': 0, 'open_price': 882.3, 'prev_close_price': 881.35, 'type': 'sf', 'symbol': 'NSE:SBIN-EQ', 'ch': -0.65, 'chp': -0.0738}\n",
      "Response: {'ltp': 880.7, 'vol_traded_today': 11893340, 'last_traded_time': 1721125553, 'exch_feed_time': 1721125554, 'bid_size': 5205, 'ask_size': 0, 'bid_price': 880.7, 'ask_price': 0.0, 'last_traded_qty': 1, 'tot_buy_qty': 5205, 'tot_sell_qty': 0, 'avg_trade_price': 880.46, 'low_price': 874.3, 'high_price': 888.1, 'lower_ckt': 0, 'upper_ckt': 0, 'open_price': 882.3, 'prev_close_price': 881.35, 'type': 'sf', 'symbol': 'NSE:SBIN-EQ', 'ch': -0.65, 'chp': -0.0738}\n",
      "Response: {'ltp': 3109.3, 'vol_traded_today': 988337, 'last_traded_time': 1721125545, 'exch_feed_time': 1721125566, 'bid_size': 0, 'ask_size': 163, 'bid_price': 0.0, 'ask_price': 3109.3, 'last_traded_qty': 2, 'tot_buy_qty': 0, 'tot_sell_qty': 163, 'avg_trade_price': 3115.88, 'low_price': 3096.1, 'high_price': 3137.75, 'lower_ckt': 0, 'upper_ckt': 0, 'open_price': 3110.0, 'prev_close_price': 3090.4, 'type': 'sf', 'symbol': 'NSE:ADANIENT-EQ', 'ch': 18.9, 'chp': 0.6116}\n",
      "Response: {'ltp': 880.7, 'vol_traded_today': 11893340, 'last_traded_time': 1721125553, 'exch_feed_time': 1721125572, 'bid_size': 5205, 'ask_size': 0, 'bid_price': 880.7, 'ask_price': 0.0, 'last_traded_qty': 1, 'tot_buy_qty': 5205, 'tot_sell_qty': 0, 'avg_trade_price': 880.46, 'low_price': 874.3, 'high_price': 888.1, 'lower_ckt': 0, 'upper_ckt': 0, 'open_price': 882.3, 'prev_close_price': 881.35, 'type': 'sf', 'symbol': 'NSE:SBIN-EQ', 'ch': -0.65, 'chp': -0.0738}\n",
      "Response: {'ltp': 880.7, 'vol_traded_today': 11893340, 'last_traded_time': 1721125553, 'exch_feed_time': 1721125576, 'bid_size': 5205, 'ask_size': 0, 'bid_price': 880.7, 'ask_price': 0.0, 'last_traded_qty': 2, 'tot_buy_qty': 5205, 'tot_sell_qty': 0, 'avg_trade_price': 880.46, 'low_price': 874.3, 'high_price': 888.1, 'lower_ckt': 0, 'upper_ckt': 0, 'open_price': 882.3, 'prev_close_price': 881.35, 'type': 'sf', 'symbol': 'NSE:SBIN-EQ', 'ch': -0.65, 'chp': -0.0738}\n",
      "Response: {'ltp': 880.7, 'vol_traded_today': 11893342, 'last_traded_time': 1721125576, 'exch_feed_time': 1721125576, 'bid_size': 5203, 'ask_size': 0, 'bid_price': 880.7, 'ask_price': 0.0, 'last_traded_qty': 2, 'tot_buy_qty': 5203, 'tot_sell_qty': 0, 'avg_trade_price': 880.46, 'low_price': 874.3, 'high_price': 888.1, 'lower_ckt': 0, 'upper_ckt': 0, 'open_price': 882.3, 'prev_close_price': 881.35, 'type': 'sf', 'symbol': 'NSE:SBIN-EQ', 'ch': -0.65, 'chp': -0.0738}\n",
      "Response: {'ltp': 880.7, 'vol_traded_today': 11893342, 'last_traded_time': 1721125576, 'exch_feed_time': 1721125580, 'bid_size': 5203, 'ask_size': 0, 'bid_price': 880.7, 'ask_price': 0.0, 'last_traded_qty': 2, 'tot_buy_qty': 5203, 'tot_sell_qty': 0, 'avg_trade_price': 880.46, 'low_price': 874.3, 'high_price': 888.1, 'lower_ckt': 0, 'upper_ckt': 0, 'open_price': 882.3, 'prev_close_price': 881.35, 'type': 'sf', 'symbol': 'NSE:SBIN-EQ', 'ch': -0.65, 'chp': -0.0738}\n",
      "Response: {'ltp': 880.7, 'vol_traded_today': 11893342, 'last_traded_time': 1721125576, 'exch_feed_time': 1721125583, 'bid_size': 5225, 'ask_size': 0, 'bid_price': 880.7, 'ask_price': 0.0, 'last_traded_qty': 2, 'tot_buy_qty': 5225, 'tot_sell_qty': 0, 'avg_trade_price': 880.46, 'low_price': 874.3, 'high_price': 888.1, 'lower_ckt': 0, 'upper_ckt': 0, 'open_price': 882.3, 'prev_close_price': 881.35, 'type': 'sf', 'symbol': 'NSE:SBIN-EQ', 'ch': -0.65, 'chp': -0.0738}\n",
      "Response: {'ltp': 3109.3, 'vol_traded_today': 988357, 'last_traded_time': 1721125593, 'exch_feed_time': 1721125593, 'bid_size': 0, 'ask_size': 143, 'bid_price': 0.0, 'ask_price': 3109.3, 'last_traded_qty': 20, 'tot_buy_qty': 0, 'tot_sell_qty': 143, 'avg_trade_price': 3115.88, 'low_price': 3096.1, 'high_price': 3137.75, 'lower_ckt': 0, 'upper_ckt': 0, 'open_price': 3110.0, 'prev_close_price': 3090.4, 'type': 'sf', 'symbol': 'NSE:ADANIENT-EQ', 'ch': 18.9, 'chp': 0.6116}\n",
      "Response: {'ltp': 3109.3, 'vol_traded_today': 988357, 'last_traded_time': 1721125593, 'exch_feed_time': 1721125594, 'bid_size': 0, 'ask_size': 143, 'bid_price': 0.0, 'ask_price': 3109.3, 'last_traded_qty': 20, 'tot_buy_qty': 0, 'tot_sell_qty': 143, 'avg_trade_price': 3115.88, 'low_price': 3096.1, 'high_price': 3137.75, 'lower_ckt': 0, 'upper_ckt': 0, 'open_price': 3110.0, 'prev_close_price': 3090.4, 'type': 'sf', 'symbol': 'NSE:ADANIENT-EQ', 'ch': 18.9, 'chp': 0.6116}\n",
      "Response: {'ltp': 880.7, 'vol_traded_today': 11893692, 'last_traded_time': 1721125627, 'exch_feed_time': 1721125627, 'bid_size': 4875, 'ask_size': 0, 'bid_price': 880.7, 'ask_price': 0.0, 'last_traded_qty': 206, 'tot_buy_qty': 4875, 'tot_sell_qty': 0, 'avg_trade_price': 880.46, 'low_price': 874.3, 'high_price': 888.1, 'lower_ckt': 0, 'upper_ckt': 0, 'open_price': 882.3, 'prev_close_price': 881.35, 'type': 'sf', 'symbol': 'NSE:SBIN-EQ', 'ch': -0.65, 'chp': -0.0738}\n",
      "Response: {'ltp': 880.7, 'vol_traded_today': 11893692, 'last_traded_time': 1721125627, 'exch_feed_time': 1721125628, 'bid_size': 4875, 'ask_size': 0, 'bid_price': 880.7, 'ask_price': 0.0, 'last_traded_qty': 206, 'tot_buy_qty': 4875, 'tot_sell_qty': 0, 'avg_trade_price': 880.46, 'low_price': 874.3, 'high_price': 888.1, 'lower_ckt': 0, 'upper_ckt': 0, 'open_price': 882.3, 'prev_close_price': 881.35, 'type': 'sf', 'symbol': 'NSE:SBIN-EQ', 'ch': -0.65, 'chp': -0.0738}\n",
      "Response: {'ltp': 880.7, 'vol_traded_today': 11893692, 'last_traded_time': 1721125627, 'exch_feed_time': 1721125640, 'bid_size': 4875, 'ask_size': 0, 'bid_price': 880.7, 'ask_price': 0.0, 'last_traded_qty': 206, 'tot_buy_qty': 4875, 'tot_sell_qty': 0, 'avg_trade_price': 880.46, 'low_price': 874.3, 'high_price': 888.1, 'lower_ckt': 0, 'upper_ckt': 0, 'open_price': 882.3, 'prev_close_price': 881.35, 'type': 'sf', 'symbol': 'NSE:SBIN-EQ', 'ch': -0.65, 'chp': -0.0738}\n",
      "Response: {'ltp': 3109.3, 'vol_traded_today': 988357, 'last_traded_time': 1721125593, 'exch_feed_time': 1721125640, 'bid_size': 0, 'ask_size': 143, 'bid_price': 0.0, 'ask_price': 3109.3, 'last_traded_qty': 20, 'tot_buy_qty': 0, 'tot_sell_qty': 143, 'avg_trade_price': 3115.88, 'low_price': 3096.1, 'high_price': 3137.75, 'lower_ckt': 0, 'upper_ckt': 0, 'open_price': 3110.0, 'prev_close_price': 3090.4, 'type': 'sf', 'symbol': 'NSE:ADANIENT-EQ', 'ch': 18.9, 'chp': 0.6116}\n",
      "Response: {'ltp': 880.7, 'vol_traded_today': 11893692, 'last_traded_time': 1721125627, 'exch_feed_time': 1721125649, 'bid_size': 4875, 'ask_size': 0, 'bid_price': 880.7, 'ask_price': 0.0, 'last_traded_qty': 206, 'tot_buy_qty': 4875, 'tot_sell_qty': 0, 'avg_trade_price': 880.46, 'low_price': 874.3, 'high_price': 888.1, 'lower_ckt': 0, 'upper_ckt': 0, 'open_price': 882.3, 'prev_close_price': 881.35, 'type': 'sf', 'symbol': 'NSE:SBIN-EQ', 'ch': -0.65, 'chp': -0.0738}\n",
      "Response: {'ltp': 3109.3, 'vol_traded_today': 988357, 'last_traded_time': 1721125593, 'exch_feed_time': 1721125670, 'bid_size': 0, 'ask_size': 173, 'bid_price': 0.0, 'ask_price': 3109.3, 'last_traded_qty': 20, 'tot_buy_qty': 0, 'tot_sell_qty': 173, 'avg_trade_price': 3115.88, 'low_price': 3096.1, 'high_price': 3137.75, 'lower_ckt': 0, 'upper_ckt': 0, 'open_price': 3110.0, 'prev_close_price': 3090.4, 'type': 'sf', 'symbol': 'NSE:ADANIENT-EQ', 'ch': 18.9, 'chp': 0.6116}\n",
      "Response: {'ltp': 880.7, 'vol_traded_today': 11893692, 'last_traded_time': 1721125627, 'exch_feed_time': 1721125704, 'bid_size': 4875, 'ask_size': 0, 'bid_price': 880.7, 'ask_price': 0.0, 'last_traded_qty': 206, 'tot_buy_qty': 4875, 'tot_sell_qty': 0, 'avg_trade_price': 880.46, 'low_price': 874.3, 'high_price': 888.1, 'lower_ckt': 0, 'upper_ckt': 0, 'open_price': 882.3, 'prev_close_price': 881.35, 'type': 'sf', 'symbol': 'NSE:SBIN-EQ', 'ch': -0.65, 'chp': -0.0738}\n",
      "Response: {'ltp': 880.7, 'vol_traded_today': 11893692, 'last_traded_time': 1721125627, 'exch_feed_time': 1721125724, 'bid_size': 4878, 'ask_size': 0, 'bid_price': 880.7, 'ask_price': 0.0, 'last_traded_qty': 206, 'tot_buy_qty': 4878, 'tot_sell_qty': 0, 'avg_trade_price': 880.46, 'low_price': 874.3, 'high_price': 888.1, 'lower_ckt': 0, 'upper_ckt': 0, 'open_price': 882.3, 'prev_close_price': 881.35, 'type': 'sf', 'symbol': 'NSE:SBIN-EQ', 'ch': -0.65, 'chp': -0.0738}\n",
      "Response: {'ltp': 880.7, 'vol_traded_today': 11893692, 'last_traded_time': 1721125627, 'exch_feed_time': 1721125735, 'bid_size': 4878, 'ask_size': 0, 'bid_price': 880.7, 'ask_price': 0.0, 'last_traded_qty': 206, 'tot_buy_qty': 4878, 'tot_sell_qty': 0, 'avg_trade_price': 880.46, 'low_price': 874.3, 'high_price': 888.1, 'lower_ckt': 0, 'upper_ckt': 0, 'open_price': 882.3, 'prev_close_price': 881.35, 'type': 'sf', 'symbol': 'NSE:SBIN-EQ', 'ch': -0.65, 'chp': -0.0738}\n",
      "Response: {'ltp': 3109.3, 'vol_traded_today': 988357, 'last_traded_time': 1721125593, 'exch_feed_time': 1721125747, 'bid_size': 0, 'ask_size': 173, 'bid_price': 0.0, 'ask_price': 3109.3, 'last_traded_qty': 20, 'tot_buy_qty': 0, 'tot_sell_qty': 173, 'avg_trade_price': 3115.88, 'low_price': 3096.1, 'high_price': 3137.75, 'lower_ckt': 0, 'upper_ckt': 0, 'open_price': 3110.0, 'prev_close_price': 3090.4, 'type': 'sf', 'symbol': 'NSE:ADANIENT-EQ', 'ch': 18.9, 'chp': 0.6116}\n",
      "Response: {'ltp': 3109.3, 'vol_traded_today': 988357, 'last_traded_time': 1721125593, 'exch_feed_time': 1721125755, 'bid_size': 0, 'ask_size': 173, 'bid_price': 0.0, 'ask_price': 3109.3, 'last_traded_qty': 20, 'tot_buy_qty': 0, 'tot_sell_qty': 173, 'avg_trade_price': 3115.88, 'low_price': 3096.1, 'high_price': 3137.75, 'lower_ckt': 0, 'upper_ckt': 0, 'open_price': 3110.0, 'prev_close_price': 3090.4, 'type': 'sf', 'symbol': 'NSE:ADANIENT-EQ', 'ch': 18.9, 'chp': 0.6116}\n",
      "Response: {'ltp': 880.7, 'vol_traded_today': 11893692, 'last_traded_time': 1721125627, 'exch_feed_time': 1721125763, 'bid_size': 4879, 'ask_size': 0, 'bid_price': 880.7, 'ask_price': 0.0, 'last_traded_qty': 206, 'tot_buy_qty': 4879, 'tot_sell_qty': 0, 'avg_trade_price': 880.46, 'low_price': 874.3, 'high_price': 888.1, 'lower_ckt': 0, 'upper_ckt': 0, 'open_price': 882.3, 'prev_close_price': 881.35, 'type': 'sf', 'symbol': 'NSE:SBIN-EQ', 'ch': -0.65, 'chp': -0.0738}\n",
      "Response: {'ltp': 880.7, 'vol_traded_today': 11893692, 'last_traded_time': 1721125627, 'exch_feed_time': 1721125770, 'bid_size': 4879, 'ask_size': 0, 'bid_price': 880.7, 'ask_price': 0.0, 'last_traded_qty': 206, 'tot_buy_qty': 4879, 'tot_sell_qty': 0, 'avg_trade_price': 880.46, 'low_price': 874.3, 'high_price': 888.1, 'lower_ckt': 0, 'upper_ckt': 0, 'open_price': 882.3, 'prev_close_price': 881.35, 'type': 'sf', 'symbol': 'NSE:SBIN-EQ', 'ch': -0.65, 'chp': -0.0738}\n",
      "Response: {'ltp': 880.7, 'vol_traded_today': 11893692, 'last_traded_time': 1721125627, 'exch_feed_time': 1721125779, 'bid_size': 4879, 'ask_size': 0, 'bid_price': 880.7, 'ask_price': 0.0, 'last_traded_qty': 206, 'tot_buy_qty': 4879, 'tot_sell_qty': 0, 'avg_trade_price': 880.46, 'low_price': 874.3, 'high_price': 888.1, 'lower_ckt': 0, 'upper_ckt': 0, 'open_price': 882.3, 'prev_close_price': 881.35, 'type': 'sf', 'symbol': 'NSE:SBIN-EQ', 'ch': -0.65, 'chp': -0.0738}\n",
      "Response: {'ltp': 880.7, 'vol_traded_today': 11893692, 'last_traded_time': 1721125627, 'exch_feed_time': 1721125789, 'bid_size': 4879, 'ask_size': 0, 'bid_price': 880.7, 'ask_price': 0.0, 'last_traded_qty': 206, 'tot_buy_qty': 4879, 'tot_sell_qty': 0, 'avg_trade_price': 880.46, 'low_price': 874.3, 'high_price': 888.1, 'lower_ckt': 0, 'upper_ckt': 0, 'open_price': 882.3, 'prev_close_price': 881.35, 'type': 'sf', 'symbol': 'NSE:SBIN-EQ', 'ch': -0.65, 'chp': -0.0738}\n"
     ]
    }
   ],
   "source": [
    "#Getting started with Data Socket\n",
    "\n",
    "from fyers_apiv3.FyersWebsocket import data_ws\n",
    "\n",
    "\n",
    "def onmessage(message):\n",
    "    \"\"\"\n",
    "    Callback function to handle incoming messages from the FyersDataSocket WebSocket.\n",
    "\n",
    "    Parameters:\n",
    "        message (dict): The received message from the WebSocket.\n",
    "\n",
    "    \"\"\"\n",
    "    print(\"Response:\", message)\n",
    "\n",
    "\n",
    "def onerror(message):\n",
    "    \"\"\"\n",
    "    Callback function to handle WebSocket errors.\n",
    "\n",
    "    Parameters:\n",
    "        message (dict): The error message received from the WebSocket.\n",
    "\n",
    "\n",
    "    \"\"\"\n",
    "    print(\"Error:\", message)\n",
    "\n",
    "\n",
    "def onclose(message):\n",
    "    \"\"\"\n",
    "    Callback function to handle WebSocket connection close events.\n",
    "    \"\"\"\n",
    "    print(\"Connection closed:\", message)\n",
    "\n",
    "\n",
    "def onopen():\n",
    "    \"\"\"\n",
    "    Callback function to subscribe to data type and symbols upon WebSocket connection.\n",
    "\n",
    "    \"\"\"\n",
    "    # Specify the data type and symbols you want to subscribe to\n",
    "    data_type = \"SymbolUpdate\"\n",
    "    # data_type = \"DepthUpdate\"\n",
    "\n",
    "\n",
    "    # Subscribe to the specified symbols and data type\n",
    "    symbols = ['NSE:SBIN-EQ', 'NSE:ADANIENT-EQ']\n",
    "    fyers.subscribe(symbols=symbols, data_type=data_type)\n",
    "\n",
    "    # Keep the socket running to receive real-time data\n",
    "    fyers.keep_running()\n",
    "\n",
    "\n",
    "# Create a FyersDataSocket instance with the provided parameters\n",
    "fyers = data_ws.FyersDataSocket(\n",
    "    access_token=access_token,       # Access token in the format \"appid:accesstoken\"\n",
    "    log_path=\"\",                     # Path to save logs. Leave empty to auto-create logs in the current directory.\n",
    "    litemode=False,                  # Lite mode disabled. Set to True if you want a lite response.\n",
    "    write_to_file=False,              # Save response in a log file instead of printing it.\n",
    "    reconnect=True,                  # Enable auto-reconnection to WebSocket on disconnection.\n",
    "    on_connect=onopen,               # Callback function to subscribe to data upon connection.\n",
    "    on_close=onclose,                # Callback function to handle WebSocket connection close events.\n",
    "    on_error=onerror,                # Callback function to handle WebSocket errors.\n",
    "    on_message=onmessage             # Callback function to handle incoming messages from the WebSocket.\n",
    ")\n",
    "\n",
    "# Establish a connection to the Fyers WebSocket\n",
    "fyers.connect()"
   ]
  },
  {
   "cell_type": "code",
   "execution_count": 19,
   "metadata": {},
   "outputs": [
    {
     "name": "stdout",
     "output_type": "stream",
     "text": [
      "Error: Handshake status 403 Forbidden -+-+- {'date': 'Tue, 16 Jul 2024 10:05:48 GMT', 'content-length': '0', 'connection': 'keep-alive', 'cf-cache-status': 'DYNAMIC', 'strict-transport-security': 'max-age=31536000; includeSubDomains; preload', 'x-content-type-options': 'nosniff', 'server': 'cloudflare', 'cf-ray': '8a412d0c6e0c3a19-BOM'} -+-+- b''\n",
      "Attempting reconnect 1 of 5...\n",
      "Error: Handshake status 403 Forbidden -+-+- {'date': 'Tue, 16 Jul 2024 10:05:54 GMT', 'content-length': '0', 'connection': 'keep-alive', 'cf-cache-status': 'DYNAMIC', 'strict-transport-security': 'max-age=31536000; includeSubDomains; preload', 'x-content-type-options': 'nosniff', 'server': 'cloudflare', 'cf-ray': '8a412d2e4919857b-BOM'} -+-+- b''\n",
      "Attempting reconnect 2 of 5...\n",
      "Error: Handshake status 403 Forbidden -+-+- {'date': 'Tue, 16 Jul 2024 10:05:59 GMT', 'content-length': '0', 'connection': 'keep-alive', 'cf-cache-status': 'DYNAMIC', 'strict-transport-security': 'max-age=31536000; includeSubDomains; preload', 'x-content-type-options': 'nosniff', 'server': 'cloudflare', 'cf-ray': '8a412d519d7c3e22-BOM'} -+-+- b''\n",
      "Attempting reconnect 3 of 5...\n",
      "Error: Handshake status 403 Forbidden -+-+- {'date': 'Tue, 16 Jul 2024 10:06:05 GMT', 'content-length': '0', 'connection': 'keep-alive', 'cf-cache-status': 'DYNAMIC', 'strict-transport-security': 'max-age=31536000; includeSubDomains; preload', 'x-content-type-options': 'nosniff', 'server': 'cloudflare', 'cf-ray': '8a412d71bc004206-BOM'} -+-+- b''\n",
      "Attempting reconnect 4 of 5...\n",
      "Error: Handshake status 403 Forbidden -+-+- {'date': 'Tue, 16 Jul 2024 10:06:11 GMT', 'content-length': '0', 'connection': 'keep-alive', 'cf-cache-status': 'DYNAMIC', 'strict-transport-security': 'max-age=31536000; includeSubDomains; preload', 'x-content-type-options': 'nosniff', 'server': 'cloudflare', 'cf-ray': '8a412d983a5a4719-BOM'} -+-+- b''\n",
      "Attempting reconnect 5 of 5...\n",
      "Error: Handshake status 403 Forbidden -+-+- {'date': 'Tue, 16 Jul 2024 10:06:16 GMT', 'content-length': '0', 'connection': 'keep-alive', 'cf-cache-status': 'DYNAMIC', 'strict-transport-security': 'max-age=31536000; includeSubDomains; preload', 'x-content-type-options': 'nosniff', 'server': 'cloudflare', 'cf-ray': '8a412dba7f5d4461-BOM'} -+-+- b''\n",
      "Max reconnect attempts reached. Connection abandoned.\n"
     ]
    }
   ],
   "source": [
    "#Getting started with Order Socket\n",
    "\n",
    "from fyers_apiv3.FyersWebsocket import order_ws\n",
    "\n",
    "\n",
    "def onTrade(message):\n",
    "    \"\"\"\n",
    "    Callback function to handle incoming messages from the FyersDataSocket WebSocket.\n",
    "\n",
    "    Parameters:\n",
    "        message (dict): The received message from the WebSocket.\n",
    "\n",
    "    \"\"\"\n",
    "    print(\"Trade Response:\", message)\n",
    "\n",
    "def onOrder(message):\n",
    "    \"\"\"\n",
    "    Callback function to handle incoming messages from the FyersDataSocket WebSocket.\n",
    "\n",
    "    Parameters:\n",
    "        message (dict): The received message from the WebSocket.\n",
    "\n",
    "    \"\"\"\n",
    "    print(\"Order Response:\", message)\n",
    "\n",
    "def onPosition(message):\n",
    "    \"\"\"\n",
    "    Callback function to handle incoming messages from the FyersDataSocket WebSocket.\n",
    "\n",
    "    Parameters:\n",
    "        message (dict): The received message from the WebSocket.\n",
    "\n",
    "    \"\"\"\n",
    "    print(\"Position Response:\", message)\n",
    "\n",
    "def onGeneral(message):\n",
    "    \"\"\"\n",
    "    Callback function to handle incoming messages from the FyersDataSocket WebSocket.\n",
    "\n",
    "    Parameters:\n",
    "        message (dict): The received message from the WebSocket.\n",
    "\n",
    "    \"\"\"\n",
    "    print(\"General Response:\", message)\n",
    "def onerror(message):\n",
    "    \"\"\"\n",
    "    Callback function to handle WebSocket errors.\n",
    "\n",
    "    Parameters:\n",
    "        message (dict): The error message received from the WebSocket.\n",
    "\n",
    "\n",
    "    \"\"\"\n",
    "    print(\"Error:\", message)\n",
    "\n",
    "\n",
    "def onclose(message):\n",
    "    \"\"\"\n",
    "    Callback function to handle WebSocket connection close events.\n",
    "    \"\"\"\n",
    "    print(\"Connection closed:\", message)\n",
    "\n",
    "\n",
    "def onopen():\n",
    "    \"\"\"\n",
    "    Callback function to subscribe to data type and symbols upon WebSocket connection.\n",
    "\n",
    "    \"\"\"\n",
    "    # Specify the data type and symbols you want to subscribe to\n",
    "    # data_type = \"OnOrders\"\n",
    "    # data_type = \"OnTrades\"\n",
    "    # data_type = \"OnPositions\"\n",
    "    # data_type = \"OnGeneral\"\n",
    "    data_type = \"OnOrders,OnTrades,OnPositions,OnGeneral\"\n",
    "\n",
    "    fyers.subscribe(data_type=data_type)\n",
    "\n",
    "    # Keep the socket running to receive real-time data\n",
    "    fyers.keep_running()\n",
    "\n",
    "\n",
    "# Replace the sample access token with your actual access token obtained from Fyers\n",
    "#access_token = \"XCXXXXXXM-100:eyJ0tHfZNSBoLo\"\n",
    "\n",
    "# Create a FyersDataSocket instance with the provided parameters\n",
    "fyers = order_ws.FyersOrderSocket(\n",
    "    access_token=access_token,  # Your access token for authenticating with the Fyers API.\n",
    "    write_to_file=False,        # A boolean flag indicating whether to write data to a log file or not.\n",
    "    log_path=\"\",                # The path to the log file if write_to_file is set to True (empty string means current directory).\n",
    "    on_connect=onopen,          # Callback function to be executed upon successful WebSocket connection.\n",
    "    on_close=onclose,           # Callback function to be executed when the WebSocket connection is closed.\n",
    "    on_error=onerror,           # Callback function to handle any WebSocket errors that may occur.\n",
    "    on_general=onGeneral,       # Callback function to handle general events from the WebSocket.\n",
    "    on_orders=onOrder,          # Callback function to handle order-related events from the WebSocket.\n",
    "    on_positions=onPosition,    # Callback function to handle position-related events from the WebSocket.\n",
    "    on_trades=onTrade           # Callback function to handle trade-related events from the WebSocket.\n",
    ")\n",
    "\n",
    "# Establish a connection to the Fyers WebSocket\n",
    "fyers.connect()"
   ]
  },
  {
   "cell_type": "code",
   "execution_count": 20,
   "metadata": {},
   "outputs": [
    {
     "ename": "AttributeError",
     "evalue": "'FyersOrderSocket' object has no attribute 'history'",
     "output_type": "error",
     "traceback": [
      "\u001b[1;31m---------------------------------------------------------------------------\u001b[0m",
      "\u001b[1;31mAttributeError\u001b[0m                            Traceback (most recent call last)",
      "Cell \u001b[1;32mIn[20], line 4\u001b[0m\n\u001b[0;32m      1\u001b[0m data \u001b[38;5;241m=\u001b[39m {\u001b[38;5;124m\"\u001b[39m\u001b[38;5;124msymbol\u001b[39m\u001b[38;5;124m\"\u001b[39m: \u001b[38;5;124m\"\u001b[39m\u001b[38;5;124mNSE:NIFTYBANK-INDEX\u001b[39m\u001b[38;5;124m\"\u001b[39m, \u001b[38;5;124m\"\u001b[39m\u001b[38;5;124mresolution\u001b[39m\u001b[38;5;124m\"\u001b[39m: \u001b[38;5;124m\"\u001b[39m\u001b[38;5;124m5\u001b[39m\u001b[38;5;124m\"\u001b[39m, \u001b[38;5;124m\"\u001b[39m\u001b[38;5;124mdate_format\u001b[39m\u001b[38;5;124m\"\u001b[39m: \u001b[38;5;124m\"\u001b[39m\u001b[38;5;124m1\u001b[39m\u001b[38;5;124m\"\u001b[39m,\n\u001b[0;32m      2\u001b[0m         \u001b[38;5;124m\"\u001b[39m\u001b[38;5;124mrange_from\u001b[39m\u001b[38;5;124m\"\u001b[39m: \u001b[38;5;124m\"\u001b[39m\u001b[38;5;124m2024-07-01\u001b[39m\u001b[38;5;124m\"\u001b[39m, \u001b[38;5;124m\"\u001b[39m\u001b[38;5;124mrange_to\u001b[39m\u001b[38;5;124m\"\u001b[39m: \u001b[38;5;124m\"\u001b[39m\u001b[38;5;124m2024-07-16\u001b[39m\u001b[38;5;124m\"\u001b[39m, \u001b[38;5;124m\"\u001b[39m\u001b[38;5;124mcont_flag\u001b[39m\u001b[38;5;124m\"\u001b[39m: \u001b[38;5;124m\"\u001b[39m\u001b[38;5;124m1\u001b[39m\u001b[38;5;124m\"\u001b[39m}\n\u001b[1;32m----> 4\u001b[0m \u001b[38;5;28mprint\u001b[39m(\u001b[43mfyers\u001b[49m\u001b[38;5;241;43m.\u001b[39;49m\u001b[43mhistory\u001b[49m(data))\n",
      "\u001b[1;31mAttributeError\u001b[0m: 'FyersOrderSocket' object has no attribute 'history'"
     ]
    }
   ],
   "source": [
    " data = {\"symbol\": \"NSE:NIFTYBANK-INDEX\", \"resolution\": \"5\", \"date_format\": \"1\",\n",
    "         \"range_from\": \"2024-07-01\", \"range_to\": \"2024-07-16\", \"cont_flag\": \"1\"}\n",
    "\n",
    " print(fyers.history(data))"
   ]
  },
  {
   "cell_type": "code",
   "execution_count": null,
   "metadata": {},
   "outputs": [],
   "source": [
    "from fyers_api.Websocket import ws\n",
    "import os\n",
    "newToken = f\"{client_id}:{access_token}\"\n",
    "symbol = [\"NSE:NIFTYBANK-INDEX\"]\n",
    "cws = ws.FyersSocket(access_token=newToken,\n",
    "                     run_background=False, log_path=os.getcwd())\n",
    "\n",
    "def on_ticks(msg):\n",
    "    script = msg[0]['symbol']\n",
    "    ltp = msg[0]['ltp']\n",
    "    high = msg[0]['high_price']\n",
    "    low = msg[0]['low_price']\n",
    "    ltt = dt.datetime.fromtimestamp(msg[0]['timestamp'])\n",
    "    print(\n",
    "        f\"Script:{script}  ,  ltp:{ltp}  ,  HIGH:{high} ,  LOW:{low},  ltt:{ltt}\")\n",
    "\n",
    "\n",
    "cws.websocket_data = on_ticks\n",
    "cws.subscribe(symbol=symbol, data_type=\"symbolData\")\n",
    "cws.keep_running()\n",
    "cws.unsubscribe(symbol=symbol)"
   ]
  },
  {
   "cell_type": "code",
   "execution_count": null,
   "metadata": {},
   "outputs": [],
   "source": []
  }
 ],
 "metadata": {
  "colab": {
   "provenance": []
  },
  "kernelspec": {
   "display_name": "Python 3 (ipykernel)",
   "language": "python",
   "name": "python3"
  },
  "language_info": {
   "codemirror_mode": {
    "name": "ipython",
    "version": 3
   },
   "file_extension": ".py",
   "mimetype": "text/x-python",
   "name": "python",
   "nbconvert_exporter": "python",
   "pygments_lexer": "ipython3",
   "version": "3.12.4"
  }
 },
 "nbformat": 4,
 "nbformat_minor": 4
}
